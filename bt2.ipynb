{
  "nbformat": 4,
  "nbformat_minor": 0,
  "metadata": {
    "colab": {
      "name": "bt2.ipynb",
      "provenance": [],
      "collapsed_sections": [],
      "authorship_tag": "ABX9TyNmHraDJdvVEwRZ6hYHbc7a",
      "include_colab_link": true
    },
    "kernelspec": {
      "name": "python3",
      "display_name": "Python 3"
    },
    "language_info": {
      "name": "python"
    }
  },
  "cells": [
    {
      "cell_type": "markdown",
      "metadata": {
        "id": "view-in-github",
        "colab_type": "text"
      },
      "source": [
        "<a href=\"https://colab.research.google.com/github/mooochiiii/exercise/blob/main/bt2.ipynb\" target=\"_parent\"><img src=\"https://colab.research.google.com/assets/colab-badge.svg\" alt=\"Open In Colab\"/></a>"
      ]
    },
    {
      "cell_type": "code",
      "metadata": {
        "colab": {
          "base_uri": "https://localhost:8080/"
        },
        "id": "OhmzjHtdgPA8",
        "outputId": "df9be91e-3ffe-4ca1-b8a6-65b23360a8ad"
      },
      "source": [
        "# khởi tạo tuples\n",
        "tup1 = ('physics', 'chemistry', 1997, 2000)\n",
        "print(tup1)\n",
        "tup2 = (1, 2, 3, 4, 5 )\n",
        "tup3 = \"a\", \"b\", \"c\", \"d\"\n",
        "tup1 = ()\n",
        "print(tup1)\n",
        "tup1 = (50,)\n",
        "print(tup1,'\\n',tup2,'\\n',tup3)"
      ],
      "execution_count": 1,
      "outputs": [
        {
          "output_type": "stream",
          "name": "stdout",
          "text": [
            "('physics', 'chemistry', 1997, 2000)\n",
            "()\n",
            "(50,) \n",
            " (1, 2, 3, 4, 5) \n",
            " ('a', 'b', 'c', 'd')\n"
          ]
        }
      ]
    },
    {
      "cell_type": "code",
      "metadata": {
        "colab": {
          "base_uri": "https://localhost:8080/"
        },
        "id": "G0sCuT7DgeQZ",
        "outputId": "deeff9a2-d634-4596-a09b-ffc95612d5c7"
      },
      "source": [
        "# truy cập các phần tử tuples\n",
        "tup1 = ('physics', 'chemistry', 1997, 2000)\n",
        "tup2 = (1, 2, 3, 4, 5, 6, 7 )\n",
        "print(\"tup1[0]: \", tup1[0])\n",
        "print(\"tup2[1:5]: \", tup2[1:5])"
      ],
      "execution_count": 2,
      "outputs": [
        {
          "output_type": "stream",
          "name": "stdout",
          "text": [
            "tup1[0]:  physics\n",
            "tup2[1:5]:  (2, 3, 4, 5)\n"
          ]
        }
      ]
    },
    {
      "cell_type": "code",
      "metadata": {
        "colab": {
          "base_uri": "https://localhost:8080/"
        },
        "id": "T2HTZNUcgt6d",
        "outputId": "7bdb4604-944b-4fa1-de48-97d193a829a7"
      },
      "source": [
        "# thay đổi giá trị phần tử tuples\n",
        "tup1 = (12, 34.56)\n",
        "tup2 = ('abc', 'xyz')\n",
        "tup3 = tup1 + tup2\n",
        "print(tup3)"
      ],
      "execution_count": 3,
      "outputs": [
        {
          "output_type": "stream",
          "name": "stdout",
          "text": [
            "(12, 34.56, 'abc', 'xyz')\n"
          ]
        }
      ]
    },
    {
      "cell_type": "code",
      "metadata": {
        "colab": {
          "base_uri": "https://localhost:8080/",
          "height": 233
        },
        "id": "YKamdQOwg797",
        "outputId": "8f466e44-f88f-42a4-8ebf-ff4895b7a6c9"
      },
      "source": [
        "# xóa phần tử\n",
        "tup1 = ('physics', 'chemistry', 1997, 2000)\n",
        "print(tup1)\n",
        "del tup1\n",
        "print(\"After deleting tup : \")\n",
        "print(tup1)"
      ],
      "execution_count": 6,
      "outputs": [
        {
          "output_type": "stream",
          "name": "stdout",
          "text": [
            "('physics', 'chemistry', 1997, 2000)\n",
            "After deleting tup : \n"
          ]
        },
        {
          "output_type": "error",
          "ename": "NameError",
          "evalue": "ignored",
          "traceback": [
            "\u001b[0;31m---------------------------------------------------------------------------\u001b[0m",
            "\u001b[0;31mNameError\u001b[0m                                 Traceback (most recent call last)",
            "\u001b[0;32m<ipython-input-6-7115fd7ad38d>\u001b[0m in \u001b[0;36m<module>\u001b[0;34m()\u001b[0m\n\u001b[1;32m      4\u001b[0m \u001b[0;32mdel\u001b[0m \u001b[0mtup1\u001b[0m\u001b[0;34m\u001b[0m\u001b[0;34m\u001b[0m\u001b[0m\n\u001b[1;32m      5\u001b[0m \u001b[0mprint\u001b[0m\u001b[0;34m(\u001b[0m\u001b[0;34m\"After deleting tup : \"\u001b[0m\u001b[0;34m)\u001b[0m\u001b[0;34m\u001b[0m\u001b[0;34m\u001b[0m\u001b[0m\n\u001b[0;32m----> 6\u001b[0;31m \u001b[0mprint\u001b[0m\u001b[0;34m(\u001b[0m\u001b[0mtup1\u001b[0m\u001b[0;34m)\u001b[0m\u001b[0;34m\u001b[0m\u001b[0;34m\u001b[0m\u001b[0m\n\u001b[0m",
            "\u001b[0;31mNameError\u001b[0m: name 'tup1' is not defined"
          ]
        }
      ]
    },
    {
      "cell_type": "code",
      "metadata": {
        "colab": {
          "base_uri": "https://localhost:8080/"
        },
        "id": "_kOSvlNoiywE",
        "outputId": "ed800b06-c455-4c04-9ede-ff517d860c13"
      },
      "source": [
        "# cac thao tac co ban\n",
        "tup1 = len((1, 2, 3))\n",
        "tup2 = (1, 2, 3) + (4, 5, 6)\n",
        "tup3 = ('Hi!') * 3\n",
        "tup4 = 3 in (1, 2, 3)\n",
        "print(tup1,'\\n',tup2,'\\n',tup3,'\\n',tup4)\n"
      ],
      "execution_count": 8,
      "outputs": [
        {
          "output_type": "stream",
          "name": "stdout",
          "text": [
            "3 \n",
            " (1, 2, 3, 4, 5, 6) \n",
            " Hi!Hi!Hi! \n",
            " True\n"
          ]
        }
      ]
    },
    {
      "cell_type": "code",
      "metadata": {
        "colab": {
          "base_uri": "https://localhost:8080/"
        },
        "id": "abOdTpM-kDSy",
        "outputId": "4f5a8018-7011-4eed-a451-f8be1eb20ee8"
      },
      "source": [
        "# ham dung san\n",
        "t1 =(1,2,3,4,5)\n",
        "print(len(t1),max(t1),min(t1))"
      ],
      "execution_count": 9,
      "outputs": [
        {
          "output_type": "stream",
          "name": "stdout",
          "text": [
            "5 5 1\n"
          ]
        }
      ]
    },
    {
      "cell_type": "code",
      "metadata": {
        "colab": {
          "base_uri": "https://localhost:8080/"
        },
        "id": "dPJN1CcOkmys",
        "outputId": "4a290656-083c-45d6-c413-9faa2d4a3f67"
      },
      "source": [
        "# khoi tao dict\n",
        "dict1 = {'Name': 'Zara', 'Age': 7, 'Class': 'First'}\n",
        "print(\"dict['Name']: \", dict1['Name'])\n",
        "print(\"dict['Age']: \", dict1['Age'])"
      ],
      "execution_count": 32,
      "outputs": [
        {
          "output_type": "stream",
          "name": "stdout",
          "text": [
            "dict['Name']:  Zara\n",
            "dict['Age']:  7\n"
          ]
        }
      ]
    },
    {
      "cell_type": "code",
      "metadata": {
        "colab": {
          "base_uri": "https://localhost:8080/"
        },
        "id": "emBhNPsBkwxU",
        "outputId": "3c019c61-4573-4ab5-bc4e-5d34172a2ce0"
      },
      "source": [
        "# thay doi\n",
        "dict1 = {'Name': 'Zara', 'Age': 7, 'Class': 'First'}\n",
        "dict1['Age'] = 8; # update existing entry\n",
        "dict1['School'] = \"DPS School\"; # Add new entry\n",
        "print(\"dict['Age']: \", dict1['Age'])\n",
        "print(\"dict['School']: \", dict1['School'])"
      ],
      "execution_count": 33,
      "outputs": [
        {
          "output_type": "stream",
          "name": "stdout",
          "text": [
            "dict['Age']:  8\n",
            "dict['School']:  DPS School\n"
          ]
        }
      ]
    },
    {
      "cell_type": "code",
      "metadata": {
        "colab": {
          "base_uri": "https://localhost:8080/",
          "height": 233
        },
        "id": "10cPM3hQk13J",
        "outputId": "6245eb47-1ca1-46d2-ba1e-4ad5909f722b"
      },
      "source": [
        "# xoa\n",
        "dict1 = {'Name': 'Zara', 'Age': 7, 'Class': 'First'}\n",
        "del dict1['Name'] \n",
        "print(dict1)\n",
        "dict1.clear()\n",
        "print(dict1)\n",
        "del dict1\n",
        "print(dict1)"
      ],
      "execution_count": 20,
      "outputs": [
        {
          "output_type": "stream",
          "name": "stdout",
          "text": [
            "{'Age': 7, 'Class': 'First'}\n",
            "{}\n"
          ]
        },
        {
          "output_type": "error",
          "ename": "NameError",
          "evalue": "ignored",
          "traceback": [
            "\u001b[0;31m---------------------------------------------------------------------------\u001b[0m",
            "\u001b[0;31mNameError\u001b[0m                                 Traceback (most recent call last)",
            "\u001b[0;32m<ipython-input-20-87021136b1b8>\u001b[0m in \u001b[0;36m<module>\u001b[0;34m()\u001b[0m\n\u001b[1;32m      6\u001b[0m \u001b[0mprint\u001b[0m\u001b[0;34m(\u001b[0m\u001b[0mdict1\u001b[0m\u001b[0;34m)\u001b[0m\u001b[0;34m\u001b[0m\u001b[0;34m\u001b[0m\u001b[0m\n\u001b[1;32m      7\u001b[0m \u001b[0;32mdel\u001b[0m \u001b[0mdict1\u001b[0m\u001b[0;34m\u001b[0m\u001b[0;34m\u001b[0m\u001b[0m\n\u001b[0;32m----> 8\u001b[0;31m \u001b[0mprint\u001b[0m\u001b[0;34m(\u001b[0m\u001b[0mdict1\u001b[0m\u001b[0;34m)\u001b[0m\u001b[0;34m\u001b[0m\u001b[0;34m\u001b[0m\u001b[0m\n\u001b[0m",
            "\u001b[0;31mNameError\u001b[0m: name 'dict1' is not defined"
          ]
        }
      ]
    },
    {
      "cell_type": "code",
      "metadata": {
        "colab": {
          "base_uri": "https://localhost:8080/"
        },
        "id": "qLnFfzoBlAXf",
        "outputId": "08d375b5-4653-455e-dead-7c8935e4de5d"
      },
      "source": [
        "# ham dung san\n",
        "d1 = {1,2,3,4,5}\n",
        "print(len(d1),str(d1))"
      ],
      "execution_count": 14,
      "outputs": [
        {
          "output_type": "stream",
          "name": "stdout",
          "text": [
            "5 {1, 2, 3, 4, 5}\n"
          ]
        }
      ]
    },
    {
      "cell_type": "code",
      "metadata": {
        "colab": {
          "base_uri": "https://localhost:8080/"
        },
        "id": "iiazm2iXlcXJ",
        "outputId": "e5a4d5eb-5f79-4e86-dda5-369e6f69b649"
      },
      "source": [
        "# set\n",
        "Set1 = set([\"a\", \"b\", \"c\"])\n",
        "print(\"Set: \")\n",
        "print(Set1)\n",
        "Set1.add(\"d\")\n",
        "print(\"\\nSet after adding: \")\n",
        "print(Set1)\n"
      ],
      "execution_count": 31,
      "outputs": [
        {
          "output_type": "stream",
          "name": "stdout",
          "text": [
            "Set: \n",
            "{'b', 'c', 'a'}\n",
            "\n",
            "Set after adding: \n",
            "{'d', 'b', 'c', 'a'}\n"
          ]
        }
      ]
    },
    {
      "cell_type": "code",
      "metadata": {
        "colab": {
          "base_uri": "https://localhost:8080/"
        },
        "id": "AlVs6c6ll6Iu",
        "outputId": "212ea7f5-a53d-4f52-d979-a9ac38c2d11a"
      },
      "source": [
        "# them phan tu\n",
        "people = {\"Jay\", \"Idrish\", \"Archi\"}\n",
        "print(\"People: \")\n",
        "print(people)\n",
        "people.add(\"Daxit\")\n",
        "for i in range(1, 6):\n",
        "  people.add('i')\n",
        "print(\"\\nSet after adding element:\", end = \" \")\n",
        "print(people)"
      ],
      "execution_count": 30,
      "outputs": [
        {
          "output_type": "stream",
          "name": "stdout",
          "text": [
            "People: \n",
            "{'Jay', 'Archi', 'Idrish'}\n",
            "\n",
            "Set after adding element: {'Idrish', 'Daxit', 'i', 'Jay', 'Archi'}\n"
          ]
        }
      ]
    },
    {
      "cell_type": "code",
      "metadata": {
        "colab": {
          "base_uri": "https://localhost:8080/"
        },
        "id": "q4s5lr_LmAnn",
        "outputId": "7b4f0004-285b-419f-f2b3-4e8e283e84b2"
      },
      "source": [
        "# bot phan tu\n",
        "Days=set([\"Mon\",\"Tue\",\"Wed\",\"Thu\",\"Fri\",\"Sat\"])\n",
        "Days.discard(\"Sun\")\n",
        "print(Days)"
      ],
      "execution_count": 21,
      "outputs": [
        {
          "output_type": "stream",
          "name": "stdout",
          "text": [
            "{'Thu', 'Mon', 'Sat', 'Fri', 'Tue', 'Wed'}\n"
          ]
        }
      ]
    },
    {
      "cell_type": "code",
      "metadata": {
        "colab": {
          "base_uri": "https://localhost:8080/"
        },
        "id": "88Jq58qUmHZ4",
        "outputId": "93c41f20-f450-4ab9-d082-678572469271"
      },
      "source": [
        "# xoa toan bo\n",
        "set1 = {1,2,3,4,5,6}\n",
        "print(\"Initial set\")\n",
        "print(set1)\n",
        "set1.clear()\n",
        "print(\"\\nSet after using clear() function\")\n",
        "print(set1)"
      ],
      "execution_count": 22,
      "outputs": [
        {
          "output_type": "stream",
          "name": "stdout",
          "text": [
            "Initial set\n",
            "{1, 2, 3, 4, 5, 6}\n",
            "\n",
            "Set after using clear() function\n",
            "set()\n"
          ]
        }
      ]
    },
    {
      "cell_type": "code",
      "metadata": {
        "colab": {
          "base_uri": "https://localhost:8080/"
        },
        "id": "eDaOs-0EmT0n",
        "outputId": "ffaf3c80-4928-4e87-81ad-70553f267c6a"
      },
      "source": [
        "# phep hop\n",
        "people = {\"Jay\", \"Idrish\", \"Archil\"}\n",
        "vampires = {\"Karan\", \"Arjun\"}\n",
        "dracula = {\"Deepanshu\", \"Raju\"}\n",
        "population = people.union(vampires)\n",
        "print(\"Union using union() function\")\n",
        "print(population)\n",
        "population = people|dracula\n",
        "print(\"\\nUnion using '|' operator\")\n",
        "print(population)"
      ],
      "execution_count": 23,
      "outputs": [
        {
          "output_type": "stream",
          "name": "stdout",
          "text": [
            "Union using union() function\n",
            "{'Karan', 'Arjun', 'Jay', 'Archil', 'Idrish'}\n",
            "\n",
            "Union using '|' operator\n",
            "{'Raju', 'Jay', 'Deepanshu', 'Archil', 'Idrish'}\n"
          ]
        }
      ]
    },
    {
      "cell_type": "code",
      "metadata": {
        "colab": {
          "base_uri": "https://localhost:8080/"
        },
        "id": "Zg54ZZ3Xmf3Q",
        "outputId": "fb78d6be-ca3c-480a-bf64-88ec6af5a70b"
      },
      "source": [
        "# phep hieu\n",
        "set1 = set()\n",
        "for i in range(5):\n",
        "  set1.add(i)\n",
        "set2 = {3, 4, 5, 6, 7, 8}\n",
        "set3 = set1.difference(set2)\n",
        "print(\" Difference of two sets using difference() function\")\n",
        "print(set3)\n",
        "set3 = set1 - set2\n",
        "print(\"\\nDifference of two sets using '-' operator\")\n",
        "print(set3)"
      ],
      "execution_count": 29,
      "outputs": [
        {
          "output_type": "stream",
          "name": "stdout",
          "text": [
            " Difference of two sets using difference() function\n",
            "{0, 1, 2}\n",
            "\n",
            "Difference of two sets using '-' operator\n",
            "{0, 1, 2}\n"
          ]
        }
      ]
    },
    {
      "cell_type": "code",
      "metadata": {
        "colab": {
          "base_uri": "https://localhost:8080/"
        },
        "id": "rXqidxfimqm3",
        "outputId": "a8548ad8-6c51-4cf3-d1ae-ee8b75c68cbe"
      },
      "source": [
        "# kiem tra tap con - tap cha\n",
        "DaysA = set([\"Mon\",\"Tue\",\"Wed\"])\n",
        "DaysB = set([\"Mon\",\"Tue\",\"Wed\",\"Thu\",\"Fri\",\"Sat\",\"Sun\"])\n",
        "SubsetRes = DaysA <= DaysB\n",
        "SupersetRes = DaysB >= DaysA\n",
        "print(SubsetRes)\n",
        "print(SupersetRes)"
      ],
      "execution_count": 25,
      "outputs": [
        {
          "output_type": "stream",
          "name": "stdout",
          "text": [
            "True\n",
            "True\n"
          ]
        }
      ]
    },
    {
      "cell_type": "code",
      "metadata": {
        "colab": {
          "base_uri": "https://localhost:8080/"
        },
        "id": "SOO48tLPm0lU",
        "outputId": "b5f73467-fc6a-4479-face-c1c09e465bce"
      },
      "source": [
        "# date&time lay ngay gio hien tai\n",
        "import time; \n",
        "ticks = time.time()\n",
        "print(\"Number of ticks since 12:00am, January 1, 1970:\", ticks)\n",
        "localtime = time.localtime(time.time())\n",
        "print(\"Local current time :\", localtime)"
      ],
      "execution_count": 26,
      "outputs": [
        {
          "output_type": "stream",
          "name": "stdout",
          "text": [
            "Number of ticks since 12:00am, January 1, 1970: 1636964150.965402\n",
            "Local current time : time.struct_time(tm_year=2021, tm_mon=11, tm_mday=15, tm_hour=8, tm_min=15, tm_sec=50, tm_wday=0, tm_yday=319, tm_isdst=0)\n"
          ]
        }
      ]
    },
    {
      "cell_type": "code",
      "metadata": {
        "colab": {
          "base_uri": "https://localhost:8080/"
        },
        "id": "Kq6bedy_m_vX",
        "outputId": "a8b9935d-2d38-4e15-9019-3c10c919a5db"
      },
      "source": [
        "# dinh dang thoi gian\n",
        "import time;\n",
        "localtime = time.asctime( time.localtime(time.time()) )\n",
        "print(\"Local current time :\", localtime)"
      ],
      "execution_count": 27,
      "outputs": [
        {
          "output_type": "stream",
          "name": "stdout",
          "text": [
            "Local current time : Mon Nov 15 08:15:55 2021\n"
          ]
        }
      ]
    },
    {
      "cell_type": "code",
      "metadata": {
        "colab": {
          "base_uri": "https://localhost:8080/"
        },
        "id": "oau5lDybnJWG",
        "outputId": "1aef6225-ef1f-48c4-e32d-63b0baa99bee"
      },
      "source": [
        "# lay lich 1 thang\n",
        "import calendar\n",
        "cal = calendar.month(2008, 1)\n",
        "print(\"Here is the calendar:\")\n",
        "print(cal)"
      ],
      "execution_count": 28,
      "outputs": [
        {
          "output_type": "stream",
          "name": "stdout",
          "text": [
            "Here is the calendar:\n",
            "    January 2008\n",
            "Mo Tu We Th Fr Sa Su\n",
            "    1  2  3  4  5  6\n",
            " 7  8  9 10 11 12 13\n",
            "14 15 16 17 18 19 20\n",
            "21 22 23 24 25 26 27\n",
            "28 29 30 31\n",
            "\n"
          ]
        }
      ]
    }
  ]
}