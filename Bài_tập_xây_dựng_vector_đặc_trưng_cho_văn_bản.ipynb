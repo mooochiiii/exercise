{
  "nbformat": 4,
  "nbformat_minor": 0,
  "metadata": {
    "colab": {
      "provenance": [],
      "include_colab_link": true
    },
    "kernelspec": {
      "name": "python3",
      "display_name": "Python 3"
    },
    "language_info": {
      "name": "python"
    }
  },
  "cells": [
    {
      "cell_type": "markdown",
      "metadata": {
        "id": "view-in-github",
        "colab_type": "text"
      },
      "source": [
        "<a href=\"https://colab.research.google.com/github/mooochiiii/exercise/blob/main/B%C3%A0i_t%E1%BA%ADp_x%C3%A2y_d%E1%BB%B1ng_vector_%C4%91%E1%BA%B7c_tr%C6%B0ng_cho_v%C4%83n_b%E1%BA%A3n.ipynb\" target=\"_parent\"><img src=\"https://colab.research.google.com/assets/colab-badge.svg\" alt=\"Open In Colab\"/></a>"
      ]
    },
    {
      "cell_type": "markdown",
      "source": [
        "#Văn bản tiếng Anh "
      ],
      "metadata": {
        "id": "3MD-3saRRQU8"
      }
    },
    {
      "cell_type": "code",
      "source": [
        "from google.colab import drive\n",
        "drive.mount('/content/drive')"
      ],
      "metadata": {
        "colab": {
          "base_uri": "https://localhost:8080/"
        },
        "id": "WotScQawjuv_",
        "outputId": "5e8f803e-201b-4917-e12b-ee7afa0e48ea"
      },
      "execution_count": 1,
      "outputs": [
        {
          "output_type": "stream",
          "name": "stdout",
          "text": [
            "Mounted at /content/drive\n"
          ]
        }
      ]
    },
    {
      "cell_type": "code",
      "source": [
        "vb01 = open('/content/drive/MyDrive/Classroom/corpus-tf-idf/tieng Anh/vb01.txt', \n",
        "                                                                encoding='cp1252')\n",
        "vb02 = open('/content/drive/MyDrive/Classroom/corpus-tf-idf/tieng Anh/vb02.txt', \n",
        "                                                                encoding='cp1252')\n",
        "vb03 = open('/content/drive/MyDrive/Classroom/corpus-tf-idf/tieng Anh/vb03.txt', \n",
        "                                                                encoding='cp1252')\n",
        "vb04 = open('/content/drive/MyDrive/Classroom/corpus-tf-idf/tieng Anh/vb04.txt', \n",
        "                                                                encoding='cp1252')\n",
        "vb05 = open('/content/drive/MyDrive/Classroom/corpus-tf-idf/tieng Anh/vb05.txt', \n",
        "                                                                encoding='cp1252')\n",
        "doc_vb01 = vb01.read()\n",
        "doc_vb02 = vb02.read()\n",
        "doc_vb03 = vb03.read()\n",
        "doc_vb04 = vb04.read()\n",
        "doc_vb05 = vb05.read()"
      ],
      "metadata": {
        "id": "LhlRWh5vs6Tm"
      },
      "execution_count": 27,
      "outputs": []
    },
    {
      "cell_type": "code",
      "source": [
        "doc1 = doc_vb01.split(\" \")\n",
        "doc2 = doc_vb02.split(\" \")\n",
        "doc3 = doc_vb03.split(\" \")\n",
        "doc4 = doc_vb04.split(\" \")\n",
        "doc5 = doc_vb05.split(\" \")"
      ],
      "metadata": {
        "id": "WP1Apsmk7oup"
      },
      "execution_count": 23,
      "outputs": []
    },
    {
      "cell_type": "code",
      "source": [
        "wordSet = set(doc1).union(set(doc2)).union(set(doc3)).union(set(doc4)).union(set(doc5))"
      ],
      "metadata": {
        "id": "Et6qk_rLWrrl"
      },
      "execution_count": 4,
      "outputs": []
    },
    {
      "cell_type": "code",
      "source": [
        "wordDict1 = dict.fromkeys(wordSet, 0) \n",
        "wordDict2 = dict.fromkeys(wordSet, 0) \n",
        "wordDict3 = dict.fromkeys(wordSet, 0) \n",
        "wordDict4 = dict.fromkeys(wordSet, 0) \n",
        "wordDict5 = dict.fromkeys(wordSet, 0) "
      ],
      "metadata": {
        "id": "JO89jdxAXDlV"
      },
      "execution_count": 5,
      "outputs": []
    },
    {
      "cell_type": "code",
      "source": [
        "for word in doc1:\n",
        "    wordDict1[word]+=1\n",
        "    \n",
        "for word in doc2:\n",
        "    wordDict2[word]+=1\n",
        "\n",
        "for word in doc3:\n",
        "    wordDict3[word]+=1\n",
        "\n",
        "for word in doc4:\n",
        "    wordDict4[word]+=1\n",
        "\n",
        "for word in doc5:\n",
        "    wordDict5[word]+=1"
      ],
      "metadata": {
        "id": "N-jkJOlP8OKA"
      },
      "execution_count": 6,
      "outputs": []
    },
    {
      "cell_type": "code",
      "source": [
        "import pandas as pd"
      ],
      "metadata": {
        "id": "UJtr66gmeuyz"
      },
      "execution_count": 24,
      "outputs": []
    },
    {
      "cell_type": "code",
      "source": [
        "pd.DataFrame([wordDict1, \n",
        "              wordDict2, \n",
        "              wordDict3, \n",
        "              wordDict4, \n",
        "              wordDict5])"
      ],
      "metadata": {
        "colab": {
          "base_uri": "https://localhost:8080/",
          "height": 317
        },
        "id": "TwrMy2L-YCQD",
        "outputId": "ac6673d7-5454-4a14-ab80-0dd14b53709c"
      },
      "execution_count": 25,
      "outputs": [
        {
          "output_type": "execute_result",
          "data": {
            "text/plain": [
              "   máu,  sáng  r?c  bài  Quang  nghi  bý?c  11/7/2022,  gia,  câu  ...  ði?n  \\\n",
              "0     0     0    0    0      0     1     0           0     0    2  ...     0   \n",
              "1     0     0    0    2      0     0     0           0     0    0  ...     2   \n",
              "2     1     0    0    0      0     0     1           0     1    0  ...     0   \n",
              "3     0     5    1    5      0     0     8           1     0    3  ...     2   \n",
              "4     0     0    0    0      2     0     0           0     0    0  ...     0   \n",
              "\n",
              "   nhi?u?\\n\\nGià  kh?u  thu?c  VCCorp,  b?i  D?  Yoshinobu  ích  USD  \n",
              "0              0     0      0        2    0   0          0    1    1  \n",
              "1              0     0      1        0    0   0          0    0    0  \n",
              "2              0     0      2        0    0   0          0    0    0  \n",
              "3              1     5      2        0   10   1          1    0    0  \n",
              "4              0     0      0        0    1   0          0    0    0  \n",
              "\n",
              "[5 rows x 1184 columns]"
            ],
            "text/html": [
              "\n",
              "  <div id=\"df-64a8f7c4-fa01-451b-9883-ec9600d97e05\">\n",
              "    <div class=\"colab-df-container\">\n",
              "      <div>\n",
              "<style scoped>\n",
              "    .dataframe tbody tr th:only-of-type {\n",
              "        vertical-align: middle;\n",
              "    }\n",
              "\n",
              "    .dataframe tbody tr th {\n",
              "        vertical-align: top;\n",
              "    }\n",
              "\n",
              "    .dataframe thead th {\n",
              "        text-align: right;\n",
              "    }\n",
              "</style>\n",
              "<table border=\"1\" class=\"dataframe\">\n",
              "  <thead>\n",
              "    <tr style=\"text-align: right;\">\n",
              "      <th></th>\n",
              "      <th>máu,</th>\n",
              "      <th>sáng</th>\n",
              "      <th>r?c</th>\n",
              "      <th>bài</th>\n",
              "      <th>Quang</th>\n",
              "      <th>nghi</th>\n",
              "      <th>bý?c</th>\n",
              "      <th>11/7/2022,</th>\n",
              "      <th>gia,</th>\n",
              "      <th>câu</th>\n",
              "      <th>...</th>\n",
              "      <th>ði?n</th>\n",
              "      <th>nhi?u?\\n\\nGià</th>\n",
              "      <th>kh?u</th>\n",
              "      <th>thu?c</th>\n",
              "      <th>VCCorp,</th>\n",
              "      <th>b?i</th>\n",
              "      <th>D?</th>\n",
              "      <th>Yoshinobu</th>\n",
              "      <th>ích</th>\n",
              "      <th>USD</th>\n",
              "    </tr>\n",
              "  </thead>\n",
              "  <tbody>\n",
              "    <tr>\n",
              "      <th>0</th>\n",
              "      <td>0</td>\n",
              "      <td>0</td>\n",
              "      <td>0</td>\n",
              "      <td>0</td>\n",
              "      <td>0</td>\n",
              "      <td>1</td>\n",
              "      <td>0</td>\n",
              "      <td>0</td>\n",
              "      <td>0</td>\n",
              "      <td>2</td>\n",
              "      <td>...</td>\n",
              "      <td>0</td>\n",
              "      <td>0</td>\n",
              "      <td>0</td>\n",
              "      <td>0</td>\n",
              "      <td>2</td>\n",
              "      <td>0</td>\n",
              "      <td>0</td>\n",
              "      <td>0</td>\n",
              "      <td>1</td>\n",
              "      <td>1</td>\n",
              "    </tr>\n",
              "    <tr>\n",
              "      <th>1</th>\n",
              "      <td>0</td>\n",
              "      <td>0</td>\n",
              "      <td>0</td>\n",
              "      <td>2</td>\n",
              "      <td>0</td>\n",
              "      <td>0</td>\n",
              "      <td>0</td>\n",
              "      <td>0</td>\n",
              "      <td>0</td>\n",
              "      <td>0</td>\n",
              "      <td>...</td>\n",
              "      <td>2</td>\n",
              "      <td>0</td>\n",
              "      <td>0</td>\n",
              "      <td>1</td>\n",
              "      <td>0</td>\n",
              "      <td>0</td>\n",
              "      <td>0</td>\n",
              "      <td>0</td>\n",
              "      <td>0</td>\n",
              "      <td>0</td>\n",
              "    </tr>\n",
              "    <tr>\n",
              "      <th>2</th>\n",
              "      <td>1</td>\n",
              "      <td>0</td>\n",
              "      <td>0</td>\n",
              "      <td>0</td>\n",
              "      <td>0</td>\n",
              "      <td>0</td>\n",
              "      <td>1</td>\n",
              "      <td>0</td>\n",
              "      <td>1</td>\n",
              "      <td>0</td>\n",
              "      <td>...</td>\n",
              "      <td>0</td>\n",
              "      <td>0</td>\n",
              "      <td>0</td>\n",
              "      <td>2</td>\n",
              "      <td>0</td>\n",
              "      <td>0</td>\n",
              "      <td>0</td>\n",
              "      <td>0</td>\n",
              "      <td>0</td>\n",
              "      <td>0</td>\n",
              "    </tr>\n",
              "    <tr>\n",
              "      <th>3</th>\n",
              "      <td>0</td>\n",
              "      <td>5</td>\n",
              "      <td>1</td>\n",
              "      <td>5</td>\n",
              "      <td>0</td>\n",
              "      <td>0</td>\n",
              "      <td>8</td>\n",
              "      <td>1</td>\n",
              "      <td>0</td>\n",
              "      <td>3</td>\n",
              "      <td>...</td>\n",
              "      <td>2</td>\n",
              "      <td>1</td>\n",
              "      <td>5</td>\n",
              "      <td>2</td>\n",
              "      <td>0</td>\n",
              "      <td>10</td>\n",
              "      <td>1</td>\n",
              "      <td>1</td>\n",
              "      <td>0</td>\n",
              "      <td>0</td>\n",
              "    </tr>\n",
              "    <tr>\n",
              "      <th>4</th>\n",
              "      <td>0</td>\n",
              "      <td>0</td>\n",
              "      <td>0</td>\n",
              "      <td>0</td>\n",
              "      <td>2</td>\n",
              "      <td>0</td>\n",
              "      <td>0</td>\n",
              "      <td>0</td>\n",
              "      <td>0</td>\n",
              "      <td>0</td>\n",
              "      <td>...</td>\n",
              "      <td>0</td>\n",
              "      <td>0</td>\n",
              "      <td>0</td>\n",
              "      <td>0</td>\n",
              "      <td>0</td>\n",
              "      <td>1</td>\n",
              "      <td>0</td>\n",
              "      <td>0</td>\n",
              "      <td>0</td>\n",
              "      <td>0</td>\n",
              "    </tr>\n",
              "  </tbody>\n",
              "</table>\n",
              "<p>5 rows × 1184 columns</p>\n",
              "</div>\n",
              "      <button class=\"colab-df-convert\" onclick=\"convertToInteractive('df-64a8f7c4-fa01-451b-9883-ec9600d97e05')\"\n",
              "              title=\"Convert this dataframe to an interactive table.\"\n",
              "              style=\"display:none;\">\n",
              "        \n",
              "  <svg xmlns=\"http://www.w3.org/2000/svg\" height=\"24px\"viewBox=\"0 0 24 24\"\n",
              "       width=\"24px\">\n",
              "    <path d=\"M0 0h24v24H0V0z\" fill=\"none\"/>\n",
              "    <path d=\"M18.56 5.44l.94 2.06.94-2.06 2.06-.94-2.06-.94-.94-2.06-.94 2.06-2.06.94zm-11 1L8.5 8.5l.94-2.06 2.06-.94-2.06-.94L8.5 2.5l-.94 2.06-2.06.94zm10 10l.94 2.06.94-2.06 2.06-.94-2.06-.94-.94-2.06-.94 2.06-2.06.94z\"/><path d=\"M17.41 7.96l-1.37-1.37c-.4-.4-.92-.59-1.43-.59-.52 0-1.04.2-1.43.59L10.3 9.45l-7.72 7.72c-.78.78-.78 2.05 0 2.83L4 21.41c.39.39.9.59 1.41.59.51 0 1.02-.2 1.41-.59l7.78-7.78 2.81-2.81c.8-.78.8-2.07 0-2.86zM5.41 20L4 18.59l7.72-7.72 1.47 1.35L5.41 20z\"/>\n",
              "  </svg>\n",
              "      </button>\n",
              "      \n",
              "  <style>\n",
              "    .colab-df-container {\n",
              "      display:flex;\n",
              "      flex-wrap:wrap;\n",
              "      gap: 12px;\n",
              "    }\n",
              "\n",
              "    .colab-df-convert {\n",
              "      background-color: #E8F0FE;\n",
              "      border: none;\n",
              "      border-radius: 50%;\n",
              "      cursor: pointer;\n",
              "      display: none;\n",
              "      fill: #1967D2;\n",
              "      height: 32px;\n",
              "      padding: 0 0 0 0;\n",
              "      width: 32px;\n",
              "    }\n",
              "\n",
              "    .colab-df-convert:hover {\n",
              "      background-color: #E2EBFA;\n",
              "      box-shadow: 0px 1px 2px rgba(60, 64, 67, 0.3), 0px 1px 3px 1px rgba(60, 64, 67, 0.15);\n",
              "      fill: #174EA6;\n",
              "    }\n",
              "\n",
              "    [theme=dark] .colab-df-convert {\n",
              "      background-color: #3B4455;\n",
              "      fill: #D2E3FC;\n",
              "    }\n",
              "\n",
              "    [theme=dark] .colab-df-convert:hover {\n",
              "      background-color: #434B5C;\n",
              "      box-shadow: 0px 1px 3px 1px rgba(0, 0, 0, 0.15);\n",
              "      filter: drop-shadow(0px 1px 2px rgba(0, 0, 0, 0.3));\n",
              "      fill: #FFFFFF;\n",
              "    }\n",
              "  </style>\n",
              "\n",
              "      <script>\n",
              "        const buttonEl =\n",
              "          document.querySelector('#df-64a8f7c4-fa01-451b-9883-ec9600d97e05 button.colab-df-convert');\n",
              "        buttonEl.style.display =\n",
              "          google.colab.kernel.accessAllowed ? 'block' : 'none';\n",
              "\n",
              "        async function convertToInteractive(key) {\n",
              "          const element = document.querySelector('#df-64a8f7c4-fa01-451b-9883-ec9600d97e05');\n",
              "          const dataTable =\n",
              "            await google.colab.kernel.invokeFunction('convertToInteractive',\n",
              "                                                     [key], {});\n",
              "          if (!dataTable) return;\n",
              "\n",
              "          const docLinkHtml = 'Like what you see? Visit the ' +\n",
              "            '<a target=\"_blank\" href=https://colab.research.google.com/notebooks/data_table.ipynb>data table notebook</a>'\n",
              "            + ' to learn more about interactive tables.';\n",
              "          element.innerHTML = '';\n",
              "          dataTable['output_type'] = 'display_data';\n",
              "          await google.colab.output.renderOutput(dataTable, element);\n",
              "          const docLink = document.createElement('div');\n",
              "          docLink.innerHTML = docLinkHtml;\n",
              "          element.appendChild(docLink);\n",
              "        }\n",
              "      </script>\n",
              "    </div>\n",
              "  </div>\n",
              "  "
            ]
          },
          "metadata": {},
          "execution_count": 25
        }
      ]
    },
    {
      "cell_type": "code",
      "source": [
        "def computeTF(wordDict, words):\n",
        "    tfDict = {}\n",
        "    wordslen = len(words)\n",
        "    for word, count in wordDict.items():\n",
        "        tfDict[word] = count/float(wordslen)\n",
        "    return tfDict"
      ],
      "metadata": {
        "id": "qasz0Ysdy-ob"
      },
      "execution_count": 8,
      "outputs": []
    },
    {
      "cell_type": "code",
      "source": [
        "tf_doc1 = computeTF(wordDict1, doc1)\n",
        "tf_doc2 = computeTF(wordDict2, doc2)\n",
        "tf_doc3 = computeTF(wordDict3, doc3)\n",
        "tf_doc4 = computeTF(wordDict4, doc4)\n",
        "tf_doc5 = computeTF(wordDict5, doc5)"
      ],
      "metadata": {
        "id": "uRegTguczI-5"
      },
      "execution_count": 28,
      "outputs": []
    },
    {
      "cell_type": "code",
      "source": [
        "def computeIDF(docList):\n",
        "    import math\n",
        "    idfDict = {}\n",
        "    N = len(docList)\n",
        "    \n",
        "    idfDict = dict.fromkeys(docList[0].keys(), 0)\n",
        "    for doc in docList:\n",
        "        for word, val in doc.items():\n",
        "            if val > 0:\n",
        "                idfDict[word] += 1\n",
        "    \n",
        "    for word, val in idfDict.items():\n",
        "        idfDict[word] = math.log10(N / float(val))\n",
        "        \n",
        "    return idfDict"
      ],
      "metadata": {
        "id": "N1pckGgkzhuV"
      },
      "execution_count": 29,
      "outputs": []
    },
    {
      "cell_type": "code",
      "source": [
        "idfs = computeIDF([wordDict1, wordDict2, wordDict3, wordDict4, wordDict5])"
      ],
      "metadata": {
        "id": "9LTt8CvlZEGH"
      },
      "execution_count": 30,
      "outputs": []
    },
    {
      "cell_type": "code",
      "source": [
        "def computeTFIDF(tfDocs, idfs):\n",
        "    tfidf = {}\n",
        "    for word, val in tfDocs.items():\n",
        "        tfidf[word] = val*idfs[word]\n",
        "    return tfidf"
      ],
      "metadata": {
        "id": "ctvpPprTFWAG"
      },
      "execution_count": 12,
      "outputs": []
    },
    {
      "cell_type": "code",
      "source": [
        "tfidfDoc1 = computeTFIDF(tf_doc1, idfs)\n",
        "tfidfDoc2 = computeTFIDF(tf_doc2, idfs)\n",
        "tfidfDoc3 = computeTFIDF(tf_doc3, idfs)\n",
        "tfidfDoc4 = computeTFIDF(tf_doc4, idfs)\n",
        "tfidfDoc5 = computeTFIDF(tf_doc5, idfs)"
      ],
      "metadata": {
        "id": "xTZg5IkdQjWh"
      },
      "execution_count": 31,
      "outputs": []
    },
    {
      "cell_type": "markdown",
      "source": [
        "#Văn bản tiếng Việt"
      ],
      "metadata": {
        "id": "-e3ItrgRSPgJ"
      }
    },
    {
      "cell_type": "code",
      "source": [
        "vbtv1 = open('/content/drive/MyDrive/Classroom/corpus-tf-idf/tieng Viet/vb01.txt', \n",
        "                                                                  encoding='cp1252')\n",
        "vbtv2 = open('/content/drive/MyDrive/Classroom/corpus-tf-idf/tieng Viet/vb02.txt', \n",
        "                                                                  encoding='cp1252')\n",
        "vbtv3 = open('/content/drive/MyDrive/Classroom/corpus-tf-idf/tieng Viet/vb03.txt', \n",
        "                                                                  encoding='cp1252')\n",
        "vbtv4 = open('/content/drive/MyDrive/Classroom/corpus-tf-idf/tieng Viet/vb04.txt', \n",
        "                                                                  encoding='cp1252')\n",
        "vbtv5 = open('/content/drive/MyDrive/Classroom/corpus-tf-idf/tieng Viet/vb05.txt', \n",
        "                                                                  encoding='cp1252')\n",
        "docvbtv1 = vbtv1.read()\n",
        "docvbtv2 = vbtv2.read()\n",
        "docvbtv3 = vbtv3.read()\n",
        "docvbtv4 = vbtv4.read()\n",
        "docvbtv5 = vbtv5.read()"
      ],
      "metadata": {
        "id": "aQN7c8YtdGP7"
      },
      "execution_count": 33,
      "outputs": []
    },
    {
      "cell_type": "code",
      "source": [
        "doc1 = docvbtv1.split(\" \")\n",
        "doc2 = docvbtv2.split(\" \")\n",
        "doc3 = docvbtv3.split(\" \")\n",
        "doc4 = docvbtv4.split(\" \")\n",
        "doc5 = docvbtv5.split(\" \")"
      ],
      "metadata": {
        "id": "fOA6I8xkdjFf"
      },
      "execution_count": 15,
      "outputs": []
    },
    {
      "cell_type": "code",
      "source": [
        "wordSet = set(doc1).union(set(doc2)).union(set(doc3)).union(set(doc4)).union(set(doc5))"
      ],
      "metadata": {
        "id": "s-z2hmMQdrx8"
      },
      "execution_count": 16,
      "outputs": []
    },
    {
      "cell_type": "code",
      "source": [
        "wordDict1 = dict.fromkeys(wordSet, 0) \n",
        "wordDict2 = dict.fromkeys(wordSet, 0) \n",
        "wordDict3 = dict.fromkeys(wordSet, 0) \n",
        "wordDict4 = dict.fromkeys(wordSet, 0) \n",
        "wordDict5 = dict.fromkeys(wordSet, 0) "
      ],
      "metadata": {
        "id": "fwFHYpRTd28s"
      },
      "execution_count": 17,
      "outputs": []
    },
    {
      "cell_type": "code",
      "source": [
        "for word in doc1:\n",
        "    wordDict1[word]+=1\n",
        "    \n",
        "for word in doc2:\n",
        "    wordDict2[word]+=1\n",
        "\n",
        "for word in doc3:\n",
        "    wordDict3[word]+=1\n",
        "\n",
        "for word in doc4:\n",
        "    wordDict4[word]+=1\n",
        "\n",
        "for word in doc5:\n",
        "    wordDict5[word]+=1"
      ],
      "metadata": {
        "id": "gT4Pp82fd9ru"
      },
      "execution_count": 18,
      "outputs": []
    },
    {
      "cell_type": "code",
      "source": [
        "import pandas as pd\n",
        "pd.DataFrame([wordDict1, wordDict2, wordDict3, wordDict4, wordDict5])"
      ],
      "metadata": {
        "colab": {
          "base_uri": "https://localhost:8080/",
          "height": 317
        },
        "id": "Me-AwEtFd_ge",
        "outputId": "32c1bb37-898b-42ea-8675-ee1b73836a71"
      },
      "execution_count": 19,
      "outputs": [
        {
          "output_type": "execute_result",
          "data": {
            "text/plain": [
              "   máu,  sáng  r?c  bài  Quang  nghi  bý?c  11/7/2022,  gia,  câu  ...  ði?n  \\\n",
              "0     0     0    0    0      0     1     0           0     0    2  ...     0   \n",
              "1     0     0    0    2      0     0     0           0     0    0  ...     2   \n",
              "2     1     0    0    0      0     0     1           0     1    0  ...     0   \n",
              "3     0     5    1    5      0     0     8           1     0    3  ...     2   \n",
              "4     0     0    0    0      2     0     0           0     0    0  ...     0   \n",
              "\n",
              "   nhi?u?\\n\\nGià  kh?u  thu?c  VCCorp,  b?i  D?  Yoshinobu  ích  USD  \n",
              "0              0     0      0        2    0   0          0    1    1  \n",
              "1              0     0      1        0    0   0          0    0    0  \n",
              "2              0     0      2        0    0   0          0    0    0  \n",
              "3              1     5      2        0   10   1          1    0    0  \n",
              "4              0     0      0        0    1   0          0    0    0  \n",
              "\n",
              "[5 rows x 1184 columns]"
            ],
            "text/html": [
              "\n",
              "  <div id=\"df-e08540c8-b7e3-4f28-849c-7fdcdb4a2936\">\n",
              "    <div class=\"colab-df-container\">\n",
              "      <div>\n",
              "<style scoped>\n",
              "    .dataframe tbody tr th:only-of-type {\n",
              "        vertical-align: middle;\n",
              "    }\n",
              "\n",
              "    .dataframe tbody tr th {\n",
              "        vertical-align: top;\n",
              "    }\n",
              "\n",
              "    .dataframe thead th {\n",
              "        text-align: right;\n",
              "    }\n",
              "</style>\n",
              "<table border=\"1\" class=\"dataframe\">\n",
              "  <thead>\n",
              "    <tr style=\"text-align: right;\">\n",
              "      <th></th>\n",
              "      <th>máu,</th>\n",
              "      <th>sáng</th>\n",
              "      <th>r?c</th>\n",
              "      <th>bài</th>\n",
              "      <th>Quang</th>\n",
              "      <th>nghi</th>\n",
              "      <th>bý?c</th>\n",
              "      <th>11/7/2022,</th>\n",
              "      <th>gia,</th>\n",
              "      <th>câu</th>\n",
              "      <th>...</th>\n",
              "      <th>ði?n</th>\n",
              "      <th>nhi?u?\\n\\nGià</th>\n",
              "      <th>kh?u</th>\n",
              "      <th>thu?c</th>\n",
              "      <th>VCCorp,</th>\n",
              "      <th>b?i</th>\n",
              "      <th>D?</th>\n",
              "      <th>Yoshinobu</th>\n",
              "      <th>ích</th>\n",
              "      <th>USD</th>\n",
              "    </tr>\n",
              "  </thead>\n",
              "  <tbody>\n",
              "    <tr>\n",
              "      <th>0</th>\n",
              "      <td>0</td>\n",
              "      <td>0</td>\n",
              "      <td>0</td>\n",
              "      <td>0</td>\n",
              "      <td>0</td>\n",
              "      <td>1</td>\n",
              "      <td>0</td>\n",
              "      <td>0</td>\n",
              "      <td>0</td>\n",
              "      <td>2</td>\n",
              "      <td>...</td>\n",
              "      <td>0</td>\n",
              "      <td>0</td>\n",
              "      <td>0</td>\n",
              "      <td>0</td>\n",
              "      <td>2</td>\n",
              "      <td>0</td>\n",
              "      <td>0</td>\n",
              "      <td>0</td>\n",
              "      <td>1</td>\n",
              "      <td>1</td>\n",
              "    </tr>\n",
              "    <tr>\n",
              "      <th>1</th>\n",
              "      <td>0</td>\n",
              "      <td>0</td>\n",
              "      <td>0</td>\n",
              "      <td>2</td>\n",
              "      <td>0</td>\n",
              "      <td>0</td>\n",
              "      <td>0</td>\n",
              "      <td>0</td>\n",
              "      <td>0</td>\n",
              "      <td>0</td>\n",
              "      <td>...</td>\n",
              "      <td>2</td>\n",
              "      <td>0</td>\n",
              "      <td>0</td>\n",
              "      <td>1</td>\n",
              "      <td>0</td>\n",
              "      <td>0</td>\n",
              "      <td>0</td>\n",
              "      <td>0</td>\n",
              "      <td>0</td>\n",
              "      <td>0</td>\n",
              "    </tr>\n",
              "    <tr>\n",
              "      <th>2</th>\n",
              "      <td>1</td>\n",
              "      <td>0</td>\n",
              "      <td>0</td>\n",
              "      <td>0</td>\n",
              "      <td>0</td>\n",
              "      <td>0</td>\n",
              "      <td>1</td>\n",
              "      <td>0</td>\n",
              "      <td>1</td>\n",
              "      <td>0</td>\n",
              "      <td>...</td>\n",
              "      <td>0</td>\n",
              "      <td>0</td>\n",
              "      <td>0</td>\n",
              "      <td>2</td>\n",
              "      <td>0</td>\n",
              "      <td>0</td>\n",
              "      <td>0</td>\n",
              "      <td>0</td>\n",
              "      <td>0</td>\n",
              "      <td>0</td>\n",
              "    </tr>\n",
              "    <tr>\n",
              "      <th>3</th>\n",
              "      <td>0</td>\n",
              "      <td>5</td>\n",
              "      <td>1</td>\n",
              "      <td>5</td>\n",
              "      <td>0</td>\n",
              "      <td>0</td>\n",
              "      <td>8</td>\n",
              "      <td>1</td>\n",
              "      <td>0</td>\n",
              "      <td>3</td>\n",
              "      <td>...</td>\n",
              "      <td>2</td>\n",
              "      <td>1</td>\n",
              "      <td>5</td>\n",
              "      <td>2</td>\n",
              "      <td>0</td>\n",
              "      <td>10</td>\n",
              "      <td>1</td>\n",
              "      <td>1</td>\n",
              "      <td>0</td>\n",
              "      <td>0</td>\n",
              "    </tr>\n",
              "    <tr>\n",
              "      <th>4</th>\n",
              "      <td>0</td>\n",
              "      <td>0</td>\n",
              "      <td>0</td>\n",
              "      <td>0</td>\n",
              "      <td>2</td>\n",
              "      <td>0</td>\n",
              "      <td>0</td>\n",
              "      <td>0</td>\n",
              "      <td>0</td>\n",
              "      <td>0</td>\n",
              "      <td>...</td>\n",
              "      <td>0</td>\n",
              "      <td>0</td>\n",
              "      <td>0</td>\n",
              "      <td>0</td>\n",
              "      <td>0</td>\n",
              "      <td>1</td>\n",
              "      <td>0</td>\n",
              "      <td>0</td>\n",
              "      <td>0</td>\n",
              "      <td>0</td>\n",
              "    </tr>\n",
              "  </tbody>\n",
              "</table>\n",
              "<p>5 rows × 1184 columns</p>\n",
              "</div>\n",
              "      <button class=\"colab-df-convert\" onclick=\"convertToInteractive('df-e08540c8-b7e3-4f28-849c-7fdcdb4a2936')\"\n",
              "              title=\"Convert this dataframe to an interactive table.\"\n",
              "              style=\"display:none;\">\n",
              "        \n",
              "  <svg xmlns=\"http://www.w3.org/2000/svg\" height=\"24px\"viewBox=\"0 0 24 24\"\n",
              "       width=\"24px\">\n",
              "    <path d=\"M0 0h24v24H0V0z\" fill=\"none\"/>\n",
              "    <path d=\"M18.56 5.44l.94 2.06.94-2.06 2.06-.94-2.06-.94-.94-2.06-.94 2.06-2.06.94zm-11 1L8.5 8.5l.94-2.06 2.06-.94-2.06-.94L8.5 2.5l-.94 2.06-2.06.94zm10 10l.94 2.06.94-2.06 2.06-.94-2.06-.94-.94-2.06-.94 2.06-2.06.94z\"/><path d=\"M17.41 7.96l-1.37-1.37c-.4-.4-.92-.59-1.43-.59-.52 0-1.04.2-1.43.59L10.3 9.45l-7.72 7.72c-.78.78-.78 2.05 0 2.83L4 21.41c.39.39.9.59 1.41.59.51 0 1.02-.2 1.41-.59l7.78-7.78 2.81-2.81c.8-.78.8-2.07 0-2.86zM5.41 20L4 18.59l7.72-7.72 1.47 1.35L5.41 20z\"/>\n",
              "  </svg>\n",
              "      </button>\n",
              "      \n",
              "  <style>\n",
              "    .colab-df-container {\n",
              "      display:flex;\n",
              "      flex-wrap:wrap;\n",
              "      gap: 12px;\n",
              "    }\n",
              "\n",
              "    .colab-df-convert {\n",
              "      background-color: #E8F0FE;\n",
              "      border: none;\n",
              "      border-radius: 50%;\n",
              "      cursor: pointer;\n",
              "      display: none;\n",
              "      fill: #1967D2;\n",
              "      height: 32px;\n",
              "      padding: 0 0 0 0;\n",
              "      width: 32px;\n",
              "    }\n",
              "\n",
              "    .colab-df-convert:hover {\n",
              "      background-color: #E2EBFA;\n",
              "      box-shadow: 0px 1px 2px rgba(60, 64, 67, 0.3), 0px 1px 3px 1px rgba(60, 64, 67, 0.15);\n",
              "      fill: #174EA6;\n",
              "    }\n",
              "\n",
              "    [theme=dark] .colab-df-convert {\n",
              "      background-color: #3B4455;\n",
              "      fill: #D2E3FC;\n",
              "    }\n",
              "\n",
              "    [theme=dark] .colab-df-convert:hover {\n",
              "      background-color: #434B5C;\n",
              "      box-shadow: 0px 1px 3px 1px rgba(0, 0, 0, 0.15);\n",
              "      filter: drop-shadow(0px 1px 2px rgba(0, 0, 0, 0.3));\n",
              "      fill: #FFFFFF;\n",
              "    }\n",
              "  </style>\n",
              "\n",
              "      <script>\n",
              "        const buttonEl =\n",
              "          document.querySelector('#df-e08540c8-b7e3-4f28-849c-7fdcdb4a2936 button.colab-df-convert');\n",
              "        buttonEl.style.display =\n",
              "          google.colab.kernel.accessAllowed ? 'block' : 'none';\n",
              "\n",
              "        async function convertToInteractive(key) {\n",
              "          const element = document.querySelector('#df-e08540c8-b7e3-4f28-849c-7fdcdb4a2936');\n",
              "          const dataTable =\n",
              "            await google.colab.kernel.invokeFunction('convertToInteractive',\n",
              "                                                     [key], {});\n",
              "          if (!dataTable) return;\n",
              "\n",
              "          const docLinkHtml = 'Like what you see? Visit the ' +\n",
              "            '<a target=\"_blank\" href=https://colab.research.google.com/notebooks/data_table.ipynb>data table notebook</a>'\n",
              "            + ' to learn more about interactive tables.';\n",
              "          element.innerHTML = '';\n",
              "          dataTable['output_type'] = 'display_data';\n",
              "          await google.colab.output.renderOutput(dataTable, element);\n",
              "          const docLink = document.createElement('div');\n",
              "          docLink.innerHTML = docLinkHtml;\n",
              "          element.appendChild(docLink);\n",
              "        }\n",
              "      </script>\n",
              "    </div>\n",
              "  </div>\n",
              "  "
            ]
          },
          "metadata": {},
          "execution_count": 19
        }
      ]
    },
    {
      "cell_type": "code",
      "source": [
        "def computeTF(wordDict, words):\n",
        "    tfDict = {}\n",
        "    wordslen = len(words)\n",
        "    for word, count in wordDict.items():\n",
        "        tfDict[word] = count/float(wordslen)\n",
        "    return tfDict"
      ],
      "metadata": {
        "id": "yOi2leB-eLbi"
      },
      "execution_count": 20,
      "outputs": []
    },
    {
      "cell_type": "code",
      "source": [
        "tfdoc1 = computeTF(wordDict1, doc1)\n",
        "tfdoc2 = computeTF(wordDict2, doc2)\n",
        "tfdoc3 = computeTF(wordDict3, doc3)\n",
        "tfdoc4 = computeTF(wordDict4, doc4)\n",
        "tfdoc5 = computeTF(wordDict5, doc5)"
      ],
      "metadata": {
        "id": "xEZYwmisePLP"
      },
      "execution_count": 21,
      "outputs": []
    },
    {
      "cell_type": "code",
      "source": [
        "def computeIDF(docList):\n",
        "    import math\n",
        "    idfDict = {}\n",
        "    N = len(docList)\n",
        "    \n",
        "    idfDict = dict.fromkeys(docList[0].keys(), 0)\n",
        "    for doc in docList:\n",
        "        for word, val in doc.items():\n",
        "            if val > 0:\n",
        "                idfDict[word] += 1\n",
        "    \n",
        "    for word, val in idfDict.items():\n",
        "        idfDict[word] = math.log10(N / float(val))\n",
        "        \n",
        "    return idfDict"
      ],
      "metadata": {
        "id": "RBimRtndeXt7"
      },
      "execution_count": 34,
      "outputs": []
    },
    {
      "cell_type": "code",
      "source": [
        "idfs = computeIDF([wordDict1, wordDict2, wordDict3, wordDict4, wordDict5])"
      ],
      "metadata": {
        "id": "odRScySDeb0S"
      },
      "execution_count": 35,
      "outputs": []
    },
    {
      "cell_type": "code",
      "source": [
        "def computeTFIDF(tfDocs, idfs):\n",
        "    tfidf = {}\n",
        "    for word, val in tfDocs.items():\n",
        "        tfidf[word] = val*idfs[word]\n",
        "    return tfidf"
      ],
      "metadata": {
        "id": "iX1Ybe7qefNo"
      },
      "execution_count": 36,
      "outputs": []
    },
    {
      "cell_type": "code",
      "source": [
        "tfidfDoc1 = computeTFIDF(tfdoc1, idfs)\n",
        "tfidfDoc2 = computeTFIDF(tfdoc2, idfs)\n",
        "tfidfDoc3 = computeTFIDF(tfdoc3, idfs)\n",
        "tfidfDoc4 = computeTFIDF(tfdoc4, idfs)\n",
        "tfidfDoc5 = computeTFIDF(tfdoc5, idfs)"
      ],
      "metadata": {
        "id": "yOlDtVbdeibN"
      },
      "execution_count": 37,
      "outputs": []
    }
  ]
}