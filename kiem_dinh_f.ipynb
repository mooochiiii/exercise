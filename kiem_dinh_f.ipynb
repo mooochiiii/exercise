{
  "cells": [
    {
      "cell_type": "markdown",
      "metadata": {
        "id": "view-in-github",
        "colab_type": "text"
      },
      "source": [
        "<a href=\"https://colab.research.google.com/github/mooochiiii/exercise/blob/main/kiem_dinh_f.ipynb\" target=\"_parent\"><img src=\"https://colab.research.google.com/assets/colab-badge.svg\" alt=\"Open In Colab\"/></a>"
      ]
    },
    {
      "cell_type": "markdown",
      "metadata": {
        "id": "zLDJXkTiG1nn"
      },
      "source": [
        "KIỂM ĐỊNH F\n",
        "\n",
        "Thay vì xây dựng giả thuyết với giá trị trung bình, người ta có thể xây dựng giả thuyết với phương sai (variance $\\sigma^{2}$). Trong trường hợp này, chúng ta sử dụng kiểm định F. Tóm tắt về kiểm định F như sau:\n",
        "\n",
        "Kiểm định một đuôi:\n",
        "\n",
        "$$H_{0}: \\sigma^{2} = \\sigma_{0}^{2} $$\n",
        "\n",
        "$$H_{a}: \\sigma^{2} < \\sigma_{0}^{2} (H_{a}: \\sigma^{2} > \\sigma_{0}^{2})$$ \n",
        "\n",
        "Giá trị thống kê kiểm định:\n",
        "\n",
        "$$ \\chi^{2} = \\frac{(n-1)s^{2}}{\\sigma_{0}^{2}}$$\n",
        "\n",
        "Vùng bác bỏ: $\\chi^{2} < \\chi_{(1 - \\alpha)}^{2}$  hoặc $\\chi^{2} > \\chi_{(1 - \\alpha)}^{2}$  khi $H_{a}: \\sigma^{2} > \\sigma_{0}^{2}$\n",
        "\n",
        "Ghi chú: \n",
        "\n",
        "- $\\chi^{2}$ - chi-square\n",
        "- (n - 1) mức tự do\n",
        "\n"
      ]
    },
    {
      "cell_type": "markdown",
      "metadata": {
        "id": "Reh5q3sRG1n0"
      },
      "source": [
        "Kiểm định 2 đuôi:\n",
        "\n",
        "$$H_{0}: \\sigma^{2} = \\sigma_{0}^{2}$$\n",
        "$$H_{a}:\\sigma^{2} \\neq \\sigma_{0}^{2} $$\n",
        "\n",
        "Giá trị thống kê kiểm định:\n",
        "\n",
        "$$ \\chi^{2} = \\frac{(n-1)s^{2}}{\\sigma_{0}^{2}}$$\n",
        "\n",
        "Vùng bác bỏ: $\\chi^{2} < \\chi_{(1 - \\alpha/2)}^{2}$  hoặc $\\chi^{2} > \\chi_{(\\alpha/2)}^{2}$  \n",
        "Ghi chú: \n",
        "\n",
        "- $\\chi^{2}$ - chi-square\n",
        "- (n - 1) mức tự do"
      ]
    },
    {
      "cell_type": "markdown",
      "metadata": {
        "id": "u2gWsE2vG1n2"
      },
      "source": [
        "THỰC HÀNH KIỂM ĐỊNH F\n",
        "\n",
        "Bước 1: Sinh ngẫu nhiên số liệu\n",
        "\n",
        "Bước 2: Xây dựng giả thuyết \n",
        "\n",
        "Bước 3: Kiểm định Bartlett "
      ]
    },
    {
      "cell_type": "code",
      "execution_count": 2,
      "metadata": {
        "id": "xWihUqpNG1n3",
        "outputId": "18a43c5c-59f2-42a0-d30b-5306ae6af203",
        "colab": {
          "base_uri": "https://localhost:8080/"
        }
      },
      "outputs": [
        {
          "output_type": "stream",
          "name": "stderr",
          "text": [
            "/usr/local/lib/python3.7/dist-packages/statsmodels/tools/_testing.py:19: FutureWarning: pandas.util.testing is deprecated. Use the functions in the public API at pandas.testing instead.\n",
            "  import pandas.util.testing as tm\n"
          ]
        }
      ],
      "source": [
        "import numpy as np\n",
        "import pandas as pd\n",
        "import random\n",
        "from scipy import stats\n",
        "from statsmodels.stats.weightstats import ztest\n",
        "import warnings\n",
        "import matplotlib.pyplot as plt\n",
        "import seaborn as sns\n",
        "%matplotlib inline"
      ]
    },
    {
      "cell_type": "code",
      "execution_count": null,
      "metadata": {
        "id": "UG7ChdSTG1n5"
      },
      "outputs": [],
      "source": [
        "#Sinh ngẫu nhiên 1000 mẫu tuân theo phân phối chuẩn có trung bình mẫu là 7.5 và độ lệch chuẩn là 0.25\n",
        "mean_1 = 7.5\n",
        "std_1 = 0.25\n",
        "N_1 = 1000\n",
        "samples_1 = np.random.normal(mean_1, std_1, N_1)"
      ]
    },
    {
      "cell_type": "code",
      "execution_count": null,
      "metadata": {
        "id": "cx1va9tWG1n6",
        "outputId": "f3f6c741-5b62-4e0e-b4f9-ca155719e104"
      },
      "outputs": [
        {
          "name": "stdout",
          "output_type": "stream",
          "text": [
            "[7.80435077 7.39173474 7.88538046 7.36791265 7.47550623 7.47039075\n",
            " 7.42038182 7.785741   8.17327938 7.32138352]\n"
          ]
        }
      ],
      "source": [
        "#In ra 10 phần tử đầu tiên\n",
        "print(samples_1[:10])"
      ]
    },
    {
      "cell_type": "code",
      "execution_count": null,
      "metadata": {
        "id": "80FkZsDuG1n7"
      },
      "outputs": [],
      "source": [
        "#Sinh ngẫu nhiên 900 mẫu tuân theo phân phối chuẩn có trung bình mẫu là 7 và độ lệch chuẩn là 0.2\n",
        "mean_2= 7\n",
        "std_2 = 0.2\n",
        "N_2 = 900\n",
        "samples_2 = np.random.normal(mean_2, std_2, N_2)"
      ]
    },
    {
      "cell_type": "code",
      "execution_count": null,
      "metadata": {
        "id": "Q_7vwCYPG1n8",
        "outputId": "5c747361-8b7e-47f2-8465-8e09ae6ac908"
      },
      "outputs": [
        {
          "name": "stdout",
          "output_type": "stream",
          "text": [
            "[6.97392727 6.7680331  6.9765569  7.20116716 6.70116584 7.11348431\n",
            " 7.13056472 7.28356771 7.13143519 7.12268851]\n"
          ]
        }
      ],
      "source": [
        "#In ra 10 phần tử đầu tiên\n",
        "print(samples_2[:10])"
      ]
    },
    {
      "cell_type": "markdown",
      "metadata": {
        "id": "wm451JJ9G1n9"
      },
      "source": [
        "Xây dựng giả thuyết:\n",
        "$$H_{0}: \\sigma_{1}^{2} = \\sigma_{2}^{2}$$\n",
        "$$H_{a}: \\sigma_{1}^{2} \\neq \\sigma_{2}^{2}$$"
      ]
    },
    {
      "cell_type": "code",
      "execution_count": null,
      "metadata": {
        "id": "e_SiEEDnG1n-",
        "outputId": "8ccf3f3e-60a5-484d-85e3-dcd85a3e150d"
      },
      "outputs": [
        {
          "name": "stdout",
          "output_type": "stream",
          "text": [
            "Stat value:  50.71159890972865 ; p-value:  1.0698543599175272e-12\n"
          ]
        }
      ],
      "source": [
        "#Kiểm định Bartlett\n",
        "stat_value, p_value = stats.bartlett(samples_1, samples_2)\n",
        "print(\"Stat value: \", stat_value, \"; p-value: \", p_value)"
      ]
    },
    {
      "cell_type": "code",
      "execution_count": null,
      "metadata": {
        "id": "jIpUnFfKG1n-",
        "outputId": "54b2c959-d891-4fd2-ecfa-1d03c992f9f4"
      },
      "outputs": [
        {
          "name": "stdout",
          "output_type": "stream",
          "text": [
            "Có bằng chứng để bác bỏ giả thuyết H0\n"
          ]
        }
      ],
      "source": [
        "alpha = 0.05\n",
        "if(p_value <  alpha):\n",
        "  print(\"Có bằng chứng để bác bỏ giả thuyết H0\")\n",
        "else:\n",
        "  print(\"Chưa có bằng chứng để bác bỏ giả thuyết H0\")"
      ]
    },
    {
      "cell_type": "markdown",
      "metadata": {
        "id": "QX-QvajxG1n_"
      },
      "source": [
        "BÀI TẬP\n",
        "\n",
        "Bạn hãy thử viết code tiến hành kiểm định F 1 đuôi?\n",
        "\n",
        "Gợi ý: Thử tìm kiếm ví dụ về kiểm dịnh F 1 đuôi trong ngôn ngữ lập trình Python & R để nhận thấy sự khác biệt."
      ]
    },
    {
      "cell_type": "markdown",
      "source": [
        "Xây dựng giả thuyết:\n",
        "$$H_0: σ_1^2 = σ_2^2$$\n",
        "Giả thuyết thay thế:\n",
        "$$H_1: σ_1^2 > σ_2^2$$\n"
      ],
      "metadata": {
        "id": "ZcohSQ2gBCpl"
      }
    },
    {
      "cell_type": "code",
      "source": [
        "# Sinh ngẫu nhiên mẫu thứ 1:\n",
        "sample_1= np.random.normal(24.6,4.2,40)\n",
        "print(sample_1)"
      ],
      "metadata": {
        "id": "4vfOJLdqvUFk",
        "outputId": "74341491-f4e6-417a-8f31-e9dd84c409d4",
        "colab": {
          "base_uri": "https://localhost:8080/"
        }
      },
      "execution_count": 9,
      "outputs": [
        {
          "output_type": "stream",
          "name": "stdout",
          "text": [
            "[16.97367937 31.53688695 17.98438961 25.47442003 25.26034042 25.16575451\n",
            " 28.0878026  23.78008104 24.8605122  30.40062017 21.60388868 30.60038814\n",
            " 25.18176753 23.56347145 25.77562437 24.11261258 22.3024116  24.88220081\n",
            " 26.64197993 29.5724786  34.46234763 17.4135115  20.555842   29.14501998\n",
            " 28.56188862 27.76155937 26.67181462 26.62771029 37.48387884 16.74889619\n",
            " 25.22631928 26.72966316 15.71242511 28.63017591 28.2480906  25.01937287\n",
            " 24.78791116 20.89481122 24.01032266 26.8234413 ]\n"
          ]
        }
      ]
    },
    {
      "cell_type": "code",
      "source": [
        "# Sinh ngẫu nhiên mẫu thứ 2:\n",
        "sample_2 = np.random.normal(25.5,5.1,40)\n",
        "print(sample_2)"
      ],
      "metadata": {
        "id": "TZfT4-5DzeRT",
        "outputId": "b3c058f7-999c-4235-ce14-5037288faa1f",
        "colab": {
          "base_uri": "https://localhost:8080/"
        }
      },
      "execution_count": 4,
      "outputs": [
        {
          "output_type": "stream",
          "name": "stdout",
          "text": [
            "[24.82347995 33.2745604  24.98017443 21.93436306 34.71478011 17.21477288\n",
            " 28.68336922 32.17577864 20.54051193 28.73831243 27.46611868 27.21857013\n",
            " 24.59545981 20.3093637  26.98860011 22.25123561 23.48746683 17.68645882\n",
            " 38.08224403 25.04845034 25.47062867 40.23599179 22.23179166 24.61978996\n",
            " 23.02637735 27.85259132 28.19324467 32.85589007 18.05763824 22.26490923\n",
            " 28.18383782 28.32409659 26.9198729  30.18252831 16.30336264 24.01697096\n",
            " 22.83482277 21.19359123 15.87158474 24.87952694]\n"
          ]
        }
      ]
    },
    {
      "cell_type": "code",
      "source": [
        "# Xác định thông số:\n",
        "sig = 0.05"
      ],
      "metadata": {
        "id": "JSgRCjVLziBI"
      },
      "execution_count": 5,
      "outputs": []
    },
    {
      "cell_type": "code",
      "execution_count": 6,
      "metadata": {
        "id": "1Z8v_vnNG1n_"
      },
      "outputs": [],
      "source": [
        "# Ta viết hàm f_test:\n",
        "def f_test(sample_1, sample_2, type_test, sig):\n",
        "    df1 = len(sample_1) - 1\n",
        "    df2 = len(sample_2) - 1\n",
        "    f_stat = sample_1.var() / sample_2.var()\n",
        "    if type_test == \"smaller\":\n",
        "        p_value = stats.f.cdf(f_stat, df1, df2)\n",
        "    elif type_test == \"larger\":\n",
        "        p_value = 1.0 - stats.f.cdf(f_stat, df1, df2)\n",
        "    else:\n",
        "        p_value = 2.0*(1.0 - stats.f.cdf(f_stat, df1, df2))\n",
        "# Kiểm định giả thuyết\n",
        "    if p_value < sig:\n",
        "      print(\"Có bằng chứng để bác bỏ giả thuyết H0\")\n",
        "    else:\n",
        "      print(\"Chưa có bằng chứng để bác bỏ giả thuyết H0\")"
      ]
    },
    {
      "cell_type": "code",
      "source": [
        "# Tiến hành f_test:\n",
        "f_test(sample_1, sample_2, \"larger\", sig)"
      ],
      "metadata": {
        "id": "rrlj7pSS0MIf",
        "outputId": "d38e30ce-cc20-43d5-bcfe-e980c60201f1",
        "colab": {
          "base_uri": "https://localhost:8080/"
        }
      },
      "execution_count": 10,
      "outputs": [
        {
          "output_type": "stream",
          "name": "stdout",
          "text": [
            "Chưa có bằng chứng để bác bỏ giả thuyết H0\n"
          ]
        }
      ]
    }
  ],
  "metadata": {
    "kernelspec": {
      "display_name": "Python 3",
      "language": "python",
      "name": "python3"
    },
    "language_info": {
      "codemirror_mode": {
        "name": "ipython",
        "version": 3
      },
      "file_extension": ".py",
      "mimetype": "text/x-python",
      "name": "python",
      "nbconvert_exporter": "python",
      "pygments_lexer": "ipython3",
      "version": "3.7.3"
    },
    "colab": {
      "name": "kiem-dinh-f.ipynb",
      "provenance": [],
      "include_colab_link": true
    }
  },
  "nbformat": 4,
  "nbformat_minor": 0
}