{
  "nbformat": 4,
  "nbformat_minor": 0,
  "metadata": {
    "colab": {
      "name": "pandas 1.ipynb",
      "provenance": [],
      "authorship_tag": "ABX9TyNm/VXfKNKagbuITHwTidsc",
      "include_colab_link": true
    },
    "kernelspec": {
      "name": "python3",
      "display_name": "Python 3"
    },
    "language_info": {
      "name": "python"
    }
  },
  "cells": [
    {
      "cell_type": "markdown",
      "metadata": {
        "id": "view-in-github",
        "colab_type": "text"
      },
      "source": [
        "<a href=\"https://colab.research.google.com/github/mooochiiii/exercise/blob/main/pandas_1.ipynb\" target=\"_parent\"><img src=\"https://colab.research.google.com/assets/colab-badge.svg\" alt=\"Open In Colab\"/></a>"
      ]
    },
    {
      "cell_type": "code",
      "execution_count": 1,
      "metadata": {
        "id": "2nOMuVBaPLYs"
      },
      "outputs": [],
      "source": [
        "import numpy as np\n",
        "import pandas as pd"
      ]
    },
    {
      "cell_type": "markdown",
      "source": [
        "Câu 1: Khởi tạo 1 Series với giá trị rỗng"
      ],
      "metadata": {
        "id": "luKySJMGPXWD"
      }
    },
    {
      "cell_type": "code",
      "source": [
        "pd.Series()"
      ],
      "metadata": {
        "colab": {
          "base_uri": "https://localhost:8080/"
        },
        "id": "64qyNb_0PWx9",
        "outputId": "87e23e8a-f2ef-47ea-e36f-a0b69f588057"
      },
      "execution_count": 2,
      "outputs": [
        {
          "output_type": "stream",
          "name": "stderr",
          "text": [
            "/usr/local/lib/python3.7/dist-packages/ipykernel_launcher.py:1: DeprecationWarning: The default dtype for empty Series will be 'object' instead of 'float64' in a future version. Specify a dtype explicitly to silence this warning.\n",
            "  \"\"\"Entry point for launching an IPython kernel.\n"
          ]
        },
        {
          "output_type": "execute_result",
          "data": {
            "text/plain": [
              "Series([], dtype: float64)"
            ]
          },
          "metadata": {},
          "execution_count": 2
        }
      ]
    },
    {
      "cell_type": "markdown",
      "source": [
        "Câu 2: Giả sử có 1 vector hàng a có kích thước (1x7) được biểu diễn trong NumPy, hãy tạo 1\n",
        "series tương ứng với các giá trị được sinh ngẫu nhiên."
      ],
      "metadata": {
        "id": "2Nz-7IYuPhvD"
      }
    },
    {
      "cell_type": "code",
      "source": [
        "a = np.random.randint(1,10,7)\n",
        "print(\"Vector hang co kich thuoc ngau nhien: \",a)\n",
        "aa = pd.Series(a)\n",
        "print(\"Series tuong ung: \")\n",
        "print(aa)"
      ],
      "metadata": {
        "colab": {
          "base_uri": "https://localhost:8080/"
        },
        "id": "Y2OGjGerPiUE",
        "outputId": "e4ce171f-527e-4f04-e8eb-1e399762971b"
      },
      "execution_count": 3,
      "outputs": [
        {
          "output_type": "stream",
          "name": "stdout",
          "text": [
            "Vector hang co kich thuoc ngau nhien:  [5 4 4 4 8 2 7]\n",
            "Series tuong ung: \n",
            "0    5\n",
            "1    4\n",
            "2    4\n",
            "3    4\n",
            "4    8\n",
            "5    2\n",
            "6    7\n",
            "dtype: int64\n"
          ]
        }
      ]
    },
    {
      "cell_type": "markdown",
      "source": [
        "Câu 3: Giả sử có 1 vector hàng a có kích thước (1x7), hãy nhập các giá trị cho 7 phần tử này từ\n",
        "bàn phím và tạo series tương ứng."
      ],
      "metadata": {
        "id": "L5lgYyHDPkvj"
      }
    },
    {
      "cell_type": "code",
      "source": [
        "4a = np.array([int(input(f\"nhap phan tu thu {i+1}: \")) for i in range(7)])\n",
        "print(\"Phan tu da nhap: \",a)\n",
        "print(\"series cua 7 phan tu bat ky: \")\n",
        "print(pd.Series(a))"
      ],
      "metadata": {
        "colab": {
          "base_uri": "https://localhost:8080/"
        },
        "id": "0rzMSVQJPutC",
        "outputId": "a1a68395-7335-4354-8753-4471c632b703"
      },
      "execution_count": 4,
      "outputs": [
        {
          "output_type": "stream",
          "name": "stdout",
          "text": [
            "nhap phan tu thu 1: 3\n",
            "nhap phan tu thu 2: 5\n",
            "nhap phan tu thu 3: 5\n",
            "nhap phan tu thu 4: 7\n",
            "nhap phan tu thu 5: 8\n",
            "nhap phan tu thu 6: 9\n",
            "nhap phan tu thu 7: 6\n",
            "Phan tu da nhap:  [3 5 5 7 8 9 6]\n",
            "series cua 7 phan tu bat ky: \n",
            "0    3\n",
            "1    5\n",
            "2    5\n",
            "3    7\n",
            "4    8\n",
            "5    9\n",
            "6    6\n",
            "dtype: int64\n"
          ]
        }
      ]
    },
    {
      "cell_type": "markdown",
      "source": [
        "Câu 4: Giả sử có 1 vector cột có kích thước (7x1) được biểu diễn trong NumPy, hãy tạo Series\n",
        "tương ứng."
      ],
      "metadata": {
        "id": "TCTeJ6TqPvkK"
      }
    },
    {
      "cell_type": "code",
      "source": [
        "a = np.random.randint(1,10,[7,1])\n",
        "print(\"vector cot: \")\n",
        "print(a)\n",
        "#dùng hàm reshape để đổi hàng và cột vì series chỉ nhận dữ liệu 1 chiều\n",
        "aa = a.reshape(7,)\n",
        "print(\"series tuong ung\")\n",
        "print(pd.Series(aa))"
      ],
      "metadata": {
        "colab": {
          "base_uri": "https://localhost:8080/"
        },
        "id": "PvLCWclvPxmz",
        "outputId": "dbfcee62-79bb-48d3-ea8c-dc3c848eb752"
      },
      "execution_count": 5,
      "outputs": [
        {
          "output_type": "stream",
          "name": "stdout",
          "text": [
            "vector cot: \n",
            "[[8]\n",
            " [9]\n",
            " [7]\n",
            " [4]\n",
            " [7]\n",
            " [6]\n",
            " [4]]\n",
            "series tuong ung\n",
            "0    8\n",
            "1    9\n",
            "2    7\n",
            "3    4\n",
            "4    7\n",
            "5    6\n",
            "6    4\n",
            "dtype: int64\n"
          ]
        }
      ]
    },
    {
      "cell_type": "markdown",
      "source": [
        "Câu 5: Chuyển đổi dữ liệu, hãy thực hiện các yêu cầu sau:\n",
        "- Chuyển 1 list thành 1 series\n",
        "- Chuyển 1 tuple thành 1 series\n",
        "- Chuyển 1 dictionary thành 1 series"
      ],
      "metadata": {
        "id": "wZnFuxHHP0X7"
      }
    },
    {
      "cell_type": "code",
      "source": [
        "# list thành sẻies\n",
        "l1 = [1,2,3,4]\n",
        "print(\"list :\",l1)\n",
        "print(\"chuyen list thanh series: \")\n",
        "print(pd.Series(l1))\n",
        "\n",
        "# tuple thành sẻié\n",
        "t1 = (1,3,4,5)\n",
        "print(\"tuple: \",t1)\n",
        "print(\"chuyen tuple thanh series: \")\n",
        "print(pd.Series(t1))\n",
        "\n",
        "# dictionary thành sẻies\n",
        "d1 = {\"year\": 2003 , \"age\":18 }\n",
        "print(\"dictionary: \",d1)\n",
        "print(\"chuyen dict thanh series: \")\n",
        "print(pd.Series(d1))"
      ],
      "metadata": {
        "colab": {
          "base_uri": "https://localhost:8080/"
        },
        "id": "tzfQ6cYKP5El",
        "outputId": "31659e2e-cc74-40c0-bdda-9ccad46917dd"
      },
      "execution_count": 6,
      "outputs": [
        {
          "output_type": "stream",
          "name": "stdout",
          "text": [
            "list : [1, 2, 3, 4]\n",
            "chuyen list thanh series: \n",
            "0    1\n",
            "1    2\n",
            "2    3\n",
            "3    4\n",
            "dtype: int64\n",
            "tuple:  (1, 3, 4, 5)\n",
            "chuyen tuple thanh series: \n",
            "0    1\n",
            "1    3\n",
            "2    4\n",
            "3    5\n",
            "dtype: int64\n",
            "dictionary:  {'year': 2003, 'age': 18}\n",
            "chuyen dict thanh series: \n",
            "year    2003\n",
            "age       18\n",
            "dtype: int64\n"
          ]
        }
      ]
    },
    {
      "cell_type": "markdown",
      "source": [
        "Câu 6: Mỗi phần tử của series đều gắn liền với các chỉ số (index) tương ứng, hãy tạo một series\n",
        "có kích thước (1x20) với giá trị ngẫu nhiên:\n",
        "- Xuất series ra màn hình\n",
        "- Xuất các chỉ số của series ra màn hình\n",
        "- Thay đổi cách đánh chỉ số mặc định của series từ đánh chỉ số bằng số nguyên sang các kiểu\n",
        "đánh chỉ số bằng label và in kết quả ra màn hình\n",
        "Gợi ý:\n",
        "- Hàm loc() dùng cho chỉ số label\n",
        "- Hàm iloc() dùng cho chỉ số đạng số nguyên\n",
        "- Hàm ix(): dùng cho cả 2 loại chỉ số trên"
      ],
      "metadata": {
        "id": "ETbBaOboP7ci"
      }
    },
    {
      "cell_type": "code",
      "source": [
        "x = pd.Series(np.random.randint(1,20,[20]))\n",
        "print(\"chi so cua series: \",x.index)\n",
        "\n",
        "print(x, \"\\n\")\n",
        "\n",
        "l1 = ['a','b','c','d','e','f','g','h','l','m','n','i','j','k','o','p','q','t','u','w']\n",
        "x.index=l1\n",
        "print(\"Thay doi cach danh chi so: \")\n",
        "print(x)"
      ],
      "metadata": {
        "colab": {
          "base_uri": "https://localhost:8080/"
        },
        "id": "v2EQUELMP8N8",
        "outputId": "08d2f4bc-68aa-493a-802b-7a7b06a73d6c"
      },
      "execution_count": 7,
      "outputs": [
        {
          "output_type": "stream",
          "name": "stdout",
          "text": [
            "chi so cua series:  RangeIndex(start=0, stop=20, step=1)\n",
            "0      5\n",
            "1      5\n",
            "2     17\n",
            "3     19\n",
            "4      4\n",
            "5      6\n",
            "6     12\n",
            "7      6\n",
            "8     14\n",
            "9      5\n",
            "10    14\n",
            "11     4\n",
            "12    18\n",
            "13     3\n",
            "14     4\n",
            "15     1\n",
            "16     4\n",
            "17    18\n",
            "18    19\n",
            "19    15\n",
            "dtype: int64 \n",
            "\n",
            "Thay doi cach danh chi so: \n",
            "a     5\n",
            "b     5\n",
            "c    17\n",
            "d    19\n",
            "e     4\n",
            "f     6\n",
            "g    12\n",
            "h     6\n",
            "l    14\n",
            "m     5\n",
            "n    14\n",
            "i     4\n",
            "j    18\n",
            "k     3\n",
            "o     4\n",
            "p     1\n",
            "q     4\n",
            "t    18\n",
            "u    19\n",
            "w    15\n",
            "dtype: int64\n"
          ]
        }
      ]
    },
    {
      "cell_type": "markdown",
      "source": [
        "Câu 7: Giả sử có series có kích thước (1x10), giá trị ngẫu nhiên, index được đánh từ ‘a’ trở đi,\n",
        "hãy:\n",
        "- Trích xuất các phần tử của Series có chỉ số là ‘a’, ‘c’, ‘e’\n",
        "- Trích xuất các phần tử của Series có chỉ số từ 3 đến 6"
      ],
      "metadata": {
        "id": "IHyzVNKHQzMr"
      }
    },
    {
      "cell_type": "code",
      "source": [
        "b = pd.Series(np.random.randint(1,10,[10]))\n",
        "l2 = ['a','b','c','d','e','f','g','h','i','j']\n",
        "b.index = l2\n",
        "print(b)\n",
        "print(\"chi so a: \",b.loc['a'])\n",
        "print(\"chi so c: \",b.loc['c'])\n",
        "print(\"chi so e: \",b.loc['e'], \"\\n\")\n",
        "\n",
        "print(b)\n",
        "print(\"chi so tu 3 den 6: \")\n",
        "print(b.iloc[3:7])\n"
      ],
      "metadata": {
        "colab": {
          "base_uri": "https://localhost:8080/"
        },
        "id": "z0sTbf4DQ3Va",
        "outputId": "60d0c03d-eaf7-4a22-af92-3d18ca724879"
      },
      "execution_count": 8,
      "outputs": [
        {
          "output_type": "stream",
          "name": "stdout",
          "text": [
            "a    1\n",
            "b    5\n",
            "c    2\n",
            "d    1\n",
            "e    1\n",
            "f    1\n",
            "g    7\n",
            "h    8\n",
            "i    1\n",
            "j    9\n",
            "dtype: int64\n",
            "chi so a:  1\n",
            "chi so c:  2\n",
            "chi so e:  1 \n",
            "\n",
            "a    1\n",
            "b    5\n",
            "c    2\n",
            "d    1\n",
            "e    1\n",
            "f    1\n",
            "g    7\n",
            "h    8\n",
            "i    1\n",
            "j    9\n",
            "dtype: int64\n",
            "chi so tu 3 den 6: \n",
            "d    1\n",
            "e    1\n",
            "f    1\n",
            "g    7\n",
            "dtype: int64\n"
          ]
        }
      ]
    }
  ]
}