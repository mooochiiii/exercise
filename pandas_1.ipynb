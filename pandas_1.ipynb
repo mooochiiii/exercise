{
  "nbformat": 4,
  "nbformat_minor": 0,
  "metadata": {
    "colab": {
      "name": "pandas 1.ipynb",
      "provenance": [],
      "authorship_tag": "ABX9TyOfAvm9hGK2DOkdkjYN6dRx",
      "include_colab_link": true
    },
    "kernelspec": {
      "name": "python3",
      "display_name": "Python 3"
    },
    "language_info": {
      "name": "python"
    }
  },
  "cells": [
    {
      "cell_type": "markdown",
      "metadata": {
        "id": "view-in-github",
        "colab_type": "text"
      },
      "source": [
        "<a href=\"https://colab.research.google.com/github/mooochiiii/exercise/blob/main/pandas_1.ipynb\" target=\"_parent\"><img src=\"https://colab.research.google.com/assets/colab-badge.svg\" alt=\"Open In Colab\"/></a>"
      ]
    },
    {
      "cell_type": "code",
      "execution_count": 1,
      "metadata": {
        "id": "2nOMuVBaPLYs"
      },
      "outputs": [],
      "source": [
        "import numpy as np\n",
        "import pandas as pd"
      ]
    },
    {
      "cell_type": "markdown",
      "source": [
        "Câu 1: Khởi tạo 1 Series với giá trị rỗng"
      ],
      "metadata": {
        "id": "luKySJMGPXWD"
      }
    },
    {
      "cell_type": "code",
      "source": [
        "pd.Series()"
      ],
      "metadata": {
        "colab": {
          "base_uri": "https://localhost:8080/"
        },
        "id": "64qyNb_0PWx9",
        "outputId": "a12d43e0-fba0-435d-ae4b-463dc4a6b3eb"
      },
      "execution_count": 3,
      "outputs": [
        {
          "output_type": "stream",
          "name": "stderr",
          "text": [
            "/usr/local/lib/python3.7/dist-packages/ipykernel_launcher.py:1: DeprecationWarning: The default dtype for empty Series will be 'object' instead of 'float64' in a future version. Specify a dtype explicitly to silence this warning.\n",
            "  \"\"\"Entry point for launching an IPython kernel.\n"
          ]
        },
        {
          "output_type": "execute_result",
          "data": {
            "text/plain": [
              "Series([], dtype: float64)"
            ]
          },
          "metadata": {},
          "execution_count": 3
        }
      ]
    },
    {
      "cell_type": "markdown",
      "source": [
        "Câu 2: Giả sử có 1 vector hàng a có kích thước (1x7) được biểu diễn trong NumPy, hãy tạo 1\n",
        "series tương ứng với các giá trị được sinh ngẫu nhiên."
      ],
      "metadata": {
        "id": "2Nz-7IYuPhvD"
      }
    },
    {
      "cell_type": "code",
      "source": [
        "a = np.random.randint(1,10,7)\n",
        "print(a)\n",
        "aa = pd.Series(a)\n",
        "aa"
      ],
      "metadata": {
        "colab": {
          "base_uri": "https://localhost:8080/"
        },
        "id": "Y2OGjGerPiUE",
        "outputId": "088e2ca2-969a-48ba-972d-5ad1f6b08b92"
      },
      "execution_count": 2,
      "outputs": [
        {
          "output_type": "stream",
          "name": "stdout",
          "text": [
            "[3 8 6 6 6 3 7]\n"
          ]
        },
        {
          "output_type": "execute_result",
          "data": {
            "text/plain": [
              "0    3\n",
              "1    8\n",
              "2    6\n",
              "3    6\n",
              "4    6\n",
              "5    3\n",
              "6    7\n",
              "dtype: int64"
            ]
          },
          "metadata": {},
          "execution_count": 2
        }
      ]
    },
    {
      "cell_type": "markdown",
      "source": [
        "Câu 3: Giả sử có 1 vector hàng a có kích thước (1x7), hãy nhập các giá trị cho 7 phần tử này từ\n",
        "bàn phím và tạo series tương ứng."
      ],
      "metadata": {
        "id": "L5lgYyHDPkvj"
      }
    },
    {
      "cell_type": "code",
      "source": [
        "a = np.array([int(input(f\"nhap phan tu thu {i+1}: \")) for i in range(7)])\n",
        "print(\"Phan tu da nhap: \",a)\n",
        "print(\"series cua 7 phan tu bat ky: \")\n",
        "print(pd.Series(a))"
      ],
      "metadata": {
        "colab": {
          "base_uri": "https://localhost:8080/"
        },
        "id": "0rzMSVQJPutC",
        "outputId": "7511e814-0932-49b1-fb6d-edf7b9c3054d"
      },
      "execution_count": 5,
      "outputs": [
        {
          "output_type": "stream",
          "name": "stdout",
          "text": [
            "nhap phan tu thu 1: 3\n",
            "nhap phan tu thu 2: 4\n",
            "nhap phan tu thu 3: 6\n",
            "nhap phan tu thu 4: 7\n",
            "nhap phan tu thu 5: 3\n",
            "nhap phan tu thu 6: 2\n",
            "nhap phan tu thu 7: 2\n",
            "Phan tu da nhap:  [3 4 6 7 3 2 2]\n",
            "series cua 7 phan tu bat ky: \n",
            "0    3\n",
            "1    4\n",
            "2    6\n",
            "3    7\n",
            "4    3\n",
            "5    2\n",
            "6    2\n",
            "dtype: int64\n"
          ]
        }
      ]
    },
    {
      "cell_type": "markdown",
      "source": [
        "Câu 4: Giả sử có 1 vector cột có kích thước (7x1) được biểu diễn trong NumPy, hãy tạo Series\n",
        "tương ứng."
      ],
      "metadata": {
        "id": "TCTeJ6TqPvkK"
      }
    },
    {
      "cell_type": "code",
      "source": [
        "a = np.random.randint(1,10,[7,1])\n",
        "a\n",
        "\n",
        "aa = a.reshape(7,)\n",
        "print(pd.Series(aa))"
      ],
      "metadata": {
        "colab": {
          "base_uri": "https://localhost:8080/"
        },
        "id": "PvLCWclvPxmz",
        "outputId": "60425dc0-a60d-4eba-b367-d826929aeb53"
      },
      "execution_count": 4,
      "outputs": [
        {
          "output_type": "stream",
          "name": "stdout",
          "text": [
            "0    8\n",
            "1    8\n",
            "2    8\n",
            "3    5\n",
            "4    7\n",
            "5    5\n",
            "6    7\n",
            "dtype: int64\n"
          ]
        }
      ]
    },
    {
      "cell_type": "markdown",
      "source": [
        "Câu 5: Chuyển đổi dữ liệu, hãy thực hiện các yêu cầu sau:\n",
        "- Chuyển 1 list thành 1 series\n",
        "- Chuyển 1 tuple thành 1 series\n",
        "- Chuyển 1 dictionary thành 1 series"
      ],
      "metadata": {
        "id": "wZnFuxHHP0X7"
      }
    },
    {
      "cell_type": "code",
      "source": [
        "# list thành sẻies\n",
        "l1 = [1,2,3,4]\n",
        "print(\"list :\",l1)\n",
        "print(pd.Series(l1), \"\\n\")\n",
        "\n",
        "# tuple thành sẻié\n",
        "t1 = (1,3,4,5)\n",
        "print(\"tuple: \",t1)\n",
        "print(pd.Series(t1), \"\\n\")\n",
        "\n",
        "# dictionary thành sẻies\n",
        "d1 = {\"year\": 2003 , \"age\":18 }\n",
        "print(\"dictionary: \",d1)\n",
        "print(pd.Series(d1))"
      ],
      "metadata": {
        "colab": {
          "base_uri": "https://localhost:8080/"
        },
        "id": "tzfQ6cYKP5El",
        "outputId": "e15977d3-5578-4315-9822-8a64db677749"
      },
      "execution_count": 7,
      "outputs": [
        {
          "output_type": "stream",
          "name": "stdout",
          "text": [
            "list : [1, 2, 3, 4]\n",
            "0    1\n",
            "1    2\n",
            "2    3\n",
            "3    4\n",
            "dtype: int64 \n",
            "\n",
            "tuple:  (1, 3, 4, 5)\n",
            "0    1\n",
            "1    3\n",
            "2    4\n",
            "3    5\n",
            "dtype: int64 \n",
            "\n",
            "dictionary:  {'year': 2003, 'age': 18}\n",
            "year    2003\n",
            "age       18\n",
            "dtype: int64\n"
          ]
        }
      ]
    },
    {
      "cell_type": "markdown",
      "source": [
        "Câu 6: Mỗi phần tử của series đều gắn liền với các chỉ số (index) tương ứng, hãy tạo một series\n",
        "có kích thước (1x20) với giá trị ngẫu nhiên:\n",
        "- Xuất series ra màn hình\n",
        "- Xuất các chỉ số của series ra màn hình\n",
        "- Thay đổi cách đánh chỉ số mặc định của series từ đánh chỉ số bằng số nguyên sang các kiểu\n",
        "đánh chỉ số bằng label và in kết quả ra màn hình\n",
        "Gợi ý:\n",
        "- Hàm loc() dùng cho chỉ số label\n",
        "- Hàm iloc() dùng cho chỉ số đạng số nguyên\n",
        "- Hàm ix(): dùng cho cả 2 loại chỉ số trên"
      ],
      "metadata": {
        "id": "ETbBaOboP7ci"
      }
    },
    {
      "cell_type": "code",
      "source": [
        "x = pd.Series(np.random.randint(1,20,[20]))\n",
        "print(\"chi so cua series: \",x.index)\n",
        "\n",
        "print(x, \"\\n\")\n",
        "\n",
        "l1 = ['a','b','c','d','e','f','g','h','l','m','n','i','j','k','o','p','q','t','u','w']\n",
        "x.index=l1\n",
        "print(\"\\n\", x)"
      ],
      "metadata": {
        "colab": {
          "base_uri": "https://localhost:8080/"
        },
        "id": "v2EQUELMP8N8",
        "outputId": "5c2aee71-b9eb-471c-87bc-de251c65ea09"
      },
      "execution_count": 8,
      "outputs": [
        {
          "output_type": "stream",
          "name": "stdout",
          "text": [
            "chi so cua series:  RangeIndex(start=0, stop=20, step=1)\n",
            "0     10\n",
            "1      6\n",
            "2      2\n",
            "3     19\n",
            "4     15\n",
            "5      2\n",
            "6     15\n",
            "7      1\n",
            "8     19\n",
            "9      7\n",
            "10     4\n",
            "11    19\n",
            "12    17\n",
            "13    14\n",
            "14     5\n",
            "15     4\n",
            "16    19\n",
            "17     4\n",
            "18     4\n",
            "19     7\n",
            "dtype: int64 \n",
            "\n",
            "\n",
            " a    10\n",
            "b     6\n",
            "c     2\n",
            "d    19\n",
            "e    15\n",
            "f     2\n",
            "g    15\n",
            "h     1\n",
            "l    19\n",
            "m     7\n",
            "n     4\n",
            "i    19\n",
            "j    17\n",
            "k    14\n",
            "o     5\n",
            "p     4\n",
            "q    19\n",
            "t     4\n",
            "u     4\n",
            "w     7\n",
            "dtype: int64\n"
          ]
        }
      ]
    },
    {
      "cell_type": "markdown",
      "source": [
        "Câu 7: Giả sử có series có kích thước (1x10), giá trị ngẫu nhiên, index được đánh từ ‘a’ trở đi,\n",
        "hãy:\n",
        "- Trích xuất các phần tử của Series có chỉ số là ‘a’, ‘c’, ‘e’\n",
        "- Trích xuất các phần tử của Series có chỉ số từ 3 đến 6"
      ],
      "metadata": {
        "id": "IHyzVNKHQzMr"
      }
    },
    {
      "cell_type": "code",
      "source": [
        "b = pd.Series(np.random.randint(1,10,[10]))\n",
        "l2 = ['a','b','c','d','e','f','g','h','i','j']\n",
        "b.index = l2\n",
        "print(b, \"\\n\")\n",
        "print(\"chi so a: \",b.loc['a'])\n",
        "print(\"chi so c: \",b.loc['c'])\n",
        "print(\"chi so e: \",b.loc['e'], \"\\n\")\n",
        "\n",
        "print(b)\n",
        "print(\"chi so tu 3 den 6: \", \"\\n\")\n",
        "print(b.iloc[3:7])\n"
      ],
      "metadata": {
        "colab": {
          "base_uri": "https://localhost:8080/"
        },
        "id": "z0sTbf4DQ3Va",
        "outputId": "12362d51-beac-4668-c9ff-0b908d331d75"
      },
      "execution_count": 9,
      "outputs": [
        {
          "output_type": "stream",
          "name": "stdout",
          "text": [
            "a    1\n",
            "b    7\n",
            "c    9\n",
            "d    3\n",
            "e    9\n",
            "f    2\n",
            "g    6\n",
            "h    1\n",
            "i    4\n",
            "j    8\n",
            "dtype: int64 \n",
            "\n",
            "chi so a:  1\n",
            "chi so c:  9\n",
            "chi so e:  9 \n",
            "\n",
            "a    1\n",
            "b    7\n",
            "c    9\n",
            "d    3\n",
            "e    9\n",
            "f    2\n",
            "g    6\n",
            "h    1\n",
            "i    4\n",
            "j    8\n",
            "dtype: int64\n",
            "chi so tu 3 den 6:  \n",
            "\n",
            "d    3\n",
            "e    9\n",
            "f    2\n",
            "g    6\n",
            "dtype: int64\n"
          ]
        }
      ]
    }
  ]
}