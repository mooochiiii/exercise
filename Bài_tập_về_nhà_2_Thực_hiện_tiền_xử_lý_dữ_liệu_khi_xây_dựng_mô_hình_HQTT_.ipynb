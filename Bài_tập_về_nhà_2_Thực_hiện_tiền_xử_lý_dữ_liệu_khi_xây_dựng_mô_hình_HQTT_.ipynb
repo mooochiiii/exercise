{
  "nbformat": 4,
  "nbformat_minor": 0,
  "metadata": {
    "colab": {
      "provenance": [],
      "mount_file_id": "1bjEYwHofU7gEhVbSvxVeJhPtOcChkj0x",
      "authorship_tag": "ABX9TyNweuSvYuP46ygS2orRV2SH",
      "include_colab_link": true
    },
    "kernelspec": {
      "name": "python3",
      "display_name": "Python 3"
    },
    "language_info": {
      "name": "python"
    }
  },
  "cells": [
    {
      "cell_type": "markdown",
      "metadata": {
        "id": "view-in-github",
        "colab_type": "text"
      },
      "source": [
        "<a href=\"https://colab.research.google.com/github/mooochiiii/exercise/blob/main/B%C3%A0i_t%E1%BA%ADp_v%E1%BB%81_nh%C3%A0_2_Th%E1%BB%B1c_hi%E1%BB%87n_ti%E1%BB%81n_x%E1%BB%AD_l%C3%BD_d%E1%BB%AF_li%E1%BB%87u_khi_x%C3%A2y_d%E1%BB%B1ng_m%C3%B4_h%C3%ACnh_HQTT_.ipynb\" target=\"_parent\"><img src=\"https://colab.research.google.com/assets/colab-badge.svg\" alt=\"Open In Colab\"/></a>"
      ]
    },
    {
      "cell_type": "code",
      "execution_count": 1,
      "metadata": {
        "id": "Rn4PM0NUfJGo"
      },
      "outputs": [],
      "source": [
        "import os\n",
        "import numpy as np\n",
        "from sklearn.preprocessing import MinMaxScaler"
      ]
    },
    {
      "cell_type": "code",
      "source": [
        "D = np.loadtxt(os.path.join(\"/content/drive/MyDrive\", \"ex1data2.txt\"),\n",
        "delimiter=\",\")\n",
        "print('Kích thước của tập dữ liệu: ', D.shape)\n",
        "print('Giá trị của tập dữ liệu: ')\n",
        "print(D)"
      ],
      "metadata": {
        "colab": {
          "base_uri": "https://localhost:8080/"
        },
        "id": "BAFx5nFlfOfz",
        "outputId": "eae1680e-8e5a-48d5-cae3-f09a0039559f"
      },
      "execution_count": 2,
      "outputs": [
        {
          "output_type": "stream",
          "name": "stdout",
          "text": [
            "Kích thước của tập dữ liệu:  (47, 3)\n",
            "Giá trị của tập dữ liệu: \n",
            "[[2.10400e+03 3.00000e+00 3.99900e+05]\n",
            " [1.60000e+03 3.00000e+00 3.29900e+05]\n",
            " [2.40000e+03 3.00000e+00 3.69000e+05]\n",
            " [1.41600e+03 2.00000e+00 2.32000e+05]\n",
            " [3.00000e+03 4.00000e+00 5.39900e+05]\n",
            " [1.98500e+03 4.00000e+00 2.99900e+05]\n",
            " [1.53400e+03 3.00000e+00 3.14900e+05]\n",
            " [1.42700e+03 3.00000e+00 1.98999e+05]\n",
            " [1.38000e+03 3.00000e+00 2.12000e+05]\n",
            " [1.49400e+03 3.00000e+00 2.42500e+05]\n",
            " [1.94000e+03 4.00000e+00 2.39999e+05]\n",
            " [2.00000e+03 3.00000e+00 3.47000e+05]\n",
            " [1.89000e+03 3.00000e+00 3.29999e+05]\n",
            " [4.47800e+03 5.00000e+00 6.99900e+05]\n",
            " [1.26800e+03 3.00000e+00 2.59900e+05]\n",
            " [2.30000e+03 4.00000e+00 4.49900e+05]\n",
            " [1.32000e+03 2.00000e+00 2.99900e+05]\n",
            " [1.23600e+03 3.00000e+00 1.99900e+05]\n",
            " [2.60900e+03 4.00000e+00 4.99998e+05]\n",
            " [3.03100e+03 4.00000e+00 5.99000e+05]\n",
            " [1.76700e+03 3.00000e+00 2.52900e+05]\n",
            " [1.88800e+03 2.00000e+00 2.55000e+05]\n",
            " [1.60400e+03 3.00000e+00 2.42900e+05]\n",
            " [1.96200e+03 4.00000e+00 2.59900e+05]\n",
            " [3.89000e+03 3.00000e+00 5.73900e+05]\n",
            " [1.10000e+03 3.00000e+00 2.49900e+05]\n",
            " [1.45800e+03 3.00000e+00 4.64500e+05]\n",
            " [2.52600e+03 3.00000e+00 4.69000e+05]\n",
            " [2.20000e+03 3.00000e+00 4.75000e+05]\n",
            " [2.63700e+03 3.00000e+00 2.99900e+05]\n",
            " [1.83900e+03 2.00000e+00 3.49900e+05]\n",
            " [1.00000e+03 1.00000e+00 1.69900e+05]\n",
            " [2.04000e+03 4.00000e+00 3.14900e+05]\n",
            " [3.13700e+03 3.00000e+00 5.79900e+05]\n",
            " [1.81100e+03 4.00000e+00 2.85900e+05]\n",
            " [1.43700e+03 3.00000e+00 2.49900e+05]\n",
            " [1.23900e+03 3.00000e+00 2.29900e+05]\n",
            " [2.13200e+03 4.00000e+00 3.45000e+05]\n",
            " [4.21500e+03 4.00000e+00 5.49000e+05]\n",
            " [2.16200e+03 4.00000e+00 2.87000e+05]\n",
            " [1.66400e+03 2.00000e+00 3.68500e+05]\n",
            " [2.23800e+03 3.00000e+00 3.29900e+05]\n",
            " [2.56700e+03 4.00000e+00 3.14000e+05]\n",
            " [1.20000e+03 3.00000e+00 2.99000e+05]\n",
            " [8.52000e+02 2.00000e+00 1.79900e+05]\n",
            " [1.85200e+03 4.00000e+00 2.99900e+05]\n",
            " [1.20300e+03 3.00000e+00 2.39500e+05]]\n"
          ]
        }
      ]
    },
    {
      "cell_type": "code",
      "source": [
        "print('Thực hiện MinMaxScaler')\n",
        "#Khởi tạo bộ điều chỉnh dữ liệu\n",
        "scaler = MinMaxScaler()"
      ],
      "metadata": {
        "colab": {
          "base_uri": "https://localhost:8080/"
        },
        "id": "SK8wmncMfRkM",
        "outputId": "dfc5b985-f0fe-4c8f-b496-bb1c5395c360"
      },
      "execution_count": 3,
      "outputs": [
        {
          "output_type": "stream",
          "name": "stdout",
          "text": [
            "Thực hiện MinMaxScaler\n"
          ]
        }
      ]
    },
    {
      "cell_type": "code",
      "source": [
        "#Phải thực hiện thao tác fit(data) trước khi điều chỉnh dữ liệu\n",
        "scaler.fit(D)"
      ],
      "metadata": {
        "colab": {
          "base_uri": "https://localhost:8080/"
        },
        "id": "T1qjOed5fWCr",
        "outputId": "ec7a0e1a-8a0d-408d-9e20-68114d5d8ffa"
      },
      "execution_count": 4,
      "outputs": [
        {
          "output_type": "execute_result",
          "data": {
            "text/plain": [
              "MinMaxScaler()"
            ]
          },
          "metadata": {},
          "execution_count": 4
        }
      ]
    },
    {
      "cell_type": "code",
      "source": [
        "D = scaler.transform(D)\n",
        "print('Kích thước của tập dữ liệu: ', D.shape)\n",
        "print('Giá trị của tập dữ liệu: ')\n",
        "print(D)\n",
        "print('Lấy ra tập dữ liệu X, y')\n",
        "X, y = D[:,:-1], D[:, -1]\n",
        "print('Kích thước tập X: ', X.shape)\n",
        "print('Kích thước vector y: ', y.shape)"
      ],
      "metadata": {
        "colab": {
          "base_uri": "https://localhost:8080/"
        },
        "id": "iM4jDCgmffHy",
        "outputId": "9926465f-04cc-4292-d8f4-94a7e830b59f"
      },
      "execution_count": 5,
      "outputs": [
        {
          "output_type": "stream",
          "name": "stdout",
          "text": [
            "Kích thước của tập dữ liệu:  (47, 3)\n",
            "Giá trị của tập dữ liệu: \n",
            "[[0.34528406 0.5        0.43396226]\n",
            " [0.20628792 0.5        0.30188679]\n",
            " [0.42691671 0.5        0.37566038]\n",
            " [0.1555433  0.25       0.11716981]\n",
            " [0.59238831 0.75       0.69811321]\n",
            " [0.31246553 0.75       0.24528302]\n",
            " [0.18808605 0.5        0.27358491]\n",
            " [0.15857694 0.5        0.05490377]\n",
            " [0.145615   0.5        0.07943396]\n",
            " [0.17705461 0.5        0.13698113]\n",
            " [0.30005516 0.75       0.13226226]\n",
            " [0.31660232 0.5        0.33415094]\n",
            " [0.28626586 0.5        0.30207358]\n",
            " [1.         1.         1.        ]\n",
            " [0.11472697 0.5        0.16981132]\n",
            " [0.39933811 0.75       0.52830189]\n",
            " [0.12906784 0.25       0.24528302]\n",
            " [0.10590182 0.5        0.05660377]\n",
            " [0.48455598 0.75       0.62282642]\n",
            " [0.60093767 0.75       0.80962264]\n",
            " [0.25234418 0.5        0.15660377]\n",
            " [0.28571429 0.25       0.16056604]\n",
            " [0.20739106 0.5        0.13773585]\n",
            " [0.30612245 0.75       0.16981132]\n",
            " [0.83783784 0.5        0.76226415]\n",
            " [0.06839493 0.5        0.1509434 ]\n",
            " [0.16712631 0.5        0.55584906]\n",
            " [0.46166575 0.5        0.56433962]\n",
            " [0.37175951 0.5        0.57566038]\n",
            " [0.49227799 0.5        0.24528302]\n",
            " [0.27220077 0.25       0.33962264]\n",
            " [0.04081633 0.         0.        ]\n",
            " [0.32763376 0.75       0.27358491]\n",
            " [0.63017099 0.5        0.77358491]\n",
            " [0.26447876 0.75       0.21886792]\n",
            " [0.1613348  0.5        0.1509434 ]\n",
            " [0.10672918 0.5        0.11320755]\n",
            " [0.35300607 0.75       0.33037736]\n",
            " [0.92746828 0.75       0.71528302]\n",
            " [0.36127965 0.75       0.2209434 ]\n",
            " [0.22393822 0.25       0.37471698]\n",
            " [0.38223938 0.5        0.30188679]\n",
            " [0.47297297 0.75       0.27188679]\n",
            " [0.09597352 0.5        0.24358491]\n",
            " [0.         0.25       0.01886792]\n",
            " [0.27578599 0.75       0.24528302]\n",
            " [0.09680088 0.5        0.13132075]]\n",
            "Lấy ra tập dữ liệu X, y\n",
            "Kích thước tập X:  (47, 2)\n",
            "Kích thước vector y:  (47,)\n"
          ]
        }
      ]
    }
  ]
}