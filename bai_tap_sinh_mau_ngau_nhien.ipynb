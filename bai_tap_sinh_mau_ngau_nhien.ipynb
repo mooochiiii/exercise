{
  "cells": [
    {
      "cell_type": "markdown",
      "metadata": {
        "id": "view-in-github",
        "colab_type": "text"
      },
      "source": [
        "<a href=\"https://colab.research.google.com/github/mooochiiii/exercise/blob/main/bai_tap_sinh_mau_ngau_nhien.ipynb\" target=\"_parent\"><img src=\"https://colab.research.google.com/assets/colab-badge.svg\" alt=\"Open In Colab\"/></a>"
      ]
    },
    {
      "cell_type": "markdown",
      "metadata": {
        "id": "-2a4Z8xpIM24"
      },
      "source": [
        "Sử dụng thư viện Numpy\n",
        "\n",
        "1. Sinh mẫu ngẫu nhiên bằng hàm arange trong khoảng [-15, 27] với khoảng cách là 0.7 và in kết quả ra màn hình"
      ]
    },
    {
      "cell_type": "code",
      "source": [
        "import numpy as np"
      ],
      "metadata": {
        "id": "gMxW_yMNIm1f"
      },
      "execution_count": 1,
      "outputs": []
    },
    {
      "cell_type": "code",
      "execution_count": 2,
      "metadata": {
        "id": "ysdjkIeCIM28",
        "outputId": "447f1c69-4958-42e3-e2f1-0d85855fc9e7",
        "colab": {
          "base_uri": "https://localhost:8080/"
        }
      },
      "outputs": [
        {
          "output_type": "stream",
          "name": "stdout",
          "text": [
            "[-15.  -14.3 -13.6 -12.9 -12.2 -11.5 -10.8 -10.1  -9.4  -8.7  -8.   -7.3\n",
            "  -6.6  -5.9  -5.2  -4.5  -3.8  -3.1  -2.4  -1.7  -1.   -0.3   0.4   1.1\n",
            "   1.8   2.5   3.2   3.9   4.6   5.3   6.    6.7   7.4   8.1   8.8   9.5\n",
            "  10.2  10.9  11.6  12.3  13.   13.7  14.4  15.1  15.8  16.5  17.2  17.9\n",
            "  18.6  19.3  20.   20.7  21.4  22.1  22.8  23.5  24.2  24.9  25.6  26.3\n",
            "  27. ]\n"
          ]
        }
      ],
      "source": [
        "samples = np.arange(-15,27,0.7)\n",
        "print(samples)"
      ]
    },
    {
      "cell_type": "markdown",
      "metadata": {
        "id": "KKU0K0npIM29"
      },
      "source": [
        "2. Sinh mẫu ngẫu nhiên theo phân phối chuẩn với mean = 2.7 std = 1.2 và size = 40\n",
        "In kết quả ra màn hình"
      ]
    },
    {
      "cell_type": "code",
      "execution_count": 3,
      "metadata": {
        "id": "0zy4KpCiIM29",
        "outputId": "590cb13f-4a23-4421-909f-3978edddbe22",
        "colab": {
          "base_uri": "https://localhost:8080/"
        }
      },
      "outputs": [
        {
          "output_type": "stream",
          "name": "stdout",
          "text": [
            "[ 3.46209986  4.44112473  3.16445806  4.17957713  1.86987762  4.87067837\n",
            "  2.31747955  2.4219716   1.98943437  3.09967339  0.57810563  3.33822627\n",
            "  2.52020472  1.21571907  2.9692786   4.74434765  1.96405468  3.9684283\n",
            "  3.04129708  1.26753051  1.69200033  3.4146489   2.09215838  2.41227915\n",
            " -0.43690675  3.20395036  1.76197678  2.91565996  2.23781596  2.73968052\n",
            "  2.93105729  3.49712809  4.68303881  3.01672312  3.43415435  3.91973045\n",
            "  2.33234918  2.81987223  3.204837    2.79791422]\n"
          ]
        }
      ],
      "source": [
        "samples_1 = np.random.normal(2.7,1.2,40)\n",
        "print(samples_1)"
      ]
    },
    {
      "cell_type": "markdown",
      "metadata": {
        "id": "TTrT61cLIM2-"
      },
      "source": [
        "3. Sinh mẫu ngẫu nhiên từ vector ['Viet Nam', 'Britain', 'France', 'Russia', 'Singapore'] \n",
        "\n",
        "với kích thước là 17 theo phân phối chuẩn"
      ]
    },
    {
      "cell_type": "code",
      "execution_count": 4,
      "metadata": {
        "id": "ZvIpBC68IM2-",
        "outputId": "bef2db00-f6eb-467b-b285-2458c02764c9",
        "colab": {
          "base_uri": "https://localhost:8080/"
        }
      },
      "outputs": [
        {
          "output_type": "execute_result",
          "data": {
            "text/plain": [
              "array(['Britain', 'France', 'Viet Nam', 'Britain', 'Singapore', 'Russia',\n",
              "       'France', 'France', 'Britain', 'Viet Nam', 'Britain', 'Russia',\n",
              "       'Singapore', 'Russia', 'France', 'Russia', 'Russia'], dtype='<U9')"
            ]
          },
          "metadata": {},
          "execution_count": 4
        }
      ],
      "source": [
        "np.random.choice(['Viet Nam', 'Britain', 'France', 'Russia', 'Singapore'],size = 17)"
      ]
    },
    {
      "cell_type": "markdown",
      "metadata": {
        "id": "T7BxefSOIM2_"
      },
      "source": [
        "4. Sinh mẫu ngẫu nhiên ở câu 3 nhưng không theo phân phối chuẩn mà theo 1 vector đặc tả giá trị xác suất do bạn chọn"
      ]
    },
    {
      "cell_type": "code",
      "execution_count": 5,
      "metadata": {
        "id": "pmTbmfEmIM2_",
        "outputId": "bb84ac2f-e574-494b-ea12-d1fb93c92211",
        "colab": {
          "base_uri": "https://localhost:8080/"
        }
      },
      "outputs": [
        {
          "output_type": "execute_result",
          "data": {
            "text/plain": [
              "array(['Singapore', 'Russia', 'France', 'France', 'Viet Nam', 'Viet Nam',\n",
              "       'France', 'Britain', 'France', 'Viet Nam', 'Viet Nam', 'Britain',\n",
              "       'Singapore', 'Britain', 'France', 'Viet Nam', 'Viet Nam'],\n",
              "      dtype='<U9')"
            ]
          },
          "metadata": {},
          "execution_count": 5
        }
      ],
      "source": [
        "np.random.choice(['Viet Nam', 'Britain', 'France', 'Russia', 'Singapore'],size = 17, p = [0.4,0.1,0.2,0.1,0.2])"
      ]
    },
    {
      "cell_type": "markdown",
      "metadata": {
        "id": "PUk_M7cWIM3A"
      },
      "source": [
        "Sử dụng thư việc scipy.stats để sinh mẫu ngẫu nhiên\n",
        "\n",
        "1. Sinh mẫu ngẫu nhiên theo phân phối chuẩn với mean = 12.7, std = 2.6 và size = 30. In kết quả ra màn hình"
      ]
    },
    {
      "cell_type": "code",
      "source": [
        "from scipy import stats"
      ],
      "metadata": {
        "id": "S0HUcSp_JVbX"
      },
      "execution_count": 6,
      "outputs": []
    },
    {
      "cell_type": "code",
      "execution_count": 7,
      "metadata": {
        "id": "Tm0onkbGIM3B",
        "outputId": "cc41e109-6c66-4b1e-c6d6-08cb10a01eee",
        "colab": {
          "base_uri": "https://localhost:8080/"
        }
      },
      "outputs": [
        {
          "output_type": "execute_result",
          "data": {
            "text/plain": [
              "array([14.82772595, 11.39287932, 12.10000799, 13.68286511, 10.59055494,\n",
              "       13.61833465, 13.67004833, 13.21284539, 13.95386985, 11.23092781,\n",
              "        8.97368935,  8.30595494, 14.90135328, 18.66557621,  8.54046084,\n",
              "        8.81161671,  9.39957451, 11.2172055 , 16.79969949, 14.92533672,\n",
              "       10.81679891,  6.95131128, 10.79427796, 13.9294899 , 17.49996287,\n",
              "       12.68797825, 15.07014511, 12.49487822, 13.34956511, 14.51474308])"
            ]
          },
          "metadata": {},
          "execution_count": 7
        }
      ],
      "source": [
        "stats.norm.rvs(loc = 12.7, scale = 2.6, size = 30)"
      ]
    },
    {
      "cell_type": "markdown",
      "metadata": {
        "id": "zoLRdnsQIM3B"
      },
      "source": [
        "2. Hãy sinh một mẫu ngẫu nhiên theo phân phối Poisson"
      ]
    },
    {
      "cell_type": "code",
      "execution_count": 8,
      "metadata": {
        "id": "mmbiwA0MIM3B",
        "outputId": "afb8ee07-7fe6-4dd3-dfe5-7586b1f5771c",
        "colab": {
          "base_uri": "https://localhost:8080/"
        }
      },
      "outputs": [
        {
          "output_type": "stream",
          "name": "stdout",
          "text": [
            "[108 104 100  90  89 110 107 117 101  96  98 103 104 110 116  84  86  77\n",
            " 101  90  96  94  95  97 110  97 111 103 101  74  83  95  94  95 114 114\n",
            " 103 103  94  94 102  99  95  94 102  81 109 102  96  94 105  78  85 114\n",
            "  91  85  99  88 104  92  91 117 102 102 102 102  88 106  98 100  84 102\n",
            "  90  94 107  97 111 109 103 103 108  99  99  89 112  99  86  84  82 102\n",
            " 105  96 110  97  97 111 100  91 128 113]\n"
          ]
        }
      ],
      "source": [
        "np.random.seed(10)\n",
        "a = stats.poisson.rvs(mu = 100, size = 100)\n",
        "print(a)"
      ]
    }
  ],
  "metadata": {
    "kernelspec": {
      "display_name": "Python 3",
      "language": "python",
      "name": "python3"
    },
    "language_info": {
      "codemirror_mode": {
        "name": "ipython",
        "version": 3
      },
      "file_extension": ".py",
      "mimetype": "text/x-python",
      "name": "python",
      "nbconvert_exporter": "python",
      "pygments_lexer": "ipython3",
      "version": "3.7.3"
    },
    "colab": {
      "name": "bai-tap-sinh-mau-ngau-nhien.ipynb",
      "provenance": [],
      "include_colab_link": true
    }
  },
  "nbformat": 4,
  "nbformat_minor": 0
}