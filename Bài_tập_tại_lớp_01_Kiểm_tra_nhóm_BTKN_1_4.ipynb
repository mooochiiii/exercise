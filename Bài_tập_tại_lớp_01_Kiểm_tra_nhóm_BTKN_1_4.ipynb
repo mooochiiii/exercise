{
  "nbformat": 4,
  "nbformat_minor": 0,
  "metadata": {
    "colab": {
      "provenance": [],
      "mount_file_id": "1kAJfJlGGhL5rYrXf6dJKJbHCuNgCabUx",
      "authorship_tag": "ABX9TyMV5igDlA8U3lQIXhnVH8X5",
      "include_colab_link": true
    },
    "kernelspec": {
      "name": "python3",
      "display_name": "Python 3"
    },
    "language_info": {
      "name": "python"
    }
  },
  "cells": [
    {
      "cell_type": "markdown",
      "metadata": {
        "id": "view-in-github",
        "colab_type": "text"
      },
      "source": [
        "<a href=\"https://colab.research.google.com/github/mooochiiii/exercise/blob/main/B%C3%A0i_t%E1%BA%ADp_t%E1%BA%A1i_l%E1%BB%9Bp_01_Ki%E1%BB%83m_tra_nh%C3%B3m_BTKN_1_4.ipynb\" target=\"_parent\"><img src=\"https://colab.research.google.com/assets/colab-badge.svg\" alt=\"Open In Colab\"/></a>"
      ]
    },
    {
      "cell_type": "markdown",
      "source": [
        "**k-foldCV GD**"
      ],
      "metadata": {
        "id": "osRCchJPUvYJ"
      }
    },
    {
      "cell_type": "code",
      "source": [
        "import os\n",
        "import numpy as np\n",
        "from sklearn.preprocessing import StandardScaler\n",
        "from sklearn.model_selection import train_test_split\n",
        "from sklearn.model_selection import KFold\n",
        "from sklearn.metrics import mean_squared_error"
      ],
      "metadata": {
        "id": "9YPu6c0D8bdB"
      },
      "execution_count": 1,
      "outputs": []
    },
    {
      "cell_type": "code",
      "execution_count": null,
      "metadata": {
        "id": "JkWnexg6JxPa"
      },
      "outputs": [],
      "source": [
        "D = np.loadtxt(os.path.join(\"/content/drive/MyDrive\", filename), delimiter=',')\n"
      ]
    },
    {
      "cell_type": "code",
      "source": [
        "def readData(filename, folder=''):\n",
        "    data = np.loadtxt(os.path.join(folder, filename), delimiter=',')\n",
        "    X = data[:, :-1]\n",
        "    y = data[:, -1].reshape(-1, 1)\n",
        "    one = np.ones((X.shape[0], 1))\n",
        "    X = np.concatenate((one, X), axis=1)\n",
        "    return X, y"
      ],
      "metadata": {
        "id": "AqFc1JVhU8FM"
      },
      "execution_count": null,
      "outputs": []
    },
    {
      "cell_type": "code",
      "source": [
        "def predict(X, w):\n",
        "    return np.dot(X, w)"
      ],
      "metadata": {
        "id": "I0NbhV9sU-26"
      },
      "execution_count": null,
      "outputs": []
    },
    {
      "cell_type": "code",
      "source": [
        "def calculateLoss(X, y, w):\n",
        "    h = np.dot(X, w)\n",
        "    m = X.shape[0]\n",
        "    J = (1 / (2 * m)) * np.sum(np.square(h - y))\n",
        "    return J"
      ],
      "metadata": {
        "id": "tvJ7HAtsU_fR"
      },
      "execution_count": null,
      "outputs": []
    },
    {
      "cell_type": "code",
      "source": [
        "def gradient(X, y, w):\n",
        "    m = X.shape[0]\n",
        "    h = np.dot(X, w)\n",
        "    return (1 / m) * np.dot(X.T, h - y)"
      ],
      "metadata": {
        "id": "bbZEmjTRVCxt"
      },
      "execution_count": null,
      "outputs": []
    },
    {
      "cell_type": "code",
      "source": [
        "def gradientDescent(X, y, w_init, alpha, n=1500):\n",
        "    w_optimal = w_init.reshape(-1, 1)\n",
        "    loss_values = []\n",
        "    for i in range(n):\n",
        "        w_optimal = w_optimal - alpha * gradient(X, y, w_optimal)\n",
        "        j = calculateLoss(X, y, w_optimal)\n",
        "        loss_values.append(j)\n",
        "    return w_optimal, loss_values"
      ],
      "metadata": {
        "id": "Wx3pc4oKVF1V"
      },
      "execution_count": null,
      "outputs": []
    },
    {
      "cell_type": "code",
      "source": [
        "def featureScalingSplit(X, y):\n",
        "    X_train, X_test, y_train, y_test = train_test_split(X, y, test_size=0.3, random_state=15)\n",
        "    sc_X = StandardScaler()\n",
        "    sc_y = StandardScaler()\n",
        "    X_train[:, 1:] = sc_X.fit_transform(X_train[:, 1:])\n",
        "    X_test[:, 1:] = sc_X.transform(X_test[:, 1:])\n",
        "    y_train = sc_y.fit_transform(y_train)\n",
        "    y_test = sc_y.transform(y_test)\n",
        "    return X_train, X_test, y_train, y_test"
      ],
      "metadata": {
        "id": "ln366WoZVK3y"
      },
      "execution_count": null,
      "outputs": []
    },
    {
      "cell_type": "code",
      "source": [
        "def kFoldCrossValiation(X_train, y_train):\n",
        "    kf = KFold(n_splits=10)\n",
        "    w_init = np.zeros((X_train.shape[1], 1))\n",
        "    step = 0\n",
        "    valitdate_models = {}\n",
        "    for train2_index, val_index in kf.split(X=X_train, y=y_train):\n",
        "        step = step + 1\n",
        "        print('\\tBước lặp huấn luyện thứ: ', step)\n",
        "        X_train2, X_val = X_train[train2_index], X_train[val_index]\n",
        "        y_train2, y_val = y_train[train2_index], y_train[val_index]\n",
        "        w_opt, J_history = gradientDescent(X=X_train2, y=y_train2,w_init=w_init, alpha=0.01, n=1500)\n",
        "        print('\\t\\tĐánh giá mô hình trên tập dữ liệu validation')\n",
        "        y_pred = predict(X_val, w_opt)\n",
        "        print('\\t\\t\\tMSE: ', mean_squared_error(y_val, y_pred))\n",
        "        valitdate_models[mean_squared_error(y_val, y_pred)] = w_opt\n",
        "    min_error = min(list(valitdate_models.keys()))\n",
        "    return valitdate_models[min_error]"
      ],
      "metadata": {
        "id": "8dm_PFp0VOHF"
      },
      "execution_count": null,
      "outputs": []
    },
    {
      "cell_type": "code",
      "source": [
        "#Kiểm định mô hình với tập dữ liệu test\n",
        "def validateTestSet(X_test, y_test, w_opt):\n",
        "    print(\"\\nĐánh giá hiệu năng mô hình trên tập dữ liệu test:\")\n",
        "    y_pred = predict(X_test, w_opt)\n",
        "    print(\"\\tMSE: \", mean_squared_error(y_test, y_pred))\n",
        "    return mean_squared_error(y_test, y_pred)"
      ],
      "metadata": {
        "id": "XsaHRjSOVSsX"
      },
      "execution_count": null,
      "outputs": []
    },
    {
      "cell_type": "code",
      "source": [
        "def main():\n",
        "    X, y = readData('ex1data2.txt')\n",
        "    X_train, X_test, y_train, y_test = featureScalingSplit(X, y)\n",
        "    w_optimal = kFoldCrossValiation(X_train, y_train)\n",
        "    validateTestSet(X_test, y_test, w_optimal)\n",
        "\n",
        "\n",
        "if __name__ == \"__main__\":\n",
        "    main()"
      ],
      "metadata": {
        "id": "wzs4Xb14VTXV"
      },
      "execution_count": null,
      "outputs": []
    },
    {
      "cell_type": "markdown",
      "source": [
        "**k-foldCV LR**"
      ],
      "metadata": {
        "id": "-zcin88_VeT7"
      }
    },
    {
      "cell_type": "code",
      "source": [
        "import numpy as np\n",
        "import os\n",
        "from sklearn.model_selection import train_test_split\n",
        "from sklearn.model_selection import KFold\n",
        "from sklearn.metrics import mean_squared_error\n",
        "from sklearn.preprocessing import MinMaxScaler\n",
        "from sklearn.linear_model import LinearRegression\n",
        "from sklearn.preprocessing import "
      ],
      "metadata": {
        "id": "jdZOhGoxVhFY"
      },
      "execution_count": null,
      "outputs": []
    },
    {
      "cell_type": "code",
      "source": [
        "def readData(filename, folder=''):\n",
        "    data = np.loadtxt(os.path.join(folder, filename), delimiter=',')\n",
        "    X = data[:, :-1]\n",
        "    y = data[:, -1].reshape(-1, 1)\n",
        "    one = np.ones((X.shape[0], 1))\n",
        "    X = np.concatenate((one, X), axis=1)\n",
        "    return X, y"
      ],
      "metadata": {
        "id": "3hmt4b4mVjPa"
      },
      "execution_count": null,
      "outputs": []
    },
    {
      "cell_type": "code",
      "source": [
        "def featureScalingSplit(X, y):\n",
        "    X_train, X_test, y_train, y_test = train_test_split(X, y, test_size=0.3, random_state=15)\n",
        "    sc_X = StandardScaler()\n",
        "    sc_y = StandardScaler()\n",
        "    X_train[:, 1:] = sc_X.fit_transform(X_train[:, 1:])\n",
        "    X_test[:, 1:] = sc_X.transform(X_test[:, 1:])\n",
        "    y_train = sc_y.fit_transform(y_train)\n",
        "    y_test = sc_y.transform(y_test)\n",
        "    return X_train, X_test, y_train, "
      ],
      "metadata": {
        "id": "PlLn61_eVl_N"
      },
      "execution_count": null,
      "outputs": []
    },
    {
      "cell_type": "code",
      "source": [
        "def kFoldCrossValiation(X_train, y_train):\n",
        "    kf = KFold(n_splits=10)\n",
        "    step = 0\n",
        "    valitdate_models = {}\n",
        "    for train2_index, val_index in kf.split(X=X_train, y=y_train):\n",
        "        step = step + 1\n",
        "        regressor = LinearRegression()\n",
        "        print('\\tBước lặp huấn luyện thứ: ', step)\n",
        "        X_train2, X_val = X_train[train2_index], X_train[val_index]\n",
        "        y_train2, y_val = y_train[train2_index], y_train[val_index]\n",
        "        regressor.fit(X_train2, y_train2)\n",
        "        print('\\t\\tĐánh giá mô hình trên tập dữ liệu validation')\n",
        "        y_pred = regressor.predict(X_val)\n",
        "        print('\\t\\t\\tMSE: ', mean_squared_error(y_val, y_pred))\n",
        "        valitdate_models[mean_squared_error(y_val, y_pred)] = regressor\n",
        "    min_error = min(list(valitdate_models.keys()))\n",
        "    return valitdate_models[min_error]"
      ],
      "metadata": {
        "id": "ZN2IMFZJVpOB"
      },
      "execution_count": null,
      "outputs": []
    },
    {
      "cell_type": "code",
      "source": [
        "def validateTestSet(X_test, y_test, regressor):\n",
        "    print(\"\\nĐánh giá hiệu năng mô hình trên tập dữ liệu test:\")\n",
        "    y_hat= regressor.predict(X_test)\n",
        "    print(\"\\tMSE: \", mean_squared_error(y_test, y_hat))\n",
        "    return mean_squared_error(y_test, y_hat)"
      ],
      "metadata": {
        "id": "kwgse_WVVtAx"
      },
      "execution_count": null,
      "outputs": []
    },
    {
      "cell_type": "code",
      "source": [
        "def main():\n",
        "    X, y = readData('ex1data2.txt')\n",
        "    X_train, X_test, y_train, y_test = featureScalingSplit(X, y)\n",
        "    regressor = kFoldCrossValiation(X_train, y_train)\n",
        "    validateTestSet(X_test, y_test, regressor)\n",
        "\n",
        "\n",
        "if __name__ == \"__main__\":\n",
        "    main()"
      ],
      "metadata": {
        "id": "Fg59ir4QVvRk"
      },
      "execution_count": null,
      "outputs": []
    }
  ]
}