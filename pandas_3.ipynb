{
  "nbformat": 4,
  "nbformat_minor": 0,
  "metadata": {
    "colab": {
      "name": "pandas 3.ipynb",
      "provenance": [],
      "authorship_tag": "ABX9TyPmVCdCCs5TVY7Cty0ROHPq",
      "include_colab_link": true
    },
    "kernelspec": {
      "name": "python3",
      "display_name": "Python 3"
    },
    "language_info": {
      "name": "python"
    }
  },
  "cells": [
    {
      "cell_type": "markdown",
      "metadata": {
        "id": "view-in-github",
        "colab_type": "text"
      },
      "source": [
        "<a href=\"https://colab.research.google.com/github/mooochiiii/exercise/blob/main/pandas_3.ipynb\" target=\"_parent\"><img src=\"https://colab.research.google.com/assets/colab-badge.svg\" alt=\"Open In Colab\"/></a>"
      ]
    },
    {
      "cell_type": "code",
      "source": [
        "from google.colab import drive\n",
        "drive.mount('/content/drive')"
      ],
      "metadata": {
        "colab": {
          "base_uri": "https://localhost:8080/"
        },
        "id": "CCZ8wTleynsS",
        "outputId": "ac9ca4f0-236f-4eea-a678-2c9c2cec7f0a"
      },
      "execution_count": null,
      "outputs": [
        {
          "output_type": "stream",
          "name": "stdout",
          "text": [
            "Mounted at /content/drive\n"
          ]
        }
      ]
    },
    {
      "cell_type": "markdown",
      "source": [
        "Đọc dữ liệu từ file .csv vào 1 dataframe bằng hàm pandas.read_csv"
      ],
      "metadata": {
        "id": "2SYMPvNCTVc-"
      }
    },
    {
      "cell_type": "code",
      "source": [
        "import pandas as pd\n",
        "ds = pd.read_csv('/content/drive/MyDrive/notebook/1000 Sales Records.csv')\n",
        "# Tập dữ liệu hiện được lưu trữ trong Khung dữ liệu Pandas"
      ],
      "metadata": {
        "id": "bNqBIa3-2t-g"
      },
      "execution_count": null,
      "outputs": []
    },
    {
      "cell_type": "markdown",
      "source": [
        "Xuất 10 dòng đầu của dataframe vừa đọc ra màn hình bằng hàm DataFrame.head(n)\n",
        "với n là số dòng cần xuất ra"
      ],
      "metadata": {
        "id": "pV_SGDEiUIBE"
      }
    },
    {
      "cell_type": "code",
      "source": [
        "ds.head(10)"
      ],
      "metadata": {
        "colab": {
          "base_uri": "https://localhost:8080/",
          "height": 494
        },
        "id": "R2g8M71zTP7o",
        "outputId": "d03b76b9-1699-4d92-ead6-82b8363eba27"
      },
      "execution_count": null,
      "outputs": [
        {
          "output_type": "execute_result",
          "data": {
            "text/plain": [
              "                              Region     Country   Item Type Sales Channel  \\\n",
              "0       Middle East and North Africa       Libya   Cosmetics       Offline   \n",
              "1                      North America      Canada  Vegetables        Online   \n",
              "2       Middle East and North Africa       Libya   Baby Food       Offline   \n",
              "3                               Asia       Japan      Cereal       Offline   \n",
              "4                 Sub-Saharan Africa        Chad      Fruits       Offline   \n",
              "5                             Europe     Armenia      Cereal        Online   \n",
              "6                 Sub-Saharan Africa     Eritrea      Cereal        Online   \n",
              "7                             Europe  Montenegro     Clothes       Offline   \n",
              "8  Central America and the Caribbean     Jamaica  Vegetables        Online   \n",
              "9              Australia and Oceania        Fiji  Vegetables       Offline   \n",
              "\n",
              "  Order Priority  Order Date   Order ID   Ship Date  Units Sold  Unit Price  \\\n",
              "0              M  10/18/2014  686800706  10/31/2014        8446      437.20   \n",
              "1              M   11/7/2011  185941302   12/8/2011        3018      154.06   \n",
              "2              C  10/31/2016  246222341   12/9/2016        1517      255.28   \n",
              "3              C   4/10/2010  161442649   5/12/2010        3322      205.70   \n",
              "4              H   8/16/2011  645713555   8/31/2011        9845        9.33   \n",
              "5              H  11/24/2014  683458888  12/28/2014        9528      205.70   \n",
              "6              H    3/4/2015  679414975   4/17/2015        2844      205.70   \n",
              "7              M   5/17/2012  208630645   6/28/2012        7299      109.28   \n",
              "8              H   1/29/2015  266467225    3/7/2015        2428      154.06   \n",
              "9              H  12/24/2013  118598544   1/19/2014        4800      154.06   \n",
              "\n",
              "   Unit Cost  Total Revenue  Total Cost  Total Profit  \n",
              "0     263.33     3692591.20  2224085.18    1468506.02  \n",
              "1      90.93      464953.08   274426.74     190526.34  \n",
              "2     159.42      387259.76   241840.14     145419.62  \n",
              "3     117.11      683335.40   389039.42     294295.98  \n",
              "4       6.92       91853.85    68127.40      23726.45  \n",
              "5     117.11     1959909.60  1115824.08     844085.52  \n",
              "6     117.11      585010.80   333060.84     251949.96  \n",
              "7      35.84      797634.72   261596.16     536038.56  \n",
              "8      90.93      374057.68   220778.04     153279.64  \n",
              "9      90.93      739488.00   436464.00     303024.00  "
            ],
            "text/html": [
              "\n",
              "  <div id=\"df-d6892373-430b-49d0-b392-cc94bdfa91f4\">\n",
              "    <div class=\"colab-df-container\">\n",
              "      <div>\n",
              "<style scoped>\n",
              "    .dataframe tbody tr th:only-of-type {\n",
              "        vertical-align: middle;\n",
              "    }\n",
              "\n",
              "    .dataframe tbody tr th {\n",
              "        vertical-align: top;\n",
              "    }\n",
              "\n",
              "    .dataframe thead th {\n",
              "        text-align: right;\n",
              "    }\n",
              "</style>\n",
              "<table border=\"1\" class=\"dataframe\">\n",
              "  <thead>\n",
              "    <tr style=\"text-align: right;\">\n",
              "      <th></th>\n",
              "      <th>Region</th>\n",
              "      <th>Country</th>\n",
              "      <th>Item Type</th>\n",
              "      <th>Sales Channel</th>\n",
              "      <th>Order Priority</th>\n",
              "      <th>Order Date</th>\n",
              "      <th>Order ID</th>\n",
              "      <th>Ship Date</th>\n",
              "      <th>Units Sold</th>\n",
              "      <th>Unit Price</th>\n",
              "      <th>Unit Cost</th>\n",
              "      <th>Total Revenue</th>\n",
              "      <th>Total Cost</th>\n",
              "      <th>Total Profit</th>\n",
              "    </tr>\n",
              "  </thead>\n",
              "  <tbody>\n",
              "    <tr>\n",
              "      <th>0</th>\n",
              "      <td>Middle East and North Africa</td>\n",
              "      <td>Libya</td>\n",
              "      <td>Cosmetics</td>\n",
              "      <td>Offline</td>\n",
              "      <td>M</td>\n",
              "      <td>10/18/2014</td>\n",
              "      <td>686800706</td>\n",
              "      <td>10/31/2014</td>\n",
              "      <td>8446</td>\n",
              "      <td>437.20</td>\n",
              "      <td>263.33</td>\n",
              "      <td>3692591.20</td>\n",
              "      <td>2224085.18</td>\n",
              "      <td>1468506.02</td>\n",
              "    </tr>\n",
              "    <tr>\n",
              "      <th>1</th>\n",
              "      <td>North America</td>\n",
              "      <td>Canada</td>\n",
              "      <td>Vegetables</td>\n",
              "      <td>Online</td>\n",
              "      <td>M</td>\n",
              "      <td>11/7/2011</td>\n",
              "      <td>185941302</td>\n",
              "      <td>12/8/2011</td>\n",
              "      <td>3018</td>\n",
              "      <td>154.06</td>\n",
              "      <td>90.93</td>\n",
              "      <td>464953.08</td>\n",
              "      <td>274426.74</td>\n",
              "      <td>190526.34</td>\n",
              "    </tr>\n",
              "    <tr>\n",
              "      <th>2</th>\n",
              "      <td>Middle East and North Africa</td>\n",
              "      <td>Libya</td>\n",
              "      <td>Baby Food</td>\n",
              "      <td>Offline</td>\n",
              "      <td>C</td>\n",
              "      <td>10/31/2016</td>\n",
              "      <td>246222341</td>\n",
              "      <td>12/9/2016</td>\n",
              "      <td>1517</td>\n",
              "      <td>255.28</td>\n",
              "      <td>159.42</td>\n",
              "      <td>387259.76</td>\n",
              "      <td>241840.14</td>\n",
              "      <td>145419.62</td>\n",
              "    </tr>\n",
              "    <tr>\n",
              "      <th>3</th>\n",
              "      <td>Asia</td>\n",
              "      <td>Japan</td>\n",
              "      <td>Cereal</td>\n",
              "      <td>Offline</td>\n",
              "      <td>C</td>\n",
              "      <td>4/10/2010</td>\n",
              "      <td>161442649</td>\n",
              "      <td>5/12/2010</td>\n",
              "      <td>3322</td>\n",
              "      <td>205.70</td>\n",
              "      <td>117.11</td>\n",
              "      <td>683335.40</td>\n",
              "      <td>389039.42</td>\n",
              "      <td>294295.98</td>\n",
              "    </tr>\n",
              "    <tr>\n",
              "      <th>4</th>\n",
              "      <td>Sub-Saharan Africa</td>\n",
              "      <td>Chad</td>\n",
              "      <td>Fruits</td>\n",
              "      <td>Offline</td>\n",
              "      <td>H</td>\n",
              "      <td>8/16/2011</td>\n",
              "      <td>645713555</td>\n",
              "      <td>8/31/2011</td>\n",
              "      <td>9845</td>\n",
              "      <td>9.33</td>\n",
              "      <td>6.92</td>\n",
              "      <td>91853.85</td>\n",
              "      <td>68127.40</td>\n",
              "      <td>23726.45</td>\n",
              "    </tr>\n",
              "    <tr>\n",
              "      <th>5</th>\n",
              "      <td>Europe</td>\n",
              "      <td>Armenia</td>\n",
              "      <td>Cereal</td>\n",
              "      <td>Online</td>\n",
              "      <td>H</td>\n",
              "      <td>11/24/2014</td>\n",
              "      <td>683458888</td>\n",
              "      <td>12/28/2014</td>\n",
              "      <td>9528</td>\n",
              "      <td>205.70</td>\n",
              "      <td>117.11</td>\n",
              "      <td>1959909.60</td>\n",
              "      <td>1115824.08</td>\n",
              "      <td>844085.52</td>\n",
              "    </tr>\n",
              "    <tr>\n",
              "      <th>6</th>\n",
              "      <td>Sub-Saharan Africa</td>\n",
              "      <td>Eritrea</td>\n",
              "      <td>Cereal</td>\n",
              "      <td>Online</td>\n",
              "      <td>H</td>\n",
              "      <td>3/4/2015</td>\n",
              "      <td>679414975</td>\n",
              "      <td>4/17/2015</td>\n",
              "      <td>2844</td>\n",
              "      <td>205.70</td>\n",
              "      <td>117.11</td>\n",
              "      <td>585010.80</td>\n",
              "      <td>333060.84</td>\n",
              "      <td>251949.96</td>\n",
              "    </tr>\n",
              "    <tr>\n",
              "      <th>7</th>\n",
              "      <td>Europe</td>\n",
              "      <td>Montenegro</td>\n",
              "      <td>Clothes</td>\n",
              "      <td>Offline</td>\n",
              "      <td>M</td>\n",
              "      <td>5/17/2012</td>\n",
              "      <td>208630645</td>\n",
              "      <td>6/28/2012</td>\n",
              "      <td>7299</td>\n",
              "      <td>109.28</td>\n",
              "      <td>35.84</td>\n",
              "      <td>797634.72</td>\n",
              "      <td>261596.16</td>\n",
              "      <td>536038.56</td>\n",
              "    </tr>\n",
              "    <tr>\n",
              "      <th>8</th>\n",
              "      <td>Central America and the Caribbean</td>\n",
              "      <td>Jamaica</td>\n",
              "      <td>Vegetables</td>\n",
              "      <td>Online</td>\n",
              "      <td>H</td>\n",
              "      <td>1/29/2015</td>\n",
              "      <td>266467225</td>\n",
              "      <td>3/7/2015</td>\n",
              "      <td>2428</td>\n",
              "      <td>154.06</td>\n",
              "      <td>90.93</td>\n",
              "      <td>374057.68</td>\n",
              "      <td>220778.04</td>\n",
              "      <td>153279.64</td>\n",
              "    </tr>\n",
              "    <tr>\n",
              "      <th>9</th>\n",
              "      <td>Australia and Oceania</td>\n",
              "      <td>Fiji</td>\n",
              "      <td>Vegetables</td>\n",
              "      <td>Offline</td>\n",
              "      <td>H</td>\n",
              "      <td>12/24/2013</td>\n",
              "      <td>118598544</td>\n",
              "      <td>1/19/2014</td>\n",
              "      <td>4800</td>\n",
              "      <td>154.06</td>\n",
              "      <td>90.93</td>\n",
              "      <td>739488.00</td>\n",
              "      <td>436464.00</td>\n",
              "      <td>303024.00</td>\n",
              "    </tr>\n",
              "  </tbody>\n",
              "</table>\n",
              "</div>\n",
              "      <button class=\"colab-df-convert\" onclick=\"convertToInteractive('df-d6892373-430b-49d0-b392-cc94bdfa91f4')\"\n",
              "              title=\"Convert this dataframe to an interactive table.\"\n",
              "              style=\"display:none;\">\n",
              "        \n",
              "  <svg xmlns=\"http://www.w3.org/2000/svg\" height=\"24px\"viewBox=\"0 0 24 24\"\n",
              "       width=\"24px\">\n",
              "    <path d=\"M0 0h24v24H0V0z\" fill=\"none\"/>\n",
              "    <path d=\"M18.56 5.44l.94 2.06.94-2.06 2.06-.94-2.06-.94-.94-2.06-.94 2.06-2.06.94zm-11 1L8.5 8.5l.94-2.06 2.06-.94-2.06-.94L8.5 2.5l-.94 2.06-2.06.94zm10 10l.94 2.06.94-2.06 2.06-.94-2.06-.94-.94-2.06-.94 2.06-2.06.94z\"/><path d=\"M17.41 7.96l-1.37-1.37c-.4-.4-.92-.59-1.43-.59-.52 0-1.04.2-1.43.59L10.3 9.45l-7.72 7.72c-.78.78-.78 2.05 0 2.83L4 21.41c.39.39.9.59 1.41.59.51 0 1.02-.2 1.41-.59l7.78-7.78 2.81-2.81c.8-.78.8-2.07 0-2.86zM5.41 20L4 18.59l7.72-7.72 1.47 1.35L5.41 20z\"/>\n",
              "  </svg>\n",
              "      </button>\n",
              "      \n",
              "  <style>\n",
              "    .colab-df-container {\n",
              "      display:flex;\n",
              "      flex-wrap:wrap;\n",
              "      gap: 12px;\n",
              "    }\n",
              "\n",
              "    .colab-df-convert {\n",
              "      background-color: #E8F0FE;\n",
              "      border: none;\n",
              "      border-radius: 50%;\n",
              "      cursor: pointer;\n",
              "      display: none;\n",
              "      fill: #1967D2;\n",
              "      height: 32px;\n",
              "      padding: 0 0 0 0;\n",
              "      width: 32px;\n",
              "    }\n",
              "\n",
              "    .colab-df-convert:hover {\n",
              "      background-color: #E2EBFA;\n",
              "      box-shadow: 0px 1px 2px rgba(60, 64, 67, 0.3), 0px 1px 3px 1px rgba(60, 64, 67, 0.15);\n",
              "      fill: #174EA6;\n",
              "    }\n",
              "\n",
              "    [theme=dark] .colab-df-convert {\n",
              "      background-color: #3B4455;\n",
              "      fill: #D2E3FC;\n",
              "    }\n",
              "\n",
              "    [theme=dark] .colab-df-convert:hover {\n",
              "      background-color: #434B5C;\n",
              "      box-shadow: 0px 1px 3px 1px rgba(0, 0, 0, 0.15);\n",
              "      filter: drop-shadow(0px 1px 2px rgba(0, 0, 0, 0.3));\n",
              "      fill: #FFFFFF;\n",
              "    }\n",
              "  </style>\n",
              "\n",
              "      <script>\n",
              "        const buttonEl =\n",
              "          document.querySelector('#df-d6892373-430b-49d0-b392-cc94bdfa91f4 button.colab-df-convert');\n",
              "        buttonEl.style.display =\n",
              "          google.colab.kernel.accessAllowed ? 'block' : 'none';\n",
              "\n",
              "        async function convertToInteractive(key) {\n",
              "          const element = document.querySelector('#df-d6892373-430b-49d0-b392-cc94bdfa91f4');\n",
              "          const dataTable =\n",
              "            await google.colab.kernel.invokeFunction('convertToInteractive',\n",
              "                                                     [key], {});\n",
              "          if (!dataTable) return;\n",
              "\n",
              "          const docLinkHtml = 'Like what you see? Visit the ' +\n",
              "            '<a target=\"_blank\" href=https://colab.research.google.com/notebooks/data_table.ipynb>data table notebook</a>'\n",
              "            + ' to learn more about interactive tables.';\n",
              "          element.innerHTML = '';\n",
              "          dataTable['output_type'] = 'display_data';\n",
              "          await google.colab.output.renderOutput(dataTable, element);\n",
              "          const docLink = document.createElement('div');\n",
              "          docLink.innerHTML = docLinkHtml;\n",
              "          element.appendChild(docLink);\n",
              "        }\n",
              "      </script>\n",
              "    </div>\n",
              "  </div>\n",
              "  "
            ]
          },
          "metadata": {},
          "execution_count": 3
        }
      ]
    },
    {
      "cell_type": "markdown",
      "source": [
        "Hiển thị kích thước của DataFrame bang ham DataFrame.shape"
      ],
      "metadata": {
        "id": "jMR0ZTobUhIm"
      }
    },
    {
      "cell_type": "code",
      "source": [
        "print(\"Kich thuoc cua DataFrame trên la: \")\n",
        "ds.shape"
      ],
      "metadata": {
        "colab": {
          "base_uri": "https://localhost:8080/"
        },
        "id": "Xuai1qXAUiZD",
        "outputId": "b250a69a-bdb8-4b57-b2b1-39bebba67ffa"
      },
      "execution_count": null,
      "outputs": [
        {
          "output_type": "stream",
          "name": "stdout",
          "text": [
            "Kich thuoc cua DataFrame trên la: \n"
          ]
        },
        {
          "output_type": "execute_result",
          "data": {
            "text/plain": [
              "(1000, 14)"
            ]
          },
          "metadata": {},
          "execution_count": 4
        }
      ]
    },
    {
      "cell_type": "markdown",
      "source": [
        "hiển thị danh sách các cột của dataframe bằng hàm dataframe.và chuyển cấu trúc Index của các\n",
        "columns về dạng list bằng hàm ép kiểu list())."
      ],
      "metadata": {
        "id": "3Txkqug8Uqu8"
      }
    },
    {
      "cell_type": "code",
      "source": [
        "print(\"Danh sach cac cot trong DataFrame la: \")\n",
        "list(ds.columns)"
      ],
      "metadata": {
        "colab": {
          "base_uri": "https://localhost:8080/"
        },
        "id": "pF99TJdRUqJC",
        "outputId": "2febda95-af37-410c-b9b5-ec31f7ce31fd"
      },
      "execution_count": null,
      "outputs": [
        {
          "output_type": "stream",
          "name": "stdout",
          "text": [
            "Danh sach cac cot trong DataFrame la: \n"
          ]
        },
        {
          "output_type": "execute_result",
          "data": {
            "text/plain": [
              "['Region',\n",
              " 'Country',\n",
              " 'Item Type',\n",
              " 'Sales Channel',\n",
              " 'Order Priority',\n",
              " 'Order Date',\n",
              " 'Order ID',\n",
              " 'Ship Date',\n",
              " 'Units Sold',\n",
              " 'Unit Price',\n",
              " 'Unit Cost',\n",
              " 'Total Revenue',\n",
              " 'Total Cost',\n",
              " 'Total Profit']"
            ]
          },
          "metadata": {},
          "execution_count": 5
        }
      ]
    },
    {
      "cell_type": "markdown",
      "source": [
        "Trích rút cột dữ liệu (định tính) – Country của tập dữ liệu, và in ra màn hình 5 hàng\n",
        "đầu tien của cột này;"
      ],
      "metadata": {
        "id": "F0hmLwfuYasx"
      }
    },
    {
      "cell_type": "code",
      "source": [
        "x = ds[\"Country\"]\n",
        "x.head()"
      ],
      "metadata": {
        "colab": {
          "base_uri": "https://localhost:8080/"
        },
        "id": "Z5tP_p3eVRsm",
        "outputId": "f591f17e-8227-444f-8bb9-46d3ba7ffac0"
      },
      "execution_count": null,
      "outputs": [
        {
          "output_type": "execute_result",
          "data": {
            "text/plain": [
              "0     Libya\n",
              "1    Canada\n",
              "2     Libya\n",
              "3     Japan\n",
              "4      Chad\n",
              "Name: Country, dtype: object"
            ]
          },
          "metadata": {},
          "execution_count": 6
        }
      ]
    },
    {
      "cell_type": "markdown",
      "source": [
        "Trích rút cột dữ liệu (định lượng) – Total Cost của tập dữ liệu và in ra màn hình 5\n",
        "hàng đầu tien của cột này."
      ],
      "metadata": {
        "id": "vQGHO0kUYgZq"
      }
    },
    {
      "cell_type": "code",
      "source": [
        "y = ds[\"Total Cost\"]\n",
        "y.head()"
      ],
      "metadata": {
        "colab": {
          "base_uri": "https://localhost:8080/"
        },
        "id": "17SFxrqpVSzB",
        "outputId": "a391966f-0c2d-4c4e-e59a-1deaada558ce"
      },
      "execution_count": null,
      "outputs": [
        {
          "output_type": "execute_result",
          "data": {
            "text/plain": [
              "0    2224085.18\n",
              "1     274426.74\n",
              "2     241840.14\n",
              "3     389039.42\n",
              "4      68127.40\n",
              "Name: Total Cost, dtype: float64"
            ]
          },
          "metadata": {},
          "execution_count": 7
        }
      ]
    },
    {
      "cell_type": "markdown",
      "source": [
        "Số lớn nhất - max;"
      ],
      "metadata": {
        "id": "ENA7sFCJYlKM"
      }
    },
    {
      "cell_type": "code",
      "source": [
        "print(\"Chi so lon nhat: \")\n",
        "ds.max()"
      ],
      "metadata": {
        "colab": {
          "base_uri": "https://localhost:8080/"
        },
        "id": "6MJ-fxDTVVtT",
        "outputId": "4137efd6-a6ff-4d85-ec93-7dd49bd1dd40"
      },
      "execution_count": null,
      "outputs": [
        {
          "output_type": "stream",
          "name": "stdout",
          "text": [
            "Chi so lon nhat: \n"
          ]
        },
        {
          "output_type": "execute_result",
          "data": {
            "text/plain": [
              "Region            Sub-Saharan Africa\n",
              "Country                     Zimbabwe\n",
              "Item Type                 Vegetables\n",
              "Sales Channel                 Online\n",
              "Order Priority                     M\n",
              "Order Date                  9/8/2015\n",
              "Order ID                   995529830\n",
              "Ship Date                   9/9/2016\n",
              "Units Sold                      9998\n",
              "Unit Price                    668.27\n",
              "Unit Cost                     524.96\n",
              "Total Revenue             6617209.54\n",
              "Total Cost                 5204978.4\n",
              "Total Profit              1726181.36\n",
              "dtype: object"
            ]
          },
          "metadata": {},
          "execution_count": 8
        }
      ]
    },
    {
      "cell_type": "markdown",
      "source": [
        "Số nhỏ nhất - min;"
      ],
      "metadata": {
        "id": "RtGOXSaJYrGi"
      }
    },
    {
      "cell_type": "code",
      "source": [
        "print(\"Chi so nho nhat: \")\n",
        "ds.min()"
      ],
      "metadata": {
        "colab": {
          "base_uri": "https://localhost:8080/"
        },
        "id": "RUY0ukCXVYoS",
        "outputId": "6fec1fb5-db51-4dff-dfc9-2be39123eefe"
      },
      "execution_count": null,
      "outputs": [
        {
          "output_type": "stream",
          "name": "stdout",
          "text": [
            "Chi so nho nhat: \n"
          ]
        },
        {
          "output_type": "execute_result",
          "data": {
            "text/plain": [
              "Region                   Asia\n",
              "Country           Afghanistan\n",
              "Item Type           Baby Food\n",
              "Sales Channel         Offline\n",
              "Order Priority              C\n",
              "Order Date           1/1/2010\n",
              "Order ID            102928006\n",
              "Ship Date            1/1/2013\n",
              "Units Sold                 13\n",
              "Unit Price               9.33\n",
              "Unit Cost                6.92\n",
              "Total Revenue         2043.25\n",
              "Total Cost            1416.75\n",
              "Total Profit           532.61\n",
              "dtype: object"
            ]
          },
          "metadata": {},
          "execution_count": 9
        }
      ]
    },
    {
      "cell_type": "markdown",
      "source": [
        "Giá trị trung bình - mean;"
      ],
      "metadata": {
        "id": "jsKAytAPYzcN"
      }
    },
    {
      "cell_type": "code",
      "source": [
        "import numpy as np\n",
        "print(\"Gia tri trung binh: \\n\", np.mean(ds))"
      ],
      "metadata": {
        "colab": {
          "base_uri": "https://localhost:8080/"
        },
        "id": "rwZ7CK_JVcxr",
        "outputId": "be98ddf3-6070-4c8f-d21b-1410d61cc88c"
      },
      "execution_count": null,
      "outputs": [
        {
          "output_type": "stream",
          "name": "stdout",
          "text": [
            "Gia tri trung binh: \n",
            " Order ID         5.496813e+08\n",
            "Units Sold       5.053988e+03\n",
            "Unit Price       2.621068e+02\n",
            "Unit Cost        1.849651e+02\n",
            "Total Revenue    1.327322e+06\n",
            "Total Cost       9.361192e+05\n",
            "Total Profit     3.912026e+05\n",
            "dtype: float64\n"
          ]
        },
        {
          "output_type": "stream",
          "name": "stderr",
          "text": [
            "/usr/local/lib/python3.7/dist-packages/numpy/core/fromnumeric.py:3438: FutureWarning: Dropping of nuisance columns in DataFrame reductions (with 'numeric_only=None') is deprecated; in a future version this will raise TypeError.  Select only valid columns before calling the reduction.\n",
            "  return mean(axis=axis, dtype=dtype, out=out, **kwargs)\n"
          ]
        }
      ]
    },
    {
      "cell_type": "markdown",
      "source": [
        "Giá trị trung vị - median;"
      ],
      "metadata": {
        "id": "zztp9FyPY3Et"
      }
    },
    {
      "cell_type": "code",
      "source": [
        "print(\"Gia tri trung vi: \\n\", ds.median())"
      ],
      "metadata": {
        "colab": {
          "base_uri": "https://localhost:8080/"
        },
        "id": "bmVujovXVg9v",
        "outputId": "5f1bd753-0863-4a1c-a5dd-b6c033abeb5f"
      },
      "execution_count": null,
      "outputs": [
        {
          "output_type": "stream",
          "name": "stdout",
          "text": [
            "Gia tri trung vi: \n",
            " Order ID         5.566097e+08\n",
            "Units Sold       5.184000e+03\n",
            "Unit Price       1.540600e+02\n",
            "Unit Cost        9.744000e+01\n",
            "Total Revenue    7.549392e+05\n",
            "Total Cost       4.647261e+05\n",
            "Total Profit     2.772260e+05\n",
            "dtype: float64\n"
          ]
        },
        {
          "output_type": "stream",
          "name": "stderr",
          "text": [
            "/usr/local/lib/python3.7/dist-packages/ipykernel_launcher.py:1: FutureWarning: Dropping of nuisance columns in DataFrame reductions (with 'numeric_only=None') is deprecated; in a future version this will raise TypeError.  Select only valid columns before calling the reduction.\n",
            "  \"\"\"Entry point for launching an IPython kernel.\n"
          ]
        }
      ]
    },
    {
      "cell_type": "markdown",
      "source": [
        "(5) Phương sai - variance;"
      ],
      "metadata": {
        "id": "6SAT3jllZPfC"
      }
    },
    {
      "cell_type": "code",
      "source": [
        "print(\"Do lech chuan: \")\n",
        "ds.std()"
      ],
      "metadata": {
        "colab": {
          "base_uri": "https://localhost:8080/"
        },
        "id": "YsWd1f5gVlgu",
        "outputId": "a20ec120-b7e6-4211-a77e-42b271286e9f"
      },
      "execution_count": null,
      "outputs": [
        {
          "output_type": "stream",
          "name": "stdout",
          "text": [
            "Do lech chuan: \n"
          ]
        },
        {
          "output_type": "stream",
          "name": "stderr",
          "text": [
            "/usr/local/lib/python3.7/dist-packages/ipykernel_launcher.py:2: FutureWarning: Dropping of nuisance columns in DataFrame reductions (with 'numeric_only=None') is deprecated; in a future version this will raise TypeError.  Select only valid columns before calling the reduction.\n",
            "  \n"
          ]
        },
        {
          "output_type": "execute_result",
          "data": {
            "text/plain": [
              "Order ID         2.571334e+08\n",
              "Units Sold       2.901375e+03\n",
              "Unit Price       2.160211e+02\n",
              "Unit Cost        1.752893e+02\n",
              "Total Revenue    1.486515e+06\n",
              "Total Cost       1.162571e+06\n",
              "Total Profit     3.836402e+05\n",
              "dtype: float64"
            ]
          },
          "metadata": {},
          "execution_count": 12
        }
      ]
    },
    {
      "cell_type": "markdown",
      "source": [
        "Độ lệch chuẩn - standard deviation;"
      ],
      "metadata": {
        "id": "ea0tzUjXZdfT"
      }
    },
    {
      "cell_type": "code",
      "source": [
        "print(\"So do boxplot: \\n\", ds.boxplot)"
      ],
      "metadata": {
        "colab": {
          "base_uri": "https://localhost:8080/"
        },
        "id": "xk64Cq9nVoWe",
        "outputId": "f2f3d79c-b9d9-4582-a655-32d13bd8d57a"
      },
      "execution_count": null,
      "outputs": [
        {
          "output_type": "stream",
          "name": "stdout",
          "text": [
            "So do boxplot: \n",
            " <bound method boxplot_frame of                            Region               Country   Item Type  \\\n",
            "0    Middle East and North Africa                 Libya   Cosmetics   \n",
            "1                   North America                Canada  Vegetables   \n",
            "2    Middle East and North Africa                 Libya   Baby Food   \n",
            "3                            Asia                 Japan      Cereal   \n",
            "4              Sub-Saharan Africa                  Chad      Fruits   \n",
            "..                            ...                   ...         ...   \n",
            "995  Middle East and North Africa            Azerbaijan      Snacks   \n",
            "996                        Europe               Georgia   Baby Food   \n",
            "997  Middle East and North Africa  United Arab Emirates  Vegetables   \n",
            "998                        Europe               Finland   Household   \n",
            "999                        Europe              Portugal      Cereal   \n",
            "\n",
            "    Sales Channel Order Priority  Order Date   Order ID   Ship Date  \\\n",
            "0         Offline              M  10/18/2014  686800706  10/31/2014   \n",
            "1          Online              M   11/7/2011  185941302   12/8/2011   \n",
            "2         Offline              C  10/31/2016  246222341   12/9/2016   \n",
            "3         Offline              C   4/10/2010  161442649   5/12/2010   \n",
            "4         Offline              H   8/16/2011  645713555   8/31/2011   \n",
            "..            ...            ...         ...        ...         ...   \n",
            "995       Offline              C   4/18/2010  534085166   4/25/2010   \n",
            "996       Offline              H    8/1/2011  590768182    9/7/2011   \n",
            "997        Online              C   5/12/2011  524363124   6/28/2011   \n",
            "998       Offline              L   1/25/2016  289606320   2/14/2016   \n",
            "999       Offline              C   4/10/2014  811546599    5/8/2014   \n",
            "\n",
            "     Units Sold  Unit Price  Unit Cost  Total Revenue  Total Cost  \\\n",
            "0          8446      437.20     263.33     3692591.20  2224085.18   \n",
            "1          3018      154.06      90.93      464953.08   274426.74   \n",
            "2          1517      255.28     159.42      387259.76   241840.14   \n",
            "3          3322      205.70     117.11      683335.40   389039.42   \n",
            "4          9845        9.33       6.92       91853.85    68127.40   \n",
            "..          ...         ...        ...            ...         ...   \n",
            "995        6524      152.58      97.44      995431.92   635698.56   \n",
            "996         288      255.28     159.42       73520.64    45912.96   \n",
            "997        9556      154.06      90.93     1472197.36   868927.08   \n",
            "998        9801      668.27     502.54     6549714.27  4925394.54   \n",
            "999        3528      205.70     117.11      725709.60   413164.08   \n",
            "\n",
            "     Total Profit  \n",
            "0      1468506.02  \n",
            "1       190526.34  \n",
            "2       145419.62  \n",
            "3       294295.98  \n",
            "4        23726.45  \n",
            "..            ...  \n",
            "995     359733.36  \n",
            "996      27607.68  \n",
            "997     603270.28  \n",
            "998    1624319.73  \n",
            "999     312545.52  \n",
            "\n",
            "[1000 rows x 14 columns]>\n"
          ]
        }
      ]
    },
    {
      "cell_type": "markdown",
      "source": [
        "Q1 và Q3."
      ],
      "metadata": {
        "id": "rlbjTucFZTV-"
      }
    },
    {
      "cell_type": "code",
      "source": [
        "print(\"Q1 và Q3: \", ds.quantile([.1, .5]))"
      ],
      "metadata": {
        "colab": {
          "base_uri": "https://localhost:8080/"
        },
        "id": "EYauKiZEVrNw",
        "outputId": "4a56e726-83dc-43fd-e51a-95bca6bb08ee"
      },
      "execution_count": null,
      "outputs": [
        {
          "output_type": "stream",
          "name": "stdout",
          "text": [
            "Q1 và Q3:          Order ID  Units Sold  Unit Price  Unit Cost  Total Revenue  \\\n",
            "0.1  194180275.7      1039.9       47.45      31.79      70962.007   \n",
            "0.5  556609713.5      5184.0      154.06      97.44     754939.180   \n",
            "\n",
            "     Total Cost  Total Profit  \n",
            "0.1   46972.350     20718.666  \n",
            "0.5  464726.065    277225.980  \n"
          ]
        }
      ]
    },
    {
      "cell_type": "markdown",
      "source": [
        "Hãy vẽ biểu đồ boxplot cho tập dữ liệu định lượng này;"
      ],
      "metadata": {
        "id": "vM4ff5jlZr5Y"
      }
    },
    {
      "cell_type": "code",
      "source": [
        "print(\"BOXPLOT: \\n\", ds.boxplot())"
      ],
      "metadata": {
        "colab": {
          "base_uri": "https://localhost:8080/",
          "height": 311
        },
        "id": "T0l7R4_uVulH",
        "outputId": "4dd56ca9-c3b5-474e-f5a3-c5135182a0ba"
      },
      "execution_count": null,
      "outputs": [
        {
          "output_type": "stream",
          "name": "stdout",
          "text": [
            "BOXPLOT: \n",
            " AxesSubplot(0.125,0.125;0.775x0.755)\n"
          ]
        },
        {
          "output_type": "display_data",
          "data": {
            "text/plain": [
              "<Figure size 432x288 with 1 Axes>"
            ],
            "image/png": "[encoded data removed]"
          },
          "metadata": {
            "needs_background": "light"
          }
        }
      ]
    },
    {
      "cell_type": "markdown",
      "source": [
        "Hãy vẽ biểu đồ histogram (với bins = 100) cho tập dữ liệu này."
      ],
      "metadata": {
        "id": "v1mPaxSxZtvp"
      }
    },
    {
      "cell_type": "code",
      "source": [
        "print(\"HISTORYGAM: \\n\", ds.hist(bins=100))"
      ],
      "metadata": {
        "colab": {
          "base_uri": "https://localhost:8080/",
          "height": 472
        },
        "id": "E2tPaCi5VypT",
        "outputId": "a4c9fc0e-d4f1-4061-a33e-1e8c69cbe330"
      },
      "execution_count": null,
      "outputs": [
        {
          "output_type": "stream",
          "name": "stdout",
          "text": [
            "HISTORYGAM: \n",
            " [[<matplotlib.axes._subplots.AxesSubplot object at 0x7ff5562e5410>\n",
            "  <matplotlib.axes._subplots.AxesSubplot object at 0x7ff555df9c90>\n",
            "  <matplotlib.axes._subplots.AxesSubplot object at 0x7ff555db72d0>]\n",
            " [<matplotlib.axes._subplots.AxesSubplot object at 0x7ff555dec8d0>\n",
            "  <matplotlib.axes._subplots.AxesSubplot object at 0x7ff555da2fd0>\n",
            "  <matplotlib.axes._subplots.AxesSubplot object at 0x7ff555d648d0>]\n",
            " [<matplotlib.axes._subplots.AxesSubplot object at 0x7ff555d2b190>\n",
            "  <matplotlib.axes._subplots.AxesSubplot object at 0x7ff555ce1490>\n",
            "  <matplotlib.axes._subplots.AxesSubplot object at 0x7ff555ce14d0>]]\n"
          ]
        },
        {
          "output_type": "display_data",
          "data": {
            "text/plain": [
              "<Figure size 432x288 with 9 Axes>"
            ],
            "image/png": "[encoded data removed]"
          },
          "metadata": {
            "needs_background": "light"
          }
        }
      ]
    }
  ]
}