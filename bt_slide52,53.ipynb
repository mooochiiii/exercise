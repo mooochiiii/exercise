{
  "nbformat": 4,
  "nbformat_minor": 0,
  "metadata": {
    "colab": {
      "name": "bt slide52,53.ipynb",
      "provenance": [],
      "collapsed_sections": [],
      "authorship_tag": "ABX9TyOke+1BbNO/L3gyZhEimgk5",
      "include_colab_link": true
    },
    "kernelspec": {
      "name": "python3",
      "display_name": "Python 3"
    },
    "language_info": {
      "name": "python"
    }
  },
  "cells": [
    {
      "cell_type": "markdown",
      "metadata": {
        "id": "view-in-github",
        "colab_type": "text"
      },
      "source": [
        "<a href=\"https://colab.research.google.com/github/mooochiiii/exercise/blob/main/bt_slide52%2C53.ipynb\" target=\"_parent\"><img src=\"https://colab.research.google.com/assets/colab-badge.svg\" alt=\"Open In Colab\"/></a>"
      ]
    },
    {
      "cell_type": "markdown",
      "metadata": {
        "id": "0jnsCNMxQwSV"
      },
      "source": [
        "bài slide 52 "
      ]
    },
    {
      "cell_type": "code",
      "metadata": {
        "colab": {
          "base_uri": "https://localhost:8080/"
        },
        "id": "fmnCwNKXQuaf",
        "outputId": "1538e880-acd2-4466-b216-93330f905878"
      },
      "source": [
        "loanAmount = float(input ('enter an loan Amount: '))\n",
        "monthlyInterestRate = float(input ('enter an monthly Interest Rate: '))\n",
        "numberofyears = float(input ('enter an number of years: '))\n",
        "monthlyPayment = float((loanAmount*monthlyInterestRate)/(1-(1/((1+monthlyInterestRate)**numberofyears*12))))\n",
        "print ('monthly Payment: ', monthlyPayment)"
      ],
      "execution_count": 1,
      "outputs": [
        {
          "output_type": "stream",
          "name": "stdout",
          "text": [
            "enter an loan Amount: 1\n",
            "enter an monthly Interest Rate: 1\n",
            "enter an number of years: 1\n",
            "monthly Payment:  1.0434782608695652\n"
          ]
        }
      ]
    },
    {
      "cell_type": "markdown",
      "metadata": {
        "id": "VuUMaIsOc6d8"
      },
      "source": [
        "bài slide 53"
      ]
    },
    {
      "cell_type": "code",
      "metadata": {
        "id": "P9uOfBNfc-0S"
      },
      "source": [
        "import math\n",
        "xA = float(input ('nhap tung do diem A: '))\n",
        "yA = float(input ('nhap hoang do diem A: '))\n",
        "xB = float(input ('nhap tung do diem B: '))\n",
        "yB = float(input ('nhap hoang do diem B: '))\n",
        "print ('A (', xA, yA, ')\\nB (', xB, yB, ')')\n",
        "print ('khoang cach AB = ', float(math.sqrt((xB - xA)**2 + (yB - yA)**2)))"
      ],
      "execution_count": null,
      "outputs": []
    }
  ]
}