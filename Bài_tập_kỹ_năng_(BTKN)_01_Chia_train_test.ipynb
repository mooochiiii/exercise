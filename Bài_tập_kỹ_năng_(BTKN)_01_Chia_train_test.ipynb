{
  "nbformat": 4,
  "nbformat_minor": 0,
  "metadata": {
    "colab": {
      "provenance": [],
      "mount_file_id": "1jTwnIFt15JEwi2i-dCyKiokdNgAfZhG8",
      "authorship_tag": "ABX9TyNyr3gzlP9DcXDkkbfoMhCe",
      "include_colab_link": true
    },
    "kernelspec": {
      "name": "python3",
      "display_name": "Python 3"
    },
    "language_info": {
      "name": "python"
    }
  },
  "cells": [
    {
      "cell_type": "markdown",
      "metadata": {
        "id": "view-in-github",
        "colab_type": "text"
      },
      "source": [
        "<a href=\"https://colab.research.google.com/github/mooochiiii/exercise/blob/main/B%C3%A0i_t%E1%BA%ADp_k%E1%BB%B9_n%C4%83ng_(BTKN)_01_Chia_train_test.ipynb\" target=\"_parent\"><img src=\"https://colab.research.google.com/assets/colab-badge.svg\" alt=\"Open In Colab\"/></a>"
      ]
    },
    {
      "cell_type": "code",
      "execution_count": 33,
      "metadata": {
        "id": "PmE-ErusRRD5"
      },
      "outputs": [],
      "source": [
        "import os\n",
        "import numpy as np\n",
        "from sklearn.model_selection import train_test_split"
      ]
    },
    {
      "cell_type": "code",
      "source": [
        "def readData(folder, filename):\n",
        "\n",
        "    D = np.loadtxt(os.path.join(folder, filename), delimiter=',')\n",
        "    X, y = D[:,:-1], D[:,-1]\n",
        "    X_train, X_test, y_train, y_test = train_test_split(X, y, \n",
        "                                                        test_size=0.30,\n",
        "                                                        random_state=15)\n",
        "    print (train_test_split(y, shuffle=False))\n",
        "    return X, y"
      ],
      "metadata": {
        "id": "fYI5doevR0r1"
      },
      "execution_count": 35,
      "outputs": []
    },
    {
      "cell_type": "code",
      "source": [
        "def main():\n",
        "    X, y = (\"/content/drive/MyDrive\", \"ex1data2.txt\")\n",
        "    readData(X, y)\n",
        "    \n",
        "if __name__ == '__main__':\n",
        "    main()"
      ],
      "metadata": {
        "colab": {
          "base_uri": "https://localhost:8080/"
        },
        "id": "0Wick6N-R3H1",
        "outputId": "689cf927-0c35-4be0-9010-b46067764b0f"
      },
      "execution_count": 36,
      "outputs": [
        {
          "output_type": "stream",
          "name": "stdout",
          "text": [
            "[array([399900., 329900., 369000., 232000., 539900., 299900., 314900.,\n",
            "       198999., 212000., 242500., 239999., 347000., 329999., 699900.,\n",
            "       259900., 449900., 299900., 199900., 499998., 599000., 252900.,\n",
            "       255000., 242900., 259900., 573900., 249900., 464500., 469000.,\n",
            "       475000., 299900., 349900., 169900., 314900., 579900., 285900.]), array([249900., 229900., 345000., 549000., 287000., 368500., 329900.,\n",
            "       314000., 299000., 179900., 299900., 239500.])]\n"
          ]
        }
      ]
    }
  ]
}