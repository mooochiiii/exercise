{
  "nbformat": 4,
  "nbformat_minor": 0,
  "metadata": {
    "colab": {
      "name": "thống kê.ipynb",
      "provenance": [],
      "authorship_tag": "ABX9TyN4ojBX1SNSXkEJfCSVvL+x",
      "include_colab_link": true
    },
    "kernelspec": {
      "name": "python3",
      "display_name": "Python 3"
    },
    "language_info": {
      "name": "python"
    }
  },
  "cells": [
    {
      "cell_type": "markdown",
      "metadata": {
        "id": "view-in-github",
        "colab_type": "text"
      },
      "source": [
        "<a href=\"https://colab.research.google.com/github/mooochiiii/exercise/blob/main/th%E1%BB%91ng_k%C3%AA.ipynb\" target=\"_parent\"><img src=\"https://colab.research.google.com/assets/colab-badge.svg\" alt=\"Open In Colab\"/></a>"
      ]
    },
    {
      "cell_type": "markdown",
      "source": [
        "Hãy cho biết thư viện nào tính toán ước lượng khoảng?\n",
        "- Đó là thư viện scipy.stats để tính toán khoảng tin cậy cho trung bình tổng thể\n",
        "- Sử dụng hàm t.interval() khi đang làm việc với một mẫu nhỏ (n <30)"
      ],
      "metadata": {
        "id": "c1BxBAq186ju"
      }
    },
    {
      "cell_type": "markdown",
      "source": [
        "Ví dụ sau đây cho thấy cách tính khoảng tin cậy cho chiều cao trung bình của quần thể thực của một loài thực vật nhất định, sử dụng một mẫu gồm 15 cây:"
      ],
      "metadata": {
        "id": "BxRVCFqc9LvF"
      }
    },
    {
      "cell_type": "code",
      "source": [
        "import numpy as np\n",
        "import scipy.stats as st\n",
        "#np.mean : Tính giá trị trung bình cộng\n",
        "#st.sem : Tính sai số chuẩn của giá trị trung bình.\n",
        "#Khoảng tin cậy 95% cho chiều cao trung bình của tổng thể là (16,758, 24,042).\n",
        "\n",
        "#xác định dữ liệu mẫu \n",
        "data = [12, 12, 13, 13, 15, 16, 17, 22, 23, 25, 26, 27, 28, 28, 29]\n",
        "\n",
        "#tạo khoảng tin cậy 95% cho trọng lượng trung bình của tổng thể\n",
        "st.t.interval(alpha=0.95, df=len(data)-1, loc=np.mean(data), scale=st.sem(data)) \n",
        "\n",
        "#tạo khoảng tin cậy 99% cho trọng lượng trung bình của tổng thể\n",
        "st.t.interval(alpha=0.99, df=len(data)-1, loc=np.mean(data), scale=st.sem(data)) "
      ],
      "metadata": {
        "colab": {
          "base_uri": "https://localhost:8080/"
        },
        "id": "jOmER16z86Js",
        "outputId": "d82fa715-02e7-4fb7-eb2a-b3b4d395ecf2"
      },
      "execution_count": 1,
      "outputs": [
        {
          "output_type": "execute_result",
          "data": {
            "text/plain": [
              "(15.3447902793728, 25.455209720627195)"
            ]
          },
          "metadata": {},
          "execution_count": 1
        }
      ]
    },
    {
      "cell_type": "markdown",
      "source": [
        "- Sử dụng hàm t.norm.interval() khi chúng ta đang làm việc với các mẫu lớn hơn (n≥30) "
      ],
      "metadata": {
        "id": "FGXS4t559iMI"
      }
    },
    {
      "cell_type": "code",
      "source": [
        "#xác định dữ liệu mẫu  \n",
        "data = [12, 12, 13, 13, 15, 16, 17, 22, 23, 25, 26, 27, 28, 28, 29,33,22,11,45,23,12,34,65,23,64,86,34,12,35,98]\n",
        "\n",
        "#tạo khoảng tin cậy 95% cho trọng lượng trung bình của tổng thể\n",
        "st.norm.interval(alpha=0.95, loc=np.mean(data), scale=st.sem(data))"
      ],
      "metadata": {
        "colab": {
          "base_uri": "https://localhost:8080/"
        },
        "id": "7u7CLDnx9kG3",
        "outputId": "f8ea8693-33d1-41ae-9338-95d6916564a8"
      },
      "execution_count": 2,
      "outputs": [
        {
          "output_type": "execute_result",
          "data": {
            "text/plain": [
              "(22.353431282811485, 37.84656871718852)"
            ]
          },
          "metadata": {},
          "execution_count": 2
        }
      ]
    },
    {
      "cell_type": "markdown",
      "source": [
        "Và tương tự như phân phối, mức độ tin cậy lớn hơn dẫn đến khoảng tin cậy rộng hơn."
      ],
      "metadata": {
        "id": "ufwvlbBq9ujz"
      }
    },
    {
      "cell_type": "code",
      "source": [
        "#tạo khoảng tin cậy 99% cho trọng lượng trung bình của tổng thể\n",
        "st.t.interval(alpha=0.99, df=len(data)-1, loc=np.mean(data), scale=st.sem(data)) \n"
      ],
      "metadata": {
        "colab": {
          "base_uri": "https://localhost:8080/"
        },
        "id": "7lj-Gsfd9vRd",
        "outputId": "4bdeb281-8176-4958-faa8-22815e15113d"
      },
      "execution_count": 3,
      "outputs": [
        {
          "output_type": "execute_result",
          "data": {
            "text/plain": [
              "(19.205650418937253, 40.99434958106275)"
            ]
          },
          "metadata": {},
          "execution_count": 3
        }
      ]
    }
  ]
}