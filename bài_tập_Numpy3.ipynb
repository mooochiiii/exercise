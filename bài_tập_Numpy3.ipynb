{
  "nbformat": 4,
  "nbformat_minor": 0,
  "metadata": {
    "colab": {
      "name": "bài tập Numpy3.ipynb",
      "provenance": [],
      "authorship_tag": "ABX9TyMZubobGX8ta7olOab4iqUA",
      "include_colab_link": true
    },
    "kernelspec": {
      "name": "python3",
      "display_name": "Python 3"
    },
    "language_info": {
      "name": "python"
    }
  },
  "cells": [
    {
      "cell_type": "markdown",
      "metadata": {
        "id": "view-in-github",
        "colab_type": "text"
      },
      "source": [
        "<a href=\"https://colab.research.google.com/github/mooochiiii/exercise/blob/main/b%C3%A0i_t%E1%BA%ADp_Numpy3.ipynb\" target=\"_parent\"><img src=\"https://colab.research.google.com/assets/colab-badge.svg\" alt=\"Open In Colab\"/></a>"
      ]
    },
    {
      "cell_type": "markdown",
      "source": [
        "Câu 1: Hãy trình bày cú pháp của hàm apply_along_axis() và ý nghĩa của từng tham số của hàm\n",
        "này.\n",
        "\\begin{align}\n",
        "\\end{align} \n",
        "numpy.apply_along_axis(func1d, axis, arr, *args, **kwargs)\n",
        "\n",
        "- numpy.apply_along_axisLà hàm cho phép ta sử dụng hàm theo từng chiều.\n",
        "- func1d : Hàm thực hiện\n",
        "- axis : chọn chiều cần thực hiện\n",
        "- arr : mảng cần xử lí\n",
        "- *args và **kwargs đều chủ yếu được sử dụng trong định nghĩa. Hai cú pháp đặc biệt này giúp chúng ta có thể truyền bao nhiêu tham số vào hàm cũng được.\n",
        "Hai hàm này thông thường ta thường bỏ qua vì trong điều kiện bình thường không cần sử dụng."
      ],
      "metadata": {
        "id": "_wE3X5sx7Oby"
      }
    },
    {
      "cell_type": "code",
      "execution_count": 2,
      "metadata": {
        "id": "yrZ5qqbT7GlZ"
      },
      "outputs": [],
      "source": [
        "import numpy as np "
      ]
    },
    {
      "cell_type": "markdown",
      "source": [
        "Câu 2: Tạo một ma trận $A_{15*17}$ có giá trị ngẫu nhiên"
      ],
      "metadata": {
        "id": "DbyBBL2b8MLD"
      }
    },
    {
      "cell_type": "code",
      "source": [
        "A = np.random.rand(15, 17)\n",
        "\n",
        "print(A)"
      ],
      "metadata": {
        "colab": {
          "base_uri": "https://localhost:8080/"
        },
        "id": "pv_j3nj07NzV",
        "outputId": "1fdbe591-e775-486b-f9dd-8d858714fbf2"
      },
      "execution_count": 3,
      "outputs": [
        {
          "output_type": "stream",
          "name": "stdout",
          "text": [
            "[[0.64384628 0.06663792 0.07771498 0.64936875 0.58130004 0.81141252\n",
            "  0.33472376 0.03502692 0.09583017 0.6472892  0.17742202 0.08828386\n",
            "  0.11628119 0.736244   0.88608085 0.99572765 0.65452267]\n",
            " [0.89201359 0.47667462 0.36887564 0.85835147 0.69260701 0.31765094\n",
            "  0.92930993 0.62095708 0.55280203 0.15907769 0.59324798 0.56157723\n",
            "  0.13134426 0.01339162 0.17388248 0.6285202  0.45373119]\n",
            " [0.30947192 0.38609316 0.68013875 0.33485016 0.44958851 0.27348281\n",
            "  0.79352478 0.22071235 0.30035008 0.4888632  0.2259816  0.20680719\n",
            "  0.54857568 0.60406704 0.88841688 0.10506353 0.84731991]\n",
            " [0.15817292 0.41557953 0.89464742 0.22777827 0.4798206  0.11816833\n",
            "  0.24383385 0.7397913  0.0771206  0.35404268 0.20104501 0.95325663\n",
            "  0.79375923 0.19703533 0.46579404 0.59031482 0.67818071]\n",
            " [0.71864966 0.08484132 0.2513716  0.75314957 0.73123411 0.75046624\n",
            "  0.42582316 0.43995185 0.10854724 0.09410981 0.861227   0.25184135\n",
            "  0.45396159 0.04231573 0.64979167 0.84087799 0.70154938]\n",
            " [0.9052709  0.95344724 0.56872859 0.80678286 0.00423896 0.96601751\n",
            "  0.14620243 0.06581796 0.04985927 0.03361082 0.18410514 0.82078826\n",
            "  0.36654029 0.68577644 0.68869334 0.97669372 0.45532249]\n",
            " [0.65987824 0.7336149  0.04555993 0.10459035 0.60911483 0.40076369\n",
            "  0.42708033 0.79156432 0.86837872 0.07007445 0.6116482  0.10456032\n",
            "  0.22788215 0.71569775 0.33989001 0.6089081  0.998451  ]\n",
            " [0.98572501 0.01841242 0.66509148 0.51696104 0.65180887 0.53389477\n",
            "  0.81998258 0.3920503  0.53584358 0.0384838  0.42091191 0.74439661\n",
            "  0.07036053 0.18173317 0.8037634  0.43474742 0.49212732]\n",
            " [0.58153256 0.2847228  0.84719011 0.32560014 0.51253494 0.14950417\n",
            "  0.44082044 0.04455256 0.17339712 0.69218573 0.12817632 0.13296471\n",
            "  0.19995259 0.04437859 0.92794639 0.31189121 0.51805331]\n",
            " [0.86443168 0.99705198 0.1073798  0.72196687 0.20551288 0.46801949\n",
            "  0.50356174 0.79138437 0.64015613 0.5521534  0.86996732 0.99863495\n",
            "  0.00658792 0.76180027 0.68974485 0.37572685 0.69977827]\n",
            " [0.82442285 0.85994883 0.93371401 0.99203061 0.89113252 0.06802286\n",
            "  0.20132007 0.57174561 0.44547959 0.93010948 0.33312748 0.94411662\n",
            "  0.21160395 0.30827565 0.63040062 0.19064032 0.4389916 ]\n",
            " [0.69570232 0.75157138 0.52186727 0.72657952 0.63477371 0.19164788\n",
            "  0.23177262 0.60645455 0.63500559 0.4150447  0.19640159 0.39010289\n",
            "  0.49089739 0.73957209 0.77336821 0.08315058 0.85768334]\n",
            " [0.19086752 0.24616383 0.86992549 0.18784718 0.6017542  0.94440094\n",
            "  0.24913938 0.94719447 0.39745587 0.87716893 0.88933583 0.39282314\n",
            "  0.70741177 0.54072785 0.27859605 0.23302049 0.13117955]\n",
            " [0.20498444 0.04783678 0.19358763 0.18754825 0.31531132 0.01069712\n",
            "  0.76769904 0.82400674 0.16822892 0.04407175 0.0694986  0.96732293\n",
            "  0.86149508 0.57614185 0.91218065 0.03228512 0.49067319]\n",
            " [0.49315635 0.29585775 0.65457779 0.35401525 0.98793393 0.89990877\n",
            "  0.1170627  0.76628569 0.86871925 0.09151449 0.29604688 0.2007329\n",
            "  0.93874752 0.28485602 0.30171758 0.0894646  0.70948616]]\n"
          ]
        }
      ]
    },
    {
      "cell_type": "markdown",
      "source": [
        "Câu 3: Xây dựng hàm tìm giá trị lớn nhất có tên là tim_gia_tri_lon_nhat(vector_a) có tham số\n",
        "đầu vào là 1 vector a và giá trị trả về là giá trị phần tử lớn nhất của vector này. Áp dụng hàm này\n",
        "theo từng hàng của ma trận A ở Câu 1 và xuất kết quả ra màn hình."
      ],
      "metadata": {
        "id": "RLoaU4s78TVu"
      }
    },
    {
      "cell_type": "code",
      "source": [
        "import numpy as np\n",
        "\n",
        "# tìm giá trị lớn nhát cho mảng\n",
        "\n",
        "def lonhat(x):\n",
        "    max = x[0];\n",
        "    for i in x:\n",
        "        if (i > max):\n",
        "            max = i;\n",
        "    return max\n",
        "\n",
        "def main():\n",
        "    print(\"\\nMax : \\n\", np.apply_along_axis(lonhat, 1, A));\n",
        "\n",
        "if __name__ == '__main__':\n",
        "    main();"
      ],
      "metadata": {
        "colab": {
          "base_uri": "https://localhost:8080/"
        },
        "id": "VPZqo8Jd8S0p",
        "outputId": "94b854ef-1c84-428c-a04c-df33827c35e0"
      },
      "execution_count": 4,
      "outputs": [
        {
          "output_type": "stream",
          "name": "stdout",
          "text": [
            "\n",
            "Max : \n",
            " [0.99572765 0.92930993 0.88841688 0.95325663 0.861227   0.97669372\n",
            " 0.998451   0.98572501 0.92794639 0.99863495 0.99203061 0.85768334\n",
            " 0.94719447 0.96732293 0.98793393]\n"
          ]
        }
      ]
    },
    {
      "cell_type": "markdown",
      "source": [
        "Câu 4: Xây dựng hàm tìm giá trị nhỏ nhất có tên là tim_gia_tri_nho_nhat(vector_a) có tham số\n",
        "đầu vào là 1 vector a và giá trị trả về là giá trị phần tử nhỏ nhất của vector này. Áp dụng hàm này\n",
        "theo từng cột của ma trận A ở Câu 1 và xuất kết quả ra màn hình."
      ],
      "metadata": {
        "id": "oJ-AbDx1AEDh"
      }
    },
    {
      "cell_type": "code",
      "source": [
        "#hà.  tìm giá trị nhỏ nhất\n",
        "\n",
        "def nhonhat(x):\n",
        "    min = x[0];\n",
        "    for i in x:\n",
        "        if (i < min):\n",
        "            min = i;\n",
        "    return min;\n",
        "\n",
        "def main():\n",
        "    print(\"\\nMin : \\n\", np.apply_along_axis(nhonhat, 0, A));\n",
        "\n",
        "if __name__ == '__main__':\n",
        "    main();"
      ],
      "metadata": {
        "colab": {
          "base_uri": "https://localhost:8080/"
        },
        "id": "pb6JsrMSAblV",
        "outputId": "8dbcd005-ed06-4551-ac6c-101e6f4f6f3e"
      },
      "execution_count": 5,
      "outputs": [
        {
          "output_type": "stream",
          "name": "stdout",
          "text": [
            "\n",
            "Min : \n",
            " [0.15817292 0.01841242 0.04555993 0.10459035 0.00423896 0.01069712\n",
            " 0.1170627  0.03502692 0.04985927 0.03361082 0.0694986  0.08828386\n",
            " 0.00658792 0.01339162 0.17388248 0.03228512 0.13117955]\n"
          ]
        }
      ]
    },
    {
      "cell_type": "markdown",
      "source": [
        "Câu 5: Xây dựng hàm tìm giá trị lớn nhất có tên là tinh_tong(vector_a) có tham số đầu vào là 1\n",
        "vector a và giá trị trả về là tổng các phần tử của vector này. Áp dụng hàm này theo từng hàng của\n",
        "ma trận A ở Câu 1 và xuất kết quả ra màn hình."
      ],
      "metadata": {
        "id": "6XoUpjz9AY9d"
      }
    },
    {
      "cell_type": "code",
      "source": [
        "#Hàm tính tổng\n",
        "\n",
        "def tong(x, y):\n",
        "    if (y == 1):\n",
        "        return x[0];\n",
        "    else:\n",
        "        return x[y - 1] + tong(x, y - 1);\n",
        "\n",
        "def main():\n",
        "    print(\"\\nTong : \\n\", np.apply_along_axis(tong, 1, A, len(A)));\n",
        "\n",
        "if __name__ == '__main__':\n",
        "    main();"
      ],
      "metadata": {
        "colab": {
          "base_uri": "https://localhost:8080/"
        },
        "id": "lVKRh7VUA8Po",
        "outputId": "f7ba21b3-ecde-4c77-9d58-3e0c4dd15f3a"
      },
      "execution_count": 6,
      "outputs": [
        {
          "output_type": "stream",
          "name": "stdout",
          "text": [
            "\n",
            "Tong : \n",
            " [5.94746245 7.34176358 6.71092411 6.31984575 6.61728191 7.24588001\n",
            " 6.71029821 7.37941947 5.48545917 9.17835363 9.14545076 8.00076171\n",
            " 8.32081244 6.15061109 7.55113285]\n"
          ]
        }
      ]
    },
    {
      "cell_type": "markdown",
      "source": [
        "Câu 6: Xây dựng hàm tìm giá trị lớn nhất có tên là tinh_tong_2(vector_a) có tham số đầu vào là\n",
        "1 vector a và giá trị trả về là tổng các phần tử có chỉ số lẻ (1 – 3 – 5 , .v.v.) của vector này. Áp\n",
        "dụng hàm này theo từng cột của ma trận A ở Câu 1 và xuất kết quả ra màn hình. Tiếp tục áp dụng\n",
        "hàm này theo từng hàng của ma trận A kể trên và xuất kết quả ra màn hình."
      ],
      "metadata": {
        "id": "nzj5w0KQBElN"
      }
    },
    {
      "cell_type": "code",
      "source": [
        "#hàm tính tổng lẻ\n",
        "\n",
        "def tongle(x, y):\n",
        "    if (y == 1):\n",
        "        if (x[0] % 2 != 0):\n",
        "            return x[0];\n",
        "        else:\n",
        "            return 0;\n",
        "    if (x[y-1] % 2 != 0):\n",
        "        return x[y - 1] + tongle(x, y - 1);\n",
        "    else:\n",
        "        return tongle(x, y - 1) + 0;\n",
        "\n",
        "def main():\n",
        "    print(\"\\nTong le theo hang: \\n\", np.apply_along_axis(tongle, 1, A, len(A)));\n",
        "    print(\"\\nTong le theo cot: \\n\", np.apply_along_axis(tongle, 0, A, len(A)));\n",
        "\n",
        "if __name__ == '__main__':\n",
        "    main();"
      ],
      "metadata": {
        "colab": {
          "base_uri": "https://localhost:8080/"
        },
        "id": "nLWb4aY-BJVt",
        "outputId": "a2c0a5f6-b8b3-4fab-ceba-d8a34f2cede1"
      },
      "execution_count": 7,
      "outputs": [
        {
          "output_type": "stream",
          "name": "stdout",
          "text": [
            "\n",
            "Tong le theo hang: \n",
            " [5.94746245 7.34176358 6.71092411 6.31984575 6.61728191 7.24588001\n",
            " 6.71029821 7.37941947 5.48545917 9.17835363 9.14545076 8.00076171\n",
            " 8.32081244 6.15061109 7.55113285]\n",
            "\n",
            "Tong le theo cot: \n",
            " [9.12812621 6.61845447 7.68037048 7.74742028 8.34866645 6.90405805\n",
            " 6.6318568  7.85749607 5.91717416 5.48780014 6.05814287 7.75820961\n",
            " 6.12540115 6.43201338 9.41026703 6.49703261 9.1270501 ]\n"
          ]
        }
      ]
    }
  ]
}