{
  "nbformat": 4,
  "nbformat_minor": 0,
  "metadata": {
    "colab": {
      "name": "bài tập Numpy3.ipynb",
      "provenance": [],
      "authorship_tag": "ABX9TyMWN8phVuvU9zCWOyVB6SUt",
      "include_colab_link": true
    },
    "kernelspec": {
      "name": "python3",
      "display_name": "Python 3"
    },
    "language_info": {
      "name": "python"
    }
  },
  "cells": [
    {
      "cell_type": "markdown",
      "metadata": {
        "id": "view-in-github",
        "colab_type": "text"
      },
      "source": [
        "<a href=\"https://colab.research.google.com/github/mooochiiii/exercise/blob/main/b%C3%A0i_t%E1%BA%ADp_Numpy3.ipynb\" target=\"_parent\"><img src=\"https://colab.research.google.com/assets/colab-badge.svg\" alt=\"Open In Colab\"/></a>"
      ]
    },
    {
      "cell_type": "markdown",
      "source": [
        "Câu 1: Hãy trình bày cú pháp của hàm apply_along_axis() và ý nghĩa của từng tham số của hàm\n",
        "này.\n",
        "\\begin{align}\n",
        "\\end{align} \n",
        "numpy.apply_along_axis(func1d, axis, arr, *args, **kwargs)\n",
        "\n",
        "- numpy.apply_along_axisLà hàm cho phép ta sử dụng hàm theo từng chiều.\n",
        "- func1d : Hàm thực hiện\n",
        "- axis : chọn chiều cần thực hiện\n",
        "- arr : mảng cần xử lí\n",
        "- *args và **kwargs đều chủ yếu được sử dụng trong định nghĩa. Hai cú pháp đặc biệt này giúp chúng ta có thể truyền bao nhiêu tham số vào hàm cũng được.\n",
        "Hai hàm này thông thường ta thường bỏ qua vì trong điều kiện bình thường không cần sử dụng."
      ],
      "metadata": {
        "id": "_wE3X5sx7Oby"
      }
    },
    {
      "cell_type": "code",
      "execution_count": 1,
      "metadata": {
        "id": "yrZ5qqbT7GlZ"
      },
      "outputs": [],
      "source": [
        "import numpy as np "
      ]
    },
    {
      "cell_type": "markdown",
      "source": [
        "Câu 2: Tạo một ma trận $A_{15*17}$ có giá trị ngẫu nhiên"
      ],
      "metadata": {
        "id": "DbyBBL2b8MLD"
      }
    },
    {
      "cell_type": "code",
      "source": [
        "a = np.random.randint(1,100,[15,17])\n",
        "a"
      ],
      "metadata": {
        "colab": {
          "base_uri": "https://localhost:8080/"
        },
        "id": "pv_j3nj07NzV",
        "outputId": "8ad843da-4830-4ee8-c9b1-c792afb1a498"
      },
      "execution_count": 2,
      "outputs": [
        {
          "output_type": "execute_result",
          "data": {
            "text/plain": [
              "array([[60, 68, 31, 29,  9, 98, 57, 81, 89, 30, 18, 67, 91, 18, 63,  1,\n",
              "        57],\n",
              "       [99, 30, 26, 56, 69, 61, 57, 69, 65, 52, 35, 22,  7, 47, 68, 99,\n",
              "        29],\n",
              "       [ 9, 54, 45, 33, 44,  7, 75, 73, 44, 73, 11, 41, 84, 43,  5, 93,\n",
              "        92],\n",
              "       [ 8, 67, 93, 74, 65, 91, 80, 53, 64, 65, 83, 45,  1, 78, 11, 63,\n",
              "        92],\n",
              "       [11, 91, 88, 22, 71, 34, 77, 15, 67, 24, 92, 54, 36, 16, 11, 91,\n",
              "        98],\n",
              "       [56, 31, 34, 90,  2, 22,  2, 72, 26,  9, 94, 65, 86, 57, 23,  5,\n",
              "        88],\n",
              "       [91, 44, 44, 51, 19, 35, 12, 15, 70, 53, 79, 76, 58, 23, 48, 46,\n",
              "        59],\n",
              "       [94, 83, 90, 29, 87, 41, 56, 35, 43, 40, 46, 93, 10,  4, 15, 60,\n",
              "        25],\n",
              "       [11, 23, 93, 31, 71, 70, 38, 93, 52, 41, 94, 57, 73, 42,  5, 18,\n",
              "         1],\n",
              "       [29, 40, 84,  4, 38, 97, 45, 51,  6,  6, 89, 47, 18, 11, 28, 26,\n",
              "         3],\n",
              "       [87, 79,  1, 23, 75, 93, 99, 20, 34, 26, 35, 42,  2, 43, 98, 60,\n",
              "        92],\n",
              "       [90, 78, 87, 12, 72, 52,  9, 66, 53, 63, 70, 11, 81, 29, 41, 85,\n",
              "        48],\n",
              "       [66, 89, 84, 99, 18, 81, 68, 45, 72, 36, 81, 67, 96, 57,  1,  6,\n",
              "        37],\n",
              "       [72, 96, 90, 40, 64, 34, 26, 20, 81, 21, 98, 99, 87, 85, 60, 17,\n",
              "        17],\n",
              "       [ 5, 49, 91, 86, 83, 52, 48, 40, 91, 97, 70, 75, 53, 18, 59, 69,\n",
              "        32]])"
            ]
          },
          "metadata": {},
          "execution_count": 2
        }
      ]
    },
    {
      "cell_type": "markdown",
      "source": [
        "Câu 3: Xây dựng hàm tìm giá trị lớn nhất có tên là tim_gia_tri_lon_nhat(vector_a) có tham số\n",
        "đầu vào là 1 vector a và giá trị trả về là giá trị phần tử lớn nhất của vector này. Áp dụng hàm này\n",
        "theo từng hàng của ma trận A ở Câu 1 và xuất kết quả ra màn hình."
      ],
      "metadata": {
        "id": "RLoaU4s78TVu"
      }
    },
    {
      "cell_type": "code",
      "source": [
        "def tim_gia_tri_lon_nhat(a):\n",
        "    return np.max(a)\n",
        "\n",
        "def main():\n",
        "    print(\"\\nMax : \\n\", np.apply_along_axis(tim_gia_tri_lon_nhat, 1, a));\n",
        "\n",
        "if __name__ == '__main__':\n",
        "    main();"
      ],
      "metadata": {
        "colab": {
          "base_uri": "https://localhost:8080/"
        },
        "id": "VPZqo8Jd8S0p",
        "outputId": "fe5f60af-ec4b-473d-f4d6-e7ba8826ebb0"
      },
      "execution_count": 4,
      "outputs": [
        {
          "output_type": "stream",
          "name": "stdout",
          "text": [
            "\n",
            "Max : \n",
            " [98 99 93 93 98 94 91 94 94 97 99 90 99 99 97]\n"
          ]
        }
      ]
    },
    {
      "cell_type": "markdown",
      "source": [
        "Câu 4: Xây dựng hàm tìm giá trị nhỏ nhất có tên là tim_gia_tri_nho_nhat(vector_a) có tham số\n",
        "đầu vào là 1 vector a và giá trị trả về là giá trị phần tử nhỏ nhất của vector này. Áp dụng hàm này\n",
        "theo từng cột của ma trận A ở Câu 1 và xuất kết quả ra màn hình."
      ],
      "metadata": {
        "id": "oJ-AbDx1AEDh"
      }
    },
    {
      "cell_type": "code",
      "source": [
        "def tim_gia_tri_nho_nhat(a):\n",
        "  return np.min(a)\n",
        "\n",
        "def main():\n",
        "    print(\"\\nMin : \\n\", np.apply_along_axis(tim_gia_tri_nho_nhat,0,a));\n",
        "\n",
        "if __name__ == '__main__':\n",
        "    main();"
      ],
      "metadata": {
        "colab": {
          "base_uri": "https://localhost:8080/"
        },
        "id": "pb6JsrMSAblV",
        "outputId": "b06a4430-7cc8-4451-e844-cb948bc68396"
      },
      "execution_count": 6,
      "outputs": [
        {
          "output_type": "stream",
          "name": "stdout",
          "text": [
            "\n",
            "Min : \n",
            " [ 5 23  1  4  2  7  2 15  6  6 11 11  1  4  1  1  1]\n"
          ]
        }
      ]
    },
    {
      "cell_type": "markdown",
      "source": [
        "Câu 5: Xây dựng hàm tìm giá trị lớn nhất có tên là tinh_tong(vector_a) có tham số đầu vào là 1\n",
        "vector a và giá trị trả về là tổng các phần tử của vector này. Áp dụng hàm này theo từng hàng của\n",
        "ma trận A ở Câu 1 và xuất kết quả ra màn hình."
      ],
      "metadata": {
        "id": "6XoUpjz9AY9d"
      }
    },
    {
      "cell_type": "code",
      "source": [
        "def tinh_tong(a):\n",
        "    return np.sum(a)\n",
        "\n",
        "def main():\n",
        "    print(\"Sum: \\n\",np.apply_along_axis(tinh_tong,1,a))\n",
        "\n",
        "if __name__ == '__main__':\n",
        "    main();\n"
      ],
      "metadata": {
        "colab": {
          "base_uri": "https://localhost:8080/"
        },
        "id": "lVKRh7VUA8Po",
        "outputId": "bc0b4e58-d103-4845-d215-27050e0d6140"
      },
      "execution_count": 7,
      "outputs": [
        {
          "output_type": "stream",
          "name": "stdout",
          "text": [
            "Sum: \n",
            " [ 867  891  826 1033  898  762  823  851  813  622  909  947 1003 1007\n",
            " 1018]\n"
          ]
        }
      ]
    },
    {
      "cell_type": "markdown",
      "source": [
        "Câu 6: Xây dựng hàm tìm giá trị lớn nhất có tên là tinh_tong_2(vector_a) có tham số đầu vào là\n",
        "1 vector a và giá trị trả về là tổng các phần tử có chỉ số lẻ (1 – 3 – 5 , .v.v.) của vector này. Áp\n",
        "dụng hàm này theo từng cột của ma trận A ở Câu 1 và xuất kết quả ra màn hình. Tiếp tục áp dụng\n",
        "hàm này theo từng hàng của ma trận A kể trên và xuất kết quả ra màn hình."
      ],
      "metadata": {
        "id": "nzj5w0KQBElN"
      }
    },
    {
      "cell_type": "code",
      "source": [
        "def tinh_tong_2(vector_a):\n",
        "    sum  = 0\n",
        "    for i in range(len(vector_a)):\n",
        "      if (i % 2 != 0):\n",
        "        sum  = sum +vector_a[i]\n",
        "    return sum\n",
        "\n",
        "def main():\n",
        "    print(\"Sum: \\n\",np.apply_along_axis(tinh_tong_2, 1, a))\n",
        "\n",
        "if __name__ == '__main__':\n",
        "    main();"
      ],
      "metadata": {
        "colab": {
          "base_uri": "https://localhost:8080/"
        },
        "id": "nLWb4aY-BJVt",
        "outputId": "580497b5-e645-442b-9d71-3b256d70ea73"
      },
      "execution_count": 8,
      "outputs": [
        {
          "output_type": "stream",
          "name": "stdout",
          "text": [
            "Sum: \n",
            " [392 436 417 536 347 351 343 385 375 282 386 396 480 412 486]\n"
          ]
        }
      ]
    }
  ]
}