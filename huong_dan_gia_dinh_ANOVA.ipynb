{
  "cells": [
    {
      "cell_type": "markdown",
      "metadata": {
        "id": "view-in-github",
        "colab_type": "text"
      },
      "source": [
        "<a href=\"https://colab.research.google.com/github/mooochiiii/exercise/blob/main/huong_dan_gia_dinh_ANOVA.ipynb\" target=\"_parent\"><img src=\"https://colab.research.google.com/assets/colab-badge.svg\" alt=\"Open In Colab\"/></a>"
      ]
    },
    {
      "cell_type": "markdown",
      "metadata": {
        "id": "rb7rDg9UYatP"
      },
      "source": [
        "PHÂN TÍCH ANOVA MỘT CHIỀU\n",
        "\n",
        "Phân tích ANOVA chấp nhận các giả định sau:\n",
        "\n",
        "(1) Tất cả các nhóm đều độc lập với nhau\n",
        "\n",
        "(2) Dữ liệu của mỗi nhóm đều tuân theo phân phối chuẩn. Tính chất này có thể được kiểm định bằng phương pháp Shapiro-Wilks.\n",
        "\n",
        "(3) Phương sai (variance) của các nhóm bằng nhau. Tính chất này có thể được kiểm định bằng phương pháp kiểm định Bartlett hay Levene.\n",
        "\n",
        "Nếu dữ liệu hiện có thỏa mãn các tính chất trên thì chúng ta mới tiến hành kiểm định ANOVA. Do vậy trước khi tiến hành kiểm định ANOVA, chúng ta cần thực hiện kiểm tra tập dữ liệu cần thỏa mãn 3 tính chất trên.\n",
        "    "
      ]
    },
    {
      "cell_type": "code",
      "source": [
        "import numpy as np\n",
        "import pandas as pd\n",
        "from scipy import stats"
      ],
      "metadata": {
        "id": "_IqbIvtR2BY2"
      },
      "execution_count": 2,
      "outputs": []
    },
    {
      "cell_type": "code",
      "execution_count": 3,
      "metadata": {
        "id": "ILopO9ThYatT"
      },
      "outputs": [],
      "source": [
        "#Bước 1: Hãy tạo một tập dữ liệu mẫu sample_1 với kích thước 100 tuân theo phân phối chuẩn\n",
        "sample_1 = np.random.normal(loc = 10, scale = 2, size = 100)"
      ]
    },
    {
      "cell_type": "code",
      "execution_count": 4,
      "metadata": {
        "id": "QAtSRgVrYatV"
      },
      "outputs": [],
      "source": [
        "#Bước 2: hãy tạo tập dữ liệu mẫu sample_2 với kích thước 100 tuân theo phân phối Poisson\n",
        "sample_2 = stats.poisson.rvs(mu = 10,\n",
        "                             size = 100)"
      ]
    },
    {
      "cell_type": "markdown",
      "metadata": {
        "id": "AubShwkpYatV"
      },
      "source": [
        "Hãy tham khảo các hướng dẫn sau để kiểm định tính chất thứ 2 bằng phương pháp Shapiro-Wilks đối với sample_1 và sample_2\n",
        "\n",
        "(1) [Tài liệu tham khảo scipy](https://docs.scipy.org/doc/scipy/reference/generated/scipy.stats.shapiro.html)\n",
        "\n",
        "(2) [Hướng dẫn cụ thể của statology](https://www.statology.org/shapiro-wilk-test-python/)"
      ]
    },
    {
      "cell_type": "markdown",
      "source": [
        "Phát biểu giả thuyết đối với mẫu thứ nhất:\n",
        "\n",
        "- Giả thuyết null: Mẫu thứ nhất được lấy từ  phân phối chuẩn\n",
        "- Giả thuyết thay thế: Mẫu thứ nhất không được lấy từ phân phối chuẩn\n",
        "\n",
        "Phát biểu giả thuyết đối với mẫu thứ hai:\n",
        "\n",
        "- Giả thuyết null: Mẫu thứ hai được lấy từ  phân phối chuẩn\n",
        "- Giả thuyết thay thế: Mẫu thứ hai không được lấy từ phân phối chuẩn"
      ],
      "metadata": {
        "id": "MeKHHyeHrBeK"
      }
    },
    {
      "cell_type": "code",
      "execution_count": 9,
      "metadata": {
        "id": "aYlp5vueYatW",
        "colab": {
          "base_uri": "https://localhost:8080/"
        },
        "outputId": "466e1c07-17e5-453a-d198-eca49f7ad780"
      },
      "outputs": [
        {
          "output_type": "stream",
          "name": "stdout",
          "text": [
            "P_value: 0.039667535573244095\n",
            "Có bằng chứng bác bỏ mẫu lấy từ phân phối chuẩn\n"
          ]
        }
      ],
      "source": [
        "#Code kiểm định tính chất thứ 2 của sample_1 \n",
        "shapiro_test_1, pvalue = stats.shapiro(sample_1)\n",
        "print(\"P_value:\", pvalue)\n",
        "if pvalue < 0.05:\n",
        "  print(\"Có bằng chứng bác bỏ mẫu lấy từ phân phối chuẩn\")\n",
        "else:\n",
        "  print(\"Không có bằng chứng bác bỏ mẫu lấy từ phân phối chuẩn\")"
      ]
    },
    {
      "cell_type": "code",
      "source": [
        "#Code kiểm định tính chất thứ 2 của sample_2\n",
        "shapiro_test_2, pvalue = stats.shapiro(sample_2)\n",
        "print(\"P_value:\", pvalue)\n",
        "if pvalue < 0.05:\n",
        "  print(\"Có bằng chứng bác bỏ mẫu lấy từ phân phối chuẩn\")\n",
        "else:\n",
        "  print(\"Không có bằng chứng bác bỏ mẫu lấy từ phân phối chuẩn\")"
      ],
      "metadata": {
        "colab": {
          "base_uri": "https://localhost:8080/"
        },
        "id": "Uh1JsPCKpLa9",
        "outputId": "c173e911-d2d2-4fd7-a654-db699bbeb5dc"
      },
      "execution_count": 10,
      "outputs": [
        {
          "output_type": "stream",
          "name": "stdout",
          "text": [
            "P_value: 0.08044227212667465\n",
            "Không có bằng chứng bác bỏ mẫu lấy từ phân phối chuẩn\n"
          ]
        }
      ]
    },
    {
      "cell_type": "markdown",
      "metadata": {
        "id": "o-l7cKPAYatW"
      },
      "source": [
        "Hãy tham khảo các hướng dẫn sau để kiểm định tính chất thứ 3 bằng kiểm định Bartlett hoặc kiểm định Levene\n",
        "\n",
        "(1) [Hướng dẫn tổng quát](https://www.marsja.se/levenes-bartletts-test-of-equality-homogeneity-of-variance-in-python/)\n",
        "\n",
        "(2) [Hướng dẫn ở stackoverflow](https://stackoverflow.com/questions/36141254/how-to-test-for-homoscedasticity-having-the-same-population-variance-in-python)\n",
        "\n",
        "(3) Sử dụng bài giảng về kiểm định Bartlett và Levene ở buổi trước"
      ]
    },
    {
      "cell_type": "markdown",
      "source": [
        "Phát biểu giả thuyết với mức ý nghĩa 0.05:\n",
        "- Giả thuyết null: Không có sự khác biệt về phương sai của các mẫu\n",
        "- Giả thuyết thay thể: Có sự khác biệt về phương sai của các mẫu\n",
        "\n",
        "Trong trường hợp mẫu theo phân phối chuẩn, ta dùng kiểm định Bartlett. \n",
        "\n",
        "Trường hợp mẫu không theo phân phối chuẩn, ta dùng kiểm định Levene"
      ],
      "metadata": {
        "id": "Apd_WXM431wl"
      }
    },
    {
      "cell_type": "code",
      "execution_count": 11,
      "metadata": {
        "id": "FrXHE2X5YatX",
        "colab": {
          "base_uri": "https://localhost:8080/"
        },
        "outputId": "df91c7c8-f609-4d59-fd7e-cd84d2daf21f"
      },
      "outputs": [
        {
          "output_type": "stream",
          "name": "stdout",
          "text": [
            "P value: 1.3027268919216548e-05\n"
          ]
        }
      ],
      "source": [
        "#Code kiểm định tính đồng nhất về phương sai của các nhóm\n",
        "stat_value ,p_value = stats.levene(sample_1, sample_2)\n",
        "print(f\"P value: {p_value}\")"
      ]
    }
  ],
  "metadata": {
    "kernelspec": {
      "display_name": "Python 3",
      "language": "python",
      "name": "python3"
    },
    "language_info": {
      "codemirror_mode": {
        "name": "ipython",
        "version": 3
      },
      "file_extension": ".py",
      "mimetype": "text/x-python",
      "name": "python",
      "nbconvert_exporter": "python",
      "pygments_lexer": "ipython3",
      "version": "3.7.3"
    },
    "colab": {
      "name": "huong-dan-gia-dinh-ANOVA.ipynb",
      "provenance": [],
      "collapsed_sections": [],
      "include_colab_link": true
    }
  },
  "nbformat": 4,
  "nbformat_minor": 0
}