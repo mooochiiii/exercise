{
  "nbformat": 4,
  "nbformat_minor": 0,
  "metadata": {
    "colab": {
      "provenance": [],
      "authorship_tag": "ABX9TyOwS6OVFIFdBN/XU7m2pO5l",
      "include_colab_link": true
    },
    "kernelspec": {
      "name": "python3",
      "display_name": "Python 3"
    },
    "language_info": {
      "name": "python"
    }
  },
  "cells": [
    {
      "cell_type": "markdown",
      "metadata": {
        "id": "view-in-github",
        "colab_type": "text"
      },
      "source": [
        "<a href=\"https://colab.research.google.com/github/mooochiiii/exercise/blob/main/bai1_h%E1%BB%93i_quy_tuy%E1%BA%BFn_t%C3%ADnh_%C4%91%C6%A1n_bi%E1%BA%BFn.ipynb\" target=\"_parent\"><img src=\"https://colab.research.google.com/assets/colab-badge.svg\" alt=\"Open In Colab\"/></a>"
      ]
    },
    {
      "cell_type": "code",
      "execution_count": 1,
      "metadata": {
        "id": "zHJhvkqJ7ZX1"
      },
      "outputs": [],
      "source": [
        "import os\n",
        "import numpy as np\n",
        "from matplotlib import pyplot as plt"
      ]
    },
    {
      "cell_type": "code",
      "source": [
        "def readData(folder, filename):\n",
        "    data = np.loadtxt(os.path.join(folder, filename), delimiter=',')\n",
        "    print('Original data shape', data.shape)\n",
        "    X = data[:,0]\n",
        "    print('X shape: ', X.shape)\n",
        "    y = data[:,1]\n",
        "    print('y shape: ', y.shape)\n",
        "    m = y.shape[0]\n",
        "    print('Number of training examples m = ', m)\n",
        "    X = np.stack([np.ones(m), X], axis=1)\n",
        "    print('Modified X shape: ', X.shape)\n",
        "    return X, y"
      ],
      "metadata": {
        "id": "ZmEMcKQ97lVV"
      },
      "execution_count": 2,
      "outputs": []
    }
  ]
}