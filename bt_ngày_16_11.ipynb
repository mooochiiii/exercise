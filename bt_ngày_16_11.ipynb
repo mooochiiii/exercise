{
  "nbformat": 4,
  "nbformat_minor": 0,
  "metadata": {
    "colab": {
      "name": "bt ngày 16/11.ipynb",
      "provenance": [],
      "authorship_tag": "ABX9TyO820P5igv4z6XYtNuPcxuJ",
      "include_colab_link": true
    },
    "kernelspec": {
      "name": "python3",
      "display_name": "Python 3"
    },
    "language_info": {
      "name": "python"
    }
  },
  "cells": [
    {
      "cell_type": "markdown",
      "metadata": {
        "id": "view-in-github",
        "colab_type": "text"
      },
      "source": [
        "<a href=\"https://colab.research.google.com/github/mooochiiii/exercise/blob/main/bt_ng%C3%A0y_16_11.ipynb\" target=\"_parent\"><img src=\"https://colab.research.google.com/assets/colab-badge.svg\" alt=\"Open In Colab\"/></a>"
      ]
    },
    {
      "cell_type": "code",
      "metadata": {
        "colab": {
          "base_uri": "https://localhost:8080/"
        },
        "id": "-FFAEKQla1Vq",
        "outputId": "4e440bdf-76a3-4799-94d4-eb9a00e2aa56"
      },
      "source": [
        "x = []\n",
        "x.append(18)\n",
        "x.append('huế')\n",
        "y = [12, 45, -1, -0.56, \"abc\"]\n",
        "x.extend(y)\n",
        "print('giá trị của x = ',x)\n",
        "print('giá trị đầu của x = ',x[0],'\\ngiá trị cuối của x = ',x[-1])\n",
        "print('giá trị đầu tiên đến giá trị thứ 5 trong x là: ',x[0:4])\n",
        "print('giá trị thứ 3 đến giá trị cuối cùng của x là: ',x[2:])"
      ],
      "execution_count": 4,
      "outputs": [
        {
          "output_type": "stream",
          "name": "stdout",
          "text": [
            "giá trị của x =  [18, 'huế', 12, 45, -1, -0.56, 'abc']\n",
            "giá trị đầu của x =  18 \n",
            "giá trị cuối của x =  abc\n",
            "giá trị đầu tiên đến giá trị thứ 5 trong x là:  [18, 'huế', 12, 45]\n",
            "giá trị thứ 3 đến giá trị cuối cùng của x là:  [12, 45, -1, -0.56, 'abc']\n"
          ]
        }
      ]
    }
  ]
}