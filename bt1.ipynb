{
  "nbformat": 4,
  "nbformat_minor": 0,
  "metadata": {
    "colab": {
      "name": "bt1.ipynb",
      "provenance": [],
      "authorship_tag": "ABX9TyOIXI0Lz+m3Pm5hllFSTM3R",
      "include_colab_link": true
    },
    "kernelspec": {
      "name": "python3",
      "display_name": "Python 3"
    },
    "language_info": {
      "name": "python"
    }
  },
  "cells": [
    {
      "cell_type": "markdown",
      "metadata": {
        "id": "view-in-github",
        "colab_type": "text"
      },
      "source": [
        "<a href=\"https://colab.research.google.com/github/mooochiiii/exercise/blob/main/bt1.ipynb\" target=\"_parent\"><img src=\"https://colab.research.google.com/assets/colab-badge.svg\" alt=\"Open In Colab\"/></a>"
      ]
    },
    {
      "cell_type": "code",
      "metadata": {
        "colab": {
          "base_uri": "https://localhost:8080/"
        },
        "id": "dFiLOUM6cB4O",
        "outputId": "355e2b26-8366-4df6-f19d-6479306b9d78"
      },
      "source": [
        "print ('tuân thủ quy tắc 5kđể phòng chống COVID')"
      ],
      "execution_count": 1,
      "outputs": [
        {
          "output_type": "stream",
          "name": "stdout",
          "text": [
            "tuân thủ quy tắc 5kđể phòng chống COVID\n"
          ]
        }
      ]
    }
  ]
}