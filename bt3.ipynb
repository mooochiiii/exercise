{
  "nbformat": 4,
  "nbformat_minor": 0,
  "metadata": {
    "colab": {
      "name": "bt3.ipynb",
      "provenance": [],
      "collapsed_sections": [],
      "authorship_tag": "ABX9TyMqS0uffZgEl+pcx7rXdf/d",
      "include_colab_link": true
    },
    "kernelspec": {
      "name": "python3",
      "display_name": "Python 3"
    },
    "language_info": {
      "name": "python"
    }
  },
  "cells": [
    {
      "cell_type": "markdown",
      "metadata": {
        "id": "view-in-github",
        "colab_type": "text"
      },
      "source": [
        "<a href=\"https://colab.research.google.com/github/mooochiiii/exercise/blob/main/bt3.ipynb\" target=\"_parent\"><img src=\"https://colab.research.google.com/assets/colab-badge.svg\" alt=\"Open In Colab\"/></a>"
      ]
    },
    {
      "cell_type": "code",
      "metadata": {
        "colab": {
          "base_uri": "https://localhost:8080/"
        },
        "id": "pT-ZzDVHvpnr",
        "outputId": "c2d390b0-161b-4837-ae4b-e8524fb9dba2"
      },
      "source": [
        "# tính tổng\n",
        "so = [1,2,3,4]\n",
        "print(sum(so))"
      ],
      "execution_count": 1,
      "outputs": [
        {
          "output_type": "stream",
          "name": "stdout",
          "text": [
            "10\n"
          ]
        }
      ]
    },
    {
      "cell_type": "code",
      "metadata": {
        "colab": {
          "base_uri": "https://localhost:8080/"
        },
        "id": "_absvvDPwqDK",
        "outputId": "4f9ea23a-a776-4b96-d9da-2cd147506e76"
      },
      "source": [
        "# nhân cả list\n",
        "import numpy\n",
        "so = [1,2,3]\n",
        "print(numpy.prod(so))"
      ],
      "execution_count": 25,
      "outputs": [
        {
          "output_type": "stream",
          "name": "stdout",
          "text": [
            "6\n"
          ]
        }
      ]
    },
    {
      "cell_type": "code",
      "metadata": {
        "colab": {
          "base_uri": "https://localhost:8080/"
        },
        "id": "wp5suEFSxWbr",
        "outputId": "53f928a4-64f3-4e55-a952-090a5f5326d4"
      },
      "source": [
        "# số lớn nhất\n",
        "so = [1,3,4,5,7]\n",
        "print(max(so))"
      ],
      "execution_count": 3,
      "outputs": [
        {
          "output_type": "stream",
          "name": "stdout",
          "text": [
            "7\n"
          ]
        }
      ]
    },
    {
      "cell_type": "code",
      "metadata": {
        "colab": {
          "base_uri": "https://localhost:8080/"
        },
        "id": "w3Vzpj_fxlS1",
        "outputId": "03f14149-23e8-4082-f981-117a45d63576"
      },
      "source": [
        "# so nhỏ nhat\n",
        "so = [1,3,4,5,7]\n",
        "print(min(so))"
      ],
      "execution_count": 4,
      "outputs": [
        {
          "output_type": "stream",
          "name": "stdout",
          "text": [
            "1\n"
          ]
        }
      ]
    },
    {
      "cell_type": "code",
      "metadata": {
        "colab": {
          "base_uri": "https://localhost:8080/"
        },
        "id": "sFLiagdKxxQy",
        "outputId": "a9355ba8-bc24-4e3d-dc97-781325ed62c0"
      },
      "source": [
        "# thứ tự tăng dần\n",
        "so = [1,6,4,5,7]\n",
        "so.sort()\n",
        "print(so)"
      ],
      "execution_count": 16,
      "outputs": [
        {
          "output_type": "stream",
          "name": "stdout",
          "text": [
            "[1, 4, 5, 6, 7]\n"
          ]
        }
      ]
    },
    {
      "cell_type": "code",
      "metadata": {
        "colab": {
          "base_uri": "https://localhost:8080/"
        },
        "id": "IOh9w2vhyMyM",
        "outputId": "5fdec9c0-2cdf-41ab-9e7a-0f8ca7fda173"
      },
      "source": [
        "# giảm\n",
        "so = [1,6,5,3]\n",
        "giam = sorted(so, reverse = True)\n",
        "print(giam)\n"
      ],
      "execution_count": 17,
      "outputs": [
        {
          "output_type": "stream",
          "name": "stdout",
          "text": [
            "[6, 5, 3, 1]\n"
          ]
        }
      ]
    },
    {
      "cell_type": "code",
      "metadata": {
        "colab": {
          "base_uri": "https://localhost:8080/"
        },
        "id": "8_vXASuwyNyx",
        "outputId": "cb65262e-d74d-4540-a1d4-7f7397e4dc17"
      },
      "source": [
        "so = [1,2,4,5]\n",
        "print(len(so))"
      ],
      "execution_count": 6,
      "outputs": [
        {
          "output_type": "stream",
          "name": "stdout",
          "text": [
            "4\n"
          ]
        }
      ]
    },
    {
      "cell_type": "code",
      "metadata": {
        "colab": {
          "base_uri": "https://localhost:8080/"
        },
        "id": "r6GuNg-1ya4S",
        "outputId": "e17907d3-c539-491f-c014-0aa3c89454b5"
      },
      "source": [
        "# lấy phần tử ngẫu nhiên \n",
        "import random\n",
        "so = [1,3,5,6]\n",
        "ngaunhien=random.choice(so)\n",
        "print(ngaunhien)"
      ],
      "execution_count": 23,
      "outputs": [
        {
          "output_type": "stream",
          "name": "stdout",
          "text": [
            "5\n"
          ]
        }
      ]
    },
    {
      "cell_type": "code",
      "metadata": {
        "colab": {
          "base_uri": "https://localhost:8080/"
        },
        "id": "umbkazPPyxR-",
        "outputId": "85889ed4-2042-48fb-c7ad-d955129a275d"
      },
      "source": [
        "# nối 2 ds\n",
        "so1 = [1,2,3]\n",
        "so2 = [4,5,6]\n",
        "print(so1 + so2)"
      ],
      "execution_count": 9,
      "outputs": [
        {
          "output_type": "stream",
          "name": "stdout",
          "text": [
            "[1, 2, 3, 4, 5, 6]\n"
          ]
        }
      ]
    }
  ]
}