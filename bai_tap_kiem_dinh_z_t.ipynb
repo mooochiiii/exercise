{
  "cells": [
    {
      "cell_type": "markdown",
      "metadata": {
        "id": "view-in-github",
        "colab_type": "text"
      },
      "source": [
        "<a href=\"https://colab.research.google.com/github/mooochiiii/exercise/blob/main/bai_tap_kiem_dinh_z_t.ipynb\" target=\"_parent\"><img src=\"https://colab.research.google.com/assets/colab-badge.svg\" alt=\"Open In Colab\"/></a>"
      ]
    },
    {
      "cell_type": "markdown",
      "metadata": {
        "id": "YBwtqjOM5v7w"
      },
      "source": [
        "XÂY DỰNG CHƯƠNG TRÌNH KIỂM ĐỊNH Z (HOẶC T) CHO CÁC BÀI TẬP SAU\n",
        "\n",
        "Gợi ý:\n",
        "\n",
        "- Số liệu được sinh ngẫu nhiên theo phân phối chuẩn\n",
        "- Sử dụng gói phần mềm statsmodels để tiến hành kiểm định\n",
        "- Đối với các bài tập kiểm định giả thuyết thì sinh viên cần phát biểu các giả thuyết (bằng tiếng Việt) $H_{0}$ và $H_{a}$ trước khi lập trình kiểm định"
      ]
    },
    {
      "cell_type": "code",
      "source": [
        "from scipy import stats\n",
        "import numpy as np\n",
        "import math\n",
        "from statsmodels.stats.weightstats import ztest"
      ],
      "metadata": {
        "id": "XOzQHvIG592V",
        "outputId": "c5e3cf20-24e5-4583-fcf2-dd0d728b012c",
        "colab": {
          "base_uri": "https://localhost:8080/"
        }
      },
      "execution_count": 1,
      "outputs": [
        {
          "output_type": "stream",
          "name": "stderr",
          "text": [
            "/usr/local/lib/python3.7/dist-packages/statsmodels/tools/_testing.py:19: FutureWarning: pandas.util.testing is deprecated. Use the functions in the public API at pandas.testing instead.\n",
            "  import pandas.util.testing as tm\n"
          ]
        }
      ]
    },
    {
      "cell_type": "markdown",
      "metadata": {
        "id": "_BkgCdht5v7z"
      },
      "source": [
        "Bài 1: You’re a Q/C inspector for Gallo. The sample standard deviation for 2-liter bottles is .05 liters.  A random sample of 100 bottles showed sasmple mean = 1.99 liters.  What is the 90%  confidence interval estimate of the true mean amount in 2-liter bottles? "
      ]
    },
    {
      "cell_type": "code",
      "execution_count": 2,
      "metadata": {
        "id": "qdUMc6df5v70",
        "outputId": "541c44d1-abba-4577-a12b-4756a2022ed5",
        "colab": {
          "base_uri": "https://localhost:8080/"
        }
      },
      "outputs": [
        {
          "output_type": "execute_result",
          "data": {
            "text/plain": [
              "(1.6221995477099427, 2.357800452290057)"
            ]
          },
          "metadata": {},
          "execution_count": 2
        }
      ],
      "source": [
        "sample_mean = 1.99\n",
        "sample_std = 0.05\n",
        "# Tính sai số chuẩn:\n",
        "std_err = sample_std / (math.sqrt(sample_std))\n",
        "stats.norm.interval(alpha= 0.90, loc = sample_mean, scale = std_err)"
      ]
    },
    {
      "cell_type": "markdown",
      "metadata": {
        "id": "kDmxjfeI5v71"
      },
      "source": [
        "Bài 2: You’re a time study analyst in manufacturing.  You’ve recorded the following task times (min.): 3.6, 4.2, 4.0, 3.5, 3.8, 3.1. What is the 90% confidence interval estimate of the population mean task time? "
      ]
    },
    {
      "cell_type": "code",
      "execution_count": 3,
      "metadata": {
        "id": "964ovWup5v71",
        "outputId": "ffc46812-92a4-41cd-d0ca-2a7beafadb20",
        "colab": {
          "base_uri": "https://localhost:8080/"
        }
      },
      "outputs": [
        {
          "output_type": "execute_result",
          "data": {
            "text/plain": [
              "(3.3792758632100677, 4.020724136789934)"
            ]
          },
          "metadata": {},
          "execution_count": 3
        }
      ],
      "source": [
        "sample_data = [3.6, 4.2, 4, 3.5, 3.8, 3.1]\n",
        "# Cỡ mẫu:\n",
        "sample_n = 6\n",
        "# Trung bình mẫu:\n",
        "sample_mean = np.mean(sample_data)\n",
        "# Sai số chuẩn của mẫu\n",
        "std_err = stats.sem(sample_data)\n",
        "stats.t.interval(alpha = 0.90,df = sample_n - 1, loc = sample_mean, scale = std_err)"
      ]
    },
    {
      "cell_type": "markdown",
      "metadata": {
        "id": "IPqcIJ5u5v72"
      },
      "source": [
        "Bài 3: Does an average box of cereal contain 368 grams of cereal?  A random sample of 25 boxes had $\\overline{\\rm x}$ = 372.5.  The company has specified $\\sigma$ to be 25 grams.  Test at the .05 level of significance."
      ]
    },
    {
      "cell_type": "code",
      "execution_count": 4,
      "metadata": {
        "id": "oFvKjOo05v72",
        "outputId": "6b190147-6d4f-449b-9f62-a4aee016395b",
        "colab": {
          "base_uri": "https://localhost:8080/"
        }
      },
      "outputs": [
        {
          "output_type": "stream",
          "name": "stdout",
          "text": [
            "[354.63526472 381.14088548 398.04357727 365.4791193  386.73923208\n",
            " 350.90001421 359.50308296 376.26991523 370.11407897 369.29417568\n",
            " 379.63779219 360.08242226 363.50444965 403.31817674 403.14324272\n",
            " 340.13453734 400.17631584 335.09922558 373.47317349 368.46138294\n",
            " 382.64957244 359.91096416 396.27143128 394.34054667 370.80874574]\n",
            "0.13130638254927918\n",
            "Chưa có bằng chứng để bác bỏ giả thuyết H0\n"
          ]
        }
      ],
      "source": [
        "# Tạo mẫu:\n",
        "sample = np.random.normal(loc = 372.5, scale = 25, size = 25)\n",
        "print(sample)\n",
        "\n",
        "null_mean = 368\n",
        "alpha = 0.05\n",
        "\n",
        "# Kiểm định z:\n",
        "ztest_Score, p_value= ztest(sample, value = null_mean, alternative='two-sided')\n",
        "print(p_value)\n",
        "if(p_value <  alpha):\n",
        "  print(\"Có bằng chứng để bác bỏ giả thuyết H0\")\n",
        "else:\n",
        "  print(\"Chưa có bằng chứng để bác bỏ giả thuyết H0\")"
      ]
    },
    {
      "cell_type": "markdown",
      "metadata": {
        "id": "j49qJ6bA5v73"
      },
      "source": [
        "Bài 4: You’re a Q/C inspector.  You want to find out if a new machine is making electrical cords to customer specification: average breaking strength of 70 lb. with $\\sigma$ = 3.5 lb.  You take a sample of 36 cords & compute a sample mean of 69.7 lb.  At the .05 level of significance, is there evidence that the machine is not meeting the average breaking strength?"
      ]
    },
    {
      "cell_type": "code",
      "execution_count": 5,
      "metadata": {
        "id": "0bXBv7uc5v74",
        "outputId": "7ebebbdf-7b49-4564-8d31-dd573018e113",
        "colab": {
          "base_uri": "https://localhost:8080/"
        }
      },
      "outputs": [
        {
          "output_type": "stream",
          "name": "stdout",
          "text": [
            "[65.28375693 72.41463101 66.31317837 66.41907887 69.22865374 73.8457258\n",
            " 74.38129402 73.18648453 70.25818105 71.60101749 75.36837783 65.0478236\n",
            " 62.52718822 69.20377815 73.49317184 77.42221169 77.18989503 66.50224749\n",
            " 68.22009014 67.35705844 69.24797283 69.71431557 70.55604129 71.32077628\n",
            " 65.00817042 77.42709997 63.50893046 69.931376   59.56747037 68.98297719\n",
            " 73.18282921 64.78708601 70.03729089 72.58442471 69.56652355 75.36402506]\n",
            "0.8795668091129069\n",
            "Chưa có bằng chứng để bác bỏ giả thuyết H0\n"
          ]
        }
      ],
      "source": [
        "# Tạo mẫu:\n",
        "sample = np.random.normal(loc = 69.7, scale = 3.5, size = 36)\n",
        "print(sample)\n",
        "\n",
        "#Xác định các thông số\n",
        "null_mean = 70\n",
        "alpha = 0.05\n",
        "\n",
        "# Kiểm định z:\n",
        "ztest_Score, p_value= ztest(sample, value = null_mean, alternative='two-sided')\n",
        "print(p_value)\n",
        "if(p_value <  alpha):\n",
        "  print(\"Có bằng chứng để bác bỏ giả thuyết H0\")\n",
        "else:\n",
        "  print(\"Chưa có bằng chứng để bác bỏ giả thuyết H0\")"
      ]
    },
    {
      "cell_type": "markdown",
      "metadata": {
        "id": "5nIJy-J95v74"
      },
      "source": [
        "Bài 5: Does an average box of cereal contain more than 368 grams of cereal?  A random sample of 25 boxes showed $\\overline{\\rm x}$ =  372.5.  The company has specified $\\sigma$ to be 25 grams.  Test at the .05 level of significance."
      ]
    },
    {
      "cell_type": "code",
      "execution_count": 6,
      "metadata": {
        "id": "Xie-P9tx5v75",
        "outputId": "1f1231f9-de56-4791-e1d9-12d90535d600",
        "colab": {
          "base_uri": "https://localhost:8080/"
        }
      },
      "outputs": [
        {
          "output_type": "stream",
          "name": "stdout",
          "text": [
            "[369.49615025 377.78050496 307.31127008 340.64021367 399.10998537\n",
            " 412.8104593  324.90223567 361.04408844 365.76415964 344.51345341\n",
            " 365.12150317 363.96422549 339.90397296 352.92900895 336.42877245\n",
            " 378.88843057 350.69046752 351.62455545 376.44355789 355.20392627\n",
            " 356.61659897 363.31259398 368.24668832 366.30484986 402.73201698]\n",
            "0.9246344330258575\n",
            "Chưa có bằng chứng để bác bỏ giả thuyết H0\n"
          ]
        }
      ],
      "source": [
        "# Tạo mẫu:\n",
        "sample = np.random.normal(loc = 372.5, scale = 25, size = 25)\n",
        "print(sample)\n",
        "\n",
        "# Xác định các thông số:\n",
        "null_mean = 368\n",
        "alpha = 0.05\n",
        "\n",
        "# Kiểm định t:\n",
        "ztest_Score, p_value= ztest(sample, value = null_mean, alternative='larger')\n",
        "print(p_value)\n",
        "if(p_value <  alpha):\n",
        "  print(\"Có bằng chứng để bác bỏ giả thuyết H0\")\n",
        "else:\n",
        "  print(\"Chưa có bằng chứng để bác bỏ giả thuyết H0\")\n",
        "\n",
        "  "
      ]
    },
    {
      "cell_type": "markdown",
      "metadata": {
        "id": "zHG_xylP5v76"
      },
      "source": [
        "Bài 6: You’re an analyst for Ford.  You want to find out if the average miles per gallon of Escorts is at least 32 mpg. Similar models have a standard deviation of 3.8 mpg. You take a sample of 60 Escorts & compute a sample mean of 30.7 mpg. At the .01 level of significance, is there evidence that the miles per gallon is less than 32?"
      ]
    },
    {
      "cell_type": "code",
      "execution_count": 7,
      "metadata": {
        "id": "8V8SkRpq5v76",
        "outputId": "a669ca91-918b-4a23-b9ab-56b2df690cb8",
        "colab": {
          "base_uri": "https://localhost:8080/"
        }
      },
      "outputs": [
        {
          "output_type": "stream",
          "name": "stdout",
          "text": [
            "[26.8825319  22.30389522 27.67655654 31.32659822 29.11677188 29.80857178\n",
            " 27.51746891 20.49164598 32.61143369 27.58853229 39.34702348 26.17810371\n",
            " 29.18000327 37.10394489 33.46127101 34.76064697 23.96922573 17.40923492\n",
            " 38.49169319 33.72153242 26.63052039 29.76678513 21.89471893 32.87635005\n",
            " 25.80445135 31.85142674 33.51298551 26.47265221 29.82502979 33.55078987\n",
            " 36.08924974 29.46669759 25.36633254 22.95076561 33.09053827 24.50134095\n",
            " 33.96264951 31.64447338 22.81616647 34.27397784 29.76069366 28.67733789\n",
            " 29.61990213 31.68557241 30.12210985 32.58243582 32.6942221  33.34488461\n",
            " 30.47499796 33.45081176 31.34403246 30.60729251 33.59091573 33.28869657\n",
            " 27.10233897 32.57649976 36.60208373 25.78978317 34.62808968 27.30006783]\n",
            "0.0003270105993321321\n",
            "Có bằng chứng để bác bỏ giả thuyết H0\n"
          ]
        }
      ],
      "source": [
        "# Tạo mẫu:\n",
        "sample = np.random.normal(loc = 30.7, scale = 3.8, size = 60)\n",
        "print(sample)\n",
        "\n",
        "# Xác định các thông số:\n",
        "null_mean = 32\n",
        "alpha = 0.01\n",
        "\n",
        "# Kiểm định z:\n",
        "ztest_Score, p_value= ztest(sample, value = null_mean, alternative='smaller')\n",
        "print(p_value)\n",
        "if(p_value <  alpha):\n",
        "  print(\"Có bằng chứng để bác bỏ giả thuyết H0\")\n",
        "else:\n",
        "  print(\"Chưa có bằng chứng để bác bỏ giả thuyết H0\")"
      ]
    },
    {
      "cell_type": "markdown",
      "metadata": {
        "id": "AkN9iiTb5v76"
      },
      "source": [
        "Bài 7: Does an average box of cereal contain 368 grams of cereal?  A random sample of 25 boxes showed $\\overline{\\rm x}$ = 372.5.  The company has specified $\\sigma$ to be 15 grams.  Find the p-Value."
      ]
    },
    {
      "cell_type": "code",
      "execution_count": 8,
      "metadata": {
        "id": "C6RS-5Yq5v77",
        "outputId": "a432ec75-e5b1-418a-d00f-9e63a3d957b1",
        "colab": {
          "base_uri": "https://localhost:8080/"
        }
      },
      "outputs": [
        {
          "output_type": "stream",
          "name": "stdout",
          "text": [
            "[368.46279273 371.95726821 358.23311201 381.72797654 345.88922753\n",
            " 362.53594344 355.84179956 372.40376143 381.61691083 408.67110214\n",
            " 369.99305397 374.76749949 361.83324782 347.21674168 365.28546994\n",
            " 393.2203278  388.53305747 362.67762374 379.47054143 391.21727496\n",
            " 384.30286322 378.61899123 384.0728775  366.58438598 386.41766345]\n",
            "p-value:  0.05643382409479391\n"
          ]
        }
      ],
      "source": [
        "# Tạo mẫu:\n",
        "sample = np.random.normal(loc = 372.5, scale = 15, size = 25)\n",
        "print(sample)\n",
        "\n",
        "# Xác định thông số:\n",
        "null_mean = 368\n",
        "\n",
        "ztest_Score, p_value= ztest(sample, value = null_mean , alternative='two-sided')\n",
        "print('p-value: ', p_value)"
      ]
    },
    {
      "cell_type": "markdown",
      "metadata": {
        "id": "8V0H_Hq05v77"
      },
      "source": [
        "Bài 8: Does an average box of cereal contain more than 368 grams of cereal?  A random sample of 25 boxes showed $\\overline{\\rm x}$ = 372.5.  The company has specified $\\sigma$ to be 15 grams.  Find the p-Value."
      ]
    },
    {
      "cell_type": "code",
      "execution_count": 9,
      "metadata": {
        "id": "CHXisRIw5v77",
        "outputId": "06ef591b-364b-4d2c-b084-b4f1daa159e3",
        "colab": {
          "base_uri": "https://localhost:8080/"
        }
      },
      "outputs": [
        {
          "output_type": "stream",
          "name": "stdout",
          "text": [
            "[385.46961141 364.22354982 358.52257851 360.7176482  361.2052781\n",
            " 368.26506701 388.35717442 366.31675719 370.80114619 398.18064241\n",
            " 371.25023784 369.55222232 406.67039548 364.17339995 366.19486543\n",
            " 379.22663512 366.66772842 387.73749087 380.42311888 370.81537987\n",
            " 377.65058649 352.45630811 391.20529554 381.41172431 336.84744531]\n",
            "p-value:  0.099058993587539\n"
          ]
        }
      ],
      "source": [
        "# Tạo mẫu:\n",
        "sample = np.random.normal(loc = 372.5, scale = 15, size = 25)\n",
        "print(sample)\n",
        "\n",
        "# Xác định thông số:\n",
        "null_mean = 368\n",
        "\n",
        "ztest_Score, p_value= ztest(sample, value = null_mean , alternative='two-sided')\n",
        "print('p-value: ', p_value)"
      ]
    },
    {
      "cell_type": "markdown",
      "metadata": {
        "id": "zDkrpJAl5v77"
      },
      "source": [
        "Bài 9: You’re an analyst for Ford.  You want to find out if the average miles per gallon of Escorts is less than 32 mpg.   Similar models have a standard deviation of 3.8 mpg.  You take a sample of 60 Escorts & compute a sample mean of 30.7 mpg.  What is the value of the observed level of significance (p-Value)?"
      ]
    },
    {
      "cell_type": "code",
      "execution_count": 10,
      "metadata": {
        "id": "r9dTcIBL5v78",
        "outputId": "f04aec64-95e5-40ae-c981-1710f1765a50",
        "colab": {
          "base_uri": "https://localhost:8080/"
        }
      },
      "outputs": [
        {
          "output_type": "stream",
          "name": "stdout",
          "text": [
            "[36.69727624 30.15685111 28.18857332 25.78009541 32.11678314 34.31220736\n",
            " 29.67878945 35.50667329 28.5799611  26.34595648 37.72067144 29.7950249\n",
            " 32.00250762 27.42216227 42.48339584 33.49226348 32.10520825 29.28251339\n",
            " 31.81303818 29.92105959 32.41610046 27.30356885 31.64590791 25.80029025\n",
            " 32.47531087 31.5455295  26.60200585 29.71222622 23.21161942 31.69213757\n",
            " 26.18741912 31.2797957  26.24233673 28.12922901 36.67428432 29.94918297\n",
            " 33.59674402 33.46573012 29.04798079 29.27074222 29.37323277 29.71910859\n",
            " 36.40308004 28.261438   27.7953338  41.31058179 29.34961543 32.32907162\n",
            " 26.92629426 24.43034684 31.02738424 31.48526337 30.91297144 28.01553354\n",
            " 31.67542434 37.94742115 35.93801635 29.3444181  36.73458785 29.76313134]\n",
            "p-value:  0.021454950164573564\n"
          ]
        }
      ],
      "source": [
        "# Tạo mẫu:\n",
        "sample = np.random.normal(loc = 30.7, scale = 3.8, size = 60)\n",
        "print(sample)\n",
        "\n",
        "# Xác định các thông số:\n",
        "null_mean = 32\n",
        "\n",
        "# Kiểm định z:\n",
        "ztest_Score, p_value= ztest(sample, value = null_mean, alternative='smaller')\n",
        "print(\"p-value: \",p_value)"
      ]
    },
    {
      "cell_type": "markdown",
      "metadata": {
        "id": "Slr7sBWW5v78"
      },
      "source": [
        "Bài 10: Does an average box of cereal contain 368 grams of cereal?  A random sample of 36 boxes had a mean of 372.5 and a standard deviation of 12 grams. Test at the .05 level of significance."
      ]
    },
    {
      "cell_type": "code",
      "execution_count": 11,
      "metadata": {
        "id": "GXPQrgm_5v79",
        "outputId": "6f2e5efc-c171-4a73-b767-5da095853656",
        "colab": {
          "base_uri": "https://localhost:8080/"
        }
      },
      "outputs": [
        {
          "output_type": "stream",
          "name": "stdout",
          "text": [
            "[375.39203126 375.94090577 357.01290179 378.99390329 354.89959516\n",
            " 370.15135886 385.59489222 397.82878433 373.96326372 373.92583544\n",
            " 368.51873273 376.49141441 370.34061794 345.95038014 380.02160311\n",
            " 364.54904417 373.63598597 381.88357746 373.37684251 354.38220644\n",
            " 366.73891734 373.8117867  376.63012671 368.39499717 372.1289255\n",
            " 385.17277648 363.26181099 368.62367386 388.8966028  366.47078492\n",
            " 391.98569475 362.41634494 395.88698522 386.06452696 367.18079118\n",
            " 381.95496666]\n",
            "P Value = 0.00572745718545753\n",
            "Có bằng chứng để bác bỏ giả thuyết H0\n"
          ]
        }
      ],
      "source": [
        "# Tạo mẫu:\n",
        "sample = np.random.normal(loc = 372.5, scale = 12, size = 36)\n",
        "print(sample)\n",
        "\n",
        "# Xác định các thông số:\n",
        "null_mean = 368\n",
        "alpha = 0.05\n",
        "\n",
        "# Tạo hàm t_test:\n",
        "def t_test(sample, hypoth_value, sig_level, test_type):\n",
        "    sample_mean = sample.mean()\n",
        "    sample_st_dev = sample.std()\n",
        "    sample_size = len(sample)\n",
        "    test_statistic = (sample_mean - hypoth_value) / \\\n",
        "                     (sample_st_dev/(math.sqrt(sample_size)))\n",
        "    if test_type == 'larger':\n",
        "        p_value = stats.t.cdf(test_statistic,df=sample_size-1)\n",
        "    if test_type == 'smaller':\n",
        "        p_value = 1 - stats.t.cdf(test_statistic,df=sample_size-1)\n",
        "    if test_type == 'two-sided':\n",
        "        p_value = 2 * (1 - stats.t.cdf(abs(test_statistic), \\\n",
        "                                    df=sample_size-1))\n",
        "    print(f'P Value = {p_value}')\n",
        "    if p_value < sig_level:\n",
        "        print(\"Có bằng chứng để bác bỏ giả thuyết H0\")\n",
        "    else:\n",
        "        print(\"Chưa có bằng chứng để bác bỏ giả thuyết H0\")\n",
        "        \n",
        "# Kiểm định t\n",
        "t_test(sample, null_mean, alpha, \"two-sided\")"
      ]
    },
    {
      "cell_type": "markdown",
      "metadata": {
        "id": "aL6I6jmv5v79"
      },
      "source": [
        "Bài 11: You work for the FTC.  A manufacturer of detergent claims that the mean weight of detergent is 3.25 lb.  You take a random sample of 64 containers.  You calculate the sample average to be 3.238 lb. with a standard deviation of .117 lb.  At the .01 level of significance, is the manufacturer correct?"
      ]
    },
    {
      "cell_type": "code",
      "execution_count": 12,
      "metadata": {
        "id": "ExXaevuT5v79",
        "outputId": "e64015fd-15b9-459b-f79c-b28c1ea01ca8",
        "colab": {
          "base_uri": "https://localhost:8080/"
        }
      },
      "outputs": [
        {
          "output_type": "stream",
          "name": "stdout",
          "text": [
            "[3.20275888 3.45077826 3.19371132 3.0407499  3.21032372 3.30051089\n",
            " 3.19177062 3.33415891 3.28984089 3.09235648 3.42252998 3.40610163\n",
            " 3.2619049  3.13759196 3.42967862 3.06328575 3.22752496 3.32639963\n",
            " 3.18230137 3.25128587 3.25933678 3.07284196 3.32752089 3.26653817\n",
            " 3.29544246 3.30066417 3.2910443  3.28687759 3.23661391 3.27220427\n",
            " 3.19203387 2.98253742 3.30857186 3.02904236 3.20980093 3.3398921\n",
            " 3.18038333 3.36985587 3.33713898 3.34677876 2.97502002 3.23024338\n",
            " 3.37178526 3.18271254 3.34839643 3.2038922  3.40305856 3.11421782\n",
            " 3.04893347 3.35620177 3.19010436 3.27223291 3.3901342  3.33313944\n",
            " 3.30839916 3.29598496 3.16704033 3.23988728 3.24819193 3.17092376\n",
            " 3.21048529 3.39441134 3.03839784 3.3199622 ]\n",
            "P Value = 0.7697082530149801\n",
            "Chưa có bằng chứng để bác bỏ giả thuyết H0\n"
          ]
        }
      ],
      "source": [
        "# Tạo mẫu:\n",
        "sample = np.random.normal(loc = 3.238, scale = 0.117, size = 64)\n",
        "print(sample)\n",
        "\n",
        "# Xác định các thông số:\n",
        "null_mean = 3.25\n",
        "alpha = 0.01\n",
        "\n",
        "# Kiểm định t\n",
        "t_test(sample, null_mean, alpha, \"two-sided\")"
      ]
    },
    {
      "cell_type": "markdown",
      "metadata": {
        "id": "No2AucSx5v7-"
      },
      "source": [
        "Bài 12: Is the average capacity of batteries less than 140 ampere-hours?  A random sample of 20 batteries had a mean of 138.47 and a standard deviation of 2.66.  Assume a normal distribution. Test at the .05 level of significance."
      ]
    },
    {
      "cell_type": "code",
      "execution_count": 13,
      "metadata": {
        "id": "anMMLj5R5v7-",
        "outputId": "e8a6e4ee-e650-495a-a513-f8c5ca4cef2c",
        "colab": {
          "base_uri": "https://localhost:8080/"
        }
      },
      "outputs": [
        {
          "output_type": "stream",
          "name": "stdout",
          "text": [
            "[137.34237223 138.07426367 135.15979634 136.84443896 136.25553214\n",
            " 145.50772061 136.12292568 141.67235477 140.96881014 141.35076349\n",
            " 140.93065181 141.05516053 135.71172581 136.13371253 137.52845925\n",
            " 133.3711672  141.92594782 142.57856552 138.22393857 140.32132291]\n",
            "P Value = 0.9472604184084132\n",
            "Chưa có bằng chứng để bác bỏ giả thuyết H0\n"
          ]
        }
      ],
      "source": [
        "# Tạo mẫu:\n",
        "sample = np.random.normal(loc = 138.47, scale = 2.66, size = 20)\n",
        "print(sample)\n",
        "\n",
        "# Xác định các thông số:\n",
        "null_mean = 140\n",
        "alpha = 0.05\n",
        "\n",
        "# Kiểm định t\n",
        "t_test(sample, null_mean, alpha, \"smaller\")"
      ]
    },
    {
      "cell_type": "markdown",
      "metadata": {
        "id": "Dm8BUdaQ5v7-"
      },
      "source": [
        "Bài 13: You’re a marketing analyst for Wal-Mart.  Wal-Mart had teddy bears on sale last week.  The weekly sales of bears sold in 10 stores was: 8  11  0   4   7   8   10   5   8   3. At the .05 level of significance, is there evidence that the average bear sales per store is more than 5?"
      ]
    },
    {
      "cell_type": "code",
      "execution_count": 14,
      "metadata": {
        "id": "Gy23HLEc5v7-",
        "outputId": "c6f5730f-ce06-43e8-d392-4d851c3c40ce",
        "colab": {
          "base_uri": "https://localhost:8080/"
        }
      },
      "outputs": [
        {
          "output_type": "stream",
          "name": "stdout",
          "text": [
            "P Value = 0.9000692281134371\n",
            "Chưa có bằng chứng để bác bỏ giả thuyết H0\n"
          ]
        }
      ],
      "source": [
        "# Tạo mẫu:\n",
        "sample = np.array([8, 11, 0, 4, 7, 8, 10, 5, 8, 3])\n",
        "\n",
        "# Xác định các thông số:\n",
        "null_mean = 5\n",
        "alpha = 0.05\n",
        "\n",
        "# Kiểm định t\n",
        "t_test(sample, null_mean, alpha, \"larger\")"
      ]
    },
    {
      "cell_type": "code",
      "execution_count": null,
      "metadata": {
        "id": "kOrlefBn5v7-"
      },
      "outputs": [],
      "source": [
        ""
      ]
    }
  ],
  "metadata": {
    "kernelspec": {
      "display_name": "Python 3",
      "language": "python",
      "name": "python3"
    },
    "language_info": {
      "codemirror_mode": {
        "name": "ipython",
        "version": 3
      },
      "file_extension": ".py",
      "mimetype": "text/x-python",
      "name": "python",
      "nbconvert_exporter": "python",
      "pygments_lexer": "ipython3",
      "version": "3.7.3"
    },
    "colab": {
      "name": "bai-tap-kiem-dinh-z-t.ipynb",
      "provenance": [],
      "include_colab_link": true
    }
  },
  "nbformat": 4,
  "nbformat_minor": 0
}