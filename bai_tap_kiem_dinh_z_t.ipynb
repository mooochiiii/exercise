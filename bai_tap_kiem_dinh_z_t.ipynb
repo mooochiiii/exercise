{
  "cells": [
    {
      "cell_type": "markdown",
      "metadata": {
        "id": "view-in-github",
        "colab_type": "text"
      },
      "source": [
        "<a href=\"https://colab.research.google.com/github/mooochiiii/exercise/blob/main/bai_tap_kiem_dinh_z_t.ipynb\" target=\"_parent\"><img src=\"https://colab.research.google.com/assets/colab-badge.svg\" alt=\"Open In Colab\"/></a>"
      ]
    },
    {
      "cell_type": "markdown",
      "metadata": {
        "id": "8Hu72O-IUevW"
      },
      "source": [
        "XÂY DỰNG CHƯƠNG TRÌNH KIỂM ĐỊNH Z (HOẶC T) CHO CÁC BÀI TẬP SAU\n",
        "\n",
        "Gợi ý:\n",
        "\n",
        "- Số liệu được sinh ngẫu nhiên theo phân phối chuẩn\n",
        "- Sử dụng gói phần mềm statsmodels để tiến hành kiểm định\n",
        "- Đối với các bài tập kiểm định giả thuyết thì sinh viên cần phát biểu các giả thuyết (bằng tiếng Việt) $H_{0}$ và $H_{a}$ trước khi lập trình kiểm định"
      ]
    },
    {
      "cell_type": "code",
      "source": [
        "from scipy import stats\n",
        "import numpy as np\n",
        "import math\n",
        "import scipy.stats as st\n",
        "from statsmodels.stats.weightstats import ztest"
      ],
      "metadata": {
        "id": "ZkQ65HtZZpOx",
        "outputId": "80012e54-6a43-43ab-e26b-2c90d1e9b93a",
        "colab": {
          "base_uri": "https://localhost:8080/"
        }
      },
      "execution_count": 1,
      "outputs": [
        {
          "output_type": "stream",
          "name": "stderr",
          "text": [
            "/usr/local/lib/python3.7/dist-packages/statsmodels/tools/_testing.py:19: FutureWarning: pandas.util.testing is deprecated. Use the functions in the public API at pandas.testing instead.\n",
            "  import pandas.util.testing as tm\n"
          ]
        }
      ]
    },
    {
      "cell_type": "markdown",
      "metadata": {
        "id": "XSuJ8kn9Uevb"
      },
      "source": [
        "Bài 1: You’re a Q/C inspector for Gallo. The sample standard deviation for 2-liter bottles is .05 liters.  A random sample of 100 bottles showed sasmple mean = 1.99 liters.  What is the 90%  confidence interval estimate of the true mean amount in 2-liter bottles? "
      ]
    },
    {
      "cell_type": "code",
      "execution_count": 2,
      "metadata": {
        "id": "DRrqEs8FUevb",
        "outputId": "73e499ac-620e-4270-869e-c8dd5a7bbb50",
        "colab": {
          "base_uri": "https://localhost:8080/"
        }
      },
      "outputs": [
        {
          "output_type": "execute_result",
          "data": {
            "text/plain": [
              "(1.6221995477099427, 2.357800452290057)"
            ]
          },
          "metadata": {},
          "execution_count": 2
        }
      ],
      "source": [
        "#khai báo \n",
        "sample_mean = 1.99\n",
        "sample_std = 0.05\n",
        "# Tính sai số chuẩn:\n",
        "std_err = sample_std / (math.sqrt(sample_std))\n",
        "stats.norm.interval(alpha= 0.90, loc = sample_mean, scale = std_err)"
      ]
    },
    {
      "cell_type": "markdown",
      "metadata": {
        "id": "sUIrEjqKUevd"
      },
      "source": [
        "Bài 2: You’re a time study analyst in manufacturing.  You’ve recorded the following task times (min.): 3.6, 4.2, 4.0, 3.5, 3.8, 3.1. What is the 90% confidence interval estimate of the population mean task time? "
      ]
    },
    {
      "cell_type": "code",
      "execution_count": 3,
      "metadata": {
        "id": "seG8M59VUevd",
        "outputId": "d5339c93-673d-4fc2-f691-6c4ea2329287",
        "colab": {
          "base_uri": "https://localhost:8080/"
        }
      },
      "outputs": [
        {
          "output_type": "execute_result",
          "data": {
            "text/plain": [
              "(3.3792758632100677, 4.020724136789934)"
            ]
          },
          "metadata": {},
          "execution_count": 3
        }
      ],
      "source": [
        "#xác định dữ liệu \n",
        "sample_data = [3.6, 4.2, 4, 3.5, 3.8, 3.1]\n",
        "#Sử dụng hàm t.interval() khi đang làm việc với một mẫu nhỏ (n <30)\n",
        "st.t.interval(alpha=0.9,df= len(sample_data)-1,loc=np.mean(sample_data), scale=st.sem(sample_data))"
      ]
    },
    {
      "cell_type": "markdown",
      "metadata": {
        "id": "KQXNj7fUUeve"
      },
      "source": [
        "Bài 3: Does an average box of cereal contain 368 grams of cereal?  A random sample of 25 boxes had $\\overline{\\rm x}$ = 372.5.  The company has specified $\\sigma$ to be 25 grams.  Test at the .05 level of significance."
      ]
    },
    {
      "cell_type": "markdown",
      "source": [
        "Giả thuyết gốc: trung bình một hộp cốm có 368g \n",
        "\n",
        "$$H_{0}: \\mu = 368$$\n",
        "\n",
        "Giả thuyết thay thế: một hộp cốm không phải là 368g\n",
        "\n",
        "$$H_{a}: \\mu \\ne  368 $$\n"
      ],
      "metadata": {
        "id": "lff5gzuWc1io"
      }
    },
    {
      "cell_type": "code",
      "execution_count": 4,
      "metadata": {
        "id": "PXCvVUhXUeve",
        "outputId": "4d0d7deb-26d1-4460-cec5-f21fd8faf3eb",
        "colab": {
          "base_uri": "https://localhost:8080/"
        }
      },
      "outputs": [
        {
          "output_type": "stream",
          "name": "stdout",
          "text": [
            "[362.53855581 382.12487725 372.99871118 369.82001511 396.27446511\n",
            " 400.73799833 417.65847925 350.70309566 384.18040853 373.54780127\n",
            " 417.8216604  392.41732742 347.65612398 378.04238546 374.19086303\n",
            " 391.77167049 411.31356956 400.49821958 405.43954156 320.83738604\n",
            " 390.51990995 345.37370357 400.39826794 449.21315666 412.75532184]\n"
          ]
        }
      ],
      "source": [
        "#tạo mẫu ngẫu nhiên \n",
        "sample = np.random.normal(372.5, 25, 25)\n",
        "print(sample)"
      ]
    },
    {
      "cell_type": "code",
      "source": [
        "#Xác định các thông số\n",
        "null_mean = 368 \n",
        "alpha = 0.05"
      ],
      "metadata": {
        "id": "y4dmdYMlek3d"
      },
      "execution_count": 5,
      "outputs": []
    },
    {
      "cell_type": "code",
      "source": [
        "# Kiểm định z:\n",
        "ztest_Score, p_value= ztest(sample, value = null_mean, alternative='two-sided')\n",
        "print(p_value)\n",
        "if(p_value <  alpha):\n",
        "  print(\"Có bằng chứng để bác bỏ giả thuyết H0\")\n",
        "else:\n",
        "  print(\"Chưa có bằng chứng để bác bỏ giả thuyết H0\")"
      ],
      "metadata": {
        "id": "Zx2kZO6Oe-8O",
        "outputId": "f26a5b67-c27a-4380-957d-eb5580e9f91c",
        "colab": {
          "base_uri": "https://localhost:8080/"
        }
      },
      "execution_count": 6,
      "outputs": [
        {
          "output_type": "stream",
          "name": "stdout",
          "text": [
            "0.001243108401318647\n",
            "Có bằng chứng để bác bỏ giả thuyết H0\n"
          ]
        }
      ]
    },
    {
      "cell_type": "markdown",
      "metadata": {
        "id": "UlPLg0sQUevf"
      },
      "source": [
        "Bài 4: You’re a Q/C inspector.  You want to find out if a new machine is making electrical cords to customer specification: average breaking strength of 70 lb. with $\\sigma$ = 3.5 lb.  You take a sample of 36 cords & compute a sample mean of 69.7 lb.  At the .05 level of significance, is there evidence that the machine is not meeting the average breaking strength?"
      ]
    },
    {
      "cell_type": "markdown",
      "source": [
        "Giả thuyết gốc: chiếc máy mới đang làm dây điện theo thông số kỹ thuật của khách hàng \n",
        "\n",
        "$$H_{0}: \\mu = 70$$\n",
        "\n",
        "Giả thuyết thay thế: chiếc máy bay mới không làm theo thoong số kỹ thuật của khách hàng\n",
        "\n",
        "$$H_{a}: \\mu \\ne  70 $$\n"
      ],
      "metadata": {
        "id": "_Dv3e_k9f-Ff"
      }
    },
    {
      "cell_type": "code",
      "execution_count": 7,
      "metadata": {
        "id": "1_hBekc5Uevf",
        "outputId": "74896597-4325-4fc3-db2d-24839019feb3",
        "colab": {
          "base_uri": "https://localhost:8080/"
        }
      },
      "outputs": [
        {
          "output_type": "stream",
          "name": "stdout",
          "text": [
            "[66.40928596 64.79016371 73.57053377 71.77205129 67.11129285 69.90889148\n",
            " 69.62522336 63.59865538 68.24620019 71.25872733 65.62634041 70.18629369\n",
            " 67.22240733 69.5163868  66.41375393 74.1003791  67.95080665 75.21702899\n",
            " 75.13372837 76.25451044 67.13848285 69.41440726 77.36972025 68.71293714\n",
            " 69.43005822 69.71247164 70.22007022 74.1050967  69.63311585 68.05809197\n",
            " 75.47765503 65.21682162 74.69381128 67.06290517 71.48190043 71.48098344]\n"
          ]
        }
      ],
      "source": [
        "# tạo mẫu ngẫu nhiên \n",
        "sample = np.random.normal(69.7, 3.5, 36)\n",
        "print(sample)"
      ]
    },
    {
      "cell_type": "code",
      "source": [
        "#Xác định các thông số\n",
        "null_mean = 70 \n",
        "alpha = 0.05"
      ],
      "metadata": {
        "id": "oQ8kKj00g3H7"
      },
      "execution_count": 8,
      "outputs": []
    },
    {
      "cell_type": "code",
      "source": [
        "# Kiểm định z:\n",
        "ztest_Score, p_value= ztest(sample, value = null_mean, alternative='two-sided')\n",
        "print(p_value)\n",
        "if(p_value <  alpha):\n",
        "  print(\"Có bằng chứng để bác bỏ giả thuyết H0\")\n",
        "else:\n",
        "  print(\"Chưa có bằng chứng để bác bỏ giả thuyết H0\")"
      ],
      "metadata": {
        "id": "uQRypVhbhEz4",
        "outputId": "a9f8e8b2-3179-4074-d697-e39e98a163e7",
        "colab": {
          "base_uri": "https://localhost:8080/"
        }
      },
      "execution_count": 9,
      "outputs": [
        {
          "output_type": "stream",
          "name": "stdout",
          "text": [
            "0.8829738436763529\n",
            "Chưa có bằng chứng để bác bỏ giả thuyết H0\n"
          ]
        }
      ]
    },
    {
      "cell_type": "markdown",
      "metadata": {
        "id": "GmV8qKeFUevg"
      },
      "source": [
        "Bài 5: Does an average box of cereal contain more than 368 grams of cereal?  A random sample of 25 boxes showed $\\overline{\\rm x}$ =  372.5.  The company has specified $\\sigma$ to be 25 grams.  Test at the .05 level of significance."
      ]
    },
    {
      "cell_type": "markdown",
      "source": [
        "Giả thuyết gốc: trung bình một hộp cốm có 368g\n",
        "\n",
        "$$H_{0}: \\mu = 368$$\n",
        "\n",
        "Giả thuyết thay thế: một hộp cốm lớn hơn 368g\n",
        "\n",
        "$$H_a: μ > 368$$"
      ],
      "metadata": {
        "id": "uPvGyJEfhdlB"
      }
    },
    {
      "cell_type": "code",
      "execution_count": 10,
      "metadata": {
        "id": "5QHsf6w-Uevh",
        "outputId": "2dc1f0db-fc46-4894-9b98-b90cdbe20b40",
        "colab": {
          "base_uri": "https://localhost:8080/"
        }
      },
      "outputs": [
        {
          "output_type": "stream",
          "name": "stdout",
          "text": [
            "[376.85590507 325.98510911 350.78540064 364.73690728 360.71027447\n",
            " 378.29736258 337.25562089 353.43544558 359.91994458 367.687516\n",
            " 381.1109958  382.91098064 343.70444617 359.50653691 372.55897537\n",
            " 362.42038353 390.31703607 362.02906774 360.83906767 397.68266356\n",
            " 425.4516026  384.30867917 377.0922278  382.8719561  359.35624968]\n"
          ]
        }
      ],
      "source": [
        "#tạo mẫu ngẫu nhiên \n",
        "sample = np.random.normal(372.5, 25, 25)\n",
        "print(sample)"
      ]
    },
    {
      "cell_type": "code",
      "source": [
        "#Xác định các thông số\n",
        "null_mean = 368 \n",
        "alpha = 0.05"
      ],
      "metadata": {
        "id": "JDeGgq9qiK3_"
      },
      "execution_count": 11,
      "outputs": []
    },
    {
      "cell_type": "code",
      "source": [
        "# Kiểm định t:\n",
        "ztest_Score, p_value= ztest(sample, value = null_mean, alternative='larger')\n",
        "print(p_value)\n",
        "if(p_value <  alpha):\n",
        "  print(\"Có bằng chứng để bác bỏ giả thuyết H0\")\n",
        "else:\n",
        "  print(\"Chưa có bằng chứng để bác bỏ giả thuyết H0\")"
      ],
      "metadata": {
        "id": "6lD4fDtIiXhI",
        "outputId": "a3200157-9ad5-4690-f25c-1096eda7c5fa",
        "colab": {
          "base_uri": "https://localhost:8080/"
        }
      },
      "execution_count": 12,
      "outputs": [
        {
          "output_type": "stream",
          "name": "stdout",
          "text": [
            "0.43079303706314204\n",
            "Chưa có bằng chứng để bác bỏ giả thuyết H0\n"
          ]
        }
      ]
    },
    {
      "cell_type": "markdown",
      "metadata": {
        "id": "5a6_fTaZUevh"
      },
      "source": [
        "Bài 6: You’re an analyst for Ford.  You want to find out if the average miles per gallon of Escorts is at least 32 mpg. Similar models have a standard deviation of 3.8 mpg. You take a sample of 60 Escorts & compute a sample mean of 30.7 mpg. At the .01 level of significance, is there evidence that the miles per gallon is less than 32?"
      ]
    },
    {
      "cell_type": "markdown",
      "source": [
        "Giả thuyết gốc: số dặm trên một gallon của escort là 32mpg\n",
        "$$H_0: μ = 32$$\n",
        "Giả thuyết thay thế: số dặm trên một gallon của escort bé hơn 32mpg\n",
        "$$H_a: μ < 32$$"
      ],
      "metadata": {
        "id": "vdYH21fdqTQt"
      }
    },
    {
      "cell_type": "code",
      "execution_count": 13,
      "metadata": {
        "id": "ZhSLZFDaUevh",
        "outputId": "7459e39f-53ab-4c20-a49c-ff4a3e8a0366",
        "colab": {
          "base_uri": "https://localhost:8080/"
        }
      },
      "outputs": [
        {
          "output_type": "stream",
          "name": "stdout",
          "text": [
            "[31.64537702 36.21891438 24.96534245 27.53679192 34.63145296 38.53331493\n",
            " 35.37145475 28.50534546 33.46473274 30.17188356 29.42971856 30.47274069\n",
            " 28.05930951 35.18616681 27.61356459 31.05516556 35.39838433 36.90957355\n",
            " 28.48855281 24.75818509 35.92829989 34.2346479  35.24979252 31.91304154\n",
            " 24.79557145 34.04233258 34.30487304 29.6296152  30.50336721 34.9631606\n",
            " 27.02215791 35.94381588 32.16765877 34.57968134 34.5976749  28.58622291\n",
            " 22.64317669 24.18992289 28.77798029 28.09465157 30.3123334  29.65817502\n",
            " 34.65409015 23.1020701  23.65125441 34.13463812 34.26176349 27.94993434\n",
            " 31.84477863 24.46359932 27.9007984  37.0189993  32.88243813 23.40336047\n",
            " 27.07020596 32.58839067 24.94457242 27.89528145 23.9320567  24.51524521]\n"
          ]
        }
      ],
      "source": [
        "# tạo mẫu ngẫu nhiên \n",
        "sample = np.random.normal(30.7, 3.8, 60)\n",
        "print(sample)"
      ]
    },
    {
      "cell_type": "code",
      "source": [
        "#Xác định các thông số\n",
        "null_mean = 32  \n",
        "alpha = 0.01"
      ],
      "metadata": {
        "id": "byJqPfNprGGR"
      },
      "execution_count": 14,
      "outputs": []
    },
    {
      "cell_type": "code",
      "source": [
        "# Kiểm định t:\n",
        "ztest_Score, p_value= ztest(sample, value = null_mean, alternative='smaller')\n",
        "if(p_value < alpha):\n",
        "  print(\"Có bằng chứng để bác bỏ giả thuyết H0\")\n",
        "else:\n",
        "  print(\"Chưa có bằng chứng để bác bỏ giả thuyết H0\")"
      ],
      "metadata": {
        "id": "iy-RrtxbrJgY",
        "outputId": "f94c3f3f-d9bc-4757-f985-c3d3bc311f48",
        "colab": {
          "base_uri": "https://localhost:8080/"
        }
      },
      "execution_count": 15,
      "outputs": [
        {
          "output_type": "stream",
          "name": "stdout",
          "text": [
            "Có bằng chứng để bác bỏ giả thuyết H0\n"
          ]
        }
      ]
    },
    {
      "cell_type": "markdown",
      "metadata": {
        "id": "unCSV4zZUevi"
      },
      "source": [
        "Bài 7: Does an average box of cereal contain 368 grams of cereal?  A random sample of 25 boxes showed $\\overline{\\rm x}$ = 372.5.  The company has specified $\\sigma$ to be 15 grams.  Find the p-Value."
      ]
    },
    {
      "cell_type": "markdown",
      "source": [
        "Giả thuyết gốc: trung bình một hộp cốm có 368g\n",
        "$$H_0: μ = 368$$\n",
        "Giả thuyết thay thế: trung bình một hộp cốm không phải 368g \n",
        "$$H_a: μ \\ne 368$$"
      ],
      "metadata": {
        "id": "vR2PdPZPr_0c"
      }
    },
    {
      "cell_type": "code",
      "execution_count": 16,
      "metadata": {
        "id": "Tfohkw6wUevi",
        "outputId": "78925e5a-de95-4fbb-843c-908299e2af6a",
        "colab": {
          "base_uri": "https://localhost:8080/"
        }
      },
      "outputs": [
        {
          "output_type": "stream",
          "name": "stdout",
          "text": [
            "[371.95190302 343.93592207 399.56245447 354.37784224 376.97586849\n",
            " 368.68773863 373.79030664 382.3129394  374.64483193 353.28856775\n",
            " 386.20310762 371.33274282 365.74095791 315.21224974 335.9945751\n",
            " 378.21264488 383.85907332 356.93762779 378.3449003  322.34810229\n",
            " 385.22301338 370.96159465 351.40597088 383.29200619 357.08976519]\n"
          ]
        }
      ],
      "source": [
        "#tạo mẫu \n",
        "sample = np.random.normal(372.5, 15, 25)\n",
        "print(sample)"
      ]
    },
    {
      "cell_type": "code",
      "source": [
        "#Xác định các thông số\n",
        "null_mean = 368"
      ],
      "metadata": {
        "id": "r5qP9gnttvGO"
      },
      "execution_count": 17,
      "outputs": []
    },
    {
      "cell_type": "code",
      "source": [
        "# Kiểm định t:\n",
        "ztest_Score, p_value= ztest(sample, value = null_mean, alternative='two-sided')\n",
        "print(f\"p-value: {p_value}\")"
      ],
      "metadata": {
        "id": "Bwl9PX7ztyKo",
        "outputId": "779c8721-492d-4fea-f310-51f82ec66876",
        "colab": {
          "base_uri": "https://localhost:8080/"
        }
      },
      "execution_count": 18,
      "outputs": [
        {
          "output_type": "stream",
          "name": "stdout",
          "text": [
            "p-value: 0.5674094797496114\n"
          ]
        }
      ]
    },
    {
      "cell_type": "markdown",
      "metadata": {
        "id": "j1P4pRtqUevi"
      },
      "source": [
        "Bài 8: Does an average box of cereal contain more than 368 grams of cereal?  A random sample of 25 boxes showed $\\overline{\\rm x}$ = 372.5.  The company has specified $\\sigma$ to be 15 grams.  Find the p-Value."
      ]
    },
    {
      "cell_type": "markdown",
      "source": [
        "Giả thuyết gốc: trung bình hộp cốm có 368g\n",
        "$$H_0: μ = 368$$\n",
        "Giả thuyết thay thế: trung bình hộp cốm có nhiều hơn 368g\n",
        "$$H_a: μ > 368$$"
      ],
      "metadata": {
        "id": "A7OxZe_GuJP-"
      }
    },
    {
      "cell_type": "code",
      "execution_count": 19,
      "metadata": {
        "id": "N_Ng1dXoUevj",
        "outputId": "9f1e6fdc-5855-49e7-83b4-4c564068b4b7",
        "colab": {
          "base_uri": "https://localhost:8080/"
        }
      },
      "outputs": [
        {
          "output_type": "stream",
          "name": "stdout",
          "text": [
            "[354.75128433 388.264137   367.49879866 384.54721326 375.45354801\n",
            " 390.18549873 376.87416238 380.69485909 369.05788972 353.43998548\n",
            " 369.68246125 389.27660642 374.37282352 402.21005232 353.20130923\n",
            " 347.2287328  360.4125383  364.90400443 355.97696869 348.13618029\n",
            " 369.99940984 373.24135235 359.15946864 385.08546748 357.32459425]\n"
          ]
        }
      ],
      "source": [
        "#tạo mẫu \n",
        "sample = np.random.normal(372.5, 15, 25)\n",
        "print(sample)"
      ]
    },
    {
      "cell_type": "code",
      "source": [
        "#Xác định các thông số\n",
        "null_mean = 368"
      ],
      "metadata": {
        "id": "1HyvYTSFupRe"
      },
      "execution_count": 20,
      "outputs": []
    },
    {
      "cell_type": "code",
      "source": [
        "# Kiểm định t:\n",
        "ztest_Score, p_value= ztest(sample, value = null_mean, alternative='larger')\n",
        "print(f\"p-value: {p_value}\")"
      ],
      "metadata": {
        "id": "KtzLPx8auwwd",
        "outputId": "dc13a9b7-64b6-4448-af0a-59868ef51429",
        "colab": {
          "base_uri": "https://localhost:8080/"
        }
      },
      "execution_count": 21,
      "outputs": [
        {
          "output_type": "stream",
          "name": "stdout",
          "text": [
            "p-value: 0.24416827822966813\n"
          ]
        }
      ]
    },
    {
      "cell_type": "markdown",
      "metadata": {
        "id": "BviM26pMUevj"
      },
      "source": [
        "Bài 9: You’re an analyst for Ford.  You want to find out if the average miles per gallon of Escorts is less than 32 mpg.   Similar models have a standard deviation of 3.8 mpg.  You take a sample of 60 Escorts & compute a sample mean of 30.7 mpg.  What is the value of the observed level of significance (p-Value)?"
      ]
    },
    {
      "cell_type": "markdown",
      "source": [
        "Giả thuyết gốc: số dặm trên một gallon của escorts là 32mpg\n",
        "$$H_0: μ = 32$$\n",
        "Giả thuyết thay thế: số dặm trên một gallon của escorts bé hơn 32mpg\n",
        "$$H_a: μ < 32$$"
      ],
      "metadata": {
        "id": "NYCowon6vfMM"
      }
    },
    {
      "cell_type": "code",
      "execution_count": 22,
      "metadata": {
        "id": "-zAUE70eUevj",
        "outputId": "6cf79c97-3a3c-4d89-d710-ff1fa79fd1de",
        "colab": {
          "base_uri": "https://localhost:8080/"
        }
      },
      "outputs": [
        {
          "output_type": "stream",
          "name": "stdout",
          "text": [
            "[36.21097805 29.89022787 31.8866841  30.29507482 30.58446579 37.26586124\n",
            " 36.94968931 25.0612888  22.44847832 32.89167569 28.33504082 29.1329742\n",
            " 31.15417505 38.90614672 37.15313693 24.2851428  31.92446691 35.02169756\n",
            " 30.07015124 36.06307738 35.14797354 34.89781612 32.04431679 32.61870625\n",
            " 20.91467022 26.39966508 36.44777207 33.79770618 31.33214568 32.95018464\n",
            " 33.15317243 35.51423377 31.1739516  27.98253338 37.9710368  32.23908489\n",
            " 32.21855274 36.35746878 28.074477   32.83639378 26.53566369 25.66051581\n",
            " 31.32058951 28.18531211 32.50694738 36.60008151 37.73082254 27.04874274\n",
            " 27.85178086 25.29047039 32.68888545 35.13336966 27.61633295 32.49751302\n",
            " 38.15170616 26.48051871 31.39791478 30.31807319 37.66702203 31.93366295]\n"
          ]
        }
      ],
      "source": [
        "#tạo mẫu\n",
        "sample = np.random.normal(30.7, 3.8, 60)\n",
        "print(sample)"
      ]
    },
    {
      "cell_type": "code",
      "source": [
        "#Xác định các thông số\n",
        "null_mean = 32"
      ],
      "metadata": {
        "id": "a-P9SaDlwBSp"
      },
      "execution_count": 23,
      "outputs": []
    },
    {
      "cell_type": "code",
      "source": [
        "# Kiểm định t:\n",
        "ztest_Score, p_value= ztest(sample, value = null_mean, alternative='smaller')\n",
        "print(f\"p-value: {p_value}\")"
      ],
      "metadata": {
        "id": "tHrEncuhwG_0",
        "outputId": "8edea8c8-b023-4f62-d3fd-fb0ba25e1a56",
        "colab": {
          "base_uri": "https://localhost:8080/"
        }
      },
      "execution_count": 24,
      "outputs": [
        {
          "output_type": "stream",
          "name": "stdout",
          "text": [
            "p-value: 0.2938593730555727\n"
          ]
        }
      ]
    },
    {
      "cell_type": "markdown",
      "metadata": {
        "id": "SPJrRNCIUevk"
      },
      "source": [
        "Bài 10: Does an average box of cereal contain 368 grams of cereal?  A random sample of 36 boxes had a mean of 372.5 and a standard deviation of 12 grams. Test at the .05 level of significance."
      ]
    },
    {
      "cell_type": "markdown",
      "source": [
        "Giả thuyết gốc: trung bình một hộp cốm chứa 368g \n",
        "$$H_0: μ = 368$$\n",
        "Giả thuyết thay thế: trung bình một hộp cốm không phải 368g \n",
        "$$H_a: μ \\ne 368$$"
      ],
      "metadata": {
        "id": "Y2N8-P6PxUqn"
      }
    },
    {
      "cell_type": "code",
      "execution_count": 25,
      "metadata": {
        "id": "jmd_UcZPUevk",
        "outputId": "a5da8d0d-68c8-4a28-d6a8-0a8b59289936",
        "colab": {
          "base_uri": "https://localhost:8080/"
        }
      },
      "outputs": [
        {
          "output_type": "stream",
          "name": "stdout",
          "text": [
            "[354.96025791 371.48577992 362.71383823 376.3579247  383.14003811\n",
            " 376.33097786 355.93534754 381.58932641 365.8980068  383.11780566\n",
            " 374.67783162 370.27800999 370.24783175 360.97716287 378.08534027\n",
            " 367.64106117 390.03871936 394.06484189 382.30154461 357.23629811\n",
            " 367.48660096 366.45832002 370.01291724 383.05692715 337.93085106\n",
            " 389.49142326 380.1310175  383.26116707 372.09065916 374.30773586\n",
            " 365.12287513 341.73804226 388.64893989 389.10915222 378.01827354\n",
            " 381.63343071]\n"
          ]
        }
      ],
      "source": [
        "#tạo mẫu \n",
        "sample = np.random.normal(372.5, 12, 36)\n",
        "print(sample)"
      ]
    },
    {
      "cell_type": "code",
      "source": [
        "#Xác định các thông số\n",
        "null_mean = 368 \n",
        "alpha = 0.05"
      ],
      "metadata": {
        "id": "eUH0Tql2yLms"
      },
      "execution_count": 26,
      "outputs": []
    },
    {
      "cell_type": "code",
      "source": [
        "#Kiểm định z\n",
        "ztest_Score, p_value= ztest(sample, value = null_mean, alternative='larger')\n",
        "if(p_value <  alpha):\n",
        "  print(\"Có bằng chứng để bác bỏ giả thuyết H0\")\n",
        "else:\n",
        "  print(\"Chưa có bằng chứng để bác bỏ giả thuyết H0\")"
      ],
      "metadata": {
        "id": "r1LAKHfYyVeF",
        "outputId": "39eecf6a-a114-49cc-c280-d1b25a173590",
        "colab": {
          "base_uri": "https://localhost:8080/"
        }
      },
      "execution_count": null,
      "outputs": [
        {
          "output_type": "stream",
          "name": "stdout",
          "text": [
            "Có bằng chứng để bác bỏ giả thuyết H0\n"
          ]
        }
      ]
    },
    {
      "cell_type": "markdown",
      "metadata": {
        "id": "D_c8TBWRUevk"
      },
      "source": [
        "Bài 11: You work for the FTC.  A manufacturer of detergent claims that the mean weight of detergent is 3.25 lb.  You take a random sample of 64 containers.  You calculate the sample average to be 3.238 lb. with a standard deviation of .117 lb.  At the .01 level of significance, is the manufacturer correct?"
      ]
    },
    {
      "cell_type": "markdown",
      "source": [
        "Giả thiết gốc: trọng lượng trung bình của chất tẩy rửa là 3,25 lb\n",
        "$$H_0: μ = 3.25$$\n",
        "Giả thuyết thay thế: trong lượng trung bình của chất tầy rửa không phải là 3,25 lb\n",
        "$$H_a: μ \\ne 3.25$$"
      ],
      "metadata": {
        "id": "UryYEqNqyoG-"
      }
    },
    {
      "cell_type": "code",
      "execution_count": 27,
      "metadata": {
        "id": "EKrhThv3Uevl",
        "outputId": "2d49f42f-1305-48a6-dc17-c040842a4345",
        "colab": {
          "base_uri": "https://localhost:8080/"
        }
      },
      "outputs": [
        {
          "output_type": "stream",
          "name": "stdout",
          "text": [
            "[3.31970001 3.27718987 3.10657686 3.30620772 3.17930958 3.06258789\n",
            " 3.38256348 3.15076039 3.27634627 3.25952559 3.24325035 3.33501671\n",
            " 3.32498709 3.18930331 3.1747652  3.42587419 3.23255355 3.27827545\n",
            " 3.36299882 3.28778133 3.09589071 3.12875253 3.19926793 3.28469828\n",
            " 3.43875709 3.36572583 3.25382795 3.33996188 3.02955876 3.10771215\n",
            " 3.09916792 3.10622042 3.34831059 3.43930032 3.09810159 3.352453\n",
            " 3.32289035 3.29543941 3.03555347 3.31653299 3.2555102  3.11421849\n",
            " 3.2097663  3.38746044 3.02806187 3.12291663 3.35004966 3.27536477\n",
            " 3.25649084 3.31193816 3.09204093 2.98646883 3.18818819 3.42563961\n",
            " 3.18076719 3.05708476 3.24020258 3.2756919  3.14711673 3.32025243\n",
            " 3.14284227 3.14277489 3.3082362  3.29858546]\n"
          ]
        }
      ],
      "source": [
        "#lấy mẫu \n",
        "sample = np.random.normal(3.238,0.117,64)\n",
        "print(sample)"
      ]
    },
    {
      "cell_type": "code",
      "source": [
        "#Xác định các thông số\n",
        "null_mean = 3.25\n",
        "alpha = 0.01"
      ],
      "metadata": {
        "id": "q5xhx6bJzJ8J"
      },
      "execution_count": 28,
      "outputs": []
    },
    {
      "cell_type": "code",
      "source": [
        "#Kiểm định z\n",
        "ztest_Score, p_value= ztest(sample, value = null_mean, alternative='larger')\n",
        "if(p_value < alpha):\n",
        "  print(\"Có bằng chứng để bác bỏ giả thuyết H0\")\n",
        "else:\n",
        "  print(\"Chưa có bằng chứng để bác bỏ giả thuyết H0\")"
      ],
      "metadata": {
        "id": "__8lKUOAzOe0",
        "outputId": "f0d28aa5-5361-4e84-c2d9-6976eda4983e",
        "colab": {
          "base_uri": "https://localhost:8080/"
        }
      },
      "execution_count": 29,
      "outputs": [
        {
          "output_type": "stream",
          "name": "stdout",
          "text": [
            "Chưa có bằng chứng để bác bỏ giả thuyết H0\n"
          ]
        }
      ]
    },
    {
      "cell_type": "markdown",
      "metadata": {
        "id": "z_-11GLrUevl"
      },
      "source": [
        "Bài 12: Is the average capacity of batteries less than 140 ampere-hours?  A random sample of 20 batteries had a mean of 138.47 and a standard deviation of 2.66.  Assume a normal distribution. Test at the .05 level of significance."
      ]
    },
    {
      "cell_type": "markdown",
      "source": [
        "Giả thuyết gốc: công suất trung bình của acquy là 140 ampe/giờ\n",
        "$$H_0: μ = 140$$\n",
        "Giả thuyết thay thế: công suất trung bình của acquy nhỏ hơn 140 ampe/giờ \n",
        "$$H_a: μ < 140$$"
      ],
      "metadata": {
        "id": "W0ffVesj16Sp"
      }
    },
    {
      "cell_type": "code",
      "source": [
        "#tạo mẫu \n",
        "sample = np.random.normal(138.47,2.26,20)\n",
        "print(sample)"
      ],
      "metadata": {
        "id": "-wXxMMAS1OHG",
        "outputId": "e203bb52-af59-4a22-f0ea-5140ea327da4",
        "colab": {
          "base_uri": "https://localhost:8080/"
        }
      },
      "execution_count": 30,
      "outputs": [
        {
          "output_type": "stream",
          "name": "stdout",
          "text": [
            "[139.48060154 142.78169295 140.7029761  139.54174578 139.89706349\n",
            " 139.0627056  139.1971864  138.39046554 143.63793081 136.99476975\n",
            " 138.42585682 137.88284928 139.68846161 137.89263168 139.12572474\n",
            " 139.75383373 137.40892975 139.18932394 138.64798797 137.52311604]\n"
          ]
        }
      ]
    },
    {
      "cell_type": "code",
      "source": [
        "#Xác định các thông số\n",
        "null_mean = 140 \n",
        "alpha = 0.05"
      ],
      "metadata": {
        "id": "b3yciLNxzHFT"
      },
      "execution_count": 31,
      "outputs": []
    },
    {
      "cell_type": "code",
      "execution_count": 32,
      "metadata": {
        "id": "4x2VIiVTUevl",
        "outputId": "5b6791d4-f8d1-49c8-d5f8-b72fb2ed8436",
        "colab": {
          "base_uri": "https://localhost:8080/"
        }
      },
      "outputs": [
        {
          "output_type": "stream",
          "name": "stdout",
          "text": [
            "Chưa có bằng chứng để bác bỏ giả thuyết H0\n"
          ]
        }
      ],
      "source": [
        "#Kiểm định z\n",
        "ztest_Score, p_value= ztest(sample, value = null_mean, alternative='larger')\n",
        "if(p_value < alpha):\n",
        "  print(\"Có bằng chứng để bác bỏ giả thuyết H0\")\n",
        "else:\n",
        "  print(\"Chưa có bằng chứng để bác bỏ giả thuyết H0\")"
      ]
    },
    {
      "cell_type": "markdown",
      "metadata": {
        "id": "o04OMj5NUevl"
      },
      "source": [
        "Bài 13: You’re a marketing analyst for Wal-Mart.  Wal-Mart had teddy bears on sale last week.  The weekly sales of bears sold in 10 stores was: 8  11  0   4   7   8   10   5   8   3. At the .05 level of significance, is there evidence that the average bear sales per store is more than 5?"
      ]
    },
    {
      "cell_type": "markdown",
      "source": [
        "Giả thuyết gốc: doanh số bán hàng trung bình của cửa hàng trung bình là 5 con\n",
        "$$H_0: μ = 5$$\n",
        "Giả thuyết thay thế: doanh số bán hàng trung bình của cửa hàng lớn hơn 5 con \n",
        "$$H_a: μ > 5$$"
      ],
      "metadata": {
        "id": "qkI1DT3J2swZ"
      }
    },
    {
      "cell_type": "code",
      "execution_count": 33,
      "metadata": {
        "id": "8S6HYzegUevl"
      },
      "outputs": [],
      "source": [
        "# mẫu có sẵn \n",
        "sample = np.array([11, 0, 4, 7, 8, 10, 5, 8, 3])"
      ]
    },
    {
      "cell_type": "code",
      "execution_count": 34,
      "metadata": {
        "id": "iMnNYQ1cUevm"
      },
      "outputs": [],
      "source": [
        "#Xác định các thông số\n",
        "null_mean = 5 \n",
        "alpha = 0.05"
      ]
    },
    {
      "cell_type": "code",
      "source": [
        "#Kiểm định z\n",
        "ztest_Score, p_value= ztest(sample, value = null_mean, alternative='larger')\n",
        "if(p_value < alpha):\n",
        "  print(\"Có bằng chứng để bác bỏ giả thuyết H0\")\n",
        "else:\n",
        "  print(\"Chưa có bằng chứng để bác bỏ giả thuyết H0\")"
      ],
      "metadata": {
        "id": "RvB0Hi2S3oWO",
        "outputId": "f2272137-be3b-43c7-87a6-67486cea1ccc",
        "colab": {
          "base_uri": "https://localhost:8080/"
        }
      },
      "execution_count": 36,
      "outputs": [
        {
          "output_type": "stream",
          "name": "stdout",
          "text": [
            "Chưa có bằng chứng để bác bỏ giả thuyết H0\n"
          ]
        }
      ]
    }
  ],
  "metadata": {
    "kernelspec": {
      "display_name": "Python 3",
      "language": "python",
      "name": "python3"
    },
    "language_info": {
      "codemirror_mode": {
        "name": "ipython",
        "version": 3
      },
      "file_extension": ".py",
      "mimetype": "text/x-python",
      "name": "python",
      "nbconvert_exporter": "python",
      "pygments_lexer": "ipython3",
      "version": "3.7.3"
    },
    "colab": {
      "name": "bai-tap-kiem-dinh-z-t.ipynb",
      "provenance": [],
      "include_colab_link": true
    }
  },
  "nbformat": 4,
  "nbformat_minor": 0
}