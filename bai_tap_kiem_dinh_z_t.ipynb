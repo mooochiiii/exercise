{
  "cells": [
    {
      "cell_type": "markdown",
      "metadata": {
        "id": "view-in-github",
        "colab_type": "text"
      },
      "source": [
        "<a href=\"https://colab.research.google.com/github/mooochiiii/exercise/blob/main/bai_tap_kiem_dinh_z_t.ipynb\" target=\"_parent\"><img src=\"https://colab.research.google.com/assets/colab-badge.svg\" alt=\"Open In Colab\"/></a>"
      ]
    },
    {
      "cell_type": "markdown",
      "metadata": {
        "id": "8Hu72O-IUevW"
      },
      "source": [
        "XÂY DỰNG CHƯƠNG TRÌNH KIỂM ĐỊNH Z (HOẶC T) CHO CÁC BÀI TẬP SAU\n",
        "\n",
        "Gợi ý:\n",
        "\n",
        "- Số liệu được sinh ngẫu nhiên theo phân phối chuẩn\n",
        "- Sử dụng gói phần mềm statsmodels để tiến hành kiểm định\n",
        "- Đối với các bài tập kiểm định giả thuyết thì sinh viên cần phát biểu các giả thuyết (bằng tiếng Việt) $H_{0}$ và $H_{a}$ trước khi lập trình kiểm định"
      ]
    },
    {
      "cell_type": "code",
      "source": [
        "from scipy import stats\n",
        "import numpy as np\n",
        "import math\n",
        "import scipy.stats as st\n",
        "from statsmodels.stats.weightstats import ztest"
      ],
      "metadata": {
        "id": "ZkQ65HtZZpOx",
        "outputId": "6fe32c53-18ff-4f62-a0e9-d1a54688b934",
        "colab": {
          "base_uri": "https://localhost:8080/"
        }
      },
      "execution_count": 1,
      "outputs": [
        {
          "output_type": "stream",
          "name": "stderr",
          "text": [
            "/usr/local/lib/python3.7/dist-packages/statsmodels/tools/_testing.py:19: FutureWarning: pandas.util.testing is deprecated. Use the functions in the public API at pandas.testing instead.\n",
            "  import pandas.util.testing as tm\n"
          ]
        }
      ]
    },
    {
      "cell_type": "markdown",
      "metadata": {
        "id": "XSuJ8kn9Uevb"
      },
      "source": [
        "Bài 1: You’re a Q/C inspector for Gallo. The sample standard deviation for 2-liter bottles is .05 liters.  A random sample of 100 bottles showed sasmple mean = 1.99 liters.  What is the 90%  confidence interval estimate of the true mean amount in 2-liter bottles? "
      ]
    },
    {
      "cell_type": "code",
      "execution_count": 2,
      "metadata": {
        "id": "DRrqEs8FUevb",
        "outputId": "cb6d28dd-aa16-4d8c-c859-c21d58ee9ecd",
        "colab": {
          "base_uri": "https://localhost:8080/"
        }
      },
      "outputs": [
        {
          "output_type": "execute_result",
          "data": {
            "text/plain": [
              "(1.6221995477099427, 2.357800452290057)"
            ]
          },
          "metadata": {},
          "execution_count": 2
        }
      ],
      "source": [
        "#khai báo \n",
        "sample_mean = 1.99\n",
        "sample_std = 0.05\n",
        "# Tính sai số chuẩn:\n",
        "std_err = sample_std / (math.sqrt(sample_std))\n",
        "stats.norm.interval(alpha= 0.90, loc = sample_mean, scale = std_err)"
      ]
    },
    {
      "cell_type": "markdown",
      "metadata": {
        "id": "sUIrEjqKUevd"
      },
      "source": [
        "Bài 2: You’re a time study analyst in manufacturing.  You’ve recorded the following task times (min.): 3.6, 4.2, 4.0, 3.5, 3.8, 3.1. What is the 90% confidence interval estimate of the population mean task time? "
      ]
    },
    {
      "cell_type": "code",
      "execution_count": 3,
      "metadata": {
        "id": "seG8M59VUevd",
        "outputId": "b88e6426-cd67-4e9f-e84a-92c3299daaf8",
        "colab": {
          "base_uri": "https://localhost:8080/"
        }
      },
      "outputs": [
        {
          "output_type": "execute_result",
          "data": {
            "text/plain": [
              "(3.3792758632100677, 4.020724136789934)"
            ]
          },
          "metadata": {},
          "execution_count": 3
        }
      ],
      "source": [
        "#xác định dữ liệu \n",
        "sample_data = [3.6, 4.2, 4, 3.5, 3.8, 3.1]\n",
        "#Sử dụng hàm t.interval() khi đang làm việc với một mẫu nhỏ (n <30)\n",
        "st.t.interval(alpha=0.9,df= len(sample_data)-1,loc=np.mean(sample_data), scale=st.sem(sample_data))"
      ]
    },
    {
      "cell_type": "markdown",
      "metadata": {
        "id": "KQXNj7fUUeve"
      },
      "source": [
        "Bài 3: Does an average box of cereal contain 368 grams of cereal?  A random sample of 25 boxes had $\\overline{\\rm x}$ = 372.5.  The company has specified $\\sigma$ to be 25 grams.  Test at the .05 level of significance."
      ]
    },
    {
      "cell_type": "markdown",
      "source": [
        "Giả thuyết gốc: trung bình một hộp cốm có 368g \n",
        "\n",
        "$$H_{0}: \\mu = 368$$\n",
        "\n",
        "Giả thuyết thay thế: một hộp cốm không phải là 368g\n",
        "\n",
        "$$H_{a}: \\mu \\ne  368 $$\n"
      ],
      "metadata": {
        "id": "lff5gzuWc1io"
      }
    },
    {
      "cell_type": "code",
      "execution_count": 16,
      "metadata": {
        "id": "PXCvVUhXUeve",
        "outputId": "0f13d80e-0027-40af-caff-b4b5eb4bf1f6",
        "colab": {
          "base_uri": "https://localhost:8080/"
        }
      },
      "outputs": [
        {
          "output_type": "stream",
          "name": "stdout",
          "text": [
            "[357.10549791 406.63239969 389.78161375 385.74030865 303.09721089\n",
            " 356.31623743 365.2356318  350.85537274 377.16677659 307.60352007\n",
            " 360.23706219 370.45371265 358.52985238 402.85659692 373.70130592\n",
            " 424.75251552 367.33653159 391.1441276  380.05902079 378.34499626\n",
            " 318.67778587 399.51060315 356.52254088 408.59912627 382.7208611 ]\n"
          ]
        }
      ],
      "source": [
        "#tạo mẫu ngẫu nhiên \n",
        "samples = np.random.normal(372.5, 25, 25)\n",
        "print(samples[:25])"
      ]
    },
    {
      "cell_type": "code",
      "source": [
        "#Xác định các thông số\n",
        "null_mean = 368 \n",
        "alpha = 0.05"
      ],
      "metadata": {
        "id": "y4dmdYMlek3d"
      },
      "execution_count": 17,
      "outputs": []
    },
    {
      "cell_type": "code",
      "source": [
        "# Kiểm định z:\n",
        "ztest_Score, p_value= ztest(sample, value = null_mean, alternative='two-sided')\n",
        "print(p_value)\n",
        "if(p_value <  alpha):\n",
        "  print(\"Có bằng chứng để bác bỏ giả thuyết H0\")\n",
        "else:\n",
        "  print(\"Chưa có bằng chứng để bác bỏ giả thuyết H0\")"
      ],
      "metadata": {
        "id": "Zx2kZO6Oe-8O",
        "outputId": "b22310f9-e8b9-4d9a-84b7-25f4fc28faf7",
        "colab": {
          "base_uri": "https://localhost:8080/"
        }
      },
      "execution_count": 18,
      "outputs": [
        {
          "output_type": "stream",
          "name": "stdout",
          "text": [
            "0.09632600600302169\n",
            "Chưa có bằng chứng để bác bỏ giả thuyết H0\n"
          ]
        }
      ]
    },
    {
      "cell_type": "markdown",
      "metadata": {
        "id": "UlPLg0sQUevf"
      },
      "source": [
        "Bài 4: You’re a Q/C inspector.  You want to find out if a new machine is making electrical cords to customer specification: average breaking strength of 70 lb. with $\\sigma$ = 3.5 lb.  You take a sample of 36 cords & compute a sample mean of 69.7 lb.  At the .05 level of significance, is there evidence that the machine is not meeting the average breaking strength?"
      ]
    },
    {
      "cell_type": "markdown",
      "source": [
        "Giả thuyết gốc: chiếc máy mới đang làm dây điện theo thông số kỹ thuật của khách hàng \n",
        "\n",
        "$$H_{0}: \\mu = 70$$\n",
        "\n",
        "Giả thuyết thay thế: chiếc máy bay mới không làm theo thoong số kỹ thuật của khách hàng\n",
        "\n",
        "$$H_{a}: \\mu \\ne  70 $$\n"
      ],
      "metadata": {
        "id": "_Dv3e_k9f-Ff"
      }
    },
    {
      "cell_type": "code",
      "execution_count": 19,
      "metadata": {
        "id": "1_hBekc5Uevf",
        "outputId": "f3c57247-d307-4f2a-f7df-3650decaefe1",
        "colab": {
          "base_uri": "https://localhost:8080/"
        }
      },
      "outputs": [
        {
          "output_type": "stream",
          "name": "stdout",
          "text": [
            "[77.20103388 67.01791949 69.64923115 72.43754    68.7001828  71.79619904\n",
            " 64.35084166 73.45273294 71.54021374 69.943761   72.01979689 67.18186323\n",
            " 81.00627171 76.31174705 76.17169851 73.22783041 67.16021318 72.38327228\n",
            " 68.98157007 67.89909703 69.5321606  71.63545078 69.87888518 67.97477849\n",
            " 72.28191409 66.59999104 70.47463868 62.08586329 67.5171056  70.84286234\n",
            " 69.12566034 69.9665822  76.6955633  71.81950655 69.19199635 69.71117812]\n"
          ]
        }
      ],
      "source": [
        "# tạo mẫu ngẫu nhiên \n",
        "samples = np.random.normal(69.7, 3.5, 36)\n",
        "print(samples[:36])"
      ]
    },
    {
      "cell_type": "code",
      "source": [
        "#Xác định các thông số\n",
        "null_mean = 70 \n",
        "alpha = 0.05"
      ],
      "metadata": {
        "id": "oQ8kKj00g3H7"
      },
      "execution_count": 20,
      "outputs": []
    },
    {
      "cell_type": "code",
      "source": [
        "# Kiểm định z:\n",
        "ztest_Score, p_value= ztest(sample, value = null_mean, alternative='two-sided')\n",
        "print(p_value)\n",
        "if(p_value <  alpha):\n",
        "  print(\"Có bằng chứng để bác bỏ giả thuyết H0\")\n",
        "else:\n",
        "  print(\"Chưa có bằng chứng để bác bỏ giả thuyết H0\")"
      ],
      "metadata": {
        "id": "uQRypVhbhEz4",
        "outputId": "e20b2234-3189-48ab-f06a-c72626545b0a",
        "colab": {
          "base_uri": "https://localhost:8080/"
        }
      },
      "execution_count": 21,
      "outputs": [
        {
          "output_type": "stream",
          "name": "stdout",
          "text": [
            "0.0\n",
            "Có bằng chứng để bác bỏ giả thuyết H0\n"
          ]
        }
      ]
    },
    {
      "cell_type": "markdown",
      "metadata": {
        "id": "GmV8qKeFUevg"
      },
      "source": [
        "Bài 5: Does an average box of cereal contain more than 368 grams of cereal?  A random sample of 25 boxes showed $\\overline{\\rm x}$ =  372.5.  The company has specified $\\sigma$ to be 25 grams.  Test at the .05 level of significance."
      ]
    },
    {
      "cell_type": "markdown",
      "source": [
        "Giả thuyết gốc: trung bình một hộp cốm có 368g\n",
        "\n",
        "$$H_{0}: \\mu = 368$$\n",
        "\n",
        "Giả thuyết thay thế: một hộp cốm lớn hơn 368g\n",
        "\n",
        "$$H_a: μ > 368$$"
      ],
      "metadata": {
        "id": "uPvGyJEfhdlB"
      }
    },
    {
      "cell_type": "code",
      "execution_count": 22,
      "metadata": {
        "id": "5QHsf6w-Uevh",
        "outputId": "f20ccaa8-e644-4095-ce01-537e935ee18d",
        "colab": {
          "base_uri": "https://localhost:8080/"
        }
      },
      "outputs": [
        {
          "output_type": "stream",
          "name": "stdout",
          "text": [
            "[391.21817888 374.78622046 359.26141622 393.31866275 386.47281257\n",
            " 347.04614533 388.22723109 404.76961888 359.59038704 378.64224489\n",
            " 375.22710726 403.45205258 395.27881763 360.3693288  355.6093292\n",
            " 363.1749915  358.04228651 386.28221028 394.68241945 383.52847398\n",
            " 393.30475809 328.80422557 343.67841251 362.87007597 376.02645052]\n"
          ]
        }
      ],
      "source": [
        "#tạo mẫu ngẫu nhiên \n",
        "samples = np.random.normal(372.5, 25, 25)\n",
        "print(samples[:25])"
      ]
    },
    {
      "cell_type": "code",
      "source": [
        "#Xác định các thông số\n",
        "null_mean = 368 \n",
        "alpha = 0.05"
      ],
      "metadata": {
        "id": "JDeGgq9qiK3_"
      },
      "execution_count": 23,
      "outputs": []
    },
    {
      "cell_type": "code",
      "source": [
        "# Kiểm định t:\n",
        "ztest_Score, p_value= ztest(sample, value = null_mean, alternative='larger')\n",
        "print(p_value)\n",
        "if(p_value <  alpha):\n",
        "  print(\"Có bằng chứng để bác bỏ giả thuyết H0\")\n",
        "else:\n",
        "  print(\"Chưa có bằng chứng để bác bỏ giả thuyết H0\")"
      ],
      "metadata": {
        "id": "6lD4fDtIiXhI",
        "outputId": "ed3433e2-a231-4ca7-929a-17ea2171484d",
        "colab": {
          "base_uri": "https://localhost:8080/"
        }
      },
      "execution_count": 24,
      "outputs": [
        {
          "output_type": "stream",
          "name": "stdout",
          "text": [
            "0.04816300300151084\n",
            "Có bằng chứng để bác bỏ giả thuyết H0\n"
          ]
        }
      ]
    },
    {
      "cell_type": "markdown",
      "metadata": {
        "id": "5a6_fTaZUevh"
      },
      "source": [
        "Bài 6: You’re an analyst for Ford.  You want to find out if the average miles per gallon of Escorts is at least 32 mpg. Similar models have a standard deviation of 3.8 mpg. You take a sample of 60 Escorts & compute a sample mean of 30.7 mpg. At the .01 level of significance, is there evidence that the miles per gallon is less than 32?"
      ]
    },
    {
      "cell_type": "markdown",
      "source": [
        "Giả thuyết gốc: số dặm trên một gallon của escort là 32mpg\n",
        "$$H_0: μ = 32$$\n",
        "Giả thuyết thay thế: số dặm trên một gallon của escort bé hơn 32mpg\n",
        "$$H_a: μ < 32$$"
      ],
      "metadata": {
        "id": "vdYH21fdqTQt"
      }
    },
    {
      "cell_type": "code",
      "execution_count": 25,
      "metadata": {
        "id": "ZhSLZFDaUevh",
        "outputId": "3f8ddd2e-e7ad-41bc-e771-0f9cbe65731a",
        "colab": {
          "base_uri": "https://localhost:8080/"
        }
      },
      "outputs": [
        {
          "output_type": "stream",
          "name": "stdout",
          "text": [
            "[34.65163007 26.76743087 33.54657472 26.52410055 27.82093661 25.6214933\n",
            " 33.85325493 31.27279712 37.49976247 31.88787618 22.99092941 31.35968355\n",
            " 33.62501397 29.31798913 29.44903534 28.40115592 30.96582031 27.5083476\n",
            " 29.80264076 32.35627632 32.96191197 28.13997702 25.07507567 34.57671506\n",
            " 27.02884968 36.98173292 30.79817347 24.95653374 24.96721123 34.57622878\n",
            " 38.8959269  31.46507183 26.71366735 28.22271537 28.15076586 29.28769393\n",
            " 31.88756237 29.97471986 36.12950525 29.39549213 26.39697781 24.84049002\n",
            " 29.59052082 33.2405598  34.26628055 31.55933903 34.06626331 30.51262639\n",
            " 22.89289055 28.91310351 28.20951447 30.35331937 27.91335613 30.968966\n",
            " 30.26852068 28.80092078 29.86574834 25.67864539 30.38776234 31.15381886]\n"
          ]
        }
      ],
      "source": [
        "# tạo mẫu ngẫu nhiên \n",
        "samples = np.random.normal(30.7, 3.8, 60)\n",
        "print(samples[:60])"
      ]
    },
    {
      "cell_type": "code",
      "source": [
        "#Xác định các thông số\n",
        "null_mean = 32  \n",
        "alpha = 0.01"
      ],
      "metadata": {
        "id": "byJqPfNprGGR"
      },
      "execution_count": 26,
      "outputs": []
    },
    {
      "cell_type": "code",
      "source": [
        "# Kiểm định t:\n",
        "ztest_Score, p_value= ztest(sample, value = null_mean, alternative='smaller')\n",
        "if(p_value < alpha):\n",
        "  print(\"Có bằng chứng để bác bỏ giả thuyết H0\")\n",
        "else:\n",
        "  print(\"Chưa có bằng chứng để bác bỏ giả thuyết H0\")"
      ],
      "metadata": {
        "id": "iy-RrtxbrJgY",
        "outputId": "c7284e50-c66e-42a5-816c-0b9fbf4bf95a",
        "colab": {
          "base_uri": "https://localhost:8080/"
        }
      },
      "execution_count": 30,
      "outputs": [
        {
          "output_type": "stream",
          "name": "stdout",
          "text": [
            "Chưa có bằng chứng để bác bỏ giả thuyết H0\n"
          ]
        }
      ]
    },
    {
      "cell_type": "markdown",
      "metadata": {
        "id": "unCSV4zZUevi"
      },
      "source": [
        "Bài 7: Does an average box of cereal contain 368 grams of cereal?  A random sample of 25 boxes showed $\\overline{\\rm x}$ = 372.5.  The company has specified $\\sigma$ to be 15 grams.  Find the p-Value."
      ]
    },
    {
      "cell_type": "markdown",
      "source": [
        "Giả thuyết gốc: trung bình một hộp cốm có 368g\n",
        "$$H_0: μ = 368$$\n",
        "Giả thuyết thay thế: trung bình một hộp cốm không phải 368g \n",
        "$$H_a: μ \\ne 368$$"
      ],
      "metadata": {
        "id": "vR2PdPZPr_0c"
      }
    },
    {
      "cell_type": "code",
      "execution_count": 31,
      "metadata": {
        "id": "Tfohkw6wUevi",
        "outputId": "a968c8c5-ce4c-4ca7-fdee-eba7a0d08c4f",
        "colab": {
          "base_uri": "https://localhost:8080/"
        }
      },
      "outputs": [
        {
          "output_type": "stream",
          "name": "stdout",
          "text": [
            "[366.23553306 380.20895999 385.82783001 371.34729192 365.39881333\n",
            " 345.86008085 371.34758696 356.78909088 381.66489686 353.60935026\n",
            " 350.91562258 366.48972834 393.89006459 374.51247073 391.88602002\n",
            " 380.0676614  391.90158842 344.61958502 374.24223578 387.39243426\n",
            " 380.43567477 389.4774566  377.73699518 355.54039355 372.27672976]\n"
          ]
        }
      ],
      "source": [
        "#tạo mẫu \n",
        "samples = np.random.normal(372.5, 15, 25)\n",
        "print(samples[:25])"
      ]
    },
    {
      "cell_type": "code",
      "source": [
        "#Xác định các thông số\n",
        "null_mean = 368"
      ],
      "metadata": {
        "id": "r5qP9gnttvGO"
      },
      "execution_count": 32,
      "outputs": []
    },
    {
      "cell_type": "code",
      "source": [
        "# Kiểm định t:\n",
        "ztest_Score, p_value= ztest(sample, value = null_mean, alternative='two-sided')\n",
        "print(f\"p-value: {p_value}\")"
      ],
      "metadata": {
        "id": "Bwl9PX7ztyKo",
        "outputId": "592f4da1-7eba-4dff-f035-dd446d4af09a",
        "colab": {
          "base_uri": "https://localhost:8080/"
        }
      },
      "execution_count": 33,
      "outputs": [
        {
          "output_type": "stream",
          "name": "stdout",
          "text": [
            "p-value: 0.09632600600302169\n"
          ]
        }
      ]
    },
    {
      "cell_type": "markdown",
      "metadata": {
        "id": "j1P4pRtqUevi"
      },
      "source": [
        "Bài 8: Does an average box of cereal contain more than 368 grams of cereal?  A random sample of 25 boxes showed $\\overline{\\rm x}$ = 372.5.  The company has specified $\\sigma$ to be 15 grams.  Find the p-Value."
      ]
    },
    {
      "cell_type": "markdown",
      "source": [
        "Giả thuyết gốc: trung bình hộp cốm có 368g\n",
        "$$H_0: μ = 368$$\n",
        "Giả thuyết thay thế: trung bình hộp cốm có nhiều hơn 368g\n",
        "$$H_a: μ > 368$$"
      ],
      "metadata": {
        "id": "A7OxZe_GuJP-"
      }
    },
    {
      "cell_type": "code",
      "execution_count": 34,
      "metadata": {
        "id": "N_Ng1dXoUevj",
        "outputId": "909a6fe3-6b0e-4167-fb7b-cf2842405211",
        "colab": {
          "base_uri": "https://localhost:8080/"
        }
      },
      "outputs": [
        {
          "output_type": "stream",
          "name": "stdout",
          "text": [
            "[373.99428358 370.15468107 382.02277337 365.39960589 363.20703833\n",
            " 363.5703395  386.46941756 355.94495294 360.50567522 361.68787815\n",
            " 371.36713315 391.0256954  381.16003724 379.21327412 363.64001907\n",
            " 403.30413265 364.10218364 358.20407187 368.0969745  364.39520597\n",
            " 375.15650655 366.22759448 384.65150308 385.32449628 378.36569113]\n"
          ]
        }
      ],
      "source": [
        "#tạo mẫu \n",
        "samples = np.random.normal(372.5, 15, 25)\n",
        "print(samples[:25])"
      ]
    },
    {
      "cell_type": "code",
      "source": [
        "#Xác định các thông số\n",
        "null_mean = 368"
      ],
      "metadata": {
        "id": "1HyvYTSFupRe"
      },
      "execution_count": 35,
      "outputs": []
    },
    {
      "cell_type": "code",
      "source": [
        "# Kiểm định t:\n",
        "ztest_Score, p_value= ztest(sample, value = null_mean, alternative='larger')\n",
        "print(f\"p-value: {p_value}\")"
      ],
      "metadata": {
        "id": "KtzLPx8auwwd",
        "outputId": "77b2de1a-886a-4ce1-e6d9-91a88fe71841",
        "colab": {
          "base_uri": "https://localhost:8080/"
        }
      },
      "execution_count": 36,
      "outputs": [
        {
          "output_type": "stream",
          "name": "stdout",
          "text": [
            "p-value: 0.04816300300151084\n"
          ]
        }
      ]
    },
    {
      "cell_type": "markdown",
      "metadata": {
        "id": "BviM26pMUevj"
      },
      "source": [
        "Bài 9: You’re an analyst for Ford.  You want to find out if the average miles per gallon of Escorts is less than 32 mpg.   Similar models have a standard deviation of 3.8 mpg.  You take a sample of 60 Escorts & compute a sample mean of 30.7 mpg.  What is the value of the observed level of significance (p-Value)?"
      ]
    },
    {
      "cell_type": "markdown",
      "source": [
        "Giả thuyết gốc: số dặm trên một gallon của escorts là 32mpg\n",
        "$$H_0: μ = 32$$\n",
        "Giả thuyết thay thế: số dặm trên một gallon của escorts bé hơn 32mpg\n",
        "$$H_a: μ < 32$$"
      ],
      "metadata": {
        "id": "NYCowon6vfMM"
      }
    },
    {
      "cell_type": "code",
      "execution_count": 37,
      "metadata": {
        "id": "-zAUE70eUevj",
        "outputId": "9f5ea765-69f1-4b1a-daf6-9cd537191983",
        "colab": {
          "base_uri": "https://localhost:8080/"
        }
      },
      "outputs": [
        {
          "output_type": "stream",
          "name": "stdout",
          "text": [
            "[29.40432355 34.85732925 31.04597495 33.61549867 35.1200648  30.05908332\n",
            " 37.15513016 28.5823231  31.64152915 32.54145922 28.20870244 31.06189219\n",
            " 31.70869205 32.02842492 29.04106582 31.70168991 34.47764032 26.55020111\n",
            " 29.74720164 39.37664475 25.42429057 26.13933132 31.78227277 24.61148725\n",
            " 28.32186372 31.6334022  27.41584234 29.35328371 24.20420478 34.31324613\n",
            " 30.00851818 31.7490268  30.16587293 33.58356597 33.03521034 24.15122717\n",
            " 29.61061201 31.80352907 32.39884818 26.45464344 30.93417494 29.16943332\n",
            " 35.09210602 30.83160808 24.42683198 23.48068115 36.46591226 29.16676447\n",
            " 24.04580075 31.72260331 29.19484734 27.1891419  29.71484031 31.723118\n",
            " 34.24557226 28.92158807 27.15928263 41.65320272 28.34860809 24.19878105]\n"
          ]
        }
      ],
      "source": [
        "#tạo mẫu\n",
        "samples = np.random.normal(30.7, 3.8, 60)\n",
        "print(samples[:60])"
      ]
    },
    {
      "cell_type": "code",
      "source": [
        "#Xác định các thông số\n",
        "null_mean = 32"
      ],
      "metadata": {
        "id": "a-P9SaDlwBSp"
      },
      "execution_count": 38,
      "outputs": []
    },
    {
      "cell_type": "code",
      "source": [
        "# Kiểm định t:\n",
        "ztest_Score, p_value= ztest(sample, value = null_mean, alternative='smaller')\n",
        "print(f\"p-value: {p_value}\")"
      ],
      "metadata": {
        "id": "tHrEncuhwG_0",
        "outputId": "51a12b64-5f2e-4527-d210-161b91b97406",
        "colab": {
          "base_uri": "https://localhost:8080/"
        }
      },
      "execution_count": 41,
      "outputs": [
        {
          "output_type": "stream",
          "name": "stdout",
          "text": [
            "p-value: 1.0\n"
          ]
        }
      ]
    },
    {
      "cell_type": "markdown",
      "metadata": {
        "id": "SPJrRNCIUevk"
      },
      "source": [
        "Bài 10: Does an average box of cereal contain 368 grams of cereal?  A random sample of 36 boxes had a mean of 372.5 and a standard deviation of 12 grams. Test at the .05 level of significance."
      ]
    },
    {
      "cell_type": "markdown",
      "source": [
        "Giả thuyết gốc: trung bình một hộp cốm chứa 368g \n",
        "$$H_0: μ = 368$$\n",
        "Giả thuyết thay thế: trung bình một hộp cốm không phải 368g \n",
        "$$H_a: μ \\ne 368$$"
      ],
      "metadata": {
        "id": "Y2N8-P6PxUqn"
      }
    },
    {
      "cell_type": "code",
      "execution_count": 42,
      "metadata": {
        "id": "jmd_UcZPUevk",
        "outputId": "247dbcd3-8467-4eac-8822-9b74f78c51bb",
        "colab": {
          "base_uri": "https://localhost:8080/"
        }
      },
      "outputs": [
        {
          "output_type": "stream",
          "name": "stdout",
          "text": [
            "[375.24362682 391.72788557 368.84862507 358.83409095 377.63747369\n",
            " 371.59990915 387.7289761  367.17390477 363.61131329 366.43196442\n",
            " 356.03904045 382.30893186 367.19364683 388.83227235 388.2811417\n",
            " 380.41242402 373.31867588 375.13951594 354.25568004 375.24433939\n",
            " 384.9535744  383.23984683 373.20458722 374.55969847 378.38939891\n",
            " 363.24382503 363.32545048 367.3313078  379.48698284 359.56008602\n",
            " 366.27331577 380.66631577 375.83195464 374.36710297 367.81551424\n",
            " 362.31779422]\n"
          ]
        }
      ],
      "source": [
        "#tạo mẫu \n",
        "samples = np.random.normal(372.5, 12, 36)\n",
        "print(samples[:36])"
      ]
    },
    {
      "cell_type": "code",
      "source": [
        "#Xác định các thông số\n",
        "null_mean = 368 \n",
        "alpha = 0.05"
      ],
      "metadata": {
        "id": "eUH0Tql2yLms"
      },
      "execution_count": 43,
      "outputs": []
    },
    {
      "cell_type": "code",
      "source": [
        "#Kiểm định z\n",
        "ztest_Score, p_value= ztest(samples, value = null_mean, alternative='larger')\n",
        "if(p_value <  alpha):\n",
        "  print(\"Có bằng chứng để bác bỏ giả thuyết H0\")\n",
        "else:\n",
        "  print(\"Chưa có bằng chứng để bác bỏ giả thuyết H0\")"
      ],
      "metadata": {
        "id": "r1LAKHfYyVeF",
        "outputId": "39eecf6a-a114-49cc-c280-d1b25a173590",
        "colab": {
          "base_uri": "https://localhost:8080/"
        }
      },
      "execution_count": 44,
      "outputs": [
        {
          "output_type": "stream",
          "name": "stdout",
          "text": [
            "Có bằng chứng để bác bỏ giả thuyết H0\n"
          ]
        }
      ]
    },
    {
      "cell_type": "markdown",
      "metadata": {
        "id": "D_c8TBWRUevk"
      },
      "source": [
        "Bài 11: You work for the FTC.  A manufacturer of detergent claims that the mean weight of detergent is 3.25 lb.  You take a random sample of 64 containers.  You calculate the sample average to be 3.238 lb. with a standard deviation of .117 lb.  At the .01 level of significance, is the manufacturer correct?"
      ]
    },
    {
      "cell_type": "markdown",
      "source": [
        "Giả thiết gốc: trọng lượng trung bình của chất tẩy rửa là 3,25 lb\n",
        "$$H_0: μ = 3.25$$\n",
        "Giả thuyết thay thế: trong lượng trung bình của chất tầy rửa không phải là 3,25 lb\n",
        "$$H_a: μ \\ne 3.25$$"
      ],
      "metadata": {
        "id": "UryYEqNqyoG-"
      }
    },
    {
      "cell_type": "code",
      "execution_count": 45,
      "metadata": {
        "id": "EKrhThv3Uevl",
        "outputId": "c40c8a72-29d9-408a-e433-4fe89e1f3e64",
        "colab": {
          "base_uri": "https://localhost:8080/"
        }
      },
      "outputs": [
        {
          "output_type": "stream",
          "name": "stdout",
          "text": [
            "[3.21565153 3.15265916 3.2220083  3.2922135  3.33437856 3.27754919\n",
            " 3.25853225 3.36158488 3.29205294 3.26806289 3.31161009 3.33427976\n",
            " 3.35910335 3.18762247 3.23114085 3.1208731  3.2459345  3.10130379\n",
            " 3.27991795 3.26554057 2.97362972 3.18257458 3.09441735 3.23894171\n",
            " 3.21770677 3.30693855 3.20290887 3.43194899 3.35913811 3.20180445\n",
            " 3.32536651 3.55238494 3.31297973 3.00755207 3.32553484 3.28480026\n",
            " 3.2465214  3.14021736 3.16119149 2.91703255 3.40790976 3.34954272\n",
            " 3.26308652 3.21401593 3.13817131 3.2613667  3.09257936 3.17899656\n",
            " 3.26584312 3.11277129 3.3179536  3.45755813 3.34663344 3.3024943\n",
            " 3.33288994 3.26538472 3.36113134 3.27954455 3.30978828 3.21442404\n",
            " 3.19551793 3.32424553 3.24235855 3.05642036]\n"
          ]
        }
      ],
      "source": [
        "#lấy mẫu \n",
        "samples = np.random.normal(3.238,0.117,64)\n",
        "print(samples[:64])"
      ]
    },
    {
      "cell_type": "code",
      "source": [
        "#Xác định các thông số\n",
        "null_mean = 3.25\n",
        "alpha = 0.01"
      ],
      "metadata": {
        "id": "q5xhx6bJzJ8J"
      },
      "execution_count": 46,
      "outputs": []
    },
    {
      "cell_type": "code",
      "source": [
        "#Kiểm định z\n",
        "ztest_Score, p_value= ztest(samples, value = null_mean, alternative='larger')\n",
        "if(p_value < alpha):\n",
        "  print(\"Có bằng chứng để bác bỏ giả thuyết H0\")\n",
        "else:\n",
        "  print(\"Chưa có bằng chứng để bác bỏ giả thuyết H0\")"
      ],
      "metadata": {
        "id": "__8lKUOAzOe0",
        "outputId": "eb50a428-0bb1-4d43-c10b-83f023dd18a7",
        "colab": {
          "base_uri": "https://localhost:8080/"
        }
      },
      "execution_count": 48,
      "outputs": [
        {
          "output_type": "stream",
          "name": "stdout",
          "text": [
            "Chưa có bằng chứng để bác bỏ giả thuyết H0\n"
          ]
        }
      ]
    },
    {
      "cell_type": "markdown",
      "metadata": {
        "id": "z_-11GLrUevl"
      },
      "source": [
        "Bài 12: Is the average capacity of batteries less than 140 ampere-hours?  A random sample of 20 batteries had a mean of 138.47 and a standard deviation of 2.66.  Assume a normal distribution. Test at the .05 level of significance."
      ]
    },
    {
      "cell_type": "markdown",
      "source": [
        "Giả thuyết gốc: công suất trung bình của acquy là 140 ampe/giờ\n",
        "$$H_0: μ = 140$$\n",
        "Giả thuyết thay thế: công suất trung bình của acquy nhỏ hơn 140 ampe/giờ \n",
        "$$H_a: μ < 140$$"
      ],
      "metadata": {
        "id": "W0ffVesj16Sp"
      }
    },
    {
      "cell_type": "code",
      "source": [
        "#tạo mẫu \n",
        "samples = np.random.normal(138.47,2.26,20)\n",
        "print(samples[:20])"
      ],
      "metadata": {
        "id": "-wXxMMAS1OHG",
        "outputId": "4a3ad34c-a121-42a7-8c5d-a88b677442e7",
        "colab": {
          "base_uri": "https://localhost:8080/"
        }
      },
      "execution_count": 49,
      "outputs": [
        {
          "output_type": "stream",
          "name": "stdout",
          "text": [
            "[138.35103357 141.12509228 139.81292113 131.20694058 140.38043962\n",
            " 137.84519341 140.3229733  136.55057998 139.57608623 136.31453367\n",
            " 139.84097166 136.45613809 135.82744181 140.70476709 136.4278451\n",
            " 140.72511545 139.65683457 136.17994061 134.21950751 137.52965792]\n"
          ]
        }
      ]
    },
    {
      "cell_type": "code",
      "source": [
        "#Xác định các thông số\n",
        "null_mean = 140 \n",
        "alpha = 0.05"
      ],
      "metadata": {
        "id": "b3yciLNxzHFT"
      },
      "execution_count": 50,
      "outputs": []
    },
    {
      "cell_type": "code",
      "execution_count": 52,
      "metadata": {
        "id": "4x2VIiVTUevl",
        "outputId": "9a911acb-725d-41d5-a3bb-af11da55423a",
        "colab": {
          "base_uri": "https://localhost:8080/"
        }
      },
      "outputs": [
        {
          "output_type": "stream",
          "name": "stdout",
          "text": [
            "Chưa có bằng chứng để bác bỏ giả thuyết H0\n"
          ]
        }
      ],
      "source": [
        "#Kiểm định z\n",
        "ztest_Score, p_value= ztest(samples, value = null_mean, alternative='larger')\n",
        "if(p_value < alpha):\n",
        "  print(\"Có bằng chứng để bác bỏ giả thuyết H0\")\n",
        "else:\n",
        "  print(\"Chưa có bằng chứng để bác bỏ giả thuyết H0\")"
      ]
    },
    {
      "cell_type": "markdown",
      "metadata": {
        "id": "o04OMj5NUevl"
      },
      "source": [
        "Bài 13: You’re a marketing analyst for Wal-Mart.  Wal-Mart had teddy bears on sale last week.  The weekly sales of bears sold in 10 stores was: 8  11  0   4   7   8   10   5   8   3. At the .05 level of significance, is there evidence that the average bear sales per store is more than 5?"
      ]
    },
    {
      "cell_type": "markdown",
      "source": [
        "Giả thuyết gốc: doanh số bán hàng trung bình của cửa hàng trung bình là 5 con\n",
        "$$H_0: μ = 5$$\n",
        "Giả thuyết thay thế: doanh số bán hàng trung bình của cửa hàng lớn hơn 5 con \n",
        "$$H_a: μ > 5$$"
      ],
      "metadata": {
        "id": "qkI1DT3J2swZ"
      }
    },
    {
      "cell_type": "code",
      "execution_count": 54,
      "metadata": {
        "id": "8S6HYzegUevl"
      },
      "outputs": [],
      "source": [
        "# mẫu có sẵn \n",
        "sample = np.array([11, 0, 4, 7, 8, 10, 5, 8, 3])"
      ]
    },
    {
      "cell_type": "code",
      "execution_count": 55,
      "metadata": {
        "id": "iMnNYQ1cUevm"
      },
      "outputs": [],
      "source": [
        "#Xác định các thông số\n",
        "null_mean = 5 \n",
        "alpha = 0.05"
      ]
    },
    {
      "cell_type": "code",
      "source": [
        "#Kiểm định z\n",
        "ztest_Score, p_value= ztest(samples, value = null_mean, alternative='larger')\n",
        "if(p_value < alpha):\n",
        "  print(\"Có bằng chứng để bác bỏ giả thuyết H0\")\n",
        "else:\n",
        "  print(\"Chưa có bằng chứng để bác bỏ giả thuyết H0\")"
      ],
      "metadata": {
        "id": "RvB0Hi2S3oWO",
        "outputId": "138cca13-78cc-42ca-8703-1a94f5e66fee",
        "colab": {
          "base_uri": "https://localhost:8080/"
        }
      },
      "execution_count": 56,
      "outputs": [
        {
          "output_type": "stream",
          "name": "stdout",
          "text": [
            "Có bằng chứng để bác bỏ giả thuyết H0\n"
          ]
        }
      ]
    }
  ],
  "metadata": {
    "kernelspec": {
      "display_name": "Python 3",
      "language": "python",
      "name": "python3"
    },
    "language_info": {
      "codemirror_mode": {
        "name": "ipython",
        "version": 3
      },
      "file_extension": ".py",
      "mimetype": "text/x-python",
      "name": "python",
      "nbconvert_exporter": "python",
      "pygments_lexer": "ipython3",
      "version": "3.7.3"
    },
    "colab": {
      "name": "bai-tap-kiem-dinh-z-t.ipynb",
      "provenance": [],
      "include_colab_link": true
    }
  },
  "nbformat": 4,
  "nbformat_minor": 0
}