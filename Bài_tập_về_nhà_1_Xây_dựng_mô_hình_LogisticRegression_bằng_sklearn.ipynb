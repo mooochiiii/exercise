{
  "nbformat": 4,
  "nbformat_minor": 0,
  "metadata": {
    "colab": {
      "provenance": [],
      "mount_file_id": "1tgYS5zK8ocAUKL18iwy_2nM02O5T428p",
      "authorship_tag": "ABX9TyPdM/apPxb+FRFsgDnxihZu",
      "include_colab_link": true
    },
    "kernelspec": {
      "name": "python3",
      "display_name": "Python 3"
    },
    "language_info": {
      "name": "python"
    }
  },
  "cells": [
    {
      "cell_type": "markdown",
      "metadata": {
        "id": "view-in-github",
        "colab_type": "text"
      },
      "source": [
        "<a href=\"https://colab.research.google.com/github/mooochiiii/exercise/blob/main/B%C3%A0i_t%E1%BA%ADp_v%E1%BB%81_nh%C3%A0_1_X%C3%A2y_d%E1%BB%B1ng_m%C3%B4_h%C3%ACnh_LogisticRegression_b%E1%BA%B1ng_sklearn.ipynb\" target=\"_parent\"><img src=\"https://colab.research.google.com/assets/colab-badge.svg\" alt=\"Open In Colab\"/></a>"
      ]
    },
    {
      "cell_type": "code",
      "execution_count": 1,
      "metadata": {
        "id": "7iKyIE1mbm41"
      },
      "outputs": [],
      "source": [
        "import os\n",
        "import numpy as np\n",
        "from sklearn.preprocessing import MinMaxScaler\n",
        "from sklearn.linear_model import LogisticRegression"
      ]
    },
    {
      "cell_type": "code",
      "source": [
        "D = np.loadtxt(os.path.join(\"/content/drive/MyDrive\", \"ex2data1.txt\"),\n",
        "delimiter=\",\")\n",
        "print('Kích thước của tập dữ liệu: ', D.shape)\n",
        "print('Lấy ra tập dữ liệu X, y')\n",
        "X, y = D[:,:-1], D[:, -1]"
      ],
      "metadata": {
        "colab": {
          "base_uri": "https://localhost:8080/"
        },
        "id": "Q63xwRsoclR4",
        "outputId": "5fc707a2-34b7-4d72-a280-e2dec7c9dcaf"
      },
      "execution_count": 4,
      "outputs": [
        {
          "output_type": "stream",
          "name": "stdout",
          "text": [
            "Kích thước của tập dữ liệu:  (100, 3)\n",
            "Lấy ra tập dữ liệu X, y\n"
          ]
        }
      ]
    },
    {
      "cell_type": "code",
      "source": [
        "print('Thực hiện MinMaxScaler')\n",
        "#Khởi tạo bộ điều chỉnh dữ liệu\n",
        "scaler = MinMaxScaler()\n",
        "#Phải thực hiện thao tác fit(data) trước khi điều chỉnh dữ liệu\n",
        "scaler.fit(X)\n",
        "#Thực hiện điều chỉnh dữ liệu trên X, không điều chỉnh với y\n",
        "X = scaler.transform(X)\n",
        "print('Kích thước tập X: ', X.shape)\n",
        "print('Kích thước vector y: ', y.shape)"
      ],
      "metadata": {
        "colab": {
          "base_uri": "https://localhost:8080/"
        },
        "id": "HJNWDVkOb2UN",
        "outputId": "0af12436-609e-4824-94ce-1c933f8ecc23"
      },
      "execution_count": 5,
      "outputs": [
        {
          "output_type": "stream",
          "name": "stdout",
          "text": [
            "Thực hiện MinMaxScaler\n",
            "Kích thước tập X:  (100, 2)\n",
            "Kích thước vector y:  (100,)\n"
          ]
        }
      ]
    },
    {
      "cell_type": "code",
      "source": [
        "print('Huấn luyện mô hình LogisticRegression')\n",
        "#Khởi tạo mô hình\n",
        "model = LogisticRegression()\n",
        "#Huấn luyện mô hình với tập dữ liệu X, y\n",
        "model.fit(X,y)\n",
        "#Bộ trọng số tối ưu:\n",
        "print('\\t\\tw optimal: ', model.coef_)"
      ],
      "metadata": {
        "colab": {
          "base_uri": "https://localhost:8080/"
        },
        "id": "YbXnk-RXcteL",
        "outputId": "34ba4b29-f66e-4bf5-bb04-1a98b38c8615"
      },
      "execution_count": 6,
      "outputs": [
        {
          "output_type": "stream",
          "name": "stdout",
          "text": [
            "Huấn luyện mô hình LogisticRegression\n",
            "\t\tw optimal:  [[3.12281937 2.82347911]]\n"
          ]
        }
      ]
    }
  ]
}