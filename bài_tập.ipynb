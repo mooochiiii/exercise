{
  "nbformat": 4,
  "nbformat_minor": 0,
  "metadata": {
    "colab": {
      "name": "bài tập.ipynb",
      "provenance": [],
      "collapsed_sections": [],
      "authorship_tag": "ABX9TyPHMw3MDRJRm1wqBB2o56UG",
      "include_colab_link": true
    },
    "kernelspec": {
      "name": "python3",
      "display_name": "Python 3"
    },
    "language_info": {
      "name": "python"
    }
  },
  "cells": [
    {
      "cell_type": "markdown",
      "metadata": {
        "id": "view-in-github",
        "colab_type": "text"
      },
      "source": [
        "<a href=\"https://colab.research.google.com/github/mooochiiii/exercise/blob/main/b%C3%A0i_t%E1%BA%ADp.ipynb\" target=\"_parent\"><img src=\"https://colab.research.google.com/assets/colab-badge.svg\" alt=\"Open In Colab\"/></a>"
      ]
    },
    {
      "cell_type": "markdown",
      "metadata": {
        "id": "Paujft4l2sy-"
      },
      "source": [
        "Bài 1: Lập trình nhập vào từ bàn phím 2 số nguyên và tính:\n",
        "\n",
        "Tổng của 2 số\n",
        "Tích của 2 số\n",
        "Hiệu của 2 số\n",
        "Phép chia lấy phần dư của 2 số\n",
        "Phép chia lấy phần nguyên của 2 số"
      ]
    },
    {
      "cell_type": "code",
      "metadata": {
        "colab": {
          "base_uri": "https://localhost:8080/"
        },
        "id": "Ubm2BimY2nPl",
        "outputId": "ced132e0-8ded-4f1c-a198-5aab8f6a1341"
      },
      "source": [
        "a = int(input('nhap so nguyen a: '))\n",
        "b = int(input('nhap so nguyen b: '))\n",
        "print ('a + b =', a+b, '\\na - b =', a-b, '\\na * b =', a*b, '\\na % b =', a%b, '\\na / b =', int(a/b))"
      ],
      "execution_count": 1,
      "outputs": [
        {
          "output_type": "stream",
          "name": "stdout",
          "text": [
            "nhap so nguyen a: 2\n",
            "nhap so nguyen b: 1\n",
            "a + b = 3 \n",
            "a - b = 1 \n",
            "a * b = 2 \n",
            "a % b = 0 \n",
            "a / b = 2\n"
          ]
        }
      ]
    },
    {
      "cell_type": "markdown",
      "metadata": {
        "id": "1VCYcNrh4kOo"
      },
      "source": [
        "Bài 2: Lập trình nhập vào từ bàn phím 2 số thực và tính:\n",
        "\n",
        "Tổng của 2 số\n",
        "Tích của 2 số\n",
        "Hiệu của 2 số\n",
        "Thương của 2 số\n",
        "Kết quả xuất ra màn hình"
      ]
    },
    {
      "cell_type": "code",
      "metadata": {
        "colab": {
          "base_uri": "https://localhost:8080/"
        },
        "id": "OWfP49B04sFB",
        "outputId": "71276eaf-d5b1-41c4-d866-a3e9da2fba0d"
      },
      "source": [
        "a = float(input('nhap a: '))\n",
        "b = float(input('nhap b: '))\n",
        "print ('a + b =', a+b, '\\na - b =', a-b, '\\na * b =', a*b, '\\na / b =', a/b)"
      ],
      "execution_count": 3,
      "outputs": [
        {
          "output_type": "stream",
          "name": "stdout",
          "text": [
            "nhap a: 2.2\n",
            "nhap b: 1.8\n",
            "a + b = 4.0 \n",
            "a - b = 0.40000000000000013 \n",
            "a * b = 3.9600000000000004 \n",
            "a / b = 1.2222222222222223\n"
          ]
        }
      ]
    },
    {
      "cell_type": "markdown",
      "metadata": {
        "id": "AFhVZC2-5CRd"
      },
      "source": [
        "Bài 3: (Sử dụng các hàm toán học) Nhập một số từ bàn phím và tính:\n",
        "\n",
        "Trị tuyệt đối\n",
        "Lấy phần nguyên của số\n",
        "Chuyển đổi thành số thực\n",
        "(nhập thêm 1 số từ bàn phím) và tính lũy thừa $ x^y $\n",
        "Tính căn bậc hai\n",
        "Kết quả xuất ra màn hình"
      ]
    },
    {
      "cell_type": "code",
      "metadata": {
        "colab": {
          "base_uri": "https://localhost:8080/"
        },
        "id": "HXXlWPzq5GkG",
        "outputId": "60fae7a0-8841-42ef-9c93-568940759b9f"
      },
      "source": [
        "import math\n",
        "a = float(input('nhap a: '))\n",
        "print ('trị tuyet doi của a: ', abs(a), '\\nphan nguyen cua a: ', int(a), '\\nchuyen a thanh so thuc: ', float(a), '\\ncan bac hai của a: ', math.sqrt(a))\n",
        "b = float(input('nhap b: '))\n",
        "print (a,'luy thua', b, end = \" = \")\n",
        "print (math.pow(a, b))"
      ],
      "execution_count": 4,
      "outputs": [
        {
          "output_type": "stream",
          "name": "stdout",
          "text": [
            "nhap a: 2\n",
            "trị tuyet doi của a:  2.0 \n",
            "phan nguyen cua a:  2 \n",
            "chuyen a thanh so thuc:  2.0 \n",
            "can bac hai của a:  1.4142135623730951\n",
            "nhap b: 2\n",
            "2.0 luy thua 2.0 = 4.0\n"
          ]
        }
      ]
    },
    {
      "cell_type": "markdown",
      "metadata": {
        "id": "O8P63EZgK7sO"
      },
      "source": [
        "Bài 4: Nhập 2 số từ bàn phím và thực hiện các phép so sánh sau giữa 2 số:\n",
        "\n",
        "$ \\geq $\n",
        "$ \\leq $\n",
        "$ &gt; $\n",
        "$ &lt; $\n",
        "$ \\neq $\n",
        "Kết quả xuất ra màn hình"
      ]
    },
    {
      "cell_type": "code",
      "metadata": {
        "colab": {
          "base_uri": "https://localhost:8080/"
        },
        "id": "UzzgkYlAMW8E",
        "outputId": "e128e811-b092-4607-ff39-88ef5dad3510"
      },
      "source": [
        "a = float (input ('nhap a: '))\n",
        "b = float (input ('nhap b: '))\n",
        "print ('a >= b\\t', bool (a>=b),'\\na <= b\\t', bool(a<=b),'\\na < b\\t', bool(a<b),'\\na > b\\t', bool(a>b),'\\na != b\\t', bool(a != b))"
      ],
      "execution_count": 5,
      "outputs": [
        {
          "output_type": "stream",
          "name": "stdout",
          "text": [
            "nhap a: 1\n",
            "nhap b: 2\n",
            "a >= b\t False \n",
            "a <= b\t True \n",
            "a < b\t True \n",
            "a > b\t False \n",
            "a != b\t True\n"
          ]
        }
      ]
    },
    {
      "cell_type": "markdown",
      "metadata": {
        "id": "S1jjAxhQO0k7"
      },
      "source": [
        "\n",
        "Bài 5: Nhập 1 chuỗi ký tự từ bàn phím:\n",
        "\n",
        "Chuyển thành chuỗi in hoa\n",
        "Chuyển thành chuỗi in thường\n",
        "Kết quả xuất ra màn hình"
      ]
    },
    {
      "cell_type": "code",
      "metadata": {
        "colab": {
          "base_uri": "https://localhost:8080/"
        },
        "id": "VwvMkTcHOznN",
        "outputId": "239bb6a2-86e2-4397-b5fc-5e6fc97c26fc"
      },
      "source": [
        "a = str(input('chuoi ky tu cua ban: '))\n",
        "print ('in thuong: ', a.lower())\n",
        "print ('in hoa: ', a.upper())"
      ],
      "execution_count": 6,
      "outputs": [
        {
          "output_type": "stream",
          "name": "stdout",
          "text": [
            "chuoi ky tu cua ban: Python\n",
            "in thuong:  python\n",
            "in hoa:  PYTHON\n"
          ]
        }
      ]
    },
    {
      "cell_type": "markdown",
      "metadata": {
        "id": "U_kc_jAOYANS"
      },
      "source": [
        "Bài 6: Xuất ra màn hình 1 chuỗi ký từ nằm trên nhiều hàng (có thể là 1 bài thơ tùy ý bạn lựa chọn)"
      ]
    },
    {
      "cell_type": "code",
      "metadata": {
        "colab": {
          "base_uri": "https://localhost:8080/"
        },
        "id": "eQdBmz-0YFib",
        "outputId": "ce031296-7e7e-4a50-ffcb-eddb11bd5271"
      },
      "source": [
        "print ('python\\nthat\\nkho\\nhieu')"
      ],
      "execution_count": 8,
      "outputs": [
        {
          "output_type": "stream",
          "name": "stdout",
          "text": [
            "python\n",
            "that\n",
            "kho\n",
            "hieu\n"
          ]
        }
      ]
    }
  ]
}