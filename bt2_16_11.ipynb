{
  "nbformat": 4,
  "nbformat_minor": 0,
  "metadata": {
    "colab": {
      "name": "bt2_16/11.ipynb",
      "provenance": [],
      "authorship_tag": "ABX9TyOJE6upV1MnulCP3HXjiFVX",
      "include_colab_link": true
    },
    "kernelspec": {
      "name": "python3",
      "display_name": "Python 3"
    },
    "language_info": {
      "name": "python"
    }
  },
  "cells": [
    {
      "cell_type": "markdown",
      "metadata": {
        "id": "view-in-github",
        "colab_type": "text"
      },
      "source": [
        "<a href=\"https://colab.research.google.com/github/mooochiiii/exercise/blob/main/bt2_16_11.ipynb\" target=\"_parent\"><img src=\"https://colab.research.google.com/assets/colab-badge.svg\" alt=\"Open In Colab\"/></a>"
      ]
    },
    {
      "cell_type": "code",
      "metadata": {
        "id": "AaV-FJmzzT5x",
        "colab": {
          "base_uri": "https://localhost:8080/"
        },
        "outputId": "0439e6a5-3a7f-4efe-c9a4-2cc2be97b851"
      },
      "source": [
        "# số âm hay số dương\n",
        "n = float(input('nhập n: '))\n",
        "if n != 0:\n",
        "  if n > 0:\n",
        "    print('n là số dương')\n",
        "  if n < 0:\n",
        "    print('n là số âm')\n",
        "else :\n",
        "  print('n là số 0')"
      ],
      "execution_count": null,
      "outputs": [
        {
          "output_type": "stream",
          "name": "stdout",
          "text": [
            "nhập n: 0\n",
            "n là số 0\n"
          ]
        }
      ]
    },
    {
      "cell_type": "code",
      "metadata": {
        "id": "Cg0LpfM73O8R",
        "colab": {
          "base_uri": "https://localhost:8080/"
        },
        "outputId": "b9aeb465-29f6-4a5e-a2aa-74148a34845d"
      },
      "source": [
        "# lấy ba số từ người dùng và in ra số lớn nhất \n",
        "so1 = float(input('nhập số 1:'))\n",
        "so2 = float(input('nhập số 2:'))\n",
        "so3 = float(input('nhập số 3:'))\n",
        "max = so1\n",
        "if max < so2:\n",
        "    max = so2\n",
        "if max < so3:\n",
        "    max = so3\n",
        "print(max)"
      ],
      "execution_count": 1,
      "outputs": [
        {
          "output_type": "stream",
          "name": "stdout",
          "text": [
            "nhập số 1:23\n",
            "nhập số 2:54\n",
            "nhập số 3:1\n",
            "54.0\n"
          ]
        }
      ]
    },
    {
      "cell_type": "code",
      "metadata": {
        "id": "I3vvc9R59-ke",
        "colab": {
          "base_uri": "https://localhost:8080/"
        },
        "outputId": "e152c57c-4abb-44b9-b6c9-bf7ee2acf4a2"
      },
      "source": [
        "# số âm hay số dương\n",
        "import math\n",
        "x = float(input('nhập x: '))\n",
        "num = 0.0\n",
        "if x != num:\n",
        "    if x < num:\n",
        "        if abs(x) < 1:\n",
        "            print('nho am')\n",
        "        else:\n",
        "            print('am')\n",
        "    if x > num:\n",
        "        if math.sqrt(x) > 1000:\n",
        "            print('duong lon')\n",
        "        else:\n",
        "            print('duong')"
      ],
      "execution_count": 3,
      "outputs": [
        {
          "output_type": "stream",
          "name": "stdout",
          "text": [
            "nhập x: 1111111111111\n",
            "duong lon\n"
          ]
        }
      ]
    },
    {
      "cell_type": "code",
      "metadata": {
        "colab": {
          "base_uri": "https://localhost:8080/"
        },
        "id": "JLQ0dcQVXv53",
        "outputId": "a47413bc-56de-48f4-a7f0-2fd5af7b2807"
      },
      "source": [
        "# tạo một số nguyên từ 1 - 7, hiển thị tên của các ngày trong tuần \n",
        "day = int(input(\"Nhập ngày: \"))\n",
        "day = day % 7 \n",
        "list_day = [\"chủ nhật\", \"thứ 2\", \"thứ 3\", \"thứ 4\", \"thứ 5\", \"thứ 6\", \"thứ 7\"]\n",
        "print(list_day[day])"
      ],
      "execution_count": 4,
      "outputs": [
        {
          "output_type": "stream",
          "name": "stdout",
          "text": [
            "Nhập ngày: 78\n",
            "thứ 2\n"
          ]
        }
      ]
    },
    {
      "cell_type": "code",
      "metadata": {
        "colab": {
          "base_uri": "https://localhost:8080/"
        },
        "id": "7FVCqExOXMr5",
        "outputId": "c6e34b83-c6c9-4cb4-b25f-b2eb3ae9a8d6"
      },
      "source": [
        "# so sánh 2 số thực đến số thập phân thứ 3\n",
        "x = float(input('nhập x: '))\n",
        "y = float(input('nhập y: '))\n",
        "x = x * 1000\n",
        "y = y * 1000\n",
        "if int(x) == int(y):\n",
        "    print('giống nhau đến số thập phân thứ 3')\n",
        "else:\n",
        "    print('khác nhau')"
      ],
      "execution_count": 6,
      "outputs": [
        {
          "output_type": "stream",
          "name": "stdout",
          "text": [
            "nhập x: 0.2223\n",
            "nhập y: 0.22222\n",
            "giống nhau đến số thập phân thứ 3\n"
          ]
        }
      ]
    }
  ]
}