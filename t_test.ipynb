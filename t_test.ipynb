{
  "nbformat": 4,
  "nbformat_minor": 0,
  "metadata": {
    "colab": {
      "name": "t-test.ipynb",
      "provenance": [],
      "collapsed_sections": [],
      "include_colab_link": true
    },
    "kernelspec": {
      "name": "python3",
      "display_name": "Python 3"
    },
    "language_info": {
      "name": "python"
    }
  },
  "cells": [
    {
      "cell_type": "markdown",
      "metadata": {
        "id": "view-in-github",
        "colab_type": "text"
      },
      "source": [
        "<a href=\"https://colab.research.google.com/github/mooochiiii/exercise/blob/main/t_test.ipynb\" target=\"_parent\"><img src=\"https://colab.research.google.com/assets/colab-badge.svg\" alt=\"Open In Colab\"/></a>"
      ]
    },
    {
      "cell_type": "markdown",
      "source": [
        "Hướng dẫn suy diễn thống kê bằng kiểm định t:"
      ],
      "metadata": {
        "id": "4cYA0QZMm7NA"
      }
    },
    {
      "cell_type": "markdown",
      "source": [
        "1. Các thư viện cần thiết:"
      ],
      "metadata": {
        "id": "25PxAHvHm_Nr"
      }
    },
    {
      "cell_type": "code",
      "source": [
        "import numpy as np\n",
        "from scipy import stats\n",
        "import pandas as pd\n",
        "import math\n",
        "from statsmodels.stats.weightstats import ttest_ind"
      ],
      "metadata": {
        "id": "XmBC3LnlnGLc",
        "colab": {
          "base_uri": "https://localhost:8080/"
        },
        "outputId": "1ab8567d-c653-496e-b3f4-195ebacef291"
      },
      "execution_count": 1,
      "outputs": [
        {
          "output_type": "stream",
          "name": "stderr",
          "text": [
            "/usr/local/lib/python3.7/dist-packages/statsmodels/tools/_testing.py:19: FutureWarning: pandas.util.testing is deprecated. Use the functions in the public API at pandas.testing instead.\n",
            "  import pandas.util.testing as tm\n"
          ]
        }
      ]
    },
    {
      "cell_type": "markdown",
      "source": [
        "1. Một số lưu ý khi điểm định giả thuyết t  trong thống kê suy diễn\n",
        "\n",
        "(1) Phù hợp với cỡ mẫu nhỏ (n < 30) và độ lệch chuẩn không được biết\n",
        "\n",
        "(2) Các mẫu quan sát được phải được lựa chọn ngẫu nhiên từ quần thể\n",
        "\n",
        "(3) Tất cả các điểm dữ liệu là độc lập \n",
        "2. Thành phần của một bài kiểm định:\n",
        "- Vấn đề kiểm định\n",
        "- Cặp giả thuyết $H_0$ và $H_a$\n",
        "- Tiểu chuẩn kiểm định: $G = G(X_1, X_2, ..., X_n)$ Biết quy luật phân phối xác suất khi $H_0$ đúng như Student, chuẩn, Chi bình phương, Fisher\n",
        "- Mức ý nghĩa $\\alpha$: Xác suất mắc sai lầm loại $I$ ($H_0$ đúng nhưng chúng ta bác bỏ)\n",
        "- Miền bác bỏ $H_0$: $W_α$ = {miền giá trị cho thấy $H_0$ sai\n",
        "$$α = P(G \\in W_a|H_0 \\text{ đúng} )$$\n",
        "\n",
        "- Giá trị xác suất (p-value): Mức độ khẳng định của việc bác bỏ $H_0$ hoặc có thể hiểu là mức ý nghĩa nhỏ nhất để bác bỏ $H_0$\n",
        "\n",
        "\n",
        "3. Các bước thực hiện kiểm định giả thuyết (sử dụng kiểm định t)\n",
        "\n",
        "Bước 1: Thực hiện các phép đo, hay thu thập dữ liệu quan sát\n",
        "\n",
        "Bước 2: Phát biểu giả thuyết $H_{0}$ và giả thuyết thay thế $H_{a}$\n",
        "\n",
        "Bước 3: Xác định mức $\\alpha$ (hay khoảng tin cậy)\n",
        "\n",
        "Bước 4: Lấy mẫu và tính toán các đại lượng thống kê của mẫu\n",
        "\n",
        "Bước 5: Thực hiện kiểm định t (t-test)\n",
        "\n",
        "Bước 6: Kết luận dựa vào kết quả kiểm định\n"
      ],
      "metadata": {
        "id": "ErvqTBWYnU9A"
      }
    },
    {
      "cell_type": "markdown",
      "source": [
        "4. Xây dựng một kiểm định t 1 tham số:"
      ],
      "metadata": {
        "id": "PIHDoz29Tyt3"
      }
    },
    {
      "cell_type": "markdown",
      "source": [
        "* Kiểm định 2 đuôi:"
      ],
      "metadata": {
        "id": "Y15N0u8yqzhw"
      }
    },
    {
      "cell_type": "markdown",
      "source": [
        "Bài toán: Điều tra chi tiêu hàng năm của 20 công nhân khi công nghiệp A thấy trung bình mẫu là 34 triệu đồng và độ lệch chuẩn mẫu là 5.8 triệu đồng. Điều tra công nhân tại khu công nghiệp B thì chi tiêu trung bình là 35 triệu đồng. Với mức ý nghĩa 5%, có thể cho rằng chi tiêu trung bình của công nhân khu công nghiệp A và B là như nhau không? Giả thiết chi tiêu công nhân là biến ngẫu nhiên phân phối chuẩn."
      ],
      "metadata": {
        "id": "SV6n1809sEJD"
      }
    },
    {
      "cell_type": "markdown",
      "source": [
        "Xây dựng giả thuyết:\n",
        "\\begin{align}\n",
        "        H_0: μ  = 35\n",
        "    \\end{align}\n",
        "\n",
        "Giả thuyết thay thế:\n",
        "\\begin{align}\n",
        "        H_a: μ \\ne 35\n",
        "    \\end{align}\n",
        "\n",
        "α = 0.05\n",
        "\n",
        "Chỉ số t với bậc tự do 19 (20-1)  tương ứng với α/2 = 0.025 là 2.093 (Tra bảng phân phối t)\n",
        "\n",
        "Công thức:\n",
        "$$t = \\frac{(\\overline{\\rm X} - \\mu_0)}{(s / \\sqrt{n})}$$\n",
        "\n",
        "Với:\n",
        "- $\\overline{\\rm X}$: trung bình mẫu (34)\n",
        "- $\\mu_{0}$: trung bình của tổng thể cần so sánh (35)\n",
        "- s: độ lệch chuẩn hiệu chỉnh mẫu (5.8)\n",
        "- n: cỡ mẫu (20)\n",
        "\n",
        "Thay giá trị vào công thức ta có:\n",
        "\n",
        "$$t_{qs} = \\frac{(34 - 35)}{(5.8 / \\sqrt{40})} \\approx -1.09$$\n",
        "\n",
        "VÌ $|t_{qs}|$ < 2.093. Do đó không có bằng chứng để bác bỏ giả thuyết $H_0$  \n"
      ],
      "metadata": {
        "id": "Nvx-Tmk6y-Nm"
      }
    },
    {
      "cell_type": "code",
      "source": [
        "# Sinh mẫu ngẫu nhiên \n",
        "sample = np.random.normal(loc = 34, scale = 5.8, size = 20)\n",
        "sample"
      ],
      "metadata": {
        "colab": {
          "base_uri": "https://localhost:8080/"
        },
        "id": "hskoMOJiTwRo",
        "outputId": "cd6d855e-edb5-47cb-f85d-c7c496028ab9"
      },
      "execution_count": 3,
      "outputs": [
        {
          "output_type": "execute_result",
          "data": {
            "text/plain": [
              "array([34.15134381, 35.61583921, 37.82877324, 36.62705405, 33.53045207,\n",
              "       37.6410284 , 39.37401633, 31.6124504 , 37.17344275, 29.35001095,\n",
              "       43.30168887, 32.28539801, 47.05975256, 41.991454  , 29.20349722,\n",
              "       33.78323698, 31.61737909, 32.31586991, 29.49717402, 35.22475409])"
            ]
          },
          "metadata": {},
          "execution_count": 3
        }
      ]
    },
    {
      "cell_type": "code",
      "source": [
        "# Xác định các thông số:\n",
        "mu0 = 35\n",
        "sig = 0.05"
      ],
      "metadata": {
        "id": "PrPGSvCRUy9P"
      },
      "execution_count": 4,
      "outputs": []
    },
    {
      "cell_type": "code",
      "source": [
        "# Kiểm định t:\n",
        "t_statistic, p_value = stats.ttest_1samp(sample, mu0)\n",
        "print(f\"p value: {p_value}\")\n",
        "if(p_value <  sig):\n",
        "  print(\"Có bằng chứng để bác bỏ giả thuyết H0\")\n",
        "else:\n",
        "  print(\"Chưa có bằng chứng để bác bỏ giả thuyết H0\")"
      ],
      "metadata": {
        "colab": {
          "base_uri": "https://localhost:8080/"
        },
        "id": "vFc2R6_hVEqb",
        "outputId": "d6e0965b-5623-4ac8-90d2-3fdcbd868d19"
      },
      "execution_count": 5,
      "outputs": [
        {
          "output_type": "stream",
          "name": "stdout",
          "text": [
            "p value: 0.673848578084455\n",
            "Chưa có bằng chứng để bác bỏ giả thuyết H0\n"
          ]
        }
      ]
    },
    {
      "cell_type": "markdown",
      "source": [
        "* Kiểm định 1 đuôi:"
      ],
      "metadata": {
        "id": "tAEjyuk2qXRZ"
      }
    },
    {
      "cell_type": "markdown",
      "source": [
        "Bài toán: Điều tra chi tiêu hàng năm của 20 công nhân khi công nghiệp A thấy trung bình mẫu là 34 triệu đồng và độ lệch chuẩn mẫu là 5.8 triệu đồng. Điều tra công nhân tại khu công nghiệp B thì chi tiêu trung bình là 35 triệu đồng. Với mức ý nghĩa 5%, có thể cho rằng chi tiêu trung bình của công nhân khu công nghiệp A thấp hơn khu công nghiệp B hay không? Giả thiết chi tiêu công nhân là biến ngẫu nhiên phân phối chuẩn."
      ],
      "metadata": {
        "id": "jpX2EjMbgAHK"
      }
    },
    {
      "cell_type": "markdown",
      "source": [
        "Xây dựng giả thuyết:\n",
        "\\begin{align}\n",
        "        H_0: μ  = 35\n",
        "    \\end{align}\n",
        "\n",
        "Giả thuyết thay thế:\n",
        "\\begin{align}\n",
        "        H_a: μ < 35\n",
        "    \\end{align}\n",
        "\n",
        "α = 0.05\n",
        "\n",
        "Chỉ số t với bậc tự do 19 (20-1) tương ứng với α/2 = 0.025 là 2.093 (Tra bảng phân phối t)\n",
        "\n",
        "Công thức:\n",
        "$$t = \\frac{(\\overline{\\rm X} - \\mu_0)}{(s / \\sqrt{n})}$$\n",
        "\n",
        "Với:\n",
        "- $\\overline{\\rm X}$: trung bình mẫu (34)\n",
        "- $\\mu_{0}$: trung bình của tổng thể cần so sánh (35)\n",
        "- s: độ lệch chuẩn hiệu chỉnh mẫu (5.8)\n",
        "- n: cỡ mẫu (20)\n",
        "\n",
        "Thay giá trị vào công thức ta có:\n",
        "\n",
        "$$t_{qs} = \\frac{(34 - 35)}{(5.8 / \\sqrt{40})} \\approx -1.09$$\n",
        "\n",
        "VÌ $t_{qs}$ > 2.093. Do đó không có bằng chứng để bác bỏ giả thuyết $H_0$  "
      ],
      "metadata": {
        "id": "pqseP7zogJJY"
      }
    },
    {
      "cell_type": "markdown",
      "source": [
        "Ta dùng Python để giải bài toán trên:"
      ],
      "metadata": {
        "id": "EeYpuow9ftOB"
      }
    },
    {
      "cell_type": "code",
      "source": [
        "# Viết hàm kiểm định t-test: \n",
        "def t_test(sample, hypoth_value, sig_level, test_type):\n",
        "    sample_mean = sample.mean()\n",
        "    sample_st_dev = sample.std()\n",
        "    sample_size = len(sample)\n",
        "    test_statistic = (sample_mean - hypoth_value) / \\\n",
        "                     (sample_st_dev/(math.sqrt(sample_size)))\n",
        "    if test_type == 'lower':\n",
        "        p_value = stats.t.cdf(test_statistic,df=sample_size-1)\n",
        "    if test_type == 'upper':\n",
        "        p_value = 1 - stats.t.cdf(test_statistic,df=sample_size-1)\n",
        "    if test_type == 'two':\n",
        "        p_value = 2 * (1 - stats.t.cdf(abs(test_statistic), \\\n",
        "                                    df=sample_size-1))\n",
        "    print(f'P Value = {p_value}')\n",
        "    if p_value < sig_level:\n",
        "        print(\"Có bằng chứng để bác bỏ giả thuyết H0\")\n",
        "    else:\n",
        "        print(\"Chưa có bằng chứng để bác bỏ giả thuyết H0\")"
      ],
      "metadata": {
        "id": "j62lAai2hxXJ"
      },
      "execution_count": 6,
      "outputs": []
    },
    {
      "cell_type": "code",
      "source": [
        "# Sinh mẫu ngẫu nhiên \n",
        "sample = np.random.normal(loc = 34, scale = 5.8, size = 20)\n",
        "sample"
      ],
      "metadata": {
        "colab": {
          "base_uri": "https://localhost:8080/"
        },
        "id": "nifD7ElrjCwp",
        "outputId": "ae682873-afc8-404d-f007-eeb182e52611"
      },
      "execution_count": 8,
      "outputs": [
        {
          "output_type": "execute_result",
          "data": {
            "text/plain": [
              "array([36.02049096, 34.09652903, 36.90137677, 35.39264022, 25.84017304,\n",
              "       37.88725904, 43.24053358, 26.42737865, 29.65855725, 38.09619796,\n",
              "       36.89930429, 36.91496958, 28.74270677, 28.16607006, 38.03751535,\n",
              "       39.69580115, 29.90809036, 32.96245605, 43.97141361, 23.9521103 ])"
            ]
          },
          "metadata": {},
          "execution_count": 8
        }
      ]
    },
    {
      "cell_type": "code",
      "source": [
        "# Xác định các thông số:\n",
        "mu0 = 35\n",
        "sig = 0.05"
      ],
      "metadata": {
        "id": "_zhuLFikipqA"
      },
      "execution_count": 9,
      "outputs": []
    },
    {
      "cell_type": "code",
      "source": [
        "t_test(sample, mu0, sig, 'lower')"
      ],
      "metadata": {
        "colab": {
          "base_uri": "https://localhost:8080/"
        },
        "id": "D2UPROsBi-y6",
        "outputId": "b313132b-5107-4b12-cc75-9b39f3dfe349"
      },
      "execution_count": 10,
      "outputs": [
        {
          "output_type": "stream",
          "name": "stdout",
          "text": [
            "P Value = 0.2491125947927153\n",
            "Chưa có bằng chứng để bác bỏ giả thuyết H0\n"
          ]
        }
      ]
    },
    {
      "cell_type": "markdown",
      "source": [
        "5. Xây dựng kiểm định t 2 tham số:\n"
      ],
      "metadata": {
        "id": "WenejXzejrxw"
      }
    },
    {
      "cell_type": "markdown",
      "source": [
        "* Trường hợp 2 đuôi:"
      ],
      "metadata": {
        "id": "B03vFOydw8jI"
      }
    },
    {
      "cell_type": "markdown",
      "source": [
        "Bài toán: Điều tra chi tiêu hàng năm của 20 công nhân khi công nghiệp A thấy trung bình mẫu là 34 triệu đồng và độ lệch chuẩn mẫu là 5.8 triệu đồng. Điều tra 20 công nhân ở khu công nghiệp C thì thấy chi tiêu trung bình là 36 triệu đồng và độ lệch chuẩn là 5 triệu đồng. Với mức ý nghĩa 5%, có thể cho rằng mức chi tiêu trung bình hàng năm của công nhân ở khu công nghiệp A có bằng khu C hay không?\n"
      ],
      "metadata": {
        "id": "AL2MeoeLo77x"
      }
    },
    {
      "cell_type": "markdown",
      "source": [
        "Xây dựng giả thuyết:\n",
        "\\begin{align}\n",
        "        H_0: μ_A = μ_C\n",
        "    \\end{align}\n",
        "\n",
        "Giả thuyết thay thế:\n",
        "\\begin{align}\n",
        "        H_a: μ_A \\ne μ_C\n",
        "    \\end{align}\n",
        "\n",
        "α = 0.05\n",
        "\n",
        "Chỉ số t với bậc tự do 19 (20-1) tương ứng với α/2 = 0.025 là 2.093 (Tra bảng phân phối t)\n",
        "\n",
        "Công thức:\n",
        "$$t = \\frac{(\\overline{\\rm X}_1 - \\overline{\\rm X}_2)}{\\sqrt{\\frac{S_1^2}{n_1} + \\frac{S_2^2}{n_2}}}$$\n",
        "\n",
        "Với:\n",
        "- $\\overline{\\rm X}_1$: trung bình mẫu ban đầu (34)\n",
        "- $\\overline{\\rm X}_2$: trung bình của mẫu cần so sánh (36)\n",
        "- $S_1$: độ lệch chuẩn hiệu chỉnh mẫu ban đầu (5.8)\n",
        "- $S_2$: độ lệch chuẩn hiệu chỉnh mẫu cần so sánh (5)\n",
        "- $n_1$: cỡ mẫu của mẫu ban đầu (20)\n",
        "- $n_2$: cỡ mẫu của mẫu cần so sánh (20)\n",
        "\n",
        "Thay giá trị vào công thức ta có:\n",
        "\n",
        "$$t = \\frac{(34 - 36)}{\\sqrt{\\frac{5.8^2}{20} + \\frac{5^2}{20}}} \\approx -1.168$$\n",
        "\n",
        "\n",
        "VÌ $|t_{qs}|$ < 2.093. Do đó chưa có bằng chứng để bác bỏ giả thuyết $H_0$ "
      ],
      "metadata": {
        "id": "J5sKSVhup6ih"
      }
    },
    {
      "cell_type": "markdown",
      "source": [
        "Ta dùng Python để giải bài toán trên như sau:"
      ],
      "metadata": {
        "id": "T3M0nPvKs7gP"
      }
    },
    {
      "cell_type": "code",
      "source": [
        "# Sinh các mẫu:\n",
        "sample_A = np.random.normal(loc = 34, scale = 5.8, size = 20)\n",
        "sample_B = np.random.normal(loc = 36, scale = 5, size = 20)"
      ],
      "metadata": {
        "id": "gmixj2oZuKEw"
      },
      "execution_count": 11,
      "outputs": []
    },
    {
      "cell_type": "code",
      "source": [
        "# Xác định mức ý nghĩa:\n",
        "sig = 0.05"
      ],
      "metadata": {
        "id": "AEjXdGoju2YH"
      },
      "execution_count": 12,
      "outputs": []
    },
    {
      "cell_type": "code",
      "source": [
        "# Tiến hành kiểm định t:\n",
        "t_statistic, p_value = stats.ttest_ind(sample_A, sample_B)\n",
        "print(f\"p value: {p_value}\")\n",
        "if p_value < sig:\n",
        "    print(\"Có bằng chứng để bác bỏ giả thuyết H0\")\n",
        "else:\n",
        "    print(\"Chưa có bằng chứng để bác bỏ giả thuyết H0\")"
      ],
      "metadata": {
        "colab": {
          "base_uri": "https://localhost:8080/"
        },
        "id": "yBjWnpatvChn",
        "outputId": "fac6fb91-6afa-4e21-8cd7-5b8bcc08924a"
      },
      "execution_count": 13,
      "outputs": [
        {
          "output_type": "stream",
          "name": "stdout",
          "text": [
            "p value: 0.94341413105944\n",
            "Chưa có bằng chứng để bác bỏ giả thuyết H0\n"
          ]
        }
      ]
    },
    {
      "cell_type": "markdown",
      "source": [
        "* Trường hợp 1 đuôi:"
      ],
      "metadata": {
        "id": "6TaD4JUcw_6f"
      }
    },
    {
      "cell_type": "markdown",
      "source": [
        "Bài toán: Điều tra chi tiêu hàng năm của 20 công nhân khi công nghiệp A thấy trung bình mẫu là 34 triệu đồng và độ lệch chuẩn mẫu là 5.8 triệu đồng. Điều tra 20 công nhân ở khu công nghiệp C thì thấy chi tiêu trung bình là 36 triệu đồng và độ lệch chuẩn là 5 triệu đồng. Với mức ý nghĩa 5%, có thể cho rằng mức chi tiêu trung bình hàng năm của công nhân ở khu công nghiệp A thấp hơn khu C hay không?"
      ],
      "metadata": {
        "id": "AvWcTBpzxKuf"
      }
    },
    {
      "cell_type": "markdown",
      "source": [
        "Xây dựng giả thuyết:\n",
        "\\begin{align}\n",
        "        H_0: μ_A = μ_C\n",
        "    \\end{align}\n",
        "\n",
        "Giả thuyết thay thế:\n",
        "\\begin{align}\n",
        "        H_a: μ_A < μ_C\n",
        "    \\end{align}\n",
        "Với α = 0.05"
      ],
      "metadata": {
        "id": "f2g_XPOyyAX3"
      }
    },
    {
      "cell_type": "code",
      "source": [
        "# Sinh các mẫu:\n",
        "sample_A = np.random.normal(loc = 34, scale = 5.8, size = 20)\n",
        "sample_B = np.random.normal(loc = 36, scale = 5, size = 20)"
      ],
      "metadata": {
        "id": "ghgiFK-HyVUm"
      },
      "execution_count": 14,
      "outputs": []
    },
    {
      "cell_type": "code",
      "source": [
        "# Xác định mức ý nghĩa:\n",
        "sig = 0.05"
      ],
      "metadata": {
        "id": "CowUVp5CyXa-"
      },
      "execution_count": 15,
      "outputs": []
    },
    {
      "cell_type": "code",
      "source": [
        "# Tiến hành kiểm định t:\n",
        "t_statistic, p_value, df = ttest_ind(x1 = sample_A, x2 = sample_B, value = 34 - 36, alternative = \"smaller\")\n",
        "print(f\"p value: {p_value}\")\n",
        "if p_value < sig:\n",
        "    print(\"Có bằng chứng để bác bỏ giả thuyết H0\")\n",
        "else:\n",
        "    print(\"Chưa có bằng chứng để bác bỏ giả thuyết H0\")"
      ],
      "metadata": {
        "colab": {
          "base_uri": "https://localhost:8080/"
        },
        "id": "oAd8GE4YyZX2",
        "outputId": "d4d17048-1949-4318-c15e-28cfdd6eb7c4"
      },
      "execution_count": 16,
      "outputs": [
        {
          "output_type": "stream",
          "name": "stdout",
          "text": [
            "p value: 0.11512865509575608\n",
            "Chưa có bằng chứng để bác bỏ giả thuyết H0\n"
          ]
        }
      ]
    }
  ]
}