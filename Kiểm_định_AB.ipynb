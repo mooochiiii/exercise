{
  "nbformat": 4,
  "nbformat_minor": 0,
  "metadata": {
    "colab": {
      "name": "Kiểm định AB.ipynb",
      "provenance": [],
      "include_colab_link": true
    },
    "kernelspec": {
      "name": "python3",
      "display_name": "Python 3"
    },
    "language_info": {
      "name": "python"
    }
  },
  "cells": [
    {
      "cell_type": "markdown",
      "metadata": {
        "id": "view-in-github",
        "colab_type": "text"
      },
      "source": [
        "<a href=\"https://colab.research.google.com/github/mooochiiii/exercise/blob/main/Ki%E1%BB%83m_%C4%91%E1%BB%8Bnh_AB.ipynb\" target=\"_parent\"><img src=\"https://colab.research.google.com/assets/colab-badge.svg\" alt=\"Open In Colab\"/></a>"
      ]
    },
    {
      "cell_type": "markdown",
      "source": [
        "**BÀI TẬP TỰ HỌC VỀ KIỂM ĐỊNH A/B**\n",
        "\n",
        "Sinh viên sử dụng tài liệu tham khảo \"Practical Statistics...\", Chương 3 để hoàn thành các yêu cầu sau."
      ],
      "metadata": {
        "id": "fw49i_jmb7ZK"
      }
    },
    {
      "cell_type": "markdown",
      "source": [
        "**Câu 1**: Trả lời các câu hỏi lý thuyết sau:\n",
        "\n",
        "\n",
        "1.   Kiểm định A/B là gì?\n",
        "2.   Thuật ngữ treatment trong ngữ cảnh của thống kê có thể dịch sang tiếng Việt không? nếu có thì là gì?\n",
        "3.   Nêu định nghĩa về treatment\n",
        "4.   Control group là gì? vai trò trong thí nghiệm của kiểm định A/B?\n",
        "5.   Treament group là gì? vai trò trong thí nghiệm của kiểm định A/B?\n",
        "6.   Hãy liệt kê một số kiểm định A/B trong thực tế?\n",
        "\n"
      ],
      "metadata": {
        "id": "EBsgDMSRcVy9"
      }
    },
    {
      "cell_type": "markdown",
      "source": [
        "1. Kiểm định A/B là một thử nghiệm giữa 2 phiên bản A và B của một biến để xem nhóm nào ưu việt hơn.\n",
        "2. Thuật ngữ treatment trong ngữ cảnh của thống kê có thể dịch sang tiếng Việt, có nghĩa là phương pháp\n",
        "3. Treament là những nội dung đã được thay đổi, nghĩ nó mang lại kết quả tốt hơn nội dung ban đầu, chưa thay đổi.\n",
        "4. Control group (nhóm kiểm soát) là nhóm không nhận những thay đổi gì mới khi tham gia kiểm định\n",
        "5. Treatment group là một nhóm đối tượng tiếp xúc với một phương pháp cụ thể.\n",
        "6. \n",
        "- Biến thể A, chiều rộng của cột nội dung chính trang web sẽ được trình bày theo chiều rộng của màn hình người dùng (full width).\n",
        "- Biến thể B, chiều rộng của cột nội dung chính được cố định (fixed width) ở mức tối đa là 1500 pixels.\n"
      ],
      "metadata": {
        "id": "NJmyUuh0dwh-"
      }
    },
    {
      "cell_type": "markdown",
      "source": [
        "**Câu 2**: Tại sao không có kiểm định A/B/C/D?\n",
        "\n",
        "\n",
        "Trả lời tại đây: \n",
        "- Nếu có kiểm định A/B/C/D thì sẽ rất phức tạp, việc kiểm định tốn nhiều thời gian"
      ],
      "metadata": {
        "id": "Ghp_lniLedz8"
      }
    },
    {
      "cell_type": "markdown",
      "source": [
        "**Câu 3**: Lý thuyết về kiểm định giả thuyết. Trả lời các câu hỏi sau:\n",
        "\n",
        "\n",
        "1.   Nêu định nghĩa về kiểm định giả thuyết\n",
        "2.   Giả thuyết null là gì? cho ví dụ\n",
        "3.   Giả thuyết thay thế là gì? cho ví dụ\n",
        "4.   Kiểm định 1 chiều (hay 1 đuôi) là gì? cho ví dụ\n",
        "5.   Kiểm định 2 chiều (hay 2 đuôi) là gì?cho ví dụ\n",
        "6.   Nêu điểm khác biệt giữa kiểm định 1 chiều so với kiểm định 2 chiều?\n",
        "\n"
      ],
      "metadata": {
        "id": "4bRj6dX8fQKu"
      }
    },
    {
      "cell_type": "markdown",
      "source": [
        "Trả lời tại đây\n",
        "1. Kiểm định giả thuyết (hypothesis testing) là quá trình thiết lập và sử dụng các tiêu chuẩn thống kê để hỗ trợ cho việc đi đến quyết định về giá trị của giả thuyết trong điều kiện bất định. Trong những quyết định như thế, người ta có thể may mắn lựa chọn đúng, nhưng cũng có thể vấp phải rủi ro, tức lựa chọn sai lầm.\n",
        "2. Giả thuyết null là giả thuyết không có sự khác biệt đáng kể nào tồn tại giữa tập hợp các biến.\n",
        "\n",
        "VD: trung bình của một bao gạo là 10kg\n",
        "3. Giả thuyết thay thế là giả thuyết nghịch đạo với giá thuyết null.\n",
        "\n",
        "VD: trung bình của một bao gạo khác 10kg\n",
        "4. Kiểm định 1 chiều là phép thống kê trong đó vùng tới hạn của phân bố là một phía sao cho lớn hơn hoặc nhỏ hơn một giá trị nhất định, nhưng không lớn hơn cả hai. Nếu mẫu đang được kiểm tra rơi vào vùng tới hạn một phía, giả thuyết thay thế sẽ được chấp nhận thay vì giả thuyết null.\n",
        "5. Kiểm định 2 chiều trong thống kê là một phương pháp trong đó vùng tới hạn của phân bố là hai phía và kiểm tra xem một mẫu có lớn hơn hay nhỏ hơn một phạm vi giá trị nhất định hay không. Nó được sử dụng trong kiểm tra giả thuyết null và kiểm tra ý nghĩa thống kê. Nếu mẫu đang được kiểm tra rơi vào một trong các vùng tới hạn, thì giả thuyết thay thế được chấp nhận thay vì giả thuyết null.\n",
        "6. Kiểm tra một phía được sử dụng để xác định xem có bất kỳ mối quan hệ nào giữa các biến theo một hướng duy nhất, tức là trái hoặc phải hay không. Ngược lại, kiểm định hai phía được sử dụng để xác định xem có hay không có bất kỳ mối quan hệ nào giữa các biến theo một trong hai hướng."
      ],
      "metadata": {
        "id": "xZHLM-16guTL"
      }
    },
    {
      "cell_type": "markdown",
      "source": [
        "**Câu 4**: Lý thuyết về lấy mẫu (sampling). \n",
        "\n",
        "\n",
        "1.   Sampling là gì? cho ví dụ\n",
        "2.   Resampling là gì? cho ví dụ?\n",
        "3.   Hãy mô tả kỹ thuật permutation (hoặc quy trình của permutation test)? Xây dựng đoạn code lập trình permutation test\n",
        "\n",
        "\n"
      ],
      "metadata": {
        "id": "jpcORdODhElp"
      }
    },
    {
      "cell_type": "markdown",
      "source": [
        "1. Sampling: là kỹ thuật chọn mẫu trong đó đặt ra lựa chọn một vài tiêu chí và chọn các thành viên của quần thể một cách ngẫu nhiên. Tất cả các thành viên đều có cơ hội bình đẳng trở thành một phần của mẫu với tham số lựa chọn này. \n",
        "\n",
        "VD: đại học huế đưa ra tiêu chí xét học bổng cho sinh viên là điểm trung bình các học phần lớn hơn hoặc bằng 9.\n",
        "2. Resampling: chọn các thành viên để nghiên cứu một cách ngẫu nhiên. Phương pháp chọn mẫu này không phải là một quá trình lựa chọn cố định hoặc được xác định trước. Điều này làm cho tất cả các phần tử của một quần thể khó có cơ hội bình đẳng để được đưa vào một mẫu. \n",
        "\n",
        "VD : Cũng như ví dụ xét học bổng trên nhưng với resampling thì sẽ lấy mẫu theo cách khác, sẽ lấy mỗi trường/khoa bất kỳ sẽ lấy 10 sinh viên đạt tiêu chí sẽ có cơ hội được nhận học bổng.\n",
        "3. Kỹ thuật Permutation\n",
        "- Kết hợp các kết quả từ các nhóm khác nhau thành một tập dữ liệu duy nhất.\n",
        "- Xáo trộn dữ liệu kết hợp và sau đó rút ngẫu nhiên (không thay thế) một mẫu lại có cùng kích thước với nhóm A \n",
        "- Từ dữ liệu còn lại, rút ​​ngẫu nhiên (không thay thế) một mẫu về\n",
        "cùng kích thước với nhóm B.\n",
        "- Làm tương tự cho các nhóm C, D, v.v. Bây giờ bạn đã thu thập một tập hợp\n",
        "ví dụ phản ánh kích thước của các mẫu ban đầu.\n",
        "- Bất kỳ thống kê hoặc ước tính nào được tính toán cho các mẫu ban đầu (ví dụ: khác nhau về tỷ lệ nhóm), hãy tính toán nó ngay cho các ví dụ và ghi lại; điều này tạo thành một lần lặp hoán vị.\n",
        "- Lặp lại các bước trước đó R lần để thu được phân phối hoán vị của phép thử\n",
        "thống kê.\n"
      ],
      "metadata": {
        "id": "HyDM-nFEiLW9"
      }
    },
    {
      "cell_type": "code",
      "execution_count": 3,
      "metadata": {
        "id": "AQEZUA1Eb1Fq"
      },
      "outputs": [],
      "source": [
        "import pandas as pd\n",
        "import numpy as np\n",
        "import matplotlib.pyplot as plt \n",
        "import random as random"
      ]
    },
    {
      "cell_type": "code",
      "source": [
        "#Permutation test\n",
        "def perm_fun(x = mean_a, nA=21, nB=15):\n",
        "  n = nA + nB\n",
        "  idx_B = set(random.sample(range(n), nB))\n",
        "  idx_A = set(range(n)) - idx_B\n",
        "  return x.loc[idx_B].mean() - x.loc[idx_A].mean()\n",
        "perm_fun"
      ],
      "metadata": {
        "id": "Innk1CoyF_k1"
      },
      "execution_count": null,
      "outputs": []
    }
  ]
}