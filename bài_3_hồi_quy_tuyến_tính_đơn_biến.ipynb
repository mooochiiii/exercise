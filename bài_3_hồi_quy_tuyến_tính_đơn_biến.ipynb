{
  "nbformat": 4,
  "nbformat_minor": 0,
  "metadata": {
    "colab": {
      "provenance": [],
      "mount_file_id": "1p_kVdN2pyjBftG9CTVOsGKSNB5o0RBuR",
      "authorship_tag": "ABX9TyPzhi9q5fTIAZIr4iPTXt+u",
      "include_colab_link": true
    },
    "kernelspec": {
      "name": "python3",
      "display_name": "Python 3"
    },
    "language_info": {
      "name": "python"
    }
  },
  "cells": [
    {
      "cell_type": "markdown",
      "metadata": {
        "id": "view-in-github",
        "colab_type": "text"
      },
      "source": [
        "<a href=\"https://colab.research.google.com/github/mooochiiii/exercise/blob/main/b%C3%A0i_3_h%E1%BB%93i_quy_tuy%E1%BA%BFn_t%C3%ADnh_%C4%91%C6%A1n_bi%E1%BA%BFn.ipynb\" target=\"_parent\"><img src=\"https://colab.research.google.com/assets/colab-badge.svg\" alt=\"Open In Colab\"/></a>"
      ]
    },
    {
      "cell_type": "code",
      "execution_count": 1,
      "metadata": {
        "id": "5zT3kImPVFif"
      },
      "outputs": [],
      "source": [
        "import os\n",
        "import numpy as np\n",
        "from matplotlib import pyplot as plt"
      ]
    },
    {
      "cell_type": "code",
      "source": [
        "def gradientDescent(X, y, w, alpha, n):\n",
        "    folder = \"/content/drive/MyDrive\"\n",
        "    filename = \"ex1data1.txt\"\n",
        "    data = np.loadtxt(os.path.join(folder, filename), delimiter=',')\n",
        "    X = data[:,0]\n",
        "    y = data[:,1]\n",
        "    m = y.shape[0]\n",
        "    J = 0\n",
        "    J_history = []\n",
        "    w_optimal = w.copy()\n",
        "    print('w_optimal shape: ', w_optimal.shape)\n",
        "    for i in range(n):\n",
        "        w_optimal = w_optimal - (alpha/m)*(np.dot(X, w_optimal) - y).dot(X)\n",
        "    return w_optimal, J_history"
      ],
      "metadata": {
        "id": "Z3cLHEyJW2Ae"
      },
      "execution_count": 75,
      "outputs": []
    },
    {
      "cell_type": "code",
      "source": [
        "def main():\n",
        "    X, y = (\"/content/drive/MyDrive\", \"ex1data1.txt\")\n",
        "    w = np.zeros(97)\n",
        "    n = 1500\n",
        "    alpha = 0.01\n",
        "    gradientDescent(X, y, w, alpha, n)\n",
        "if __name__ == '__main__':\n",
        "    main()"
      ],
      "metadata": {
        "colab": {
          "base_uri": "https://localhost:8080/"
        },
        "id": "CaoXkXQVak-a",
        "outputId": "1caee76f-ae04-4d2a-9839-4191259defb5"
      },
      "execution_count": 76,
      "outputs": [
        {
          "output_type": "stream",
          "name": "stdout",
          "text": [
            "w_optimal shape:  (97,)\n"
          ]
        },
        {
          "output_type": "stream",
          "name": "stderr",
          "text": [
            "/usr/local/lib/python3.7/dist-packages/ipykernel_launcher.py:13: RuntimeWarning: invalid value encountered in subtract\n",
            "  del sys.path[0]\n"
          ]
        }
      ]
    }
  ]
}