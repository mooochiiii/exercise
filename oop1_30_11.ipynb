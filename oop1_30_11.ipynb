{
  "nbformat": 4,
  "nbformat_minor": 0,
  "metadata": {
    "colab": {
      "name": "oop1_30/11.ipynb",
      "provenance": [],
      "authorship_tag": "ABX9TyOaDnKCpnHmHP1bz3L55t9A",
      "include_colab_link": true
    },
    "kernelspec": {
      "name": "python3",
      "display_name": "Python 3"
    },
    "language_info": {
      "name": "python"
    }
  },
  "cells": [
    {
      "cell_type": "markdown",
      "metadata": {
        "id": "view-in-github",
        "colab_type": "text"
      },
      "source": [
        "<a href=\"https://colab.research.google.com/github/mooochiiii/exercise/blob/main/oop1_30_11.ipynb\" target=\"_parent\"><img src=\"https://colab.research.google.com/assets/colab-badge.svg\" alt=\"Open In Colab\"/></a>"
      ]
    },
    {
      "cell_type": "code",
      "metadata": {
        "id": "MrLc7kovn0YS"
      },
      "source": [
        "class XeMay:\n",
        "    phanphoi: int\n",
        "    tenxe: str\n",
        "    xuatxu: str\n",
        "    def __init__(self, congty, ten, nuoc):\n",
        "        self.phanphoi = congty\n",
        "        self.tenxe = ten\n",
        "        self.xuatxu = nuoc\n",
        "    def outputXeMay(self) -> str:\n",
        "        a = \"phan phoi: \" + str(self.phanphoi) + \"; ten xe: \" + str(self.tenxe) + \"; xuat xu: \" + self.xuatxu\n",
        "        return a"
      ],
      "execution_count": null,
      "outputs": []
    },
    {
      "cell_type": "code",
      "metadata": {
        "colab": {
          "base_uri": "https://localhost:8080/"
        },
        "id": "zo70w4kXoAo_",
        "outputId": "899848da-e763-42ea-bd41-62378ced9d0d"
      },
      "source": [
        "def main():\n",
        "    xemay1 = XeMay(1, \"xemay1\", \"vn\")\n",
        "    xemay2 = XeMay(2, \"xemay2\", \"vn\")\n",
        "    xemay3 = XeMay(3, \"xemay3\", \"vn\")\n",
        "    print(xemay1.outputXeMay())\n",
        "    print(xemay2.outputXeMay())\n",
        "    print(xemay3.outputXeMay())\n",
        "\n",
        "if __name__== \"__main__\":\n",
        "    main()"
      ],
      "execution_count": null,
      "outputs": [
        {
          "output_type": "stream",
          "name": "stdout",
          "text": [
            "phan phoi: 1; ten xe: xemay1; xuat xu: vn\n",
            "phan phoi: 2; ten xe: xemay2; xuat xu: vn\n",
            "phan phoi: 3; ten xe: xemay3; xuat xu: vn\n"
          ]
        }
      ]
    }
  ]
}