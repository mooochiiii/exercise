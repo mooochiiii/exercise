{
  "cells": [
    {
      "cell_type": "markdown",
      "metadata": {
        "id": "view-in-github",
        "colab_type": "text"
      },
      "source": [
        "<a href=\"https://colab.research.google.com/github/mooochiiii/exercise/blob/main/b%C3%A0i_t%E1%BA%ADp_t%E1%BA%A1i_l%E1%BB%9Bp_1_ch%C6%B0%C6%A1ng_tr%C3%ACnh_x%C3%A2y_d%E1%BB%B1ng_m%C3%B4_h%C3%ACnh_Logistic.ipynb\" target=\"_parent\"><img src=\"https://colab.research.google.com/assets/colab-badge.svg\" alt=\"Open In Colab\"/></a>"
      ]
    },
    {
      "cell_type": "code",
      "execution_count": 1,
      "id": "62deaa66",
      "metadata": {
        "id": "62deaa66"
      },
      "outputs": [],
      "source": [
        "import numpy as np\n",
        "import os "
      ]
    },
    {
      "cell_type": "code",
      "source": [
        "from google.colab import drive\n",
        "drive.mount('/content/drive')"
      ],
      "metadata": {
        "colab": {
          "base_uri": "https://localhost:8080/"
        },
        "id": "wRY_wmjNtqdD",
        "outputId": "59328707-129c-4c2a-8c42-0415cea11b27"
      },
      "id": "wRY_wmjNtqdD",
      "execution_count": 2,
      "outputs": [
        {
          "output_type": "stream",
          "name": "stdout",
          "text": [
            "Mounted at /content/drive\n"
          ]
        }
      ]
    },
    {
      "cell_type": "code",
      "execution_count": 3,
      "id": "63ef9697",
      "metadata": {
        "id": "63ef9697"
      },
      "outputs": [],
      "source": [
        "class Regression:\n",
        "    def __init__(self):\n",
        "        pass\n",
        "    def loss(self, X, y, w):\n",
        "        pass"
      ]
    },
    {
      "cell_type": "code",
      "execution_count": 4,
      "id": "c6dd04bf",
      "metadata": {
        "id": "c6dd04bf"
      },
      "outputs": [],
      "source": [
        "class LogisticRegression(Regression):\n",
        "    def __init__(self):\n",
        "        pass\n",
        "    \n",
        "    def __sigmoid(self, X, w):\n",
        "        result = 1/(1 + np.exp(-np.dot(X, w)))\n",
        "        return result\n",
        "\n",
        "    def loss(self, X, y, w):\n",
        "        m = y.shape[0]\n",
        "        result = (-1/m)*np.sum(np.dot(y.T, np.log(self.__sigmoid(X, w))) + np.dot((1 - y).T, np.log(1 - self.__sigmoid(X, w))))\n",
        "        return result\n",
        "\n",
        "    def gradient(self, X, y, w):\n",
        "        m = X.shape[0]\n",
        "        result = (1/m)*np.dot(X.T, self.__sigmoid(X, w) - y)\n",
        "        return result\n",
        "\n",
        "    def gradientDescent(self,X, y, w, alpha, n_iters):\n",
        "        w_optimal = w.copy()\n",
        "        J_history = []\n",
        "        for i in range(n_iters):\n",
        "            w_optimal = w_optimal - alpha*self.gradient(X, y, w_optimal)\n",
        "            J_history.append(self.loss(X, y, w_optimal))\n",
        "        return w_optimal, J_history"
      ]
    },
    {
      "cell_type": "code",
      "execution_count": 5,
      "id": "2dd8b7db",
      "metadata": {
        "id": "2dd8b7db"
      },
      "outputs": [],
      "source": [
        "class DataNorm:\n",
        "    def __init__(self):\n",
        "        pass\n",
        "    def readData(self, filePath: str, filename: str):\n",
        "        data = np.loadtxt(os.path.join(filePath, filename), delimiter = ',')\n",
        "        X = data[:,:-1]\n",
        "        y = data[:, -1]\n",
        "        m = X.shape[0]\n",
        "        n = X.shape[1]\n",
        "        X = np.reshape(X, (m,n))\n",
        "        y = np.reshape(y, (m,1))\n",
        "        #Them cot x0 = 1 vao X\n",
        "        x0 = np.ones((m,1))\n",
        "        X = np.column_stack([x0, X])\n",
        "        return X, y\n",
        "    def normalizeData(self, A):\n",
        "        pass\n",
        "\n",
        "class MaxMinNorm(DataNorm):\n",
        "    def __init__(self):\n",
        "        pass\n",
        "    \n",
        "    def __MaxMinScaling(self, data):\n",
        "        avg = np.mean(data)\n",
        "        sln = data.max()\n",
        "        snn = data.min()\n",
        "        data_scl = (data - avg)/(sln - snn)\n",
        "        print(data_scl[1])\n",
        "        return data_scl\n",
        "    \n",
        "    def normalizeData(self, X):\n",
        "        X_scl = X[:, 0]\n",
        "        for i in range(1, X.shape[1]):\n",
        "            scl = self.__MaxMinScaling(X[:, i])\n",
        "            X_scl = np.column_stack([X_scl, scl])\n",
        "        return X_scl"
      ]
    },
    {
      "cell_type": "code",
      "execution_count": 8,
      "id": "f07d5121",
      "metadata": {
        "id": "f07d5121",
        "outputId": "8e74e9b7-8079-477d-c096-d86065d49c4c",
        "colab": {
          "base_uri": "https://localhost:8080/"
        }
      },
      "outputs": [
        {
          "output_type": "stream",
          "name": "stdout",
          "text": [
            "-0.5067801656080071\n",
            "-0.3270580397857178\n",
            "Ket qua la: \n",
            "\t\tTrong so w toi uu la:  [[0.41683919]\n",
            " [1.31218868]\n",
            " [1.15423699]]\n",
            "\t\tGia tri Loss toi uu:  0.5186665295508813\n"
          ]
        }
      ],
      "source": [
        "def main():\n",
        "    data = MaxMinNorm()\n",
        "    X, y = data.readData(\"/content/drive/MyDrive\", \"ex2data1.txt\")\n",
        "    X_scl = data.normalizeData(X)\n",
        "    n = X_scl.shape[1]\n",
        "    w = np.zeros((n, 1))\n",
        "    alpha = 0.01\n",
        "    n_iters = 2000\n",
        "    model = LogisticRegression()\n",
        "    w_opt, J_hist = model.gradientDescent(X_scl, y, w, alpha, n_iters)\n",
        "    print(\"Ket qua la: \")\n",
        "    print('\\t\\tTrong so w toi uu la: ', w_opt)\n",
        "    print('\\t\\tGia tri Loss toi uu: ', J_hist[-1])\n",
        "\n",
        "if __name__ == \"__main__\":\n",
        "    main()"
      ]
    }
  ],
  "metadata": {
    "kernelspec": {
      "display_name": "Python 3 (ipykernel)",
      "language": "python",
      "name": "python3"
    },
    "language_info": {
      "codemirror_mode": {
        "name": "ipython",
        "version": 3
      },
      "file_extension": ".py",
      "mimetype": "text/x-python",
      "name": "python",
      "nbconvert_exporter": "python",
      "pygments_lexer": "ipython3",
      "version": "3.9.7"
    },
    "colab": {
      "provenance": [],
      "include_colab_link": true
    }
  },
  "nbformat": 4,
  "nbformat_minor": 5
}