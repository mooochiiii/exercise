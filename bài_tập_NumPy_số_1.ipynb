{
  "nbformat": 4,
  "nbformat_minor": 0,
  "metadata": {
    "colab": {
      "name": " bài tập NumPy số 1.ipynb",
      "provenance": [],
      "authorship_tag": "ABX9TyPHvB/AaRoF+cWjoNT74Mh3",
      "include_colab_link": true
    },
    "kernelspec": {
      "name": "python3",
      "display_name": "Python 3"
    },
    "language_info": {
      "name": "python"
    }
  },
  "cells": [
    {
      "cell_type": "markdown",
      "metadata": {
        "id": "view-in-github",
        "colab_type": "text"
      },
      "source": [
        "<a href=\"https://colab.research.google.com/github/mooochiiii/exercise/blob/main/b%C3%A0i_t%E1%BA%ADp_NumPy_s%E1%BB%91_1.ipynb\" target=\"_parent\"><img src=\"https://colab.research.google.com/assets/colab-badge.svg\" alt=\"Open In Colab\"/></a>"
      ]
    },
    {
      "cell_type": "code",
      "source": [
        "import numpy as np\n",
        "import math\n",
        "import random"
      ],
      "metadata": {
        "id": "a1pfKW92n5V7"
      },
      "execution_count": 1,
      "outputs": []
    },
    {
      "cell_type": "markdown",
      "source": [
        "bài 1: Xét không gian $R^3$ một điểm A trong không gian này có tọa độ là (5, 7, 14). Hãy khởi tạo giá trị của điểm A nêu trên bằng Numpy.\n",
        "\n",
        "sử dụng các thư viện sau:\n",
        "\n",
        "\n",
        "*   numpy để tính toán số học, vector, ma trận \n",
        "\n",
        "\n",
        "*   math để tính toán các hàm toán học \n",
        "*   random để thực hiện sinh số ngẫu nhiên\n",
        "\n",
        "\n",
        "\n",
        "\n",
        "\n"
      ],
      "metadata": {
        "id": "K5uDdaadnxMa"
      }
    },
    {
      "cell_type": "code",
      "source": [
        "a = np.array([5,7,14])\n",
        "print(\"a: \\n\", a)\n",
        "print(\"số chiều không gian của điểm a: \", a.ndim)"
      ],
      "metadata": {
        "id": "wB05Z4w8skgz",
        "colab": {
          "base_uri": "https://localhost:8080/"
        },
        "outputId": "90420465-1e39-4b7d-8f69-f7ca0e646ab7"
      },
      "execution_count": 2,
      "outputs": [
        {
          "output_type": "stream",
          "name": "stdout",
          "text": [
            "a: \n",
            " [ 5  7 14]\n",
            "số chiều không gian của điểm a:  1\n"
          ]
        }
      ]
    },
    {
      "cell_type": "markdown",
      "source": [
        "bài 2: Mở rộng không gian lên $R^{15}$, điểm A trong không gian này có tọa độ là (1, 2, 3, 4, 5, 6, 7,\n",
        "8, 9, 10, 11, 12, 13, 14, 15). Hãy khởi tạo điểm A trong không gian 15 chiều này bằng Numpy."
      ],
      "metadata": {
        "id": "-ANDiaLX16ch"
      }
    },
    {
      "cell_type": "code",
      "source": [
        "a = np.array(np.arange(16))\n",
        "print(\"a: \\n\", a)\n"
      ],
      "metadata": {
        "id": "Mk9bMkLu2a31",
        "colab": {
          "base_uri": "https://localhost:8080/"
        },
        "outputId": "a52aba8c-d52e-4783-8237-1a76132d7100"
      },
      "execution_count": 3,
      "outputs": [
        {
          "output_type": "stream",
          "name": "stdout",
          "text": [
            "a: \n",
            " [ 0  1  2  3  4  5  6  7  8  9 10 11 12 13 14 15]\n"
          ]
        }
      ]
    },
    {
      "cell_type": "markdown",
      "source": [
        "Bài 3: trong không gian $R^n$, xét vector $\\vec{OA}$ với O là điểm gốc tọa độ và A là điểm có tọa độ tổng\n",
        "quát là($a_1, a_2,...,a_n)$. vector $\\vec{OA}$ lúc này được viết dưới dạng vector cột (column vector) là: \n",
        "\\begin{align}\n",
        "        \\vec{OA} = \\begin{pmatrix}\n",
        "        a_1 \\\\\n",
        "        a_2 \\\\\n",
        "        ⋮ \\\\\n",
        "        a_n\n",
        "        \\end{pmatrix}\n",
        "    \\end{align}\n",
        "Hay ở dạng vector hàng (row vector) là:\n",
        "\\begin{align}\n",
        "        {\\vec{OA} = \\begin{pmatrix}\n",
        "        {a_1 \\\\\n",
        "        a_2 \\\\\n",
        "        ⋮ \\\\\n",
        "        a_n}\n",
        "        \\end{pmatrix}}^T = [a_1 \\ a_2\\ ... \\ a_n]\n",
        "    \\end{align} \n",
        "Hãy viết chương trình sinh ngẫu nhiên một vector trong không gian $R^n$ với n là số nguyên dương\n",
        "được nhập vào từ bàn phím. Yêu cầu: sử dụng Numpy."
      ],
      "metadata": {
        "id": "53dnwa2o3Qa2"
      }
    },
    {
      "cell_type": "code",
      "source": [
        "n = int(input(\"nhap n: \"))\n",
        "\n",
        "# sinh số ngẫu nhiên đối với số nguyên \n",
        "\n",
        "a = np.random.randint(low=-10, high=10, size=(1,n))\n",
        "print(\"a: \\n\",a)"
      ],
      "metadata": {
        "id": "AN3WjJXfAlXL",
        "colab": {
          "base_uri": "https://localhost:8080/"
        },
        "outputId": "3993b795-c3c9-4b3b-b66b-331fec3efc92"
      },
      "execution_count": 4,
      "outputs": [
        {
          "output_type": "stream",
          "name": "stdout",
          "text": [
            "nhap n: 4\n",
            "a: \n",
            " [[ 3  4 -6 -7]]\n"
          ]
        }
      ]
    },
    {
      "cell_type": "markdown",
      "source": [
        "Bài 4: trong không gian $R^3$, xét vector $\\vec{OA}$\n",
        "\n",
        "> Văn bản được thụt lề\n",
        "\n",
        "\n",
        "\\begin{align}\n",
        "        \\vec{OA} = \\begin{pmatrix}\n",
        "        7 \\\\\n",
        "        -5 \\\\\n",
        "        8 \n",
        "        \\end{pmatrix}\n",
        "    \\end{align}\n",
        "Hãy viết chương trình tính chiều dài của vector $\\vec{OA}$ , biết công thức tổng quát để tính chiều dài\n",
        "vector $\\vec{OA}$ trong không gian $R^n$\n",
        "là:\n",
        "\\begin{align}\n",
        "||\\vec{OA}|| = \\sqrt{a^2_1 + a^2_2 + ... + a^2_n}\n",
        "\\end{align}\n",
        "lưu ý: sử dụng numpy"
      ],
      "metadata": {
        "id": "6Q6xPLfQ3PJW"
      }
    },
    {
      "cell_type": "code",
      "source": [
        "OA = np.array([7,-5,8])\n",
        "print(OA)\n",
        "chieu_dai_vector_OA = np.sqrt((OA[0])**2 + (OA[1])**2 + (OA[2])**2)\n",
        "print(\"Chiều dài vector OA là: \", chieu_dai_vector_OA)"
      ],
      "metadata": {
        "id": "Jobc7sDQkXtu",
        "colab": {
          "base_uri": "https://localhost:8080/"
        },
        "outputId": "a36c7e68-1cb9-4312-8ac3-341d4b4d4815"
      },
      "execution_count": 5,
      "outputs": [
        {
          "output_type": "stream",
          "name": "stdout",
          "text": [
            "[ 7 -5  8]\n",
            "Chiều dài vector OA là:  11.74734012447073\n"
          ]
        }
      ]
    },
    {
      "cell_type": "markdown",
      "source": [
        "bài 5:Trong không gian $R^n$, hãy sinh ngẫu nhiên 2 điểm A và B. Xác định vector $\\vec{AB}$ và tính\n",
        "\n",
        "chiều dài của vector $||\\vec{OA}||$ này . \n",
        "\n",
        "Lưu ý: sử dụng Numpy."
      ],
      "metadata": {
        "id": "HtPwMsGr0jUo"
      }
    },
    {
      "cell_type": "code",
      "source": [
        "n = int(input(\"Nhập n: \"))\n",
        "A = np.random.randint(low=-10, high=10, size=(1,n))\n",
        "print(A)\n",
        "B = np.random.randint(low=-10, high=10, size=(1,n))\n",
        "print(B)\n",
        "\n",
        "vector_AB = B-A\n",
        "print(\"Vector AB là: \", vector_AB)\n",
        "\n",
        "chieu_dai_vector_AB = np.sqrt((vector_AB[0][0])**2 + (vector_AB[0][1])**2 + (vector_AB[0][2])**2)\n",
        "print(\"Chiều dài vector AB là: \", chieu_dai_vector_AB)"
      ],
      "metadata": {
        "colab": {
          "base_uri": "https://localhost:8080/"
        },
        "id": "bx02A46S0kfX",
        "outputId": "fea281b0-8b59-448e-dfcd-7264585b8c80"
      },
      "execution_count": 6,
      "outputs": [
        {
          "output_type": "stream",
          "name": "stdout",
          "text": [
            "Nhập n: 5\n",
            "[[ 1  9  5  9 -8]]\n",
            "[[-7 -2  3  3  2]]\n",
            "Vector AB là:  [[ -8 -11  -2  -6  10]]\n",
            "Chiều dài vector AB là:  13.74772708486752\n"
          ]
        }
      ]
    },
    {
      "cell_type": "markdown",
      "source": [
        "bài 6:Tích vô hướng của 2 vector $\\vec{a}$ & $\\vec{b}$ (dot product hoặc inner product hoặc scalar product) được\n",
        "tính theo công thức tổng quát là:\n",
        "\n",
        "$\\vec{a}$ . $\\vec{b}$ = ${a_1b_1 + a_2b_2 +...+ a_3b_3}$\n",
        "\n",
        "Trong không gian $R^n$ , hãy sinh ngẫu nhiên 2 vector $\\vec{a}$ & $\\vec{b}$ và tính tích vô hướng của 2 vector này.\n",
        "\n",
        "Lưu ý: sử dụng numpy để tính tích vô hướng và số nguyên dương n được nhập vào từ bàn phím.\n",
        "\n",
        "Gợi ý: sử dụng hàm numpy.inner()"
      ],
      "metadata": {
        "id": "Zj9Zbj9N0nIj"
      }
    },
    {
      "cell_type": "code",
      "source": [
        "n = int(input(\"Nhập n: \"))\n",
        "\n",
        "a = np.random.randint(low=-10, high=10, size=(1,n))\n",
        "print(\"vector a là: \", a)\n",
        "\n",
        "b = np.random.randint(low=-10, high=10, size=(1,n))\n",
        "print(\"vector b là: \", b)\n",
        "\n",
        "tich_vo_huong = np.inner(a, b)\n",
        "print(\"tích vô hướng của 2 vector a và b là: \", tich_vo_huong)"
      ],
      "metadata": {
        "colab": {
          "base_uri": "https://localhost:8080/"
        },
        "id": "zmJnsqxB0oTu",
        "outputId": "a601f61f-a0d6-4570-d595-214694cd6bdb"
      },
      "execution_count": 7,
      "outputs": [
        {
          "output_type": "stream",
          "name": "stdout",
          "text": [
            "Nhập n: 6\n",
            "vector a là:  [[ 3 -3  6  5 -6  4]]\n",
            "vector b là:  [[ 5 -3 -4  1 -4 -4]]\n",
            "tích vô hướng của 2 vector a và b là:  [[13]]\n"
          ]
        }
      ]
    },
    {
      "cell_type": "markdown",
      "source": [
        "bài 7: Tích hữu hướng (cross product) của 2 vector $\\vec{a}$ & $\\vec{b}$ được tính theo công thức tổng quát là:\n",
        "\n",
        "$\\vec{a}$ × $\\vec{b}$ = $||\\vec{a}||  ||\\vec{b}||$ sin(θ)\n",
        "\n",
        "Trong không gian $R^n$, hãy sinh ngẫu nhiên 2 vector $\\vec{a}$ & $\\vec{b}$ và tính tích hữu hướng của 2 vector này.\n",
        "\n",
        "Lưu ý: sử dụng numpy để tính tích vô hướng và số nguyên dương n được nhập vào từ bàn phím.\n",
        "\n",
        "Gợi ý: sử dụng hàm numpy.cross()"
      ],
      "metadata": {
        "id": "3YIvSj200qyd"
      }
    },
    {
      "cell_type": "code",
      "source": [
        "n = int(input(\"Nhập n: \"))\n",
        "\n",
        "a = np.random.randint(low=-10, high=10, size=(1,n))\n",
        "print(\"vector a là: \", a)\n",
        "\n",
        "b = np.random.randint(low=-10, high=10, size=(1,n))\n",
        "print(\"vector b là: \", b)\n",
        "\n",
        "tich_huu_huong = np.cross(a, b)\n",
        "print(\"tích hữu hướng của 2 vector a và b là: \", tich_huu_huong)"
      ],
      "metadata": {
        "colab": {
          "base_uri": "https://localhost:8080/"
        },
        "id": "ClYUuM6J0r19",
        "outputId": "36a6f419-9761-4149-dad2-019724b66688"
      },
      "execution_count": 9,
      "outputs": [
        {
          "output_type": "stream",
          "name": "stdout",
          "text": [
            "Nhập n: 3\n",
            "vector a là:  [[-2  8  9]]\n",
            "vector b là:  [[ 4 -1 -6]]\n",
            "tích hữu hướng của 2 vector a và b là:  [[-39  24 -30]]\n"
          ]
        }
      ]
    },
    {
      "cell_type": "markdown",
      "source": [
        "bài 8: Phép chuyển vị (transpose): trong numpy, một vector a khi thực hiện chuyển vị sẽ được\n",
        "thực hiện thông qua thao tác a.T\n",
        "\n",
        "Hãy viết chương trình sinh ngẫu nhiên một vector $\\vec{a}$ trong không gian $R^n$, số nguyên dương n được nhập vào từ bàn phím. Xuất ra màn hình giá của vector $\\vec{a}$ và chuyển vị của vector $\\vec{a}$ ."
      ],
      "metadata": {
        "id": "hNQenbZ00yxz"
      }
    },
    {
      "cell_type": "code",
      "source": [
        "n = int(input(\"Nhập n: \"))\n",
        "\n",
        "a = np.random.randint(low=-10, high=10, size=(1,n))\n",
        "print(\"vector a là: \", a, sep = '\\n')\n",
        "\n",
        "print(\"Chuyển vị của vector a là: \", a.T, sep = '\\n')"
      ],
      "metadata": {
        "colab": {
          "base_uri": "https://localhost:8080/"
        },
        "id": "GpKXkUK50vxh",
        "outputId": "2e7c4a2e-4c6b-4af2-8e07-226dfb33ac33"
      },
      "execution_count": 10,
      "outputs": [
        {
          "output_type": "stream",
          "name": "stdout",
          "text": [
            "Nhập n: 4\n",
            "vector a là: \n",
            "[[ 9 -7 -6  9]]\n",
            "Chuyển vị của vector a là: \n",
            "[[ 9]\n",
            " [-7]\n",
            " [-6]\n",
            " [ 9]]\n"
          ]
        }
      ]
    },
    {
      "cell_type": "markdown",
      "source": [
        "bài 9:\n",
        "Kết hợp cấu trúc list với Numpy: Xét 2 cấu trúc list dưới đây:\n",
        "1. a = [1, 2, 3, 4, 5]\n",
        "2. b = [[1], [2], [3], [4], [5]]\n",
        "Hãy:\n",
        "- Xuất a và b ra màn hình\n",
        "- Tạo vector tương ứng từ a và b, xuất kết quả ra màn hình\n",
        "- Thực hiện phép chuyển vị đối với 2 vector ở trên và xuất kết quả ra màn hình."
      ],
      "metadata": {
        "id": "AsSAV7mm0392"
      }
    },
    {
      "cell_type": "code",
      "source": [
        "a = [1, 2, 3, 4, 5]\n",
        "b = [[1], [2], [3], [4], [5]]\n",
        "\n",
        "aa = np.array(a)\n",
        "bb = np.array(b)\n",
        "\n",
        "print(a)\n",
        "print(b)\n",
        "\n",
        "print(\"vector a là: \", aa)\n",
        "print(\"vector b là: \", bb, sep = '\\n')\n",
        "\n",
        "print(\"Chuyển vị của vector a là: \", aa.T)\n",
        "print(\"Chuyển vị của vector b là: \", bb.T)"
      ],
      "metadata": {
        "colab": {
          "base_uri": "https://localhost:8080/"
        },
        "id": "fnzl29Z_05ih",
        "outputId": "740a10d0-f9a2-4474-ea6c-f43fa2a8ab2d"
      },
      "execution_count": 11,
      "outputs": [
        {
          "output_type": "stream",
          "name": "stdout",
          "text": [
            "[1, 2, 3, 4, 5]\n",
            "[[1], [2], [3], [4], [5]]\n",
            "vector a là:  [1 2 3 4 5]\n",
            "vector b là: \n",
            "[[1]\n",
            " [2]\n",
            " [3]\n",
            " [4]\n",
            " [5]]\n",
            "Chuyển vị của vector a là:  [1 2 3 4 5]\n",
            "Chuyển vị của vector b là:  [[1 2 3 4 5]]\n"
          ]
        }
      ]
    },
    {
      "cell_type": "markdown",
      "source": [
        "Bài 10: Trong không gian $R^n$, hãy sinh ngẫu nhiên vector $\\vec{a}$ và $\\vec{b}$ , n là số nguyên dương nhập vào từ bàn phím. \n",
        "\n",
        "Hãy:\n",
        "\n",
        "\n",
        "- Thực hiện phép nhân: ma với m là số bất kỳ, xuất kết quả ra màn hình\n",
        "- Thực hiện phép cộng 2 vector: a + b⃗ và xuất kết quả ra màn hình."
      ],
      "metadata": {
        "id": "TSqdsWvz1A6-"
      }
    },
    {
      "cell_type": "code",
      "source": [
        "n = int(input(\"nhập n: \"))\n",
        "\n",
        "a = np.random.randint(low=-10, high=10, size=(1,n))\n",
        "print(a)\n",
        "b = np.random.randint(low=-10, high=10, size=(1,n))\n",
        "print(b)\n",
        "\n",
        "m = int(input(\"nhập m: \"))\n",
        "\n",
        "print(\"a*m: \\n\", a*m)\n",
        "print(\"a+b là: \\n\", a+b)"
      ],
      "metadata": {
        "colab": {
          "base_uri": "https://localhost:8080/"
        },
        "id": "EzMEYmjT07_M",
        "outputId": "7a73ab0a-2cbd-41bb-a148-a25a791ac79d"
      },
      "execution_count": 12,
      "outputs": [
        {
          "output_type": "stream",
          "name": "stdout",
          "text": [
            "nhập n: 5\n",
            "[[ 8 -4  8  7  5]]\n",
            "[[ 5 -5  6  1 -1]]\n",
            "nhập m: 6\n",
            "a*m: \n",
            " [[ 48 -24  48  42  30]]\n",
            "a+b là: \n",
            " [[13 -9 14  8  4]]\n"
          ]
        }
      ]
    }
  ]
}