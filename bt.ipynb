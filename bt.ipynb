{
  "nbformat": 4,
  "nbformat_minor": 0,
  "metadata": {
    "colab": {
      "name": "bt.ipynb",
      "provenance": [],
      "collapsed_sections": [],
      "authorship_tag": "ABX9TyPmtmzh/0kJBtInwXz8OPp7",
      "include_colab_link": true
    },
    "kernelspec": {
      "name": "python3",
      "display_name": "Python 3"
    },
    "language_info": {
      "name": "python"
    }
  },
  "cells": [
    {
      "cell_type": "markdown",
      "metadata": {
        "id": "view-in-github",
        "colab_type": "text"
      },
      "source": [
        "<a href=\"https://colab.research.google.com/github/mooochiiii/exercise/blob/main/bt.ipynb\" target=\"_parent\"><img src=\"https://colab.research.google.com/assets/colab-badge.svg\" alt=\"Open In Colab\"/></a>"
      ]
    },
    {
      "cell_type": "code",
      "metadata": {
        "id": "hDp6qz0KL2-6",
        "colab": {
          "base_uri": "https://localhost:8080/"
        },
        "outputId": "981fb064-9e9a-4238-f268-72db22d27675"
      },
      "source": [
        "# slide 5 \n",
        "list1 = ['physics', 'chemistry', 1997, 2000]\n",
        "list2 = [1, 2, 3, 4, 5 ]\n",
        "list3 = [\"a\", \"b\", \"c\", \"d\"]\n",
        "print(list1, list2, list3)\n"
      ],
      "execution_count": null,
      "outputs": [
        {
          "output_type": "stream",
          "name": "stdout",
          "text": [
            "['physics', 'chemistry', 1997, 2000] [1, 2, 3, 4, 5] ['a', 'b', 'c', 'd']\n"
          ]
        }
      ]
    },
    {
      "cell_type": "code",
      "metadata": {
        "colab": {
          "base_uri": "https://localhost:8080/"
        },
        "id": "Q7BKm3t_bazt",
        "outputId": "5972dd32-3618-4f4f-e172-ddfd2045c0c9"
      },
      "source": [
        "# slide 6 \n",
        "list4 = ['physics', 'chemistry', 1997, 2000]\n",
        "list5 = [1, 2, 3, 4, 5, 6, 7 ]\n",
        "print(\"list1[0]: \", list4[0])\n",
        "print(\"list2[1:5]: \", list5[1:5])"
      ],
      "execution_count": null,
      "outputs": [
        {
          "output_type": "stream",
          "name": "stdout",
          "text": [
            "list1[0]:  physics\n",
            "list2[1:5]:  [2, 3, 4, 5]\n"
          ]
        }
      ]
    },
    {
      "cell_type": "code",
      "metadata": {
        "colab": {
          "base_uri": "https://localhost:8080/"
        },
        "id": "mZQupIzkbxOJ",
        "outputId": "34e5ef2f-370a-4afe-e434-3acd3d40e2f4"
      },
      "source": [
        "# slide 7\n",
        "list = ['physics', 'chemistry', 1997, 2000]\n",
        "print(\"Value available at index 2 : \")\n",
        "print(list[2])\n",
        "list[2] = 2001\n",
        "print(\"New value available at index 2 : \")\n",
        "print(list[2])"
      ],
      "execution_count": null,
      "outputs": [
        {
          "output_type": "stream",
          "name": "stdout",
          "text": [
            "Value available at index 2 : \n",
            "1997\n",
            "New value available at index 2 : \n",
            "2001\n"
          ]
        }
      ]
    },
    {
      "cell_type": "code",
      "metadata": {
        "colab": {
          "base_uri": "https://localhost:8080/"
        },
        "id": "Z4078BhEb2EB",
        "outputId": "0d50e7c1-cfc5-49c9-d09b-5f0817c9c0df"
      },
      "source": [
        "# slide 8 \n",
        "list6 = ['physics', 'chemistry', 1997, 2000]\n",
        "print(list6)\n",
        "del list6[2]\n",
        "print(\"After deleting value at index 2 : \")\n",
        "print(list6)"
      ],
      "execution_count": null,
      "outputs": [
        {
          "output_type": "stream",
          "name": "stdout",
          "text": [
            "['physics', 'chemistry', 1997, 2000]\n",
            "After deleting value at index 2 : \n",
            "['physics', 'chemistry', 2000]\n"
          ]
        }
      ]
    },
    {
      "cell_type": "code",
      "metadata": {
        "colab": {
          "base_uri": "https://localhost:8080/"
        },
        "id": "XsGRdZOmb5Mk",
        "outputId": "1148752f-c861-49df-bec4-10b6fd00a264"
      },
      "source": [
        "#slide 9 \n",
        "list7 = len([1, 2, 3])\n",
        "list8 = [1, 2, 3] + [4, 5, 6]\n",
        "list9 = ['Hi!'] * 3\n",
        "list10 = 3 in [1, 2, 3]\n",
        "print(list7, '\\n', list8, '\\n', list9, '\\n', list10)"
      ],
      "execution_count": null,
      "outputs": [
        {
          "output_type": "stream",
          "name": "stdout",
          "text": [
            "3 \n",
            " [1, 2, 3, 4, 5, 6] \n",
            " ['Hi!', 'Hi!', 'Hi!'] \n",
            " True\n"
          ]
        }
      ]
    },
    {
      "cell_type": "code",
      "metadata": {
        "colab": {
          "base_uri": "https://localhost:8080/"
        },
        "id": "lgaVrKisb8df",
        "outputId": "84b78c77-9023-428b-edf5-033119424fe0"
      },
      "source": [
        "# slide 10 \n",
        "L = ['red', 'yellow', 'green']\n",
        "print(L[2], '\\n', L[-2], '\\n', L[1:])"
      ],
      "execution_count": null,
      "outputs": [
        {
          "output_type": "stream",
          "name": "stdout",
          "text": [
            "green \n",
            " yellow \n",
            " ['yellow', 'green']\n"
          ]
        }
      ]
    },
    {
      "cell_type": "code",
      "metadata": {
        "colab": {
          "base_uri": "https://localhost:8080/"
        },
        "id": "nerNJymycFtU",
        "outputId": "215e11e3-6273-4fb7-9239-cec3af766011"
      },
      "source": [
        "# slide 11\n",
        "import math\n",
        "list11 = [1, 2, 3, 4, 5]\n",
        "print(len(list11), '\\n', max(list11), '\\n', min(list11))"
      ],
      "execution_count": null,
      "outputs": [
        {
          "output_type": "stream",
          "name": "stdout",
          "text": [
            "5 \n",
            " 5 \n",
            " 1\n"
          ]
        }
      ]
    },
    {
      "cell_type": "code",
      "metadata": {
        "colab": {
          "base_uri": "https://localhost:8080/"
        },
        "id": "TjQ9Whs5cLOI",
        "outputId": "cee8a7fe-610b-4784-fe8a-ef03aedca382"
      },
      "source": [
        "#slide 12\n",
        "list12 = [1,2,4,7,3]\n",
        "list12.append('so')\n",
        "print(list12)\n",
        "print(list12.count('so'))\n",
        "list12.extend(\"678\")\n",
        "print(list12)\n",
        "list12.insert(2,'so')\n",
        "print(list12)\n",
        "print(list12.index(2))"
      ],
      "execution_count": 10,
      "outputs": [
        {
          "output_type": "stream",
          "name": "stdout",
          "text": [
            "[1, 2, 4, 7, 3, 'so']\n",
            "1\n",
            "[1, 2, 4, 7, 3, 'so', '6', '7', '8']\n",
            "[1, 2, 'so', 4, 7, 3, 'so', '6', '7', '8']\n",
            "1\n"
          ]
        }
      ]
    }
  ]
}