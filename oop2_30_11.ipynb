{
  "nbformat": 4,
  "nbformat_minor": 0,
  "metadata": {
    "colab": {
      "name": "oop2_30/11.ipynb",
      "provenance": [],
      "authorship_tag": "ABX9TyMkXKyW7z/mnSxrZuNmbVjQ",
      "include_colab_link": true
    },
    "kernelspec": {
      "name": "python3",
      "display_name": "Python 3"
    },
    "language_info": {
      "name": "python"
    }
  },
  "cells": [
    {
      "cell_type": "markdown",
      "metadata": {
        "id": "view-in-github",
        "colab_type": "text"
      },
      "source": [
        "<a href=\"https://colab.research.google.com/github/mooochiiii/exercise/blob/main/oop2_30_11.ipynb\" target=\"_parent\"><img src=\"https://colab.research.google.com/assets/colab-badge.svg\" alt=\"Open In Colab\"/></a>"
      ]
    },
    {
      "cell_type": "code",
      "metadata": {
        "colab": {
          "base_uri": "https://localhost:8080/"
        },
        "id": "8jTf1qOj0-Co",
        "outputId": "b9cf656f-8c3c-4464-e5c2-69307e3599e9"
      },
      "source": [
        "class Person:\n",
        "  name:str\n",
        "  gender:str\n",
        "  phone:str\n",
        "\n",
        "  def __init__(self, ten, gioitinh, sdt) -> None:\n",
        "        super().__init__()\n",
        "        self.name= ten\n",
        "        self.gender = gioitinh\n",
        "        self.phone = sdt\n",
        "\n",
        "  def outputPerson(self) -> str:\n",
        "        result = \"Tên: \" + self.name + \" .Giới tính: \" + self.gender + \" .Số điện thoại: \" + self.phone\n",
        "        return result\n",
        "\n",
        "class Student(Person):\n",
        "  studentID:int\n",
        "  classs:str\n",
        "\n",
        "  def __init__(self, ten, gioitinh, sdt,MaSV,lop) -> None:\n",
        "      Person.__init__(self, ten, gioitinh, sdt)\n",
        "      self.studentID = MaSV\n",
        "      self.classs = lop\n",
        "\n",
        "  def outputStudent(self) -> str:\n",
        "      result = self.outputPerson() + \" .Mã số sinh viên: \" + str(self.studentID) + \" .Lớp: \" +self.classs\n",
        "      return result\n",
        "\n",
        "class Lecturer(Person):\n",
        "  lecturerID:int\n",
        "  yearsOfExperience:int\n",
        "\n",
        "  def __init__(self, ten, gioitinh, sdt, MaGV,namkinhnghiem) -> None:\n",
        "        Person.__init__(self, ten, gioitinh, sdt)\n",
        "        self.lecturerID = MaGV\n",
        "        self.yearsOfExperience = namkinhnghiem\n",
        "\n",
        "  def outputLecturer(self) -> str:\n",
        "        result = self.outputPerson() + \" .Mã giảng viên: \" + str(self.lecturerID) + \" .Số năm kinh nghiệm: \" + str(self.yearsOfExperience)\n",
        "        return result\n",
        "def main():\n",
        "    hoa = Person(\"hoa\", \"nữ\",\"162732\" )\n",
        "    sv = Student(\"sv\",\"Nữ\" , \"0222672222\", 1234, \"Lớp AI & DS K2\")\n",
        "    cuong = Lecturer(\"Nguyễn Đinh Hoa Cương\", \"Nam\", \"033464893\", 12345,3)\n",
        "    print(hoa.outputPerson())\n",
        "    print(sv.outputStudent())\n",
        "    print(cuong.outputLecturer())\n",
        "\n",
        "if __name__ == \"__main__\":\n",
        "  main()"
      ],
      "execution_count": null,
      "outputs": [
        {
          "output_type": "stream",
          "name": "stdout",
          "text": [
            "Tên: hoa .Giới tính: nữ .Số điện thoại: 162732\n",
            "Tên: sv .Giới tính: Nữ .Số điện thoại: 0222672222 .Mã số sinh viên: 1234 .Lớp: Lớp AI & DS K2\n",
            "Tên: Nguyễn Đinh Hoa Cương .Giới tính: Nam .Số điện thoại: 033464893 .Mã giảng viên: 12345 .Số năm kinh nghiệm: 3\n"
          ]
        }
      ]
    }
  ]
}