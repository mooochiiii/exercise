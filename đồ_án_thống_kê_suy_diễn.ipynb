{
  "cells": [
    {
      "cell_type": "markdown",
      "metadata": {
        "id": "view-in-github",
        "colab_type": "text"
      },
      "source": [
        "<a href=\"https://colab.research.google.com/github/mooochiiii/exercise/blob/main/%C4%91%E1%BB%93_%C3%A1n_th%E1%BB%91ng_k%C3%AA_suy_di%E1%BB%85n.ipynb\" target=\"_parent\"><img src=\"https://colab.research.google.com/assets/colab-badge.svg\" alt=\"Open In Colab\"/></a>"
      ]
    },
    {
      "cell_type": "markdown",
      "metadata": {
        "id": "cwEo2wuBR04d"
      },
      "source": [
        "# 2. Sử dụng tập tin Diet_R.csv để thực hiện phân tích thống kê suy diễn - ANOVA một chiều. "
      ]
    },
    {
      "cell_type": "code",
      "execution_count": null,
      "metadata": {
        "id": "fNrawaB5VCVk"
      },
      "outputs": [],
      "source": [
        "# Các thư viện cần thiết \n",
        "\n",
        "import pandas as pd\n",
        "import xlrd\n",
        "import numpy as np\n",
        "import scipy.stats as st\n",
        "from scipy import stats"
      ]
    },
    {
      "cell_type": "code",
      "execution_count": null,
      "metadata": {
        "colab": {
          "background_save": true,
          "base_uri": "https://localhost:8080/"
        },
        "id": "LwMF1IW0w2lL",
        "outputId": "dc11a987-4336-4f92-dcfa-d5217a617b97"
      },
      "outputs": [
        {
          "name": "stdout",
          "output_type": "stream",
          "text": [
            "Drive already mounted at /content/drive; to attempt to forcibly remount, call drive.mount(\"/content/drive\", force_remount=True).\n"
          ]
        }
      ],
      "source": [
        "from google.colab import drive\n",
        "drive.mount('/content/drive')"
      ]
    },
    {
      "cell_type": "code",
      "execution_count": null,
      "metadata": {
        "colab": {
          "background_save": true
        },
        "id": "P1vyLlaaVPdi"
      },
      "outputs": [],
      "source": [
        "df = pd.read_csv(\"/content/drive/MyDrive/notebook/Diet_R.csv\")"
      ]
    },
    {
      "cell_type": "code",
      "execution_count": null,
      "metadata": {
        "colab": {
          "background_save": true,
          "base_uri": "https://localhost:8080/",
          "height": 206
        },
        "id": "gJYi312NRNub",
        "outputId": "da0ed136-f994-49a0-90f0-210393763152"
      },
      "outputs": [
        {
          "data": {
            "text/html": [
              "\n",
              "  <div id=\"df-962169ca-6fb2-40bc-a09f-a2292cc98389\">\n",
              "    <div class=\"colab-df-container\">\n",
              "      <div>\n",
              "<style scoped>\n",
              "    .dataframe tbody tr th:only-of-type {\n",
              "        vertical-align: middle;\n",
              "    }\n",
              "\n",
              "    .dataframe tbody tr th {\n",
              "        vertical-align: top;\n",
              "    }\n",
              "\n",
              "    .dataframe thead th {\n",
              "        text-align: right;\n",
              "    }\n",
              "</style>\n",
              "<table border=\"1\" class=\"dataframe\">\n",
              "  <thead>\n",
              "    <tr style=\"text-align: right;\">\n",
              "      <th></th>\n",
              "      <th>Person</th>\n",
              "      <th>gender</th>\n",
              "      <th>Age</th>\n",
              "      <th>Height</th>\n",
              "      <th>pre.weight</th>\n",
              "      <th>Diet</th>\n",
              "      <th>weight6weeks</th>\n",
              "    </tr>\n",
              "  </thead>\n",
              "  <tbody>\n",
              "    <tr>\n",
              "      <th>0</th>\n",
              "      <td>25</td>\n",
              "      <td></td>\n",
              "      <td>41</td>\n",
              "      <td>171</td>\n",
              "      <td>60</td>\n",
              "      <td>2</td>\n",
              "      <td>60.0</td>\n",
              "    </tr>\n",
              "    <tr>\n",
              "      <th>1</th>\n",
              "      <td>26</td>\n",
              "      <td></td>\n",
              "      <td>32</td>\n",
              "      <td>174</td>\n",
              "      <td>103</td>\n",
              "      <td>2</td>\n",
              "      <td>103.0</td>\n",
              "    </tr>\n",
              "    <tr>\n",
              "      <th>2</th>\n",
              "      <td>1</td>\n",
              "      <td>0</td>\n",
              "      <td>22</td>\n",
              "      <td>159</td>\n",
              "      <td>58</td>\n",
              "      <td>1</td>\n",
              "      <td>54.2</td>\n",
              "    </tr>\n",
              "    <tr>\n",
              "      <th>3</th>\n",
              "      <td>2</td>\n",
              "      <td>0</td>\n",
              "      <td>46</td>\n",
              "      <td>192</td>\n",
              "      <td>60</td>\n",
              "      <td>1</td>\n",
              "      <td>54.0</td>\n",
              "    </tr>\n",
              "    <tr>\n",
              "      <th>4</th>\n",
              "      <td>3</td>\n",
              "      <td>0</td>\n",
              "      <td>55</td>\n",
              "      <td>170</td>\n",
              "      <td>64</td>\n",
              "      <td>1</td>\n",
              "      <td>63.3</td>\n",
              "    </tr>\n",
              "  </tbody>\n",
              "</table>\n",
              "</div>\n",
              "      <button class=\"colab-df-convert\" onclick=\"convertToInteractive('df-962169ca-6fb2-40bc-a09f-a2292cc98389')\"\n",
              "              title=\"Convert this dataframe to an interactive table.\"\n",
              "              style=\"display:none;\">\n",
              "        \n",
              "  <svg xmlns=\"http://www.w3.org/2000/svg\" height=\"24px\"viewBox=\"0 0 24 24\"\n",
              "       width=\"24px\">\n",
              "    <path d=\"M0 0h24v24H0V0z\" fill=\"none\"/>\n",
              "    <path d=\"M18.56 5.44l.94 2.06.94-2.06 2.06-.94-2.06-.94-.94-2.06-.94 2.06-2.06.94zm-11 1L8.5 8.5l.94-2.06 2.06-.94-2.06-.94L8.5 2.5l-.94 2.06-2.06.94zm10 10l.94 2.06.94-2.06 2.06-.94-2.06-.94-.94-2.06-.94 2.06-2.06.94z\"/><path d=\"M17.41 7.96l-1.37-1.37c-.4-.4-.92-.59-1.43-.59-.52 0-1.04.2-1.43.59L10.3 9.45l-7.72 7.72c-.78.78-.78 2.05 0 2.83L4 21.41c.39.39.9.59 1.41.59.51 0 1.02-.2 1.41-.59l7.78-7.78 2.81-2.81c.8-.78.8-2.07 0-2.86zM5.41 20L4 18.59l7.72-7.72 1.47 1.35L5.41 20z\"/>\n",
              "  </svg>\n",
              "      </button>\n",
              "      \n",
              "  <style>\n",
              "    .colab-df-container {\n",
              "      display:flex;\n",
              "      flex-wrap:wrap;\n",
              "      gap: 12px;\n",
              "    }\n",
              "\n",
              "    .colab-df-convert {\n",
              "      background-color: #E8F0FE;\n",
              "      border: none;\n",
              "      border-radius: 50%;\n",
              "      cursor: pointer;\n",
              "      display: none;\n",
              "      fill: #1967D2;\n",
              "      height: 32px;\n",
              "      padding: 0 0 0 0;\n",
              "      width: 32px;\n",
              "    }\n",
              "\n",
              "    .colab-df-convert:hover {\n",
              "      background-color: #E2EBFA;\n",
              "      box-shadow: 0px 1px 2px rgba(60, 64, 67, 0.3), 0px 1px 3px 1px rgba(60, 64, 67, 0.15);\n",
              "      fill: #174EA6;\n",
              "    }\n",
              "\n",
              "    [theme=dark] .colab-df-convert {\n",
              "      background-color: #3B4455;\n",
              "      fill: #D2E3FC;\n",
              "    }\n",
              "\n",
              "    [theme=dark] .colab-df-convert:hover {\n",
              "      background-color: #434B5C;\n",
              "      box-shadow: 0px 1px 3px 1px rgba(0, 0, 0, 0.15);\n",
              "      filter: drop-shadow(0px 1px 2px rgba(0, 0, 0, 0.3));\n",
              "      fill: #FFFFFF;\n",
              "    }\n",
              "  </style>\n",
              "\n",
              "      <script>\n",
              "        const buttonEl =\n",
              "          document.querySelector('#df-962169ca-6fb2-40bc-a09f-a2292cc98389 button.colab-df-convert');\n",
              "        buttonEl.style.display =\n",
              "          google.colab.kernel.accessAllowed ? 'block' : 'none';\n",
              "\n",
              "        async function convertToInteractive(key) {\n",
              "          const element = document.querySelector('#df-962169ca-6fb2-40bc-a09f-a2292cc98389');\n",
              "          const dataTable =\n",
              "            await google.colab.kernel.invokeFunction('convertToInteractive',\n",
              "                                                     [key], {});\n",
              "          if (!dataTable) return;\n",
              "\n",
              "          const docLinkHtml = 'Like what you see? Visit the ' +\n",
              "            '<a target=\"_blank\" href=https://colab.research.google.com/notebooks/data_table.ipynb>data table notebook</a>'\n",
              "            + ' to learn more about interactive tables.';\n",
              "          element.innerHTML = '';\n",
              "          dataTable['output_type'] = 'display_data';\n",
              "          await google.colab.output.renderOutput(dataTable, element);\n",
              "          const docLink = document.createElement('div');\n",
              "          docLink.innerHTML = docLinkHtml;\n",
              "          element.appendChild(docLink);\n",
              "        }\n",
              "      </script>\n",
              "    </div>\n",
              "  </div>\n",
              "  "
            ],
            "text/plain": [
              "   Person gender  Age  Height  pre.weight  Diet  weight6weeks\n",
              "0      25          41     171          60     2          60.0\n",
              "1      26          32     174         103     2         103.0\n",
              "2       1      0   22     159          58     1          54.2\n",
              "3       2      0   46     192          60     1          54.0\n",
              "4       3      0   55     170          64     1          63.3"
            ]
          },
          "execution_count": null,
          "metadata": {},
          "output_type": "execute_result"
        }
      ],
      "source": [
        "# xuất ra 5 dòng dữ liệu đầu \n",
        "\n",
        "df.head()"
      ]
    },
    {
      "cell_type": "markdown",
      "metadata": {
        "id": "O88HD4mt1rYw"
      },
      "source": [
        "**Câu hỏi 1 được đặt ra: Chế độ ăn kiêng nào tốt nhất để giảm cân?**\n",
        "\n",
        "- Dựa vào bảng số liệu nhận thấy có 3 chế độ. Vì vậy cần chia dữ liệu thành các nhóm có liên quan đến 3 chế độ này.\n",
        "\n",
        "- Từ các nhóm trên chúng ta sẽ tiến hành phân tích thông kê suy diễn ANOVA một chiều \n",
        "\n"
      ]
    },
    {
      "cell_type": "code",
      "execution_count": null,
      "metadata": {
        "colab": {
          "background_save": true
        },
        "id": "JFILMzmURkcH"
      },
      "outputs": [],
      "source": [
        "diet1 = df[df[\"Diet\"] == 1]\n",
        "diet2 = df[df[\"Diet\"] == 2]\n",
        "diet3 = df[df[\"Diet\"] == 3]"
      ]
    },
    {
      "cell_type": "code",
      "execution_count": null,
      "metadata": {
        "colab": {
          "background_save": true
        },
        "id": "rHwpzgfFS-ew"
      },
      "outputs": [],
      "source": [
        "weight_loss1 = diet1[\"pre.weight\"] - diet1[\"weight6weeks\"]\n",
        "weight_loss2 = diet2[\"pre.weight\"] - diet2[\"weight6weeks\"]\n",
        "weight_loss3 = diet3[\"pre.weight\"] - diet3[\"weight6weeks\"]"
      ]
    },
    {
      "cell_type": "code",
      "execution_count": null,
      "metadata": {
        "colab": {
          "background_save": true,
          "base_uri": "https://localhost:8080/"
        },
        "id": "DxGNVKl4Uptb",
        "outputId": "384e2b1b-1126-46f3-a21a-2f6f1880420f"
      },
      "outputs": [
        {
          "name": "stdout",
          "output_type": "stream",
          "text": [
            "2     3.8\n",
            "3     6.0\n",
            "4     0.7\n",
            "5     2.9\n",
            "6     2.8\n",
            "7     2.0\n",
            "8     2.0\n",
            "9     8.5\n",
            "10    1.9\n",
            "11    3.1\n",
            "12    1.5\n",
            "13    3.0\n",
            "14    3.6\n",
            "15    0.9\n",
            "45   -0.6\n",
            "46    1.1\n",
            "47    4.5\n",
            "48    4.1\n",
            "49    9.0\n",
            "50    2.4\n",
            "51    3.9\n",
            "52    3.5\n",
            "53    5.1\n",
            "54    3.5\n",
            "dtype: float64\n"
          ]
        }
      ],
      "source": [
        "print(weight_loss1)"
      ]
    },
    {
      "cell_type": "code",
      "execution_count": null,
      "metadata": {
        "colab": {
          "background_save": true,
          "base_uri": "https://localhost:8080/"
        },
        "id": "C9KeXHHhDYdK",
        "outputId": "f7fd4564-86f3-49b2-836c-0c574aa32e85"
      },
      "outputs": [
        {
          "name": "stdout",
          "output_type": "stream",
          "text": [
            "0     0.0\n",
            "1     0.0\n",
            "16   -2.1\n",
            "17    2.0\n",
            "18    1.7\n",
            "19    4.3\n",
            "20    7.0\n",
            "21    0.6\n",
            "22    2.7\n",
            "23    3.6\n",
            "24    3.0\n",
            "25    2.0\n",
            "26    4.2\n",
            "27    4.7\n",
            "28    3.3\n",
            "29   -0.5\n",
            "55    4.2\n",
            "56    2.4\n",
            "57    5.8\n",
            "58    3.5\n",
            "59    5.3\n",
            "60    1.7\n",
            "61    5.4\n",
            "62    6.1\n",
            "63    7.9\n",
            "64   -1.4\n",
            "65    4.3\n",
            "dtype: float64\n"
          ]
        }
      ],
      "source": [
        "print(weight_loss2)"
      ]
    },
    {
      "cell_type": "code",
      "execution_count": null,
      "metadata": {
        "colab": {
          "background_save": true,
          "base_uri": "https://localhost:8080/"
        },
        "id": "s8hwPCwaDcpc",
        "outputId": "246469e3-e543-4ec9-d52e-28d3a60a38b4"
      },
      "outputs": [
        {
          "name": "stdout",
          "output_type": "stream",
          "text": [
            "30    7.0\n",
            "31    5.6\n",
            "32    3.4\n",
            "33    6.8\n",
            "34    7.8\n",
            "35    5.4\n",
            "36    6.8\n",
            "37    7.2\n",
            "38    7.0\n",
            "39    7.3\n",
            "40    0.9\n",
            "41    7.6\n",
            "42    4.1\n",
            "43    6.3\n",
            "44    5.0\n",
            "66    2.5\n",
            "67    0.9\n",
            "68    3.5\n",
            "69    0.5\n",
            "70    2.8\n",
            "71    8.6\n",
            "72    4.5\n",
            "73    2.8\n",
            "74    4.1\n",
            "75    5.3\n",
            "76    9.2\n",
            "77    6.1\n",
            "dtype: float64\n"
          ]
        }
      ],
      "source": [
        "print(weight_loss3)"
      ]
    },
    {
      "cell_type": "code",
      "execution_count": null,
      "metadata": {
        "colab": {
          "background_save": true
        },
        "id": "LwpkYRhYVN21"
      },
      "outputs": [],
      "source": [
        "# Xây dựng DataFrame\n",
        "\n",
        "df1 = pd.DataFrame({\n",
        "    \"weight loss1\": weight_loss1,\n",
        "    \"weight loss2\": weight_loss2,\n",
        "    \"weight loss3\": weight_loss3\n",
        "})"
      ]
    },
    {
      "cell_type": "code",
      "execution_count": null,
      "metadata": {
        "colab": {
          "background_save": true,
          "base_uri": "https://localhost:8080/",
          "height": 424
        },
        "id": "YpzxfonVCwFo",
        "outputId": "4a2ead7e-3704-4ebe-c1e7-4c4ee0920252"
      },
      "outputs": [
        {
          "data": {
            "text/html": [
              "\n",
              "  <div id=\"df-a6ee9868-cb38-4025-9675-8a8affd3b36b\">\n",
              "    <div class=\"colab-df-container\">\n",
              "      <div>\n",
              "<style scoped>\n",
              "    .dataframe tbody tr th:only-of-type {\n",
              "        vertical-align: middle;\n",
              "    }\n",
              "\n",
              "    .dataframe tbody tr th {\n",
              "        vertical-align: top;\n",
              "    }\n",
              "\n",
              "    .dataframe thead th {\n",
              "        text-align: right;\n",
              "    }\n",
              "</style>\n",
              "<table border=\"1\" class=\"dataframe\">\n",
              "  <thead>\n",
              "    <tr style=\"text-align: right;\">\n",
              "      <th></th>\n",
              "      <th>weight loss1</th>\n",
              "      <th>weight loss2</th>\n",
              "      <th>weight loss3</th>\n",
              "    </tr>\n",
              "  </thead>\n",
              "  <tbody>\n",
              "    <tr>\n",
              "      <th>0</th>\n",
              "      <td>NaN</td>\n",
              "      <td>0.0</td>\n",
              "      <td>NaN</td>\n",
              "    </tr>\n",
              "    <tr>\n",
              "      <th>1</th>\n",
              "      <td>NaN</td>\n",
              "      <td>0.0</td>\n",
              "      <td>NaN</td>\n",
              "    </tr>\n",
              "    <tr>\n",
              "      <th>2</th>\n",
              "      <td>3.8</td>\n",
              "      <td>NaN</td>\n",
              "      <td>NaN</td>\n",
              "    </tr>\n",
              "    <tr>\n",
              "      <th>3</th>\n",
              "      <td>6.0</td>\n",
              "      <td>NaN</td>\n",
              "      <td>NaN</td>\n",
              "    </tr>\n",
              "    <tr>\n",
              "      <th>4</th>\n",
              "      <td>0.7</td>\n",
              "      <td>NaN</td>\n",
              "      <td>NaN</td>\n",
              "    </tr>\n",
              "    <tr>\n",
              "      <th>...</th>\n",
              "      <td>...</td>\n",
              "      <td>...</td>\n",
              "      <td>...</td>\n",
              "    </tr>\n",
              "    <tr>\n",
              "      <th>73</th>\n",
              "      <td>NaN</td>\n",
              "      <td>NaN</td>\n",
              "      <td>2.8</td>\n",
              "    </tr>\n",
              "    <tr>\n",
              "      <th>74</th>\n",
              "      <td>NaN</td>\n",
              "      <td>NaN</td>\n",
              "      <td>4.1</td>\n",
              "    </tr>\n",
              "    <tr>\n",
              "      <th>75</th>\n",
              "      <td>NaN</td>\n",
              "      <td>NaN</td>\n",
              "      <td>5.3</td>\n",
              "    </tr>\n",
              "    <tr>\n",
              "      <th>76</th>\n",
              "      <td>NaN</td>\n",
              "      <td>NaN</td>\n",
              "      <td>9.2</td>\n",
              "    </tr>\n",
              "    <tr>\n",
              "      <th>77</th>\n",
              "      <td>NaN</td>\n",
              "      <td>NaN</td>\n",
              "      <td>6.1</td>\n",
              "    </tr>\n",
              "  </tbody>\n",
              "</table>\n",
              "<p>78 rows × 3 columns</p>\n",
              "</div>\n",
              "      <button class=\"colab-df-convert\" onclick=\"convertToInteractive('df-a6ee9868-cb38-4025-9675-8a8affd3b36b')\"\n",
              "              title=\"Convert this dataframe to an interactive table.\"\n",
              "              style=\"display:none;\">\n",
              "        \n",
              "  <svg xmlns=\"http://www.w3.org/2000/svg\" height=\"24px\"viewBox=\"0 0 24 24\"\n",
              "       width=\"24px\">\n",
              "    <path d=\"M0 0h24v24H0V0z\" fill=\"none\"/>\n",
              "    <path d=\"M18.56 5.44l.94 2.06.94-2.06 2.06-.94-2.06-.94-.94-2.06-.94 2.06-2.06.94zm-11 1L8.5 8.5l.94-2.06 2.06-.94-2.06-.94L8.5 2.5l-.94 2.06-2.06.94zm10 10l.94 2.06.94-2.06 2.06-.94-2.06-.94-.94-2.06-.94 2.06-2.06.94z\"/><path d=\"M17.41 7.96l-1.37-1.37c-.4-.4-.92-.59-1.43-.59-.52 0-1.04.2-1.43.59L10.3 9.45l-7.72 7.72c-.78.78-.78 2.05 0 2.83L4 21.41c.39.39.9.59 1.41.59.51 0 1.02-.2 1.41-.59l7.78-7.78 2.81-2.81c.8-.78.8-2.07 0-2.86zM5.41 20L4 18.59l7.72-7.72 1.47 1.35L5.41 20z\"/>\n",
              "  </svg>\n",
              "      </button>\n",
              "      \n",
              "  <style>\n",
              "    .colab-df-container {\n",
              "      display:flex;\n",
              "      flex-wrap:wrap;\n",
              "      gap: 12px;\n",
              "    }\n",
              "\n",
              "    .colab-df-convert {\n",
              "      background-color: #E8F0FE;\n",
              "      border: none;\n",
              "      border-radius: 50%;\n",
              "      cursor: pointer;\n",
              "      display: none;\n",
              "      fill: #1967D2;\n",
              "      height: 32px;\n",
              "      padding: 0 0 0 0;\n",
              "      width: 32px;\n",
              "    }\n",
              "\n",
              "    .colab-df-convert:hover {\n",
              "      background-color: #E2EBFA;\n",
              "      box-shadow: 0px 1px 2px rgba(60, 64, 67, 0.3), 0px 1px 3px 1px rgba(60, 64, 67, 0.15);\n",
              "      fill: #174EA6;\n",
              "    }\n",
              "\n",
              "    [theme=dark] .colab-df-convert {\n",
              "      background-color: #3B4455;\n",
              "      fill: #D2E3FC;\n",
              "    }\n",
              "\n",
              "    [theme=dark] .colab-df-convert:hover {\n",
              "      background-color: #434B5C;\n",
              "      box-shadow: 0px 1px 3px 1px rgba(0, 0, 0, 0.15);\n",
              "      filter: drop-shadow(0px 1px 2px rgba(0, 0, 0, 0.3));\n",
              "      fill: #FFFFFF;\n",
              "    }\n",
              "  </style>\n",
              "\n",
              "      <script>\n",
              "        const buttonEl =\n",
              "          document.querySelector('#df-a6ee9868-cb38-4025-9675-8a8affd3b36b button.colab-df-convert');\n",
              "        buttonEl.style.display =\n",
              "          google.colab.kernel.accessAllowed ? 'block' : 'none';\n",
              "\n",
              "        async function convertToInteractive(key) {\n",
              "          const element = document.querySelector('#df-a6ee9868-cb38-4025-9675-8a8affd3b36b');\n",
              "          const dataTable =\n",
              "            await google.colab.kernel.invokeFunction('convertToInteractive',\n",
              "                                                     [key], {});\n",
              "          if (!dataTable) return;\n",
              "\n",
              "          const docLinkHtml = 'Like what you see? Visit the ' +\n",
              "            '<a target=\"_blank\" href=https://colab.research.google.com/notebooks/data_table.ipynb>data table notebook</a>'\n",
              "            + ' to learn more about interactive tables.';\n",
              "          element.innerHTML = '';\n",
              "          dataTable['output_type'] = 'display_data';\n",
              "          await google.colab.output.renderOutput(dataTable, element);\n",
              "          const docLink = document.createElement('div');\n",
              "          docLink.innerHTML = docLinkHtml;\n",
              "          element.appendChild(docLink);\n",
              "        }\n",
              "      </script>\n",
              "    </div>\n",
              "  </div>\n",
              "  "
            ],
            "text/plain": [
              "    weight loss1  weight loss2  weight loss3\n",
              "0            NaN           0.0           NaN\n",
              "1            NaN           0.0           NaN\n",
              "2            3.8           NaN           NaN\n",
              "3            6.0           NaN           NaN\n",
              "4            0.7           NaN           NaN\n",
              "..           ...           ...           ...\n",
              "73           NaN           NaN           2.8\n",
              "74           NaN           NaN           4.1\n",
              "75           NaN           NaN           5.3\n",
              "76           NaN           NaN           9.2\n",
              "77           NaN           NaN           6.1\n",
              "\n",
              "[78 rows x 3 columns]"
            ]
          },
          "execution_count": null,
          "metadata": {},
          "output_type": "execute_result"
        }
      ],
      "source": [
        "# Kiểm tra lại kết quả \n",
        "\n",
        "df1"
      ]
    },
    {
      "cell_type": "code",
      "execution_count": null,
      "metadata": {
        "colab": {
          "background_save": true
        },
        "id": "qQSAfqvqWQrk"
      },
      "outputs": [],
      "source": [
        "# Tiến hành xoá NaN của từng nhóm\n",
        "\n",
        "list_non_na = [list(df1[\"weight loss1\"].dropna()),\n",
        "               list(df1[\"weight loss2\"].dropna()),\n",
        "               list(df1[\"weight loss3\"].dropna())]"
      ]
    },
    {
      "cell_type": "markdown",
      "metadata": {
        "id": "Y2uUGSY6cZr1"
      },
      "source": [
        "**Tiến hành kiểm định các nhóm có lấy từ phân phối chuẩn**\n",
        "\n",
        "\b- Xây dựng giả thuyết với mức ý nghĩa 0.05:\n",
        " - Giả thuyết null: \n",
        "\n",
        " $H_0$: Các nhóm được lấy từ phân phối chuẩn\n",
        "\n",
        " - Giả thuyết thay thế:\n",
        "\n",
        " $H_a$: Các nhóm không được lấy từ phân phối chuẩn"
      ]
    },
    {
      "cell_type": "code",
      "execution_count": null,
      "metadata": {
        "colab": {
          "background_save": true,
          "base_uri": "https://localhost:8080/"
        },
        "id": "feP62j7NW2BP",
        "outputId": "8bb72f52-069b-4585-d50a-5a2c5b67fff9"
      },
      "outputs": [
        {
          "name": "stdout",
          "output_type": "stream",
          "text": [
            "P_value của cột thứ 1: 0.07748671621084213\n",
            "Không có bằng chứng cho thấy nhóm weight loss 1 không tuân theo phân phối chuẩn\n",
            "P_value của cột thứ 2: 0.961176335811615\n",
            "Không có bằng chứng cho thấy nhóm weight loss 2 không tuân theo phân phối chuẩn\n",
            "P_value của cột thứ 3: 0.37203603982925415\n",
            "Không có bằng chứng cho thấy nhóm weight loss 3 không tuân theo phân phối chuẩn\n"
          ]
        }
      ],
      "source": [
        "for i in range(3):\n",
        "  p_value = stats.shapiro(list_non_na[i])[1]\n",
        "  print(f\"P_value của cột thứ {i+1}: {p_value}\")\n",
        "  if p_value < 0.05:\n",
        "    print(f\"Có bằng chứng cho thấy nhóm weight loss {i+1} không tuân theo phân phối chuẩn\")\n",
        "  else:\n",
        "    print(f\"Không có bằng chứng cho thấy nhóm weight loss {i+1} không tuân theo phân phối chuẩn\")"
      ]
    },
    {
      "cell_type": "markdown",
      "metadata": {
        "id": "k4G55GF0ADOV"
      },
      "source": [
        "**Tiến hành kiểm định phương sai của các nhóm có sự khác biệt**\n",
        "\n",
        "Xây dựng giả thuyết với mức ý nghĩa 0.05:\n",
        " - Giả thuyết null:\n",
        "\n",
        " $H_0$: Các nhóm có phương sai giống nhau \n",
        " - Giả thuyết thay thế:\n",
        " \n",
        " $H_a$: Các nhóm có phương sai không giống nhau "
      ]
    },
    {
      "cell_type": "code",
      "execution_count": null,
      "metadata": {
        "colab": {
          "background_save": true,
          "base_uri": "https://localhost:8080/"
        },
        "id": "9-QjFGXM8BOY",
        "outputId": "3c0373a8-a54b-4883-aece-d6b5e771565b"
      },
      "outputs": [
        {
          "name": "stdout",
          "output_type": "stream",
          "text": [
            "p_value: 0.8447392194944549\n",
            "Không có bằng chứng bác bỏ  giả thuyết H0\n"
          ]
        }
      ],
      "source": [
        "stats, p_value = st.bartlett(weight_loss1, weight_loss2, weight_loss3)\n",
        "print(\"p_value:\",p_value)\n",
        "if p_value < 0.05:\n",
        "  print(\"Có bằng chứng bác bỏ  giả thuyết H0\")\n",
        "else:\n",
        "  print(\"Không có bằng chứng bác bỏ  giả thuyết H0\")"
      ]
    },
    {
      "cell_type": "markdown",
      "metadata": {
        "id": "RfX2mwdMCLwP"
      },
      "source": [
        "**Ta tiến hành phân tích ANOVA 1 chiều với dữ liệu vì các nhóm đều độc lập, được lấy từ phân phối chuẩn và giống về phương sai:**\n",
        "\n",
        "Phát biểu giả thuyết:\n",
        " - Giả thuyết null:\n",
        "\n",
        " $H_0$: Không tồn tại sự khác biệt giữa 3 chế độ ăn kiêng \n",
        " - Giả thuyết thay thế:\n",
        " \n",
        " $H_a$: Tồn tại sự khác biệt giữa 3 chế độ ăn kiêng    "
      ]
    },
    {
      "cell_type": "code",
      "execution_count": null,
      "metadata": {
        "colab": {
          "background_save": true,
          "base_uri": "https://localhost:8080/"
        },
        "id": "bSMYX7dCgKhI",
        "outputId": "054e68fc-8236-46d7-e460-e6d725106c2b"
      },
      "outputs": [
        {
          "name": "stdout",
          "output_type": "stream",
          "text": [
            "p_value: 0.0032290142385893524\n",
            "Có bằng chứng bác bỏ giả thuyết H0\n"
          ]
        }
      ],
      "source": [
        "stats, p_value = st.f_oneway(weight_loss1, weight_loss2, weight_loss3)\n",
        "print(\"p_value:\",p_value)\n",
        "if p_value < 0.05:\n",
        "  print(\"Có bằng chứng bác bỏ giả thuyết H0\")\n",
        "else:\n",
        "  print(\"Không có bằng chứng bác bỏ giả thuyết H0\")"
      ]
    },
    {
      "cell_type": "markdown",
      "metadata": {
        "id": "3G2hdKU7w52W"
      },
      "source": [
        "**Tiến hành kiểm định POST-HOC để tìm ra chính xác cặp giá trị nào đang có sự khác biệt**\n",
        "\n",
        "- Sử dụng thư viện StatsModels \n",
        "- Sử dụng phương pháp Tuker trong thư viện StatsModels để thực hiện kiểm định"
      ]
    },
    {
      "cell_type": "code",
      "execution_count": null,
      "metadata": {
        "colab": {
          "background_save": true
        },
        "id": "qjyjVH5Wbp4s"
      },
      "outputs": [],
      "source": [
        "# import thư viện cần thiết \n",
        "\n",
        "import statsmodels.stats.multicomp as mc"
      ]
    },
    {
      "cell_type": "code",
      "execution_count": null,
      "metadata": {
        "colab": {
          "background_save": true
        },
        "id": "3DtMXA8X7ieE"
      },
      "outputs": [],
      "source": [
        "# tạo DataFrame\n",
        "\n",
        "df_2 = pd.DataFrame({'diet': list(np.concatenate([weight_loss1, weight_loss2, weight_loss3]).flat),\n",
        "                   'group': np.repeat(['1', '2', '3'], repeats=len(list(np.concatenate([weight_loss1, weight_loss2, weight_loss3]).flat))/3)}) "
      ]
    },
    {
      "cell_type": "code",
      "execution_count": null,
      "metadata": {
        "colab": {
          "background_save": true,
          "base_uri": "https://localhost:8080/",
          "height": 139
        },
        "id": "nkRhi6MV7rZY",
        "outputId": "171f69cc-462f-4c81-bf53-13b3fff36ce1"
      },
      "outputs": [
        {
          "data": {
            "text/html": [
              "<table class=\"simpletable\">\n",
              "<caption>Multiple Comparison of Means - Tukey HSD, FWER=0.05</caption>\n",
              "<tr>\n",
              "  <th>group1</th> <th>group2</th> <th>meandiff</th>  <th>p-adj</th>  <th>lower</th>   <th>upper</th> <th>reject</th>\n",
              "</tr>\n",
              "<tr>\n",
              "     <td>1</td>      <td>2</td>    <td>0.3654</td>  <td>0.8332</td> <td>-1.2415</td> <td>1.9723</td>  <td>False</td>\n",
              "</tr>\n",
              "<tr>\n",
              "     <td>1</td>      <td>3</td>    <td>2.0308</td>  <td>0.0095</td> <td>0.4238</td>  <td>3.6377</td>  <td>True</td> \n",
              "</tr>\n",
              "<tr>\n",
              "     <td>2</td>      <td>3</td>    <td>1.6654</td>  <td>0.0405</td> <td>0.0585</td>  <td>3.2723</td>  <td>True</td> \n",
              "</tr>\n",
              "</table>"
            ],
            "text/plain": [
              "<class 'statsmodels.iolib.table.SimpleTable'>"
            ]
          },
          "execution_count": null,
          "metadata": {},
          "output_type": "execute_result"
        }
      ],
      "source": [
        "# Tiến hành kiểm định Tuker\n",
        "\n",
        "comp = mc.MultiComparison(df_2['diet'], df_2['group'])\n",
        "post_hoc_res = comp.tukeyhsd()\n",
        "post_hoc_res.summary()"
      ]
    },
    {
      "cell_type": "markdown",
      "metadata": {
        "id": "GS4VJU6Q22bW"
      },
      "source": [
        "- Sau khi thực hiện kiểm định ANOVA ta kết luận được 3 chế độ ăn kiêng có sự khác biệt. \n",
        "\n",
        "- Bây giờ, ta chỉ cần dự trên sự biến đổi của trọng lượng trung bình của từng chế độ ăn kiêng để kết luận chế độ nào hiệu quả nhất. "
      ]
    },
    {
      "cell_type": "code",
      "execution_count": null,
      "metadata": {
        "colab": {
          "background_save": true,
          "base_uri": "https://localhost:8080/",
          "height": 143
        },
        "id": "NQTMqCzC2E2y",
        "outputId": "39ff5834-cd2a-431e-f0d6-6ef054d5995d"
      },
      "outputs": [
        {
          "data": {
            "text/html": [
              "\n",
              "  <div id=\"df-04aa7be6-fb68-4293-b6c4-f7ce610a31cd\">\n",
              "    <div class=\"colab-df-container\">\n",
              "      <div>\n",
              "<style scoped>\n",
              "    .dataframe tbody tr th:only-of-type {\n",
              "        vertical-align: middle;\n",
              "    }\n",
              "\n",
              "    .dataframe tbody tr th {\n",
              "        vertical-align: top;\n",
              "    }\n",
              "\n",
              "    .dataframe thead th {\n",
              "        text-align: right;\n",
              "    }\n",
              "</style>\n",
              "<table border=\"1\" class=\"dataframe\">\n",
              "  <thead>\n",
              "    <tr style=\"text-align: right;\">\n",
              "      <th></th>\n",
              "      <th>Diet</th>\n",
              "      <th>Mean</th>\n",
              "    </tr>\n",
              "  </thead>\n",
              "  <tbody>\n",
              "    <tr>\n",
              "      <th>0</th>\n",
              "      <td>1</td>\n",
              "      <td>3.300000</td>\n",
              "    </tr>\n",
              "    <tr>\n",
              "      <th>1</th>\n",
              "      <td>2</td>\n",
              "      <td>3.025926</td>\n",
              "    </tr>\n",
              "    <tr>\n",
              "      <th>2</th>\n",
              "      <td>3</td>\n",
              "      <td>5.148148</td>\n",
              "    </tr>\n",
              "  </tbody>\n",
              "</table>\n",
              "</div>\n",
              "      <button class=\"colab-df-convert\" onclick=\"convertToInteractive('df-04aa7be6-fb68-4293-b6c4-f7ce610a31cd')\"\n",
              "              title=\"Convert this dataframe to an interactive table.\"\n",
              "              style=\"display:none;\">\n",
              "        \n",
              "  <svg xmlns=\"http://www.w3.org/2000/svg\" height=\"24px\"viewBox=\"0 0 24 24\"\n",
              "       width=\"24px\">\n",
              "    <path d=\"M0 0h24v24H0V0z\" fill=\"none\"/>\n",
              "    <path d=\"M18.56 5.44l.94 2.06.94-2.06 2.06-.94-2.06-.94-.94-2.06-.94 2.06-2.06.94zm-11 1L8.5 8.5l.94-2.06 2.06-.94-2.06-.94L8.5 2.5l-.94 2.06-2.06.94zm10 10l.94 2.06.94-2.06 2.06-.94-2.06-.94-.94-2.06-.94 2.06-2.06.94z\"/><path d=\"M17.41 7.96l-1.37-1.37c-.4-.4-.92-.59-1.43-.59-.52 0-1.04.2-1.43.59L10.3 9.45l-7.72 7.72c-.78.78-.78 2.05 0 2.83L4 21.41c.39.39.9.59 1.41.59.51 0 1.02-.2 1.41-.59l7.78-7.78 2.81-2.81c.8-.78.8-2.07 0-2.86zM5.41 20L4 18.59l7.72-7.72 1.47 1.35L5.41 20z\"/>\n",
              "  </svg>\n",
              "      </button>\n",
              "      \n",
              "  <style>\n",
              "    .colab-df-container {\n",
              "      display:flex;\n",
              "      flex-wrap:wrap;\n",
              "      gap: 12px;\n",
              "    }\n",
              "\n",
              "    .colab-df-convert {\n",
              "      background-color: #E8F0FE;\n",
              "      border: none;\n",
              "      border-radius: 50%;\n",
              "      cursor: pointer;\n",
              "      display: none;\n",
              "      fill: #1967D2;\n",
              "      height: 32px;\n",
              "      padding: 0 0 0 0;\n",
              "      width: 32px;\n",
              "    }\n",
              "\n",
              "    .colab-df-convert:hover {\n",
              "      background-color: #E2EBFA;\n",
              "      box-shadow: 0px 1px 2px rgba(60, 64, 67, 0.3), 0px 1px 3px 1px rgba(60, 64, 67, 0.15);\n",
              "      fill: #174EA6;\n",
              "    }\n",
              "\n",
              "    [theme=dark] .colab-df-convert {\n",
              "      background-color: #3B4455;\n",
              "      fill: #D2E3FC;\n",
              "    }\n",
              "\n",
              "    [theme=dark] .colab-df-convert:hover {\n",
              "      background-color: #434B5C;\n",
              "      box-shadow: 0px 1px 3px 1px rgba(0, 0, 0, 0.15);\n",
              "      filter: drop-shadow(0px 1px 2px rgba(0, 0, 0, 0.3));\n",
              "      fill: #FFFFFF;\n",
              "    }\n",
              "  </style>\n",
              "\n",
              "      <script>\n",
              "        const buttonEl =\n",
              "          document.querySelector('#df-04aa7be6-fb68-4293-b6c4-f7ce610a31cd button.colab-df-convert');\n",
              "        buttonEl.style.display =\n",
              "          google.colab.kernel.accessAllowed ? 'block' : 'none';\n",
              "\n",
              "        async function convertToInteractive(key) {\n",
              "          const element = document.querySelector('#df-04aa7be6-fb68-4293-b6c4-f7ce610a31cd');\n",
              "          const dataTable =\n",
              "            await google.colab.kernel.invokeFunction('convertToInteractive',\n",
              "                                                     [key], {});\n",
              "          if (!dataTable) return;\n",
              "\n",
              "          const docLinkHtml = 'Like what you see? Visit the ' +\n",
              "            '<a target=\"_blank\" href=https://colab.research.google.com/notebooks/data_table.ipynb>data table notebook</a>'\n",
              "            + ' to learn more about interactive tables.';\n",
              "          element.innerHTML = '';\n",
              "          dataTable['output_type'] = 'display_data';\n",
              "          await google.colab.output.renderOutput(dataTable, element);\n",
              "          const docLink = document.createElement('div');\n",
              "          docLink.innerHTML = docLinkHtml;\n",
              "          element.appendChild(docLink);\n",
              "        }\n",
              "      </script>\n",
              "    </div>\n",
              "  </div>\n",
              "  "
            ],
            "text/plain": [
              "  Diet      Mean\n",
              "0    1  3.300000\n",
              "1    2  3.025926\n",
              "2    3  5.148148"
            ]
          },
          "execution_count": null,
          "metadata": {},
          "output_type": "execute_result"
        }
      ],
      "source": [
        "mean= [weight_loss1.mean(), weight_loss2.mean(), weight_loss3.mean()]\n",
        "mode = ['1', '2', '3']\n",
        "table = list(zip(mode, mean))\n",
        "table = pd.DataFrame(table)\n",
        "table.columns = ['Diet','Mean']\n",
        "table\n"
      ]
    },
    {
      "cell_type": "markdown",
      "metadata": {
        "id": "MZ0kSpkC2guE"
      },
      "source": [
        "Từ bảng trên ta suy ra được rằng chế độ ăn kiêng thứ 3 là tốt nhất để giảm cân."
      ]
    },
    {
      "cell_type": "markdown",
      "metadata": {
        "id": "y3WwHqOinQ41"
      },
      "source": [
        "**Câu hỏi 2 được đặt ra: khả năng giảm cân có phụ thuộc vào giới tính hay không?**\n",
        "\n",
        "- Dựa vào bảng số liệu nhận thấy có 2 giới tính. Vì vậy cần chia dữ liệu thành các nhóm dựa trên 2 giới tính.\n",
        "\n",
        "- Từ các nhóm trên chúng ta sẽ tiến hành phân tích thông kê suy diễn ANOVA một chiều "
      ]
    },
    {
      "cell_type": "code",
      "execution_count": null,
      "metadata": {
        "colab": {
          "background_save": true,
          "base_uri": "https://localhost:8080/",
          "height": 424
        },
        "id": "dkp1JJPsp54_",
        "outputId": "4684a749-07c7-402d-bd31-457e3cb54b64"
      },
      "outputs": [
        {
          "data": {
            "text/html": [
              "\n",
              "  <div id=\"df-4729813c-1cd8-47b2-85ac-85ee1323759b\">\n",
              "    <div class=\"colab-df-container\">\n",
              "      <div>\n",
              "<style scoped>\n",
              "    .dataframe tbody tr th:only-of-type {\n",
              "        vertical-align: middle;\n",
              "    }\n",
              "\n",
              "    .dataframe tbody tr th {\n",
              "        vertical-align: top;\n",
              "    }\n",
              "\n",
              "    .dataframe thead th {\n",
              "        text-align: right;\n",
              "    }\n",
              "</style>\n",
              "<table border=\"1\" class=\"dataframe\">\n",
              "  <thead>\n",
              "    <tr style=\"text-align: right;\">\n",
              "      <th></th>\n",
              "      <th>Person</th>\n",
              "      <th>gender</th>\n",
              "      <th>Age</th>\n",
              "      <th>Height</th>\n",
              "      <th>pre.weight</th>\n",
              "      <th>Diet</th>\n",
              "      <th>weight6weeks</th>\n",
              "      <th>weight loss</th>\n",
              "    </tr>\n",
              "  </thead>\n",
              "  <tbody>\n",
              "    <tr>\n",
              "      <th>0</th>\n",
              "      <td>25</td>\n",
              "      <td></td>\n",
              "      <td>41</td>\n",
              "      <td>171</td>\n",
              "      <td>60</td>\n",
              "      <td>2</td>\n",
              "      <td>60.0</td>\n",
              "      <td>0.0</td>\n",
              "    </tr>\n",
              "    <tr>\n",
              "      <th>1</th>\n",
              "      <td>26</td>\n",
              "      <td></td>\n",
              "      <td>32</td>\n",
              "      <td>174</td>\n",
              "      <td>103</td>\n",
              "      <td>2</td>\n",
              "      <td>103.0</td>\n",
              "      <td>0.0</td>\n",
              "    </tr>\n",
              "    <tr>\n",
              "      <th>2</th>\n",
              "      <td>1</td>\n",
              "      <td>0</td>\n",
              "      <td>22</td>\n",
              "      <td>159</td>\n",
              "      <td>58</td>\n",
              "      <td>1</td>\n",
              "      <td>54.2</td>\n",
              "      <td>3.8</td>\n",
              "    </tr>\n",
              "    <tr>\n",
              "      <th>3</th>\n",
              "      <td>2</td>\n",
              "      <td>0</td>\n",
              "      <td>46</td>\n",
              "      <td>192</td>\n",
              "      <td>60</td>\n",
              "      <td>1</td>\n",
              "      <td>54.0</td>\n",
              "      <td>6.0</td>\n",
              "    </tr>\n",
              "    <tr>\n",
              "      <th>4</th>\n",
              "      <td>3</td>\n",
              "      <td>0</td>\n",
              "      <td>55</td>\n",
              "      <td>170</td>\n",
              "      <td>64</td>\n",
              "      <td>1</td>\n",
              "      <td>63.3</td>\n",
              "      <td>0.7</td>\n",
              "    </tr>\n",
              "    <tr>\n",
              "      <th>...</th>\n",
              "      <td>...</td>\n",
              "      <td>...</td>\n",
              "      <td>...</td>\n",
              "      <td>...</td>\n",
              "      <td>...</td>\n",
              "      <td>...</td>\n",
              "      <td>...</td>\n",
              "      <td>...</td>\n",
              "    </tr>\n",
              "    <tr>\n",
              "      <th>73</th>\n",
              "      <td>74</td>\n",
              "      <td>1</td>\n",
              "      <td>35</td>\n",
              "      <td>183</td>\n",
              "      <td>83</td>\n",
              "      <td>3</td>\n",
              "      <td>80.2</td>\n",
              "      <td>2.8</td>\n",
              "    </tr>\n",
              "    <tr>\n",
              "      <th>74</th>\n",
              "      <td>75</td>\n",
              "      <td>1</td>\n",
              "      <td>49</td>\n",
              "      <td>177</td>\n",
              "      <td>84</td>\n",
              "      <td>3</td>\n",
              "      <td>79.9</td>\n",
              "      <td>4.1</td>\n",
              "    </tr>\n",
              "    <tr>\n",
              "      <th>75</th>\n",
              "      <td>76</td>\n",
              "      <td>1</td>\n",
              "      <td>28</td>\n",
              "      <td>164</td>\n",
              "      <td>85</td>\n",
              "      <td>3</td>\n",
              "      <td>79.7</td>\n",
              "      <td>5.3</td>\n",
              "    </tr>\n",
              "    <tr>\n",
              "      <th>76</th>\n",
              "      <td>77</td>\n",
              "      <td>1</td>\n",
              "      <td>40</td>\n",
              "      <td>167</td>\n",
              "      <td>87</td>\n",
              "      <td>3</td>\n",
              "      <td>77.8</td>\n",
              "      <td>9.2</td>\n",
              "    </tr>\n",
              "    <tr>\n",
              "      <th>77</th>\n",
              "      <td>78</td>\n",
              "      <td>1</td>\n",
              "      <td>51</td>\n",
              "      <td>175</td>\n",
              "      <td>88</td>\n",
              "      <td>3</td>\n",
              "      <td>81.9</td>\n",
              "      <td>6.1</td>\n",
              "    </tr>\n",
              "  </tbody>\n",
              "</table>\n",
              "<p>78 rows × 8 columns</p>\n",
              "</div>\n",
              "      <button class=\"colab-df-convert\" onclick=\"convertToInteractive('df-4729813c-1cd8-47b2-85ac-85ee1323759b')\"\n",
              "              title=\"Convert this dataframe to an interactive table.\"\n",
              "              style=\"display:none;\">\n",
              "        \n",
              "  <svg xmlns=\"http://www.w3.org/2000/svg\" height=\"24px\"viewBox=\"0 0 24 24\"\n",
              "       width=\"24px\">\n",
              "    <path d=\"M0 0h24v24H0V0z\" fill=\"none\"/>\n",
              "    <path d=\"M18.56 5.44l.94 2.06.94-2.06 2.06-.94-2.06-.94-.94-2.06-.94 2.06-2.06.94zm-11 1L8.5 8.5l.94-2.06 2.06-.94-2.06-.94L8.5 2.5l-.94 2.06-2.06.94zm10 10l.94 2.06.94-2.06 2.06-.94-2.06-.94-.94-2.06-.94 2.06-2.06.94z\"/><path d=\"M17.41 7.96l-1.37-1.37c-.4-.4-.92-.59-1.43-.59-.52 0-1.04.2-1.43.59L10.3 9.45l-7.72 7.72c-.78.78-.78 2.05 0 2.83L4 21.41c.39.39.9.59 1.41.59.51 0 1.02-.2 1.41-.59l7.78-7.78 2.81-2.81c.8-.78.8-2.07 0-2.86zM5.41 20L4 18.59l7.72-7.72 1.47 1.35L5.41 20z\"/>\n",
              "  </svg>\n",
              "      </button>\n",
              "      \n",
              "  <style>\n",
              "    .colab-df-container {\n",
              "      display:flex;\n",
              "      flex-wrap:wrap;\n",
              "      gap: 12px;\n",
              "    }\n",
              "\n",
              "    .colab-df-convert {\n",
              "      background-color: #E8F0FE;\n",
              "      border: none;\n",
              "      border-radius: 50%;\n",
              "      cursor: pointer;\n",
              "      display: none;\n",
              "      fill: #1967D2;\n",
              "      height: 32px;\n",
              "      padding: 0 0 0 0;\n",
              "      width: 32px;\n",
              "    }\n",
              "\n",
              "    .colab-df-convert:hover {\n",
              "      background-color: #E2EBFA;\n",
              "      box-shadow: 0px 1px 2px rgba(60, 64, 67, 0.3), 0px 1px 3px 1px rgba(60, 64, 67, 0.15);\n",
              "      fill: #174EA6;\n",
              "    }\n",
              "\n",
              "    [theme=dark] .colab-df-convert {\n",
              "      background-color: #3B4455;\n",
              "      fill: #D2E3FC;\n",
              "    }\n",
              "\n",
              "    [theme=dark] .colab-df-convert:hover {\n",
              "      background-color: #434B5C;\n",
              "      box-shadow: 0px 1px 3px 1px rgba(0, 0, 0, 0.15);\n",
              "      filter: drop-shadow(0px 1px 2px rgba(0, 0, 0, 0.3));\n",
              "      fill: #FFFFFF;\n",
              "    }\n",
              "  </style>\n",
              "\n",
              "      <script>\n",
              "        const buttonEl =\n",
              "          document.querySelector('#df-4729813c-1cd8-47b2-85ac-85ee1323759b button.colab-df-convert');\n",
              "        buttonEl.style.display =\n",
              "          google.colab.kernel.accessAllowed ? 'block' : 'none';\n",
              "\n",
              "        async function convertToInteractive(key) {\n",
              "          const element = document.querySelector('#df-4729813c-1cd8-47b2-85ac-85ee1323759b');\n",
              "          const dataTable =\n",
              "            await google.colab.kernel.invokeFunction('convertToInteractive',\n",
              "                                                     [key], {});\n",
              "          if (!dataTable) return;\n",
              "\n",
              "          const docLinkHtml = 'Like what you see? Visit the ' +\n",
              "            '<a target=\"_blank\" href=https://colab.research.google.com/notebooks/data_table.ipynb>data table notebook</a>'\n",
              "            + ' to learn more about interactive tables.';\n",
              "          element.innerHTML = '';\n",
              "          dataTable['output_type'] = 'display_data';\n",
              "          await google.colab.output.renderOutput(dataTable, element);\n",
              "          const docLink = document.createElement('div');\n",
              "          docLink.innerHTML = docLinkHtml;\n",
              "          element.appendChild(docLink);\n",
              "        }\n",
              "      </script>\n",
              "    </div>\n",
              "  </div>\n",
              "  "
            ],
            "text/plain": [
              "    Person gender  Age  Height  pre.weight  Diet  weight6weeks  weight loss\n",
              "0       25          41     171          60     2          60.0          0.0\n",
              "1       26          32     174         103     2         103.0          0.0\n",
              "2        1      0   22     159          58     1          54.2          3.8\n",
              "3        2      0   46     192          60     1          54.0          6.0\n",
              "4        3      0   55     170          64     1          63.3          0.7\n",
              "..     ...    ...  ...     ...         ...   ...           ...          ...\n",
              "73      74      1   35     183          83     3          80.2          2.8\n",
              "74      75      1   49     177          84     3          79.9          4.1\n",
              "75      76      1   28     164          85     3          79.7          5.3\n",
              "76      77      1   40     167          87     3          77.8          9.2\n",
              "77      78      1   51     175          88     3          81.9          6.1\n",
              "\n",
              "[78 rows x 8 columns]"
            ]
          },
          "execution_count": null,
          "metadata": {},
          "output_type": "execute_result"
        }
      ],
      "source": [
        "# thêm cột weight_loss vào DataFrame ban đầu\n",
        "\n",
        "weight_loss = df[\"pre.weight\"] - df[\"weight6weeks\"]\n",
        "df[\"weight loss\"] = weight_loss.values\n",
        "df"
      ]
    },
    {
      "cell_type": "code",
      "execution_count": null,
      "metadata": {
        "colab": {
          "background_save": true,
          "base_uri": "https://localhost:8080/",
          "height": 424
        },
        "id": "qIthXs36op1d",
        "outputId": "698a45ac-1fa7-440e-c000-b9da650ae34b"
      },
      "outputs": [
        {
          "data": {
            "text/html": [
              "\n",
              "  <div id=\"df-dc2a19e1-1065-4139-8022-1a970f698c23\">\n",
              "    <div class=\"colab-df-container\">\n",
              "      <div>\n",
              "<style scoped>\n",
              "    .dataframe tbody tr th:only-of-type {\n",
              "        vertical-align: middle;\n",
              "    }\n",
              "\n",
              "    .dataframe tbody tr th {\n",
              "        vertical-align: top;\n",
              "    }\n",
              "\n",
              "    .dataframe thead th {\n",
              "        text-align: right;\n",
              "    }\n",
              "</style>\n",
              "<table border=\"1\" class=\"dataframe\">\n",
              "  <thead>\n",
              "    <tr style=\"text-align: right;\">\n",
              "      <th></th>\n",
              "      <th>Nam</th>\n",
              "      <th>Nữ</th>\n",
              "    </tr>\n",
              "  </thead>\n",
              "  <tbody>\n",
              "    <tr>\n",
              "      <th>2</th>\n",
              "      <td>3.8</td>\n",
              "      <td>NaN</td>\n",
              "    </tr>\n",
              "    <tr>\n",
              "      <th>3</th>\n",
              "      <td>6.0</td>\n",
              "      <td>NaN</td>\n",
              "    </tr>\n",
              "    <tr>\n",
              "      <th>4</th>\n",
              "      <td>0.7</td>\n",
              "      <td>NaN</td>\n",
              "    </tr>\n",
              "    <tr>\n",
              "      <th>5</th>\n",
              "      <td>2.9</td>\n",
              "      <td>NaN</td>\n",
              "    </tr>\n",
              "    <tr>\n",
              "      <th>6</th>\n",
              "      <td>2.8</td>\n",
              "      <td>NaN</td>\n",
              "    </tr>\n",
              "    <tr>\n",
              "      <th>...</th>\n",
              "      <td>...</td>\n",
              "      <td>...</td>\n",
              "    </tr>\n",
              "    <tr>\n",
              "      <th>73</th>\n",
              "      <td>NaN</td>\n",
              "      <td>2.8</td>\n",
              "    </tr>\n",
              "    <tr>\n",
              "      <th>74</th>\n",
              "      <td>NaN</td>\n",
              "      <td>4.1</td>\n",
              "    </tr>\n",
              "    <tr>\n",
              "      <th>75</th>\n",
              "      <td>NaN</td>\n",
              "      <td>5.3</td>\n",
              "    </tr>\n",
              "    <tr>\n",
              "      <th>76</th>\n",
              "      <td>NaN</td>\n",
              "      <td>9.2</td>\n",
              "    </tr>\n",
              "    <tr>\n",
              "      <th>77</th>\n",
              "      <td>NaN</td>\n",
              "      <td>6.1</td>\n",
              "    </tr>\n",
              "  </tbody>\n",
              "</table>\n",
              "<p>76 rows × 2 columns</p>\n",
              "</div>\n",
              "      <button class=\"colab-df-convert\" onclick=\"convertToInteractive('df-dc2a19e1-1065-4139-8022-1a970f698c23')\"\n",
              "              title=\"Convert this dataframe to an interactive table.\"\n",
              "              style=\"display:none;\">\n",
              "        \n",
              "  <svg xmlns=\"http://www.w3.org/2000/svg\" height=\"24px\"viewBox=\"0 0 24 24\"\n",
              "       width=\"24px\">\n",
              "    <path d=\"M0 0h24v24H0V0z\" fill=\"none\"/>\n",
              "    <path d=\"M18.56 5.44l.94 2.06.94-2.06 2.06-.94-2.06-.94-.94-2.06-.94 2.06-2.06.94zm-11 1L8.5 8.5l.94-2.06 2.06-.94-2.06-.94L8.5 2.5l-.94 2.06-2.06.94zm10 10l.94 2.06.94-2.06 2.06-.94-2.06-.94-.94-2.06-.94 2.06-2.06.94z\"/><path d=\"M17.41 7.96l-1.37-1.37c-.4-.4-.92-.59-1.43-.59-.52 0-1.04.2-1.43.59L10.3 9.45l-7.72 7.72c-.78.78-.78 2.05 0 2.83L4 21.41c.39.39.9.59 1.41.59.51 0 1.02-.2 1.41-.59l7.78-7.78 2.81-2.81c.8-.78.8-2.07 0-2.86zM5.41 20L4 18.59l7.72-7.72 1.47 1.35L5.41 20z\"/>\n",
              "  </svg>\n",
              "      </button>\n",
              "      \n",
              "  <style>\n",
              "    .colab-df-container {\n",
              "      display:flex;\n",
              "      flex-wrap:wrap;\n",
              "      gap: 12px;\n",
              "    }\n",
              "\n",
              "    .colab-df-convert {\n",
              "      background-color: #E8F0FE;\n",
              "      border: none;\n",
              "      border-radius: 50%;\n",
              "      cursor: pointer;\n",
              "      display: none;\n",
              "      fill: #1967D2;\n",
              "      height: 32px;\n",
              "      padding: 0 0 0 0;\n",
              "      width: 32px;\n",
              "    }\n",
              "\n",
              "    .colab-df-convert:hover {\n",
              "      background-color: #E2EBFA;\n",
              "      box-shadow: 0px 1px 2px rgba(60, 64, 67, 0.3), 0px 1px 3px 1px rgba(60, 64, 67, 0.15);\n",
              "      fill: #174EA6;\n",
              "    }\n",
              "\n",
              "    [theme=dark] .colab-df-convert {\n",
              "      background-color: #3B4455;\n",
              "      fill: #D2E3FC;\n",
              "    }\n",
              "\n",
              "    [theme=dark] .colab-df-convert:hover {\n",
              "      background-color: #434B5C;\n",
              "      box-shadow: 0px 1px 3px 1px rgba(0, 0, 0, 0.15);\n",
              "      filter: drop-shadow(0px 1px 2px rgba(0, 0, 0, 0.3));\n",
              "      fill: #FFFFFF;\n",
              "    }\n",
              "  </style>\n",
              "\n",
              "      <script>\n",
              "        const buttonEl =\n",
              "          document.querySelector('#df-dc2a19e1-1065-4139-8022-1a970f698c23 button.colab-df-convert');\n",
              "        buttonEl.style.display =\n",
              "          google.colab.kernel.accessAllowed ? 'block' : 'none';\n",
              "\n",
              "        async function convertToInteractive(key) {\n",
              "          const element = document.querySelector('#df-dc2a19e1-1065-4139-8022-1a970f698c23');\n",
              "          const dataTable =\n",
              "            await google.colab.kernel.invokeFunction('convertToInteractive',\n",
              "                                                     [key], {});\n",
              "          if (!dataTable) return;\n",
              "\n",
              "          const docLinkHtml = 'Like what you see? Visit the ' +\n",
              "            '<a target=\"_blank\" href=https://colab.research.google.com/notebooks/data_table.ipynb>data table notebook</a>'\n",
              "            + ' to learn more about interactive tables.';\n",
              "          element.innerHTML = '';\n",
              "          dataTable['output_type'] = 'display_data';\n",
              "          await google.colab.output.renderOutput(dataTable, element);\n",
              "          const docLink = document.createElement('div');\n",
              "          docLink.innerHTML = docLinkHtml;\n",
              "          element.appendChild(docLink);\n",
              "        }\n",
              "      </script>\n",
              "    </div>\n",
              "  </div>\n",
              "  "
            ],
            "text/plain": [
              "    Nam   Nữ\n",
              "2   3.8  NaN\n",
              "3   6.0  NaN\n",
              "4   0.7  NaN\n",
              "5   2.9  NaN\n",
              "6   2.8  NaN\n",
              "..  ...  ...\n",
              "73  NaN  2.8\n",
              "74  NaN  4.1\n",
              "75  NaN  5.3\n",
              "76  NaN  9.2\n",
              "77  NaN  6.1\n",
              "\n",
              "[76 rows x 2 columns]"
            ]
          },
          "execution_count": null,
          "metadata": {},
          "output_type": "execute_result"
        }
      ],
      "source": [
        "# tạo dataframe chứa 2 cột nam và nữ dự trên số cân nặng\n",
        "\n",
        "nam = df[\"weight loss\"][df[\"gender\"]== \"0\"]\n",
        "nu = df[\"weight loss\"][df[\"gender\"]== \"1\"]\n",
        "\n",
        "df2 = pd.DataFrame({\"Nam\": nam, \"Nữ\": nu})\n",
        "df2"
      ]
    },
    {
      "cell_type": "code",
      "source": [
        "# Tiến hành xoá NaN của từng nhóm\n",
        "list_1 = [list(df2[\"Nam\"].dropna()),\n",
        "          list(df2[\"Nữ\"].dropna())]"
      ],
      "metadata": {
        "id": "AZaSZhAXRPtY"
      },
      "execution_count": null,
      "outputs": []
    },
    {
      "cell_type": "markdown",
      "metadata": {
        "id": "ycDys5G_0tBc"
      },
      "source": [
        "**Tiến hành kiểm định các nhóm có lấy từ phân phối chuẩn**\n",
        "\n",
        "\b- Xây dựng giả thuyết với mức ý nghĩa 0.05:\n",
        " - Giả thuyết null: \n",
        "\n",
        " $H_0$: Các nhóm được lấy từ phân phối chuẩn\n",
        "\n",
        " - Giả thuyết thay thế:\n",
        "\n",
        " $H_a$: Các nhóm không được lấy từ phân phối chuẩn"
      ]
    },
    {
      "cell_type": "code",
      "execution_count": null,
      "metadata": {
        "colab": {
          "base_uri": "https://localhost:8080/"
        },
        "id": "J2lijFGa0nec",
        "outputId": "66c2865a-d6ba-4f3a-c798-985a8c4aee7d"
      },
      "outputs": [
        {
          "output_type": "stream",
          "name": "stdout",
          "text": [
            "p_value: 1.0\n",
            "Không có bằng chứng cho thấy nhóm nam không tuân theo phân phối chuẩn \n"
          ]
        }
      ],
      "source": [
        "stats, p_value = st.shapiro(df2['Nam'])\n",
        "print(\"p_value:\", p_value)\n",
        "if p_value < 0.05:\n",
        "  print(\"Có bằng chứng cho thấy nhóm nam không tuân theo phân phối chuẩn\" )\n",
        "else:\n",
        "  print(\"Không có bằng chứng cho thấy nhóm nam không tuân theo phân phối chuẩn \")"
      ]
    },
    {
      "cell_type": "code",
      "execution_count": null,
      "metadata": {
        "colab": {
          "base_uri": "https://localhost:8080/"
        },
        "id": "Tum210bhFIcq",
        "outputId": "6c286c0d-c8ae-4f80-c2cc-2cb887a0c83a"
      },
      "outputs": [
        {
          "output_type": "stream",
          "name": "stdout",
          "text": [
            "p_value: 1.0\n",
            "Không có bằng chứng cho thấy nhóm nữ không tuân theo phân phối chuẩn \n"
          ]
        }
      ],
      "source": [
        "stats, p_value = st.shapiro(df2[\"Nữ\"])\n",
        "print(\"p_value:\", p_value)\n",
        "if p_value < 0.05:\n",
        "  print(\"Có bằng chứng cho thấy nhóm nữ không tuân theo phân phối chuẩn\" )\n",
        "else:\n",
        "  print(\"Không có bằng chứng cho thấy nhóm nữ không tuân theo phân phối chuẩn \")"
      ]
    },
    {
      "cell_type": "markdown",
      "metadata": {
        "id": "ONrC-QkSFOq6"
      },
      "source": [
        "**Tiến hành kiểm định phương sai của các nhóm có sự khác biệt**\n",
        "\n",
        "Xây dựng giả thuyết với mức ý nghĩa 0.05:\n",
        " - Giả thuyết null:\n",
        "\n",
        " $H_0$: Các nhóm có phương sai giống nhau \n",
        " - Giả thuyết thay thế:\n",
        " \n",
        " $H_a$: Các nhóm có phương sai không giống nhau "
      ]
    },
    {
      "cell_type": "code",
      "execution_count": null,
      "metadata": {
        "colab": {
          "base_uri": "https://localhost:8080/"
        },
        "id": "MKvEknYTFPrP",
        "outputId": "97995a8b-dbd7-4b1b-b876-fc2dccaa4021"
      },
      "outputs": [
        {
          "output_type": "stream",
          "name": "stdout",
          "text": [
            "p_value: 0.9735995151820288\n",
            "Không có bằng chứng bác bỏ  giả thuyết H0\n"
          ]
        }
      ],
      "source": [
        "stats, p_value = st.bartlett(nam, nu)\n",
        "print(\"p_value:\",p_value)\n",
        "if p_value < 0.05:\n",
        "  print(\"Có bằng chứng bác bỏ  giả thuyết H0\")\n",
        "else:\n",
        "  print(\"Không có bằng chứng bác bỏ  giả thuyết H0\")"
      ]
    },
    {
      "cell_type": "markdown",
      "source": [
        "**Ta tiến hành phân tích ANOVA 1 chiều với dữ liệu vì các nhóm đều độc lập, được lấy từ phân phối chuẩn và giống về phương sai:**\n",
        "\n",
        "Phát biểu giả thuyết:\n",
        " - Giả thuyết null:\n",
        "\n",
        " $H_0$: Khả năng giảm cân không phụ thuộc vào giới tính \n",
        " - Giả thuyết thay thế:\n",
        " \n",
        " $H_a$: Khả năng giảm cân có phụ thuộc vào giới tính "
      ],
      "metadata": {
        "id": "4yxYFKjyU5Od"
      }
    },
    {
      "cell_type": "code",
      "source": [
        "stats, p_value = st.f_oneway(nam, nu)\n",
        "print(\"p_value:\",p_value)\n",
        "if p_value < 0.05:\n",
        "  print(\"Có bằng chứng bác bỏ giả thuyết H0\")\n",
        "else:\n",
        "  print(\"Không có bằng chứng bác bỏ giả thuyết H0\")"
      ],
      "metadata": {
        "colab": {
          "base_uri": "https://localhost:8080/"
        },
        "id": "KcBa59SlVaQk",
        "outputId": "5e59df14-469d-47d2-bca9-4e06528af0ca"
      },
      "execution_count": null,
      "outputs": [
        {
          "output_type": "stream",
          "name": "stdout",
          "text": [
            "p_value: 0.8348273886348012\n",
            "Không có bằng chứng bác bỏ giả thuyết H0\n"
          ]
        }
      ]
    }
  ],
  "metadata": {
    "colab": {
      "name": "đồ án thống kê suy diễn.ipynb",
      "provenance": [],
      "include_colab_link": true
    },
    "kernelspec": {
      "display_name": "Python 3",
      "name": "python3"
    },
    "language_info": {
      "name": "python"
    }
  },
  "nbformat": 4,
  "nbformat_minor": 0
}