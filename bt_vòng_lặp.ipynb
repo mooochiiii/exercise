{
  "nbformat": 4,
  "nbformat_minor": 0,
  "metadata": {
    "colab": {
      "name": "bt vòng lặp.ipynb",
      "provenance": [],
      "authorship_tag": "ABX9TyNjtEKsTiWVVuSkqGUMgn39",
      "include_colab_link": true
    },
    "kernelspec": {
      "name": "python3",
      "display_name": "Python 3"
    },
    "language_info": {
      "name": "python"
    }
  },
  "cells": [
    {
      "cell_type": "markdown",
      "metadata": {
        "id": "view-in-github",
        "colab_type": "text"
      },
      "source": [
        "<a href=\"https://colab.research.google.com/github/mooochiiii/exercise/blob/main/bt_v%C3%B2ng_l%E1%BA%B7p.ipynb\" target=\"_parent\"><img src=\"https://colab.research.google.com/assets/colab-badge.svg\" alt=\"Open In Colab\"/></a>"
      ]
    },
    {
      "cell_type": "code",
      "metadata": {
        "id": "o-VsPjwiAkmm",
        "colab": {
          "base_uri": "https://localhost:8080/"
        },
        "outputId": "50150007-421b-402a-ff70-7c11874550fd"
      },
      "source": [
        "# bài 1: in ra 10 số tự nhiên đầu tiên \n",
        "for i in range(10):\n",
        "    print(i)"
      ],
      "execution_count": 1,
      "outputs": [
        {
          "output_type": "stream",
          "name": "stdout",
          "text": [
            "0\n",
            "1\n",
            "2\n",
            "3\n",
            "4\n",
            "5\n",
            "6\n",
            "7\n",
            "8\n",
            "9\n"
          ]
        }
      ]
    },
    {
      "cell_type": "code",
      "metadata": {
        "id": "0Egl_8PSBHiA",
        "colab": {
          "base_uri": "https://localhost:8080/"
        },
        "outputId": "75a8246a-2756-4918-e727-e8369a6e3456"
      },
      "source": [
        "#bài 2: tạo tam giác số \n",
        "n = int(input('nhập n:'))\n",
        "for i in range(1, n + 1, 1):\n",
        "    for j in range(n - i + 1, 0, -1):\n",
        "        print(j,end= ' ')\n",
        "    print()"
      ],
      "execution_count": null,
      "outputs": [
        {
          "output_type": "stream",
          "name": "stdout",
          "text": [
            "nhập n:5\n",
            "5 4 3 2 1 \n",
            "4 3 2 1 \n",
            "3 2 1 \n",
            "2 1 \n",
            "1 \n"
          ]
        }
      ]
    },
    {
      "cell_type": "code",
      "metadata": {
        "id": "6MNflZ8pFR5T",
        "colab": {
          "base_uri": "https://localhost:8080/"
        },
        "outputId": "69acbc4b-6bae-4dd5-a645-d789955f36b7"
      },
      "source": [
        "# bài 3: tính tổng từ 1 đến 1 số nhất định\n",
        "n = int(input('nhập n:'))\n",
        "sum = 0\n",
        "for i in range(1, n + 1, 1):\n",
        "    sum = sum + i\n",
        "print(sum)"
      ],
      "execution_count": 5,
      "outputs": [
        {
          "output_type": "stream",
          "name": "stdout",
          "text": [
            "nhập n:12\n",
            "78\n"
          ]
        }
      ]
    },
    {
      "cell_type": "code",
      "metadata": {
        "id": "ndfhUOQgRB7_",
        "colab": {
          "base_uri": "https://localhost:8080/"
        },
        "outputId": "35a12b93-af43-48fb-ee14-8ad818d7bf28"
      },
      "source": [
        "# bài 4: tạo bảng số nhân \n",
        "n = int(input('nhập n:'))\n",
        "num = float(input('nhập số cần lập bảng tính nhân: '))\n",
        "count = 0 \n",
        "for i in range(1, n + 1, 1):\n",
        "    count = num * i\n",
        "    print(num, '*', i, '=', count)"
      ],
      "execution_count": 7,
      "outputs": [
        {
          "output_type": "stream",
          "name": "stdout",
          "text": [
            "nhập n:10\n",
            "nhập số cần lập bảng tính nhân: 2\n",
            "2.0 * 1 = 2.0\n",
            "2.0 * 2 = 4.0\n",
            "2.0 * 3 = 6.0\n",
            "2.0 * 4 = 8.0\n",
            "2.0 * 5 = 10.0\n",
            "2.0 * 6 = 12.0\n",
            "2.0 * 7 = 14.0\n",
            "2.0 * 8 = 16.0\n",
            "2.0 * 9 = 18.0\n",
            "2.0 * 10 = 20.0\n"
          ]
        }
      ]
    },
    {
      "cell_type": "code",
      "metadata": {
        "id": "PDCr-r98rli3",
        "colab": {
          "base_uri": "https://localhost:8080/"
        },
        "outputId": "eddd6360-4267-4629-97c9-a704f83ff3c0"
      },
      "source": [
        "# bài 5: hiển thị trong danh sách\n",
        "for i in [1,2,3,4,5]:\n",
        "    print(i)"
      ],
      "execution_count": 8,
      "outputs": [
        {
          "output_type": "stream",
          "name": "stdout",
          "text": [
            "1\n",
            "2\n",
            "3\n",
            "4\n",
            "5\n"
          ]
        }
      ]
    },
    {
      "cell_type": "code",
      "metadata": {
        "id": "5coxSag_q7E_",
        "colab": {
          "base_uri": "https://localhost:8080/"
        },
        "outputId": "e9047b99-2ab4-40af-e37d-ed0ed41e8f9c"
      },
      "source": [
        "# bài 6: đếm số lượng phần tử được nhập vào \n",
        "n = int(input('nhập n:'))\n",
        "sum = 0 \n",
        "while n != 0:\n",
        "    n = int(n / 10)\n",
        "    sum = sum + 1\n",
        "print(sum)"
      ],
      "execution_count": 9,
      "outputs": [
        {
          "output_type": "stream",
          "name": "stdout",
          "text": [
            "nhập n:244\n",
            "3\n"
          ]
        }
      ]
    },
    {
      "cell_type": "code",
      "metadata": {
        "colab": {
          "base_uri": "https://localhost:8080/"
        },
        "id": "mU7DTTyV2_GP",
        "outputId": "af7dfff0-2561-4a37-fd53-61f2be87b2ea"
      },
      "source": [
        "# bài 7: in danh sách theo thứ tự ngược\n",
        "lst = [1,2,10.2,5]\n",
        "for i in range(len(lst)-1, -1, -1):\n",
        "    print(lst[i])"
      ],
      "execution_count": 10,
      "outputs": [
        {
          "output_type": "stream",
          "name": "stdout",
          "text": [
            "5\n",
            "10.2\n",
            "2\n",
            "1\n"
          ]
        }
      ]
    },
    {
      "cell_type": "code",
      "metadata": {
        "id": "qUncQ1pRXP3A",
        "colab": {
          "base_uri": "https://localhost:8080/"
        },
        "outputId": "9652af2c-7226-48fe-b543-0d84f65978b9"
      },
      "source": [
        "# bài 8: hiển thị từ -10 đến -1\n",
        "for i in range(-10, 0, 1):\n",
        "    print(i)"
      ],
      "execution_count": 11,
      "outputs": [
        {
          "output_type": "stream",
          "name": "stdout",
          "text": [
            "-10\n",
            "-9\n",
            "-8\n",
            "-7\n",
            "-6\n",
            "-5\n",
            "-4\n",
            "-3\n",
            "-2\n",
            "-1\n"
          ]
        }
      ]
    },
    {
      "cell_type": "code",
      "metadata": {
        "id": "JwI9mqSnXyWn",
        "colab": {
          "base_uri": "https://localhost:8080/"
        },
        "outputId": "f79780ac-d989-415e-b1d9-2c96d65a7e20"
      },
      "source": [
        "# bài 9: vong lặp + else\n",
        "for i in range(8):\n",
        "    print(i)\n",
        "else:\n",
        "    print('done')"
      ],
      "execution_count": 12,
      "outputs": [
        {
          "output_type": "stream",
          "name": "stdout",
          "text": [
            "0\n",
            "1\n",
            "2\n",
            "3\n",
            "4\n",
            "5\n",
            "6\n",
            "7\n",
            "done\n"
          ]
        }
      ]
    },
    {
      "cell_type": "code",
      "metadata": {
        "id": "sGIFRa9pYcqW",
        "colab": {
          "base_uri": "https://localhost:8080/"
        },
        "outputId": "fd18f3ad-d718-4aa9-bf16-e8089996036a"
      },
      "source": [
        "# bài 10: số nguyên tố \n",
        "n = int(input('nhập n: '))\n",
        "for i in range(2, n, 1):\n",
        "    if (n % i == 0) and (n != 2):\n",
        "        print('không phải số nguyên tố')\n",
        "        break\n",
        "    else:\n",
        "        print('là số nguyên tố')\n",
        "        break\n",
        "if n == 2:\n",
        "    print('là số nguyên tố')"
      ],
      "execution_count": 13,
      "outputs": [
        {
          "output_type": "stream",
          "name": "stdout",
          "text": [
            "nhập n: 7\n",
            "là số nguyên tố\n"
          ]
        }
      ]
    },
    {
      "cell_type": "code",
      "metadata": {
        "id": "9sbVqaE1Yfbi",
        "colab": {
          "base_uri": "https://localhost:8080/"
        },
        "outputId": "b8d0390c-a5b1-4ca8-d9ff-9e213e41e072"
      },
      "source": [
        "# bài 11: số fibonacci\n",
        "n = int(input('nhập số lượng số Fibonacci: '))\n",
        "i1 = 0\n",
        "i2 = 1\n",
        "print(i1)\n",
        "print(i2)\n",
        "for i in range(1, n - 1, 1):\n",
        "    fbc = i1 + i2\n",
        "    i1 = i2\n",
        "    i2 = fbc\n",
        "    print(fbc)"
      ],
      "execution_count": 14,
      "outputs": [
        {
          "output_type": "stream",
          "name": "stdout",
          "text": [
            "nhập số lượng số Fibonacci: 12\n",
            "0\n",
            "1\n",
            "1\n",
            "2\n",
            "3\n",
            "5\n",
            "8\n",
            "13\n",
            "21\n",
            "34\n",
            "55\n",
            "89\n"
          ]
        }
      ]
    },
    {
      "cell_type": "code",
      "metadata": {
        "id": "64XnM0RU2ufA",
        "colab": {
          "base_uri": "https://localhost:8080/"
        },
        "outputId": "f58491f2-555f-495c-e67e-50d9a65e18bf"
      },
      "source": [
        "# bài 12: tìm thừa số \n",
        "n = int(input('nhập n: '))\n",
        "num = 1\n",
        "for i in range(1, n + 1, 1):\n",
        "    if (n % i ==0) and (i != num):\n",
        "        print(i)\n",
        "    while n % i == 0:\n",
        "        num = n / i\n",
        "        n = num\n",
        "        print(num)\n",
        "        i += 1\n",
        "    i += 1"
      ],
      "execution_count": 16,
      "outputs": [
        {
          "output_type": "stream",
          "name": "stdout",
          "text": [
            "nhập n: 6\n",
            "6.0\n",
            "3.0\n",
            "1.0\n"
          ]
        }
      ]
    },
    {
      "cell_type": "code",
      "metadata": {
        "id": "VDM1PSII67Zy",
        "colab": {
          "base_uri": "https://localhost:8080/"
        },
        "outputId": "a517417f-f226-45d6-abf6-f127a6b8c94e"
      },
      "source": [
        "# bài 13: đảo ngược 1 số nguyên cho trước\n",
        "n = int(input('Nhập n: '))\n",
        "a = 0\n",
        "while (n > 0):\n",
        "    x = n % 10\n",
        "    a = (a * 10) + x \n",
        "    n = n // 10\n",
        "print(\"Số sau khi đổi:\", a)"
      ],
      "execution_count": 19,
      "outputs": [
        {
          "output_type": "stream",
          "name": "stdout",
          "text": [
            "Nhập n: 2345\n",
            "Số sau khi đổi: 5432\n"
          ]
        }
      ]
    },
    {
      "cell_type": "code",
      "metadata": {
        "id": "h_CgU0Rl_ynk",
        "colab": {
          "base_uri": "https://localhost:8080/"
        },
        "outputId": "0ad9a8d2-14dd-4715-8269-5fefac92bd44"
      },
      "source": [
        "# bài 14: hiện thị các vị trí lẻ\n",
        "n = int(input('nhập n: '))\n",
        "for i in range(1, n+1, 2):\n",
        "    print(i)"
      ],
      "execution_count": 20,
      "outputs": [
        {
          "output_type": "stream",
          "name": "stdout",
          "text": [
            "nhập n: 7\n",
            "1\n",
            "3\n",
            "5\n",
            "7\n"
          ]
        }
      ]
    },
    {
      "cell_type": "code",
      "metadata": {
        "id": "8lsxWheh_51h",
        "colab": {
          "base_uri": "https://localhost:8080/"
        },
        "outputId": "e15899bd-1579-4dbd-eeac-83be9506be27"
      },
      "source": [
        "# bài 15: \n",
        "n = int(input('nhap n: '))\n",
        "for i in range(1,n+1):\n",
        "  x = i*i*i\n",
        "print(x)"
      ],
      "execution_count": 23,
      "outputs": [
        {
          "output_type": "stream",
          "name": "stdout",
          "text": [
            "nhap n: 4\n",
            "64\n"
          ]
        }
      ]
    }
  ]
}