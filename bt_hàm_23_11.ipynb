{
  "nbformat": 4,
  "nbformat_minor": 0,
  "metadata": {
    "colab": {
      "name": "bt hàm 23/11.ipynb",
      "provenance": [],
      "collapsed_sections": [],
      "authorship_tag": "ABX9TyN2OBtg2DfAg0hXfXEzZvX/",
      "include_colab_link": true
    },
    "kernelspec": {
      "name": "python3",
      "display_name": "Python 3"
    },
    "language_info": {
      "name": "python"
    }
  },
  "cells": [
    {
      "cell_type": "markdown",
      "metadata": {
        "id": "view-in-github",
        "colab_type": "text"
      },
      "source": [
        "<a href=\"https://colab.research.google.com/github/mooochiiii/exercise/blob/main/bt_h%C3%A0m_23_11.ipynb\" target=\"_parent\"><img src=\"https://colab.research.google.com/assets/colab-badge.svg\" alt=\"Open In Colab\"/></a>"
      ]
    },
    {
      "cell_type": "code",
      "metadata": {
        "colab": {
          "base_uri": "https://localhost:8080/"
        },
        "id": "0YRrSV-_kBON",
        "outputId": "308fd4ab-21a4-480b-e40f-761b839672b3"
      },
      "source": [
        "# bài 1: xuất ra màn hình câu \"lập trình java 2021\"\n",
        "def java():\n",
        "    print('lập trình java 2021')\n",
        "def main():\n",
        "    java()\n",
        "if __name__==\"__main__\":\n",
        "    main()"
      ],
      "execution_count": null,
      "outputs": [
        {
          "output_type": "stream",
          "name": "stdout",
          "text": [
            "lập trình java 2021\n"
          ]
        }
      ]
    },
    {
      "cell_type": "code",
      "metadata": {
        "colab": {
          "base_uri": "https://localhost:8080/"
        },
        "id": "Nu2N7KOEmwl5",
        "outputId": "cd5c1cf7-9557-4c00-ff55-e26d47f3cf5d"
      },
      "source": [
        "# bài 2: \n",
        "def str1(string1):\n",
        "    print(string1)\n",
        "def main():\n",
        "    str1(\"hello\")\n",
        "if __name__== \"__main__\":\n",
        "    main()"
      ],
      "execution_count": null,
      "outputs": [
        {
          "output_type": "stream",
          "name": "stdout",
          "text": [
            "hello\n"
          ]
        }
      ]
    },
    {
      "cell_type": "code",
      "metadata": {
        "colab": {
          "base_uri": "https://localhost:8080/"
        },
        "id": "YX4qnywUnoan",
        "outputId": "8069eba6-dedb-41bd-d7f3-39392df6c740"
      },
      "source": [
        "# bài 3 nhập số nguyên dương n\n",
        "def str1(string,n):\n",
        "    for i in range(n):\n",
        "        print(string)\n",
        "def main():\n",
        "    n = int(input('nhập số nguyên dương: '))\n",
        "    while (n<0):\n",
        "        print('nhập sai nhập lại')\n",
        "        n = int(input('nhập lại số nguyên dương: '))\n",
        "    str1(\"hello\", n)\n",
        "if __name__== \"__main__\":\n",
        "    main()"
      ],
      "execution_count": null,
      "outputs": [
        {
          "output_type": "stream",
          "name": "stdout",
          "text": [
            "nhập số nguyên dương: -8\n",
            "nhập sai nhập lại\n",
            "nhập lại số nguyên dương: 3\n",
            "hello\n",
            "hello\n",
            "hello\n"
          ]
        }
      ]
    },
    {
      "cell_type": "code",
      "metadata": {
        "colab": {
          "base_uri": "https://localhost:8080/"
        },
        "id": "h3lCd2Q3pYQF",
        "outputId": "32b93b70-c855-44cf-9865-4da0ca87dccb"
      },
      "source": [
        "# bài 4: \n",
        "def giai_phuong_trinh(a,b):\n",
        "    x = float((-b) / a)\n",
        "    print (a,'x +',b, '= 0', '\\n', 'x =', x)\n",
        "    return x\n",
        "def main():\n",
        "    global x \n",
        "    a = float(input('nhập a: '))\n",
        "    b = float(input('nhập b: '))\n",
        "    giai_phuong_trinh(a,b)\n",
        "if __name__== \"__main__\":\n",
        "    main()"
      ],
      "execution_count": null,
      "outputs": [
        {
          "output_type": "stream",
          "name": "stdout",
          "text": [
            "nhập a: 2\n",
            "nhập b: 4\n",
            "2.0 x + 4.0 = 0 \n",
            " x = -2.0\n"
          ]
        }
      ]
    },
    {
      "cell_type": "code",
      "metadata": {
        "colab": {
          "base_uri": "https://localhost:8080/"
        },
        "id": "k1lwplkewyXV",
        "outputId": "99bb79ed-5f12-4e1d-8687-e239c7f7540d"
      },
      "source": [
        "# bài 5: phương trình bậc 2\n",
        "import math\n",
        "def phuong_trinh_bac2(a,b,c):\n",
        "    if (a == 0) and (b == 0):\n",
        "        print (\"phương trình vô nghiệm\")\n",
        "    elif (a == 0) or (b ==0):\n",
        "        print (\"phương trình có 1 nghiệm: x = \", (-c / b))\n",
        "        return\n",
        "    delta = b**2 - 4*a*c\n",
        "    if (delta > 0):\n",
        "        x1 = float((-b + math.sqrt(delta)) / (2 * a))\n",
        "        x2 = float((-b - math.sqrt(delta)) / (2 * a))\n",
        "        print (\"Phương trình có 2 nghiệm: x1 = \", x1, \" và x2 = \", x2)\n",
        "    elif (delta == 0):\n",
        "        x1 = (-b / (2 * a))\n",
        "        print(\"Phương trình có nghiệm kép: x1 = x2 = \", x1)\n",
        "    else:\n",
        "        print(\"Phương trình vô nghiệm!\")\n",
        "def main():\n",
        "    global x \n",
        "    a = float(input('nhập a: '))\n",
        "    b = float(input('nhập b: '))\n",
        "    c = float(input('nhập c: '))\n",
        "    phuong_trinh_bac2(a,b,c)\n",
        "if __name__== \"__main__\":\n",
        "    main()"
      ],
      "execution_count": null,
      "outputs": [
        {
          "output_type": "stream",
          "name": "stdout",
          "text": [
            "nhập a: 2\n",
            "nhập b: 8\n",
            "nhập c: 2\n",
            "Phương trình có 2 nghiệm: x1 =  -0.2679491924311228  và x2 =  -3.732050807568877\n"
          ]
        }
      ]
    },
    {
      "cell_type": "code",
      "metadata": {
        "colab": {
          "base_uri": "https://localhost:8080/"
        },
        "id": "7CB72pc74UwQ",
        "outputId": "03fd7047-4925-48f4-f0f8-4a6871d3aca2"
      },
      "source": [
        "# bài 6: chọn giữa bài 4 và 5\n",
        "# phương trình bậc 2\n",
        "import math\n",
        "def phuong_trinh_bac2(a,b,c):\n",
        "    if (a == 0) and (b == 0):\n",
        "        print (\"phương trình vô nghiệm\")\n",
        "    elif (a == 0) or (b ==0):\n",
        "        print (\"phương trình có 1 nghiệm: x = \", (-c / b))\n",
        "        return\n",
        "    delta = b**2 - 4*a*c\n",
        "    if (delta > 0):\n",
        "        x1 = float((-b + math.sqrt(delta)) / (2 * a))\n",
        "        x2 = float((-b - math.sqrt(delta)) / (2 * a))\n",
        "        print (\"Phương trình có 2 nghiệm: x1 = \", x1, \" và x2 = \", x2)\n",
        "    elif (delta == 0):\n",
        "        x1 = (-b / (2 * a))\n",
        "        print(\"Phương trình có nghiệm kép: x1 = x2 = \", x1)\n",
        "    else:\n",
        "        print(\"Phương trình vô nghiệm!\")\n",
        "# phương trình bậc 1\n",
        "def phuong_trinh(a,b):\n",
        "    x = float((-b) / a)\n",
        "    print (a,'x +',b, '= 0', '\\n', 'x =',x)\n",
        "    return x\n",
        "\n",
        "def main():\n",
        "    print('giải phương trình bậc 1: gõ 1')\n",
        "    print('giải phương trình bậc 2: gõ 2')\n",
        "    num = int(input('nhập num:'))\n",
        "    while (num != 1) and (num != 2):\n",
        "        print('nhập sai')\n",
        "        num = int(input('nhập lại: 1 hoặc 2: '))\n",
        "    global x \n",
        "    if (num == 1):\n",
        "        a = float(input('nhập a: '))\n",
        "        b = float(input('nhập b: '))\n",
        "        phuong_trinh(a,b)\n",
        "    elif (num == 2):\n",
        "        a = float(input('nhập a: '))\n",
        "        b = float(input('nhập b: '))\n",
        "        c = float(input('nhập c: '))\n",
        "        phuong_trinh_bac2(a,b,c)\n",
        "if __name__== \"__main__\":\n",
        "    main()"
      ],
      "execution_count": null,
      "outputs": [
        {
          "output_type": "stream",
          "name": "stdout",
          "text": [
            "giải phương trình bậc 1: gõ 1\n",
            "giải phương trình bậc 2: gõ 2\n",
            "nhập num:5\n",
            "nhập sai\n",
            "nhập lại: 1 hoặc 2: 1\n",
            "nhập a: 2\n",
            "nhập b: 4\n",
            "2.0 x + 4.0 = 0 \n",
            " x = -2.0\n"
          ]
        }
      ]
    },
    {
      "cell_type": "code",
      "metadata": {
        "id": "cQ6Lx0db5LZZ",
        "colab": {
          "base_uri": "https://localhost:8080/"
        },
        "outputId": "5b6fd76b-b5b5-48c4-9762-e7bc2c06ff0c"
      },
      "source": [
        "# bài 7:\n",
        "\n",
        "# bài 5: phương trình bậc 2\n",
        "import math\n",
        "def phuong_trinh_bac2(a,b,c):\n",
        "    if (a == 0) and (b == 0):\n",
        "        print (\"phương trình vô nghiệm\")\n",
        "    elif (a == 0) or (b ==0):\n",
        "        print (\"phương trình có 1 nghiệm: x = \", (-c / b))\n",
        "        return\n",
        "    delta = b**2 - 4*a*c\n",
        "    if (delta > 0):\n",
        "        x1 = float((-b + math.sqrt(delta)) / (2 * a))\n",
        "        x2 = float((-b - math.sqrt(delta)) / (2 * a))\n",
        "        print (\"Phương trình có 2 nghiệm: x1 = \", x1, \" và x2 = \", x2)\n",
        "    elif (delta == 0):\n",
        "        x1 = (-b / (2 * a))\n",
        "        print(\"Phương trình có nghiệm kép: x1 = x2 = \", x1)\n",
        "    else:\n",
        "        print(\"Phương trình vô nghiệm!\")\n",
        "# bài 4: \n",
        "def phuong_trinh(a,b):\n",
        "    x = float((-b) / a)\n",
        "    print (a,'x +',b, '= 0', '\\n', 'x =',x)\n",
        "    return x\n",
        "\n",
        "def main():\n",
        "    count = 0\n",
        "    while (count >= 0):\n",
        "        print('giải phương trình bậc 1: gõ 1')\n",
        "        print('giải phương trình bậc 2: gõ 2')\n",
        "        num = int(input('nhập num:'))\n",
        "        while (num != 1) and (num != 2):\n",
        "            print('nhập sai')\n",
        "            num = int(input('nhập lại: 1 hoặc 2: '))\n",
        "        global x \n",
        "        if (num == 1):\n",
        "            a = float(input('nhập a: '))\n",
        "            b = float(input('nhập b: '))\n",
        "            phuong_trinh(a,b)\n",
        "        elif (num == 2):\n",
        "            a = float(input('nhập a: '))\n",
        "            b = float(input('nhập b: '))\n",
        "            c = float(input('nhập c: '))\n",
        "            phuong_trinh_bac2(a,b,c)\n",
        "        print('muốn tiếp tục hay không')\n",
        "        print('tiếp tục gõ 1, nếu không gõ bất kì số2 gì')\n",
        "        so = int(input('tiếp tục hay không: '))\n",
        "        if (so == 1):\n",
        "            count += 1\n",
        "        else:\n",
        "            break\n",
        "    \n",
        "if __name__== \"__main__\":\n",
        "    main()"
      ],
      "execution_count": 3,
      "outputs": [
        {
          "name": "stdout",
          "output_type": "stream",
          "text": [
            "giải phương trình bậc 1: gõ 1\n",
            "giải phương trình bậc 2: gõ 2\n",
            "nhập num:2\n",
            "nhập a: 0\n",
            "nhập b: 3\n",
            "nhập c: 4\n",
            "phương trình có 1 nghiệm: x =  -1.3333333333333333\n",
            "muốn tiếp tục hay không\n",
            "tiếp tục gõ 1, nếu không gõ bất kì số2 gì\n",
            "tiếp tục hay không: 1\n",
            "giải phương trình bậc 1: gõ 1\n",
            "giải phương trình bậc 2: gõ 2\n",
            "nhập num:1\n",
            "nhập a: 1\n",
            "nhập b: 2\n",
            "1.0 x + 2.0 = 0 \n",
            " x = -2.0\n",
            "muốn tiếp tục hay không\n",
            "tiếp tục gõ 1, nếu không gõ bất kì số2 gì\n",
            "tiếp tục hay không: 2\n"
          ]
        }
      ]
    },
    {
      "cell_type": "code",
      "metadata": {
        "id": "KktD_ccF53dB"
      },
      "source": [
        ""
      ],
      "execution_count": null,
      "outputs": []
    }
  ]
}