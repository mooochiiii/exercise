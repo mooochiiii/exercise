{
  "nbformat": 4,
  "nbformat_minor": 0,
  "metadata": {
    "colab": {
      "provenance": [],
      "mount_file_id": "1Uyu7UccwaOk1i-qxYqG3_aCu2oA4huhf",
      "authorship_tag": "ABX9TyM0Eao5VMFjYUYacxu6LJ9A",
      "include_colab_link": true
    },
    "kernelspec": {
      "name": "python3",
      "display_name": "Python 3"
    },
    "language_info": {
      "name": "python"
    }
  },
  "cells": [
    {
      "cell_type": "markdown",
      "metadata": {
        "id": "view-in-github",
        "colab_type": "text"
      },
      "source": [
        "<a href=\"https://colab.research.google.com/github/mooochiiii/exercise/blob/main/B%C3%A0i_t%E1%BA%ADp_v%E1%BB%81_nh%C3%A0_3_S%E1%BB%AD_d%E1%BB%A5ng_l%E1%BB%9Bp_LinearRegression.ipynb\" target=\"_parent\"><img src=\"https://colab.research.google.com/assets/colab-badge.svg\" alt=\"Open In Colab\"/></a>"
      ]
    },
    {
      "cell_type": "code",
      "execution_count": 1,
      "metadata": {
        "id": "Q3SzZSqxgwlW"
      },
      "outputs": [],
      "source": [
        "import os\n",
        "import numpy as np\n",
        "from sklearn.preprocessing import MinMaxScaler\n",
        "from sklearn.linear_model import LinearRegression"
      ]
    },
    {
      "cell_type": "code",
      "source": [
        "D = np.loadtxt(os.path.join(\"/content/drive/MyDrive\", \"ex1data2.txt\"), delimiter=\",\")\n",
        "print('Kích thước của tập dữ liệu: ', D.shape)"
      ],
      "metadata": {
        "colab": {
          "base_uri": "https://localhost:8080/"
        },
        "id": "39ajnnlCg1Jt",
        "outputId": "7de57e20-3fe9-4777-8a73-90c630bc4138"
      },
      "execution_count": 3,
      "outputs": [
        {
          "output_type": "stream",
          "name": "stdout",
          "text": [
            "Kích thước của tập dữ liệu:  (47, 3)\n"
          ]
        }
      ]
    },
    {
      "cell_type": "code",
      "source": [
        "print('Thực hiện MinMaxScaler')\n",
        "#Khởi tạo bộ điều chỉnh dữ liệu\n",
        "scaler = MinMaxScaler()"
      ],
      "metadata": {
        "colab": {
          "base_uri": "https://localhost:8080/"
        },
        "id": "cBc_hrFbg_Tx",
        "outputId": "7d9d7c75-fe39-4389-e488-d522a4c65060"
      },
      "execution_count": 4,
      "outputs": [
        {
          "output_type": "stream",
          "name": "stdout",
          "text": [
            "Thực hiện MinMaxScaler\n"
          ]
        }
      ]
    },
    {
      "cell_type": "code",
      "source": [
        "#Phải thực hiện thao tác fit(data) trước khi điều chỉnh dữ liệu\n",
        "scaler.fit(D)"
      ],
      "metadata": {
        "colab": {
          "base_uri": "https://localhost:8080/"
        },
        "id": "fILostc2hHnX",
        "outputId": "a39e5207-e858-49d6-f374-552efcf9d8a2"
      },
      "execution_count": 5,
      "outputs": [
        {
          "output_type": "execute_result",
          "data": {
            "text/plain": [
              "MinMaxScaler()"
            ]
          },
          "metadata": {},
          "execution_count": 5
        }
      ]
    },
    {
      "cell_type": "code",
      "source": [
        "#Thực hiện điều chỉnh dữ liệu\n",
        "D = scaler.transform(D)\n",
        "print('Lấy ra tập dữ liệu X, y')\n",
        "X, y = D[:,:-1], D[:, -1]\n",
        "print('Kích thước tập X: ', X.shape)\n",
        "print('Kích thước vector y: ', y.shape)\n",
        "print('Huấn luyện mô hình LinearRegression')"
      ],
      "metadata": {
        "colab": {
          "base_uri": "https://localhost:8080/"
        },
        "id": "JFMbc0cVhNTd",
        "outputId": "3545caab-b700-4dcb-d1bb-dab31d685ee7"
      },
      "execution_count": 6,
      "outputs": [
        {
          "output_type": "stream",
          "name": "stdout",
          "text": [
            "Lấy ra tập dữ liệu X, y\n",
            "Kích thước tập X:  (47, 2)\n",
            "Kích thước vector y:  (47,)\n",
            "Huấn luyện mô hình LinearRegression\n"
          ]
        }
      ]
    },
    {
      "cell_type": "code",
      "source": [
        "#Khởi tạo mô hình\n",
        "model = LinearRegression()"
      ],
      "metadata": {
        "id": "MeSHpjIrhQlH"
      },
      "execution_count": 7,
      "outputs": []
    },
    {
      "cell_type": "code",
      "source": [
        "#Huấn luyện mô hình với tập dữ liệu X, y\n",
        "model.fit(X,y)"
      ],
      "metadata": {
        "colab": {
          "base_uri": "https://localhost:8080/"
        },
        "id": "x2exRHeUhUd1",
        "outputId": "ae163e53-5cd5-4ccb-d378-a417af5dbf6c"
      },
      "execution_count": 8,
      "outputs": [
        {
          "output_type": "execute_result",
          "data": {
            "text/plain": [
              "LinearRegression()"
            ]
          },
          "metadata": {},
          "execution_count": 8
        }
      ]
    },
    {
      "cell_type": "code",
      "source": [
        "#Bộ trọng số tối ưu:\n",
        "print('\\t\\tw optimal: ', model.coef_)"
      ],
      "metadata": {
        "id": "c2lm3RtUhYtv",
        "outputId": "fbf9405a-ed91-4c0f-ddf7-4205ddc52d1b",
        "colab": {
          "base_uri": "https://localhost:8080/"
        }
      },
      "execution_count": 9,
      "outputs": [
        {
          "output_type": "stream",
          "name": "stdout",
          "text": [
            "\t\tw optimal:  [ 0.95241114 -0.06594731]\n"
          ]
        }
      ]
    }
  ]
}