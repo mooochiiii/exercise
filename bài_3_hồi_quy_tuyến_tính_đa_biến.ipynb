{
  "nbformat": 4,
  "nbformat_minor": 0,
  "metadata": {
    "colab": {
      "provenance": [],
      "mount_file_id": "12uHkicLaMf56uC9Ytxx0OOVynRUrNsZz",
      "authorship_tag": "ABX9TyO3KRfRgpT7S4aowxaWrL4X",
      "include_colab_link": true
    },
    "kernelspec": {
      "name": "python3",
      "display_name": "Python 3"
    },
    "language_info": {
      "name": "python"
    }
  },
  "cells": [
    {
      "cell_type": "markdown",
      "metadata": {
        "id": "view-in-github",
        "colab_type": "text"
      },
      "source": [
        "<a href=\"https://colab.research.google.com/github/mooochiiii/exercise/blob/main/b%C3%A0i_3_h%E1%BB%93i_quy_tuy%E1%BA%BFn_t%C3%ADnh_%C4%91a_bi%E1%BA%BFn.ipynb\" target=\"_parent\"><img src=\"https://colab.research.google.com/assets/colab-badge.svg\" alt=\"Open In Colab\"/></a>"
      ]
    },
    {
      "cell_type": "code",
      "execution_count": 1,
      "metadata": {
        "id": "pSDtpAec-B1U"
      },
      "outputs": [],
      "source": [
        "import os\n",
        "import numpy as np\n",
        "from matplotlib import pyplot as plt"
      ]
    },
    {
      "cell_type": "code",
      "source": [
        "def readData(folder, filename):\n",
        "    data = np.loadtxt(os.path.join(folder, filename), delimiter=',')\n",
        "    print('Original data shape', data.shape)\n",
        "    X = data[:,:-1]\n",
        "    print('X shape: ', X.shape)\n",
        "    y = data[:,-1]\n",
        "    print('y shape: ', y.shape)\n",
        "    m = X.shape[0]\n",
        "    print('Number of training examples m = ', m)\n",
        "    x0 = np.ones((m,1))\n",
        "    X = np.hstack([x0, X])\n",
        "    print('Modified X shape: ', X.shape)\n",
        "    y = np.reshape(y, (m,1))\n",
        "    print('Modified y shape: ', y.shape)\n",
        "    return X, y"
      ],
      "metadata": {
        "id": "bFwCn8qE-QPv"
      },
      "execution_count": 2,
      "outputs": []
    },
    {
      "cell_type": "code",
      "source": [
        "def featureVectorScaling(data):\n",
        "    avg = np.mean(data)\n",
        "    sln = data.max()\n",
        "    snn = data.min()\n",
        "    data_scl = (data - avg)/(sln - snn)\n",
        "    print(data_scl[1])\n",
        "    return data_scl"
      ],
      "metadata": {
        "id": "MF7mWG7--WmC"
      },
      "execution_count": 3,
      "outputs": []
    },
    {
      "cell_type": "code",
      "source": [
        "def scaleData(X, y):\n",
        "    X_scl = X[:, 0]\n",
        "    for i in range(1, X.shape[1]):\n",
        "        scl = featureVectorScaling(X[:, i])\n",
        "        X_scl = np.column_stack([X_scl, scl])\n",
        "    y_scl = featureVectorScaling(y)\n",
        "    print('X_scl shape: ', X_scl.shape)\n",
        "    print(X_scl[1,:])\n",
        "    print('y scl shape: ', y_scl.shape)\n",
        "    print(y_scl[1,:])\n",
        "    return X_scl, y_scl"
      ],
      "metadata": {
        "id": "xKGTGYxS-Yy8"
      },
      "execution_count": 4,
      "outputs": []
    },
    {
      "cell_type": "code",
      "source": [
        "def computeLoss(X, y, w):\n",
        "    m = y.shape[0]\n",
        "    J = 0\n",
        "    h = np.dot(X, w)\n",
        "    J = (1/(2*m))*np.sum(np.square(h - y))\n",
        "    return J"
      ],
      "metadata": {
        "id": "_3DgY4HG-bt8"
      },
      "execution_count": 5,
      "outputs": []
    },
    {
      "cell_type": "code",
      "source": [
        "def gradientDescent(X, y, w, alpha, n):\n",
        "    m = y.shape[0]\n",
        "    J_history = []\n",
        "    w_optimal = w.copy()\n",
        "    print('w_optimal shape: ', w_optimal.shape)\n",
        "    for i in range(n):\n",
        "        h = np.dot(X, w_optimal)\n",
        "        error = h - y\n",
        "        w_optimal = w_optimal - (alpha/m)*np.dot(X.T, error)\n",
        "        J_history.append(computeLoss(X, y, w_optimal))\n",
        "    return w_optimal, J_history"
      ],
      "metadata": {
        "id": "Lw4c3kY6-ei9"
      },
      "execution_count": 6,
      "outputs": []
    },
    {
      "cell_type": "code",
      "source": [
        "def main():\n",
        "    n = 1500\n",
        "    alpha = 0.01\n",
        "    X, y = readData(\"/content/drive/MyDrive\", \"ex1data2.txt\")\n",
        "    X_scl, y_scl = scaleData(X, y)\n",
        "    print('X scl: ', X_scl[1,:])\n",
        "    print('y scl: ', y_scl[1])\n",
        "    w = np.zeros((X_scl.shape[1], 1))\n",
        "    w, J_history = gradientDescent(X_scl, y_scl, w, alpha, n)\n",
        "    print(\"Optimal weights are: \", w)\n",
        "    print(\"Loss function: \", J_history[-1])\n",
        "\n",
        "if __name__ == '__main__':\n",
        "    main()"
      ],
      "metadata": {
        "colab": {
          "base_uri": "https://localhost:8080/"
        },
        "id": "YXgrmDpf-hIW",
        "outputId": "a6b83979-0b90-4508-fc70-b130940be3c3"
      },
      "execution_count": 8,
      "outputs": [
        {
          "output_type": "stream",
          "name": "stdout",
          "text": [
            "Original data shape (47, 3)\n",
            "X shape:  (47, 2)\n",
            "y shape:  (47,)\n",
            "Number of training examples m =  47\n",
            "Modified X shape:  (47, 3)\n",
            "Modified y shape:  (47, 1)\n",
            "-0.11050216521341141\n",
            "-0.04255319148936165\n",
            "[-0.01983521]\n",
            "X_scl shape:  (47, 3)\n",
            "[ 1.         -0.11050217 -0.04255319]\n",
            "y scl shape:  (47, 1)\n",
            "[-0.01983521]\n",
            "X scl:  [ 1.         -0.11050217 -0.04255319]\n",
            "y scl:  [-0.01983521]\n",
            "w_optimal shape:  (3, 1)\n",
            "Optimal weights are:  [[-3.12958879e-17]\n",
            " [ 4.39936424e-01]\n",
            " [ 1.54642922e-01]]\n",
            "Loss function:  0.011726066596823586\n"
          ]
        }
      ]
    }
  ]
}