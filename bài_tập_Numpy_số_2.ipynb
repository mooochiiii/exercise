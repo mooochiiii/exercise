{
  "nbformat": 4,
  "nbformat_minor": 0,
  "metadata": {
    "colab": {
      "name": "bài tập Numpy số 2.ipynb",
      "provenance": [],
      "authorship_tag": "ABX9TyPJpJWA1RSJ5ecAMXd82ht/",
      "include_colab_link": true
    },
    "kernelspec": {
      "name": "python3",
      "display_name": "Python 3"
    },
    "language_info": {
      "name": "python"
    }
  },
  "cells": [
    {
      "cell_type": "markdown",
      "metadata": {
        "id": "view-in-github",
        "colab_type": "text"
      },
      "source": [
        "<a href=\"https://colab.research.google.com/github/mooochiiii/exercise/blob/main/b%C3%A0i_t%E1%BA%ADp_Numpy_s%E1%BB%91_2.ipynb\" target=\"_parent\"><img src=\"https://colab.research.google.com/assets/colab-badge.svg\" alt=\"Open In Colab\"/></a>"
      ]
    },
    {
      "cell_type": "code",
      "execution_count": 1,
      "metadata": {
        "id": "6MAvfl8C31hq"
      },
      "outputs": [],
      "source": [
        "import numpy as np"
      ]
    },
    {
      "cell_type": "markdown",
      "source": [
        "Bài 1 - Ma trận: Trong Toán học, ma trận (matrix) là một mảng 2 chiều chứa số hoặc các đối tượng toán học khác. Một cách tổng quát ma trận A có m hàng và n cột chứa các số thực, ký hiệu là A ∈ $R_{m×n}$ hay $A_{m×n}$ hay A = $(a_{i,j})_{m×n}$\n",
        "\n",
        "\\begin{align}\n",
        "        \\vec{OA} = \\begin{pmatrix}\n",
        "        a_{1,1} \\ \\ a_{1,2} \\ \\ ... \\ \\ a_{1,n}\\\\\n",
        "        a_{2,1} \\ \\ a_{2,2} \\ \\ ... \\ \\ a_{2.n}\\\\\n",
        "        \\ \\ \\ \\ ⋮ \\ \\ \\ \\ \\ \\ ⋮ \\ \\ \\ \\ \\ \\ ⋮ \\ \\ \\ \\ \\ \\ ⋮ \\ \\ \\ \\ \\ \\ \\\\\n",
        "        a_{m,1} \\ \\ a_{m,2} \\ \\ ... \\ \\ a{m,n}\n",
        "        \\end{pmatrix}\n",
        "    \\end{align}\n",
        "Sử dụng thư viện NumPy, hãy tạo ra một ma trận A ∈ $R^{7×5}$, giá trị các phần tử của ma trận được sinh ngẫu nhiên. Kết quả xuất ra màn hình."
      ],
      "metadata": {
        "id": "18_6Da1M4DUD"
      }
    },
    {
      "cell_type": "code",
      "source": [
        "A = np.random.random([7,5])\n",
        "print(\"Ma trận A:\\n\",A)"
      ],
      "metadata": {
        "colab": {
          "base_uri": "https://localhost:8080/"
        },
        "id": "j-eH1wj94KLO",
        "outputId": "5a674166-ae55-4b20-8db5-517bf42733c8"
      },
      "execution_count": 2,
      "outputs": [
        {
          "output_type": "stream",
          "name": "stdout",
          "text": [
            "Ma trận A:\n",
            " [[0.40024728 0.6989932  0.57051381 0.98562765 0.58405935]\n",
            " [0.33135047 0.1713537  0.76347537 0.96702624 0.93714652]\n",
            " [0.67832988 0.81690893 0.57592491 0.10415695 0.94128075]\n",
            " [0.70879438 0.14109817 0.42571695 0.27945256 0.93936508]\n",
            " [0.34563615 0.89596057 0.20939246 0.56704888 0.56657682]\n",
            " [0.35192375 0.21409099 0.12650552 0.54795711 0.12020572]\n",
            " [0.47565224 0.39533763 0.82427427 0.93007848 0.79349757]]\n"
          ]
        }
      ]
    },
    {
      "cell_type": "markdown",
      "source": [
        "Bài 2 – Ma trận không (zero matrix): Ma trận $A_{m×n}$ được gọi là ma trận không khi $a_{i,j} = 0, ∀i,j.\n",
        "Sử dụng thư viện NumPy, hãy tạo một ma trận 0 - $A_{6×7}$. \n",
        "\n",
        "Gợi ý: sử dụng hàm numpy.zeros((m,n)).\n",
        "Kết quả xuất ra màn hình."
      ],
      "metadata": {
        "id": "wo8C1Ei14MiV"
      }
    },
    {
      "cell_type": "code",
      "source": [
        "np.zeros([6,7])\n",
        "print(\"Ma trận không A:\\n\",A)"
      ],
      "metadata": {
        "colab": {
          "base_uri": "https://localhost:8080/"
        },
        "id": "9kt_Tbue4OeF",
        "outputId": "36524b3c-e36a-45d9-ae7b-de068e53b999"
      },
      "execution_count": 3,
      "outputs": [
        {
          "output_type": "stream",
          "name": "stdout",
          "text": [
            "Ma trận không A:\n",
            " [[0.40024728 0.6989932  0.57051381 0.98562765 0.58405935]\n",
            " [0.33135047 0.1713537  0.76347537 0.96702624 0.93714652]\n",
            " [0.67832988 0.81690893 0.57592491 0.10415695 0.94128075]\n",
            " [0.70879438 0.14109817 0.42571695 0.27945256 0.93936508]\n",
            " [0.34563615 0.89596057 0.20939246 0.56704888 0.56657682]\n",
            " [0.35192375 0.21409099 0.12650552 0.54795711 0.12020572]\n",
            " [0.47565224 0.39533763 0.82427427 0.93007848 0.79349757]]\n"
          ]
        }
      ]
    },
    {
      "cell_type": "markdown",
      "source": [
        "Bài 3 – Ma trận vuông: Là ma trận có số hàng và số cột bằng nhau. Sử dụng thư viện NumPy,\n",
        "hãy tạo ra một ma trận A ∈ $R_{7×7}$, giá trị các phần tử của ma trận được sinh ngẫu nhiên. Kết quả xuất ra màn hình."
      ],
      "metadata": {
        "id": "RpT0Wczd4Q87"
      }
    },
    {
      "cell_type": "code",
      "source": [
        "np.random.randint(1,20,[7,7])\n",
        "print(\"Ma trận A:\\n\",A)"
      ],
      "metadata": {
        "colab": {
          "base_uri": "https://localhost:8080/"
        },
        "id": "RW78LO3o4R5u",
        "outputId": "2dafe43b-5343-4f00-d7a6-483dc645201c"
      },
      "execution_count": 4,
      "outputs": [
        {
          "output_type": "stream",
          "name": "stdout",
          "text": [
            "Ma trận A:\n",
            " [[0.40024728 0.6989932  0.57051381 0.98562765 0.58405935]\n",
            " [0.33135047 0.1713537  0.76347537 0.96702624 0.93714652]\n",
            " [0.67832988 0.81690893 0.57592491 0.10415695 0.94128075]\n",
            " [0.70879438 0.14109817 0.42571695 0.27945256 0.93936508]\n",
            " [0.34563615 0.89596057 0.20939246 0.56704888 0.56657682]\n",
            " [0.35192375 0.21409099 0.12650552 0.54795711 0.12020572]\n",
            " [0.47565224 0.39533763 0.82427427 0.93007848 0.79349757]]\n"
          ]
        }
      ]
    },
    {
      "cell_type": "markdown",
      "source": [
        "Bài 4 – Ma trận chéo (diagonal matrix): Ma trận vuông có các phần tử trên đường chéo $a_{i,i}$ ≠ 0 trong khi các phần tử còn lại $a_{i,j}$ = 0, ∀i ≠ j.\n",
        "\n",
        "Sử dụng thư viện NumPy, hãy tạo một ma trận chéo $A_{6×6}$ với phần tử nằm trên đường chéo có giá trị là 15. \n",
        "\n",
        "Gợi ý: sử dụng kết hợp hàm numpy.zeros() và numpy.fill_diagonal(). Kết quả xuất ra màn hình."
      ],
      "metadata": {
        "id": "NeP-azjw4UEA"
      }
    },
    {
      "cell_type": "code",
      "source": [
        "A = np.zeros((6,6))\n",
        "np.fill_diagonal(A,15)\n",
        "print(\"Ma trận chéo A:\\n\",A)"
      ],
      "metadata": {
        "colab": {
          "base_uri": "https://localhost:8080/"
        },
        "id": "-ukHE3HR4VBF",
        "outputId": "f5dda41e-6e41-4234-c86a-0141b5e6e524"
      },
      "execution_count": 6,
      "outputs": [
        {
          "output_type": "stream",
          "name": "stdout",
          "text": [
            "Ma trận chéo A:\n",
            " [[15.  0.  0.  0.  0.  0.]\n",
            " [ 0. 15.  0.  0.  0.  0.]\n",
            " [ 0.  0. 15.  0.  0.  0.]\n",
            " [ 0.  0.  0. 15.  0.  0.]\n",
            " [ 0.  0.  0.  0. 15.  0.]\n",
            " [ 0.  0.  0.  0.  0. 15.]]\n"
          ]
        }
      ]
    },
    {
      "cell_type": "markdown",
      "source": [
        "Bài 5 – Ma trận tam giác trên (upper triangular matrix): Ma trận vuông $A_{n×n}$ được gọi là ma\n",
        "trận tam giác trên nếu các phần tử nằm trên đường chéo đều khác 0 và các phần tử nằm dưới đường\n",
        "chéo đều bằng 0.\n",
        "\n",
        "Sử dụng thư viện NumPy, hãy tạo một ma trận tam giác trên $A_{8×8}$. \n",
        "\n",
        "Gợi ý: sử dụng hàm\n",
        "numpy.triu(). \n",
        "\n",
        "Kết quả xuất ra màn hình."
      ],
      "metadata": {
        "id": "1H1oBI_u4XpQ"
      }
    },
    {
      "cell_type": "code",
      "source": [
        "A = np.random.randint(1,10,[8,8])\n",
        "print(\"Ma trận tam giác trên A:\\n\",np.triu(A,k=0))"
      ],
      "metadata": {
        "colab": {
          "base_uri": "https://localhost:8080/"
        },
        "id": "5Agk5cog4be0",
        "outputId": "13fc65df-97d0-42a6-d2d6-23c3a45bc8a8"
      },
      "execution_count": 7,
      "outputs": [
        {
          "output_type": "stream",
          "name": "stdout",
          "text": [
            "Ma trận tam giác trên A:\n",
            " [[7 8 5 7 5 4 7 7]\n",
            " [0 7 6 3 1 7 5 1]\n",
            " [0 0 1 3 7 8 8 8]\n",
            " [0 0 0 4 2 3 1 2]\n",
            " [0 0 0 0 6 8 1 2]\n",
            " [0 0 0 0 0 5 8 6]\n",
            " [0 0 0 0 0 0 2 8]\n",
            " [0 0 0 0 0 0 0 2]]\n"
          ]
        }
      ]
    },
    {
      "cell_type": "markdown",
      "source": [
        "Bài 6 – Ma trận tam giác dưới (lower triangular matrix): Tương tự bài 5, bạn hãy xây dựng\n",
        "ma trận tam giác dưới. Kết quả xuất ra màn hình."
      ],
      "metadata": {
        "id": "8asvb3LD4eGD"
      }
    },
    {
      "cell_type": "code",
      "source": [
        "A = np.random.randint(1,10,[8,8])\n",
        "print(\"Ma trận tam giác dưới A:\\n\",np.tril(A,k=0))"
      ],
      "metadata": {
        "colab": {
          "base_uri": "https://localhost:8080/"
        },
        "id": "AuesaTZY4fO-",
        "outputId": "d5d89073-5c0b-44a7-923e-d58f2e0fa663"
      },
      "execution_count": 8,
      "outputs": [
        {
          "output_type": "stream",
          "name": "stdout",
          "text": [
            "Ma trận tam giác dưới A:\n",
            " [[4 0 0 0 0 0 0 0]\n",
            " [4 9 0 0 0 0 0 0]\n",
            " [6 2 5 0 0 0 0 0]\n",
            " [3 5 8 3 0 0 0 0]\n",
            " [2 1 4 2 6 0 0 0]\n",
            " [1 7 7 8 5 1 0 0]\n",
            " [9 4 7 2 6 6 9 0]\n",
            " [8 5 5 3 4 9 8 4]]\n"
          ]
        }
      ]
    },
    {
      "cell_type": "markdown",
      "source": [
        "Bài 7 – Ma trận đơn vị (identity matrix): Ma trận đơn vị $I_n$ có số chiều n là một ma trận vuông\n",
        "mà mọi phần tử trên đường chéo chính bằng 1. Sử dụng thư viện NumPy, hãy tạo ra một ma trận\n",
        "$I_9$\n",
        ". Kết quả xuất ra màn hình. Gợi ý: sử dụng hàm numpy.identity()"
      ],
      "metadata": {
        "id": "WXUYCDQw4jXM"
      }
    },
    {
      "cell_type": "code",
      "source": [
        "#cách 1\n",
        "\n",
        "print(\"Ma trận đơn vị I9:\\n\",np.identity(9))\n",
        "\n",
        "#cách 2\n",
        "\n",
        "print(\"Ma trận đơn vị I9:\\n\",np.eye(9))"
      ],
      "metadata": {
        "colab": {
          "base_uri": "https://localhost:8080/"
        },
        "id": "suhkVfeJ4iDg",
        "outputId": "d049ca87-f989-41f4-f435-9c9ee9a86e97"
      },
      "execution_count": 9,
      "outputs": [
        {
          "output_type": "stream",
          "name": "stdout",
          "text": [
            "Ma trận đơn vị I9:\n",
            " [[1. 0. 0. 0. 0. 0. 0. 0. 0.]\n",
            " [0. 1. 0. 0. 0. 0. 0. 0. 0.]\n",
            " [0. 0. 1. 0. 0. 0. 0. 0. 0.]\n",
            " [0. 0. 0. 1. 0. 0. 0. 0. 0.]\n",
            " [0. 0. 0. 0. 1. 0. 0. 0. 0.]\n",
            " [0. 0. 0. 0. 0. 1. 0. 0. 0.]\n",
            " [0. 0. 0. 0. 0. 0. 1. 0. 0.]\n",
            " [0. 0. 0. 0. 0. 0. 0. 1. 0.]\n",
            " [0. 0. 0. 0. 0. 0. 0. 0. 1.]]\n",
            "Ma trận đơn vị I9:\n",
            " [[1. 0. 0. 0. 0. 0. 0. 0. 0.]\n",
            " [0. 1. 0. 0. 0. 0. 0. 0. 0.]\n",
            " [0. 0. 1. 0. 0. 0. 0. 0. 0.]\n",
            " [0. 0. 0. 1. 0. 0. 0. 0. 0.]\n",
            " [0. 0. 0. 0. 1. 0. 0. 0. 0.]\n",
            " [0. 0. 0. 0. 0. 1. 0. 0. 0.]\n",
            " [0. 0. 0. 0. 0. 0. 1. 0. 0.]\n",
            " [0. 0. 0. 0. 0. 0. 0. 1. 0.]\n",
            " [0. 0. 0. 0. 0. 0. 0. 0. 1.]]\n"
          ]
        }
      ]
    },
    {
      "cell_type": "markdown",
      "source": [
        "Bài 8 – Phép toán trên ma trận: sử dụng thư viện NumPy để thực hiện các yêu cầu sau:\n",
        "- Phép cộng ma trận: $A_{m×n} + B_{m×n} = C_{m×n}$. Hãy sinh ngẫu nhiên 2 ma trận có kích thước\n",
        "6x7. Thực hiện phép cộng 2 ma trận trên. Xuất giá trị các ma trận ra màn hình.\n",
        "- Phép nhân vô hướng một số với ma trận: Hãy sinh ngẫu nhiên 1 ma trận có kích thước\n",
        "5x8. Thực hiện nhân vô hướng 1 số được nhập từ bàn phím với ma trận này. Kết quả xuất\n",
        "ra màn hình.\n",
        "- Phép chuyển vị ma trận: Sinh ngẫu nhiên một ma trận có kích thước 3x7. Thực hiện phép\n",
        "chuyển vị đối với ma trận này. Xuất các ma trận này ra màn hình.\n",
        "- Phép nhân 2 ma trận: $A_{m×n} + B_{m×n} = C_{m×n}$. Hãy sinh ngẫu nhiên 2 ma trận $A_{5×7} và B_{7×3}$,\n",
        "tiến hành nhân 2 ma trận này để thu được ma trận $C_{5×3}$. Xuất các ma trận trên ra màn hình.\n",
        "Gợi ý: sử dụng hàm numpy.dot()\n",
        "- Ma trận khả nghịch: ma trận vuông $A_{n×n}$ \n",
        "gọi là khả nghịch (hay không suy biến) nếu tồn\n",
        "tại một ma trận vuông $B_{n×n}$ sao cho A ∙ B = $I_n$ . Khi này, B được gọi là ma trận nghịch\n",
        "đảo của A và ký hiệu là A\n",
        "−1\n",
        ". Cho ma trận $A_{5×7}$, hãy tính ma trận khả nghịch của A. \n",
        "\n",
        "Gợi ý: sử dụng hàm numpy.linalg.inv()"
      ],
      "metadata": {
        "id": "XcFheuHm4nrb"
      }
    },
    {
      "cell_type": "code",
      "source": [
        "#cộng hai ma trận\n",
        "\n",
        "A = np.random.randint(1,10,[6,7])\n",
        "B = np.random.randint(1,10,[6,7])\n",
        "print(\"A+B:\\n\",A+B)\n",
        "\n",
        "#Nhân vô hướng\n",
        "\n",
        "A = np.random.randint(1,5,[5,8])\n",
        "print(A)\n",
        "n = int(input(\"Nhân ma trận với: \"))\n",
        "print(\"Kết quả của phép nhân vô hướng A với\",n,\"là\\n\",A*n)\n",
        "\n",
        "#Chuyển vị\n",
        "\n",
        "A = np.random.randint(1,10,[3,7])\n",
        "print(\"Ma trận ban đầu:\\n\",A)\n",
        "print(\"Chuyển vị:\\n\",A.T)\n",
        "\n",
        "#Nhân hai ma trận\n",
        "\n",
        "A = np.random.randint(1,5,[5,7])\n",
        "print(\"Ma trận A:\\n\", A)\n",
        "B = np.random.randint(1,5,[7,3])\n",
        "print(\"Ma trận B:\\n\", B)\n",
        "print(\"Nhân hai ma trận A và B:\\n\",A.dot(B))\n",
        "\n",
        "#Ngoài ra: A @ B cũng là phép nhân hai ma trận A và B\n",
        "\n",
        "#Ma trận nghịch đảo\n",
        "\n",
        "A = np.random.randint(1,5,[5,5])\n",
        "A_i = np.linalg.pinv(A)\n",
        "print(\"Ma trận ban đầu\\n\",A)\n",
        "print(\"Ma trận nghịch đảo\\n\",A_i)"
      ],
      "metadata": {
        "colab": {
          "base_uri": "https://localhost:8080/"
        },
        "id": "bpsVj_bl4otV",
        "outputId": "cbd66f79-9291-4ae0-b77d-b728046a238b"
      },
      "execution_count": 10,
      "outputs": [
        {
          "output_type": "stream",
          "name": "stdout",
          "text": [
            "A+B:\n",
            " [[ 6  3  5 13  9  8  6]\n",
            " [18  6  9  9 15 10  7]\n",
            " [12 15  6 13  2 10  7]\n",
            " [14 11  9 11 11 12  8]\n",
            " [14  9  9 11  9 11 11]\n",
            " [16 11 12  9  9  5  5]]\n",
            "[[1 2 4 4 4 4 4 2]\n",
            " [4 3 2 4 2 1 3 3]\n",
            " [3 4 3 4 3 1 1 3]\n",
            " [3 3 1 1 2 1 1 1]\n",
            " [2 3 2 3 3 2 3 1]]\n",
            "Nhân ma trận với: 2\n",
            "Kết quả của phép nhân vô hướng A với 2 là\n",
            " [[2 4 8 8 8 8 8 4]\n",
            " [8 6 4 8 4 2 6 6]\n",
            " [6 8 6 8 6 2 2 6]\n",
            " [6 6 2 2 4 2 2 2]\n",
            " [4 6 4 6 6 4 6 2]]\n",
            "Ma trận ban đầu:\n",
            " [[2 3 4 2 6 3 3]\n",
            " [7 2 5 6 5 9 9]\n",
            " [6 7 7 4 4 1 4]]\n",
            "Chuyển vị:\n",
            " [[2 7 6]\n",
            " [3 2 7]\n",
            " [4 5 7]\n",
            " [2 6 4]\n",
            " [6 5 4]\n",
            " [3 9 1]\n",
            " [3 9 4]]\n",
            "Ma trận A:\n",
            " [[3 4 1 1 1 2 1]\n",
            " [2 2 3 1 3 1 4]\n",
            " [2 3 3 3 1 1 3]\n",
            " [4 4 2 4 2 3 4]\n",
            " [4 1 4 3 2 4 1]]\n",
            "Ma trận B:\n",
            " [[3 2 4]\n",
            " [4 4 1]\n",
            " [1 3 3]\n",
            " [2 1 2]\n",
            " [1 4 1]\n",
            " [3 4 4]\n",
            " [4 4 4]]\n",
            "Nhân hai ma trận A và B:\n",
            " [[39 42 34]\n",
            " [41 54 44]\n",
            " [43 48 43]\n",
            " [65 70 64]\n",
            " [44 55 57]]\n",
            "Ma trận ban đầu\n",
            " [[3 3 3 1 2]\n",
            " [2 4 1 1 1]\n",
            " [3 2 4 3 1]\n",
            " [1 4 3 1 3]\n",
            " [2 3 1 3 1]]\n",
            "Ma trận nghịch đảo\n",
            " [[ 0.65060241 -0.13253012 -0.21686747 -0.37349398  0.1686747 ]\n",
            " [-0.36144578  0.51807229  0.12048193  0.09638554 -0.20481928]\n",
            " [-0.3373494   0.21686747  0.44578313  0.15662651 -0.45783133]\n",
            " [-0.18072289 -0.24096386  0.06024096  0.04819277  0.39759036]\n",
            " [ 0.6626506  -0.78313253 -0.55421687  0.15662651  0.54216867]]\n"
          ]
        }
      ]
    },
    {
      "cell_type": "markdown",
      "source": [
        "Bài 9 – Vector là dạng ma trận đặc biệt: Sử dụng numpy để thực hiện các yêu cầu sau\n",
        "- Vector hàng (row vector) thực chất là ma trận có kích thước 1 × n. Hãy tạo ngẫu nhiên 1\n",
        "vector hàng - x có kích thước 1 × 8. Kết quả xuất ra màn hình.\n",
        "- Vector cột (column vector) thực chất là ma trận có kích thước m × 1. Hãy tạo ngẫu nhiên\n",
        "1 vector cột – x có kích thước 8 × 1. Kết quả xuất ra màn hình."
      ],
      "metadata": {
        "id": "mXKmmlmC4r1S"
      }
    },
    {
      "cell_type": "code",
      "source": [
        "#Vector hàng\n",
        "\n",
        "A = np.random.randint(1,10,[1,8])\n",
        "print(A)\n",
        "A.shape\n",
        "\n",
        "#Vector cột\n",
        "\n",
        "A = np.random.randint(1,10,[8,1])\n",
        "print(A)\n",
        "A.shape"
      ],
      "metadata": {
        "colab": {
          "base_uri": "https://localhost:8080/"
        },
        "id": "BzJl1uIf4ral",
        "outputId": "8964489b-dcc0-4eb7-9a74-0cbe5dc40d3b"
      },
      "execution_count": 11,
      "outputs": [
        {
          "output_type": "stream",
          "name": "stdout",
          "text": [
            "[[7 7 2 4 7 8 9 1]]\n",
            "[[3]\n",
            " [5]\n",
            " [7]\n",
            " [5]\n",
            " [8]\n",
            " [5]\n",
            " [9]\n",
            " [7]]\n"
          ]
        },
        {
          "output_type": "execute_result",
          "data": {
            "text/plain": [
              "(8, 1)"
            ]
          },
          "metadata": {},
          "execution_count": 11
        }
      ]
    },
    {
      "cell_type": "markdown",
      "source": [
        "bài 10:"
      ],
      "metadata": {
        "id": "apDti_WV5G23"
      }
    },
    {
      "cell_type": "code",
      "source": [
        "import numpy as np\n",
        "A = np.random.randint(1,10,[3,3])\n",
        "y = np.random.randint(1,5)\n",
        "A_i = np.linalg.pinv(A)\n",
        "x = np.dot(A_i, y)\n",
        "print(x)"
      ],
      "metadata": {
        "colab": {
          "base_uri": "https://localhost:8080/"
        },
        "id": "sEMLZ7kD5GjD",
        "outputId": "05c725d9-762b-459f-b43d-b09359b990a6"
      },
      "execution_count": 12,
      "outputs": [
        {
          "output_type": "stream",
          "name": "stdout",
          "text": [
            "[[-0.69387755  0.53061224  0.32653061]\n",
            " [ 1.2244898   0.12244898 -0.69387755]\n",
            " [ 0.32653061 -0.36734694  0.08163265]]\n"
          ]
        }
      ]
    }
  ]
}