{
  "nbformat": 4,
  "nbformat_minor": 0,
  "metadata": {
    "colab": {
      "name": "bt ngày 18/11.ipynb",
      "provenance": [],
      "authorship_tag": "ABX9TyNeJ4i2uJdxnfKHmeVj+7kC",
      "include_colab_link": true
    },
    "kernelspec": {
      "name": "python3",
      "display_name": "Python 3"
    },
    "language_info": {
      "name": "python"
    }
  },
  "cells": [
    {
      "cell_type": "markdown",
      "metadata": {
        "id": "view-in-github",
        "colab_type": "text"
      },
      "source": [
        "<a href=\"https://colab.research.google.com/github/mooochiiii/exercise/blob/main/bt_ng%C3%A0y_18_11.ipynb\" target=\"_parent\"><img src=\"https://colab.research.google.com/assets/colab-badge.svg\" alt=\"Open In Colab\"/></a>"
      ]
    },
    {
      "cell_type": "code",
      "metadata": {
        "colab": {
          "base_uri": "https://localhost:8080/"
        },
        "id": "d4WLgsmxrM86",
        "outputId": "adee51c0-8b26-48be-a1a8-9007a97ed386"
      },
      "source": [
        "diem = float(input('nhập điểm trung bình: '))\n",
        "if 0 <= diem and diem < 5:\n",
        "    print('yếu')\n",
        "elif 5 <= diem and diem < 7:\n",
        "    print('trung bình')\n",
        "elif 7 <= diem and diem < 8:\n",
        "    print('khá')\n",
        "elif 8 <= diem and diem < 9:\n",
        "    print ('giỏi')\n",
        "else:\n",
        "    print('xuất sắc')"
      ],
      "execution_count": 1,
      "outputs": [
        {
          "output_type": "stream",
          "name": "stdout",
          "text": [
            "nhập điểm trung bình: 0\n",
            "yếu\n"
          ]
        }
      ]
    }
  ]
}