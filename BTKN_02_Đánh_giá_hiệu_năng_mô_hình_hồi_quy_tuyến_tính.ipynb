{
  "nbformat": 4,
  "nbformat_minor": 0,
  "metadata": {
    "colab": {
      "provenance": [],
      "mount_file_id": "1htA-s1iYnZwGHImk7ki2eRFrmiVzDIYs",
      "authorship_tag": "ABX9TyNcDCcj95rn2Ag1L616sGzL",
      "include_colab_link": true
    },
    "kernelspec": {
      "name": "python3",
      "display_name": "Python 3"
    },
    "language_info": {
      "name": "python"
    }
  },
  "cells": [
    {
      "cell_type": "markdown",
      "metadata": {
        "id": "view-in-github",
        "colab_type": "text"
      },
      "source": [
        "<a href=\"https://colab.research.google.com/github/mooochiiii/exercise/blob/main/BTKN_02_%C4%90%C3%A1nh_gi%C3%A1_hi%E1%BB%87u_n%C4%83ng_m%C3%B4_h%C3%ACnh_h%E1%BB%93i_quy_tuy%E1%BA%BFn_t%C3%ADnh.ipynb\" target=\"_parent\"><img src=\"https://colab.research.google.com/assets/colab-badge.svg\" alt=\"Open In Colab\"/></a>"
      ]
    },
    {
      "cell_type": "code",
      "execution_count": 1,
      "metadata": {
        "id": "btMiIlHLqGeh"
      },
      "outputs": [],
      "source": [
        "import os\n",
        "import numpy as np\n",
        "from sklearn.model_selection import train_test_split\n",
        "from sklearn.metrics import mean_squared_error"
      ]
    },
    {
      "cell_type": "code",
      "source": [
        "def read_scale_data(folder, filename):\n",
        "    D = np.loadtxt(os.path.join(folder, filename), delimiter=',')\n",
        "    X, y = D[:,:-1], D[:,-1]\n",
        "    X, y = scaleData(X, y)\n",
        "    x0 = np.ones((X.shape[0], 1))\n",
        "    X = np.column_stack([x0, X])\n",
        "    X_train, X_test, y_train, y_test = train_test_split(X, y,\n",
        "                                                        test_size=0.30, random_state=15)\n",
        "    y_train = np.reshape(y_train, (y_train.shape[0], 1))\n",
        "    y_test = np.reshape(y_test, (y_test.shape[0], 1))\n",
        "    return X_train, X_test, y_train, y_test"
      ],
      "metadata": {
        "id": "OsU_naXkvWBP"
      },
      "execution_count": 2,
      "outputs": []
    },
    {
      "cell_type": "code",
      "source": [
        "def featureVectorScaling(data):\n",
        "    avg = np.mean(data)\n",
        "    sln = data.max()\n",
        "    snn = data.min()\n",
        "    data_scl = (data - avg)/(sln - snn)\n",
        "    return data_scl"
      ],
      "metadata": {
        "id": "MQqHbNwbvgaa"
      },
      "execution_count": 3,
      "outputs": []
    },
    {
      "cell_type": "code",
      "source": [
        "def scaleData(X, y):\n",
        "    X_scl = X[:, 0]\n",
        "    for i in range(1, X.shape[1]):\n",
        "        scl = featureVectorScaling(X[:, i])\n",
        "        X_scl = np.column_stack([X_scl, scl])\n",
        "    y_scl = featureVectorScaling(y)\n",
        "    return X_scl, y_scl"
      ],
      "metadata": {
        "id": "G9SsJfnqvpXv"
      },
      "execution_count": 4,
      "outputs": []
    },
    {
      "cell_type": "code",
      "source": [
        "def computeLoss(X, y, w):\n",
        "    m = y.shape[0]\n",
        "    J = 0\n",
        "    h = np.dot(X, w)\n",
        "    J = (1/(2*m))*np.sum(np.square(h - y))\n",
        "    return J"
      ],
      "metadata": {
        "id": "YipbT5Uzvuyc"
      },
      "execution_count": 5,
      "outputs": []
    },
    {
      "cell_type": "code",
      "source": [
        "def gradientDescent(X, y, w, alpha, n):\n",
        "    m = y.shape[0]\n",
        "    J_history = []\n",
        "    w_optimal = w.copy()\n",
        "    for i in range(n):\n",
        "        h = np.dot(X, w_optimal)\n",
        "        error = h - y\n",
        "        w_optimal = w_optimal - (alpha/m)*np.dot(X.T, error)\n",
        "        J_history.append(computeLoss(X, y, w_optimal))\n",
        "    return w_optimal, J_history"
      ],
      "metadata": {
        "id": "UhC4v2eyvxDv"
      },
      "execution_count": 6,
      "outputs": []
    },
    {
      "cell_type": "code",
      "source": [
        "def mse(y, y_hat):\n",
        "    m = y.shape[0]\n",
        "    result = (1/m)*np.sum(np.square(y - y_hat))\n",
        "    return result"
      ],
      "metadata": {
        "id": "QFE-pVvEvzCl"
      },
      "execution_count": 7,
      "outputs": []
    },
    {
      "cell_type": "code",
      "source": [
        "def main():\n",
        "    n = 1500\n",
        "    alpha = 0.01\n",
        "    X_train, X_test, y_train, y_test = read_scale_data(\"/content/drive/MyDrive\", \"ex1data2.txt\")\n",
        "    X_train, y_train = scaleData(X_train, y_train)\n",
        "    X_test, y_test = scaleData(X_test, y_test)\n",
        "    print('Huấn luyện mô hình trên tập dữ liệu train')\n",
        "    w = np.zeros((X_train.shape[1], 1))\n",
        "    w, J_history = gradientDescent(X_train, y_train, w, alpha, n)\n",
        "    print(\"\\t\\tOptimal weights are: \", w)\n",
        "    print(\"\\t\\tLoss function: \", J_history[-1])\n",
        "    print('Đánh giá mô hình trên tập dữ liệu test')\n",
        "    y_hat = np.dot(X_test, w)\n",
        "    print(\"\\t\\tMSE: \", mse(y_test, y_hat))\n",
        "    print('\\t\\tSử dụng sklearn MSE: ', mean_squared_error(y_test, y_hat))\n",
        "if __name__ == '__main__':\n",
        "    main()"
      ],
      "metadata": {
        "colab": {
          "base_uri": "https://localhost:8080/"
        },
        "id": "Ovf8EqJ2v07s",
        "outputId": "e0f11352-2752-40cb-f353-e40669737584"
      },
      "execution_count": 8,
      "outputs": [
        {
          "output_type": "stream",
          "name": "stdout",
          "text": [
            "Huấn luyện mô hình trên tập dữ liệu train\n",
            "\t\tOptimal weights are:  [[6.86083135e-18]\n",
            " [4.18940795e-01]\n",
            " [2.04975943e-01]]\n",
            "\t\tLoss function:  0.011882257412839537\n",
            "Đánh giá mô hình trên tập dữ liệu test\n",
            "\t\tMSE:  0.06487534316456738\n",
            "\t\tSử dụng sklearn MSE:  0.06487534316456738\n"
          ]
        }
      ]
    }
  ]
}