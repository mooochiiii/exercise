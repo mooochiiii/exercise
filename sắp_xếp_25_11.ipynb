{
  "nbformat": 4,
  "nbformat_minor": 0,
  "metadata": {
    "colab": {
      "name": "sắp xếp 25/11.ipynb",
      "provenance": [],
      "authorship_tag": "ABX9TyOgJoSeq6NfWBosvhm26Pa3",
      "include_colab_link": true
    },
    "kernelspec": {
      "name": "python3",
      "display_name": "Python 3"
    },
    "language_info": {
      "name": "python"
    }
  },
  "cells": [
    {
      "cell_type": "markdown",
      "metadata": {
        "id": "view-in-github",
        "colab_type": "text"
      },
      "source": [
        "<a href=\"https://colab.research.google.com/github/mooochiiii/exercise/blob/main/s%E1%BA%AFp_x%E1%BA%BFp_25_11.ipynb\" target=\"_parent\"><img src=\"https://colab.research.google.com/assets/colab-badge.svg\" alt=\"Open In Colab\"/></a>"
      ]
    },
    {
      "cell_type": "code",
      "metadata": {
        "id": "f1P5JOlidBqk",
        "colab": {
          "base_uri": "https://localhost:8080/"
        },
        "outputId": "67c11406-a3c5-4b9f-ac8b-cd4b03fe82b1"
      },
      "source": [
        "# bai 1: sap xep tang dan\n",
        "lst = [9,7,5,4,1,3,6,0,2,8]\n",
        "for i in range(len(lst)):\n",
        "    for j in range(i+1, len(lst)):\n",
        "        if lst[i] > lst[j]:\n",
        "            lst[i], lst[j] = lst[j], lst[i]\n",
        "print('list da sap xep: ', lst)"
      ],
      "execution_count": 8,
      "outputs": [
        {
          "output_type": "stream",
          "name": "stdout",
          "text": [
            "list da sap xep:  [0, 1, 2, 3, 4, 5, 6, 7, 8, 9]\n"
          ]
        }
      ]
    },
    {
      "cell_type": "code",
      "metadata": {
        "id": "YlQHxGakdipZ",
        "colab": {
          "base_uri": "https://localhost:8080/"
        },
        "outputId": "de8251f1-e00d-4607-b156-0d7482c1d92b"
      },
      "source": [
        "# bai 2: \n",
        "def nhap_danh_sach_so_nguyen(n):\n",
        "    lst = []\n",
        "    for i in range(n):\n",
        "        so = (int(input('nhap so: ')))\n",
        "        lst.append(so)\n",
        "    return lst\n",
        "def sap_xep_danh_sach(lst):\n",
        "    for i in range(len(lst)):\n",
        "        for j in range(i+1, len(lst)):\n",
        "          if lst[i] > lst[j]:\n",
        "              lst[i], lst[j] = lst[j], lst[i]\n",
        "    return lst\n",
        "\n",
        "def main():\n",
        "    n = int(input('so luong can nhap: '))\n",
        "    x = nhap_danh_sach_so_nguyen(n)\n",
        "    y = sap_xep_danh_sach(x)\n",
        "    print(y)\n",
        "if __name__ == \"__main__\":\n",
        "    main()"
      ],
      "execution_count": 9,
      "outputs": [
        {
          "output_type": "stream",
          "name": "stdout",
          "text": [
            "so luong can nhap: 5\n",
            "nhap so: 3\n",
            "nhap so: 4\n",
            "nhap so: 0\n",
            "nhap so: 25\n",
            "nhap so: 52\n",
            "[0, 3, 4, 25, 52]\n"
          ]
        }
      ]
    },
    {
      "cell_type": "code",
      "metadata": {
        "id": "ovVD3VlSdphI",
        "colab": {
          "base_uri": "https://localhost:8080/"
        },
        "outputId": "ecc73fb1-d380-47b4-b4a5-0de8f08947b3"
      },
      "source": [
        "# bài 3:\n",
        "n = float(input('nhap so thuc: '))\n",
        "lst = []\n",
        "while True:\n",
        "    lst.append(n)\n",
        "    print(\"bạn có muốn tiếp tục không\")\n",
        "    x = input(\"có xin ấn n hoặc N: \")\n",
        "    if (x == \"n\") or (x == \"N\"):\n",
        "        n = float(input(\"nhập số thực: \"))\n",
        "    else:\n",
        "        break\n",
        "for i in range(len(lst)):\n",
        "    for j in range(i+1, len(lst)):\n",
        "        if lst[i] > lst[j]:\n",
        "            lst[i], lst[j] = lst[j], lst[i]\n",
        "print(lst)"
      ],
      "execution_count": 10,
      "outputs": [
        {
          "output_type": "stream",
          "name": "stdout",
          "text": [
            "nhap so thuc: 23\n",
            "bạn có muốn tiếp tục không\n",
            "có xin ấn n hoặc N: n\n",
            "nhập số thực: 65\n",
            "bạn có muốn tiếp tục không\n",
            "có xin ấn n hoặc N: n\n",
            "nhập số thực: 1\n",
            "bạn có muốn tiếp tục không\n",
            "có xin ấn n hoặc N: N\n",
            "nhập số thực: 9\n",
            "bạn có muốn tiếp tục không\n",
            "có xin ấn n hoặc N: k\n",
            "[1.0, 9.0, 23.0, 65.0]\n"
          ]
        }
      ]
    },
    {
      "cell_type": "code",
      "metadata": {
        "id": "46zxrO9Y5dnR",
        "colab": {
          "base_uri": "https://localhost:8080/"
        },
        "outputId": "e5e24b24-50c5-4d1b-dc35-f16c677e2b06"
      },
      "source": [
        "# bài 4:\n",
        "def nhap_ds_so_thuc(n):\n",
        "    lst = []\n",
        "    while True:\n",
        "        lst.append(n)\n",
        "        print(\"bạn có muốn tiếp tục không\")\n",
        "        x = input(\"có xin ấn n hoặc N: \")\n",
        "        if (x == \"n\") or (x == \"N\"):\n",
        "            n = float(input(\"nhập số thực: \"))\n",
        "        else:\n",
        "            break\n",
        "    return lst\n",
        "def sap_xep_ds_so_thuc(lst):\n",
        "    for i in range(len(lst)):\n",
        "        for j in range(i+1, len(lst)):\n",
        "            if lst[i] > lst[j]:\n",
        "                lst[i], lst[j] = lst[j], lst[i]\n",
        "    return lst\n",
        "\n",
        "def main():\n",
        "    n = float(input('nhap so thuc: ')) \n",
        "    x = nhap_ds_so_thuc(n)\n",
        "    sx = sap_xep_ds_so_thuc(x)\n",
        "    print(sx)\n",
        "if __name__ == \"__main__\":\n",
        "    main()"
      ],
      "execution_count": 11,
      "outputs": [
        {
          "output_type": "stream",
          "name": "stdout",
          "text": [
            "nhap so thuc: 4\n",
            "bạn có muốn tiếp tục không\n",
            "có xin ấn n hoặc N: n\n",
            "nhập số thực: 34\n",
            "bạn có muốn tiếp tục không\n",
            "có xin ấn n hoặc N: N\n",
            "nhập số thực: 21\n",
            "bạn có muốn tiếp tục không\n",
            "có xin ấn n hoặc N: j\n",
            "[4.0, 21.0, 34.0]\n"
          ]
        }
      ]
    },
    {
      "cell_type": "code",
      "metadata": {
        "colab": {
          "base_uri": "https://localhost:8080/"
        },
        "id": "5qmw46em9IK3",
        "outputId": "9104b034-3360-4b5e-da48-a8bf08fb7ae1"
      },
      "source": [
        "# bai 5:\n",
        "import random\n",
        "n = int(input(\"số phần tử: \"))\n",
        "max_value = int(input(\"max value = \"))\n",
        "lst = []\n",
        "for i in range(n):\n",
        "    x = random.randint(0,max_value)\n",
        "    lst.append(x)\n",
        "print(\"sắp xếp theo thứ tự tăng dần nhập số 1\")\n",
        "print(\"sắp xếp theo thứ tự giảm dần nhập số 2\")\n",
        "so = float((input(\"nhap so: \")))\n",
        "for i in range(len(lst)):\n",
        "    for j in range(i+1, len(lst)):\n",
        "        if so == 1:\n",
        "            if lst[i] > lst[j]:\n",
        "                lst[i],lst[j] = lst[j],lst[i]\n",
        "        elif so == 2:\n",
        "            if lst[i] < lst[j]:\n",
        "                lst[i],lst[j] = lst[j],lst[i]\n",
        "print(lst)"
      ],
      "execution_count": 7,
      "outputs": [
        {
          "output_type": "stream",
          "name": "stdout",
          "text": [
            "số phần tử: 5\n",
            "max value = 34\n",
            "sắp xếp theo thứ tự tăng dần nhập số 1\n",
            "sắp xếp theo thứ tự giảm dần nhập số 2\n",
            "nhap so: 1\n",
            "[1, 19, 21, 22, 30]\n"
          ]
        }
      ]
    },
    {
      "cell_type": "code",
      "metadata": {
        "colab": {
          "base_uri": "https://localhost:8080/"
        },
        "id": "dN_T40R8a2gA",
        "outputId": "32dddd96-6831-4515-d445-dc66305c5286"
      },
      "source": [
        "# bài 6:\n",
        "import random\n",
        "def sinh_ngau_nhien_danh_sach_so_nguyen(n, max_value):\n",
        "    x = []\n",
        "    for i in range(n):\n",
        "        lst = random.randint(0,max_value)\n",
        "        x.append(lst)\n",
        "    print(\"ds chưa sx: \", x)\n",
        "    return x\n",
        "def sap_xep(x, so):\n",
        "    for i in range(len(x)):\n",
        "        for j in range(i+1, len(x)):\n",
        "            if so == 1:\n",
        "                if x[i] > x[j]:\n",
        "                    x[i],x[j] = x[j],x[i]\n",
        "            elif so == 2:\n",
        "                if x[i] < x[j]:\n",
        "                    x[i],x[j] = x[j],x[i]\n",
        "    print(\"ds đã sx: \",x)\n",
        "    return x\n",
        "def main():\n",
        "    n = int(input(\"số phần tử: \"))\n",
        "    max_value = int(input(\"max value = \"))\n",
        "    lst1 = sinh_ngau_nhien_danh_sach_so_nguyen(n, max_value)\n",
        "    print(\"sắp xếp theo thứ tự tăng dần nhập số 1\")\n",
        "    print(\"sắp xếp theo thứ tự giảm dần nhập số 2\")\n",
        "    so = float((input(\"nhap so: \")))\n",
        "    a = sap_xep(lst1, so)\n",
        "if __name__ == \"__main__\":\n",
        "    main()"
      ],
      "execution_count": 12,
      "outputs": [
        {
          "output_type": "stream",
          "name": "stdout",
          "text": [
            "số phần tử: 5\n",
            "max value = 45\n",
            "ds chưa sx:  [23, 13, 31, 45, 17]\n",
            "sắp xếp theo thứ tự tăng dần nhập số 1\n",
            "sắp xếp theo thứ tự giảm dần nhập số 2\n",
            "nhap so: 1\n",
            "ds đã sx:  [13, 17, 23, 31, 45]\n"
          ]
        }
      ]
    }
  ]
}