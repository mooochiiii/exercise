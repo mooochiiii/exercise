{
  "nbformat": 4,
  "nbformat_minor": 0,
  "metadata": {
    "colab": {
      "name": "tìm kiếm 25/11.ipynb",
      "provenance": [],
      "collapsed_sections": [],
      "authorship_tag": "ABX9TyPvStWJUO+3gNFnetqTqU0Z",
      "include_colab_link": true
    },
    "kernelspec": {
      "name": "python3",
      "display_name": "Python 3"
    },
    "language_info": {
      "name": "python"
    }
  },
  "cells": [
    {
      "cell_type": "markdown",
      "metadata": {
        "id": "view-in-github",
        "colab_type": "text"
      },
      "source": [
        "<a href=\"https://colab.research.google.com/github/mooochiiii/exercise/blob/main/t%C3%ACm_ki%E1%BA%BFm_25_11.ipynb\" target=\"_parent\"><img src=\"https://colab.research.google.com/assets/colab-badge.svg\" alt=\"Open In Colab\"/></a>"
      ]
    },
    {
      "cell_type": "code",
      "metadata": {
        "id": "E2nMBrRkYW2M",
        "colab": {
          "base_uri": "https://localhost:8080/"
        },
        "outputId": "8272c6b3-d28d-44e2-fe3a-2b870fa554ca"
      },
      "source": [
        "# bai1: tim kiem\n",
        "import random\n",
        "n = int(input('nhap n: '))\n",
        "a = int(input('nhap a: '))\n",
        "b = int(input('nhap b: '))\n",
        "lst = []\n",
        "for i in range(n):\n",
        "    x = random.randint(a,b)\n",
        "    lst.append(x)\n",
        "print(lst)\n",
        "x = b + 1\n",
        "while (x<a) or x > b:\n",
        "    x = int(input('nhap x: '))\n",
        "for i in range(len(lst)):\n",
        "    if lst[i] == x:\n",
        "        print(i)\n",
        "        break\n",
        "else:\n",
        "    print('khong co')\n",
        "    "
      ],
      "execution_count": null,
      "outputs": [
        {
          "output_type": "stream",
          "name": "stdout",
          "text": [
            "nhap n: 5\n",
            "nhap a: 2\n",
            "nhap b: 29\n",
            "[22, 15, 25, 28, 23]\n",
            "nhap x: 24\n",
            "khong co\n"
          ]
        }
      ]
    },
    {
      "cell_type": "code",
      "metadata": {
        "id": "Ynul5eGkYO3H",
        "colab": {
          "base_uri": "https://localhost:8080/"
        },
        "outputId": "c923e209-b756-4586-cc57-a7824c0aaa50"
      },
      "source": [
        "# bai 2: tim kiem\n",
        "import random\n",
        "n = int(input('nhap n: '))\n",
        "a = int(input('nhap a: '))\n",
        "b = int(input('nhap b: '))\n",
        "lst = []\n",
        "for i in range(n):\n",
        "    x = random.randint(a,b)\n",
        "    lst.append(x)\n",
        "print(lst)\n",
        "x = b + 1\n",
        "while (x<a) or x > b:\n",
        "    x = int(input('nhap x: '))\n",
        "for i in range(len(lst)):\n",
        "    if lst[i] == x:\n",
        "        print('chi so ',i)\n",
        "        print(\"so lan lap\", i+1)\n",
        "        break\n",
        "else:\n",
        "    print('khong co')\n",
        "    "
      ],
      "execution_count": null,
      "outputs": [
        {
          "output_type": "stream",
          "name": "stdout",
          "text": [
            "nhap n: 3\n",
            "nhap a: 2\n",
            "nhap b: 20\n",
            "[10, 12, 5]\n",
            "nhap x: 5\n",
            "chi so  2\n",
            "so lan lap 3\n"
          ]
        }
      ]
    },
    {
      "cell_type": "code",
      "metadata": {
        "colab": {
          "base_uri": "https://localhost:8080/"
        },
        "id": "cNgChIT0Tc62",
        "outputId": "b7886458-7b25-4982-b9fd-8b785f1ee46a"
      },
      "source": [
        "# bai 3: tim kiem\n",
        "import random\n",
        "n = int(input('nhap n: '))\n",
        "a = int(input('nhap a: '))\n",
        "b = int(input('nhap b: '))\n",
        "lst = []\n",
        "for i in range(n):\n",
        "    x = random.randint(a,b)\n",
        "    lst.append(x)\n",
        "print(lst)\n",
        "x = b + 1\n",
        "while (x<a) or x > b:\n",
        "    x = int(input('nhap x: '))\n",
        "for i in range(len(lst)):\n",
        "    for j in range(i+1, len(lst)):\n",
        "        if lst[i] > lst[j]:\n",
        "            lst[i], lst[j] = lst[j], lst[i]\n",
        "print(lst)\n",
        "l = 0 \n",
        "r = len(lst) -1\n",
        "count = 0\n",
        "kq = r + 1\n",
        "kq_count = 0\n",
        "while l <= r:\n",
        "    mid = int((l + r)/2)\n",
        "    count += 1\n",
        "    if x == lst[mid]:\n",
        "        if mid < kq:\n",
        "            kq = mid\n",
        "            kq_count = count\n",
        "    if lst[mid] < x:\n",
        "        l = mid + 1\n",
        "    else:\n",
        "        r = mid -1\n",
        "if kq < len(lst): \n",
        "    print('chi so: ', kq)\n",
        "    print('so lan lap: ', kq_count)\n",
        "else:\n",
        "    print('khong tim thay')"
      ],
      "execution_count": 1,
      "outputs": [
        {
          "output_type": "stream",
          "name": "stdout",
          "text": [
            "nhap n: 5\n",
            "nhap a: 1\n",
            "nhap b: 56\n",
            "[45, 13, 2, 13, 42]\n",
            "nhap x: 2\n",
            "[2, 13, 13, 42, 45]\n",
            "chi so:  0\n",
            "so lan lap:  2\n"
          ]
        }
      ]
    },
    {
      "cell_type": "code",
      "metadata": {
        "colab": {
          "base_uri": "https://localhost:8080/"
        },
        "id": "sS6EmP2gUVXQ",
        "outputId": "1317edf1-4eba-47ac-9625-cbd39bf92c44"
      },
      "source": [
        "# bai 4: tim kiem\n",
        "import random\n",
        "n = int(input('nhap n: '))\n",
        "a = int(input('nhap a: '))\n",
        "b = int(input('nhap b: '))\n",
        "lst = []\n",
        "for i in range(n):\n",
        "    x = random.randint(a,b)\n",
        "    lst.append(x)\n",
        "print(lst)\n",
        "x = b + 1\n",
        "while (x<a) or x > b:\n",
        "    x = int(input('nhap x: '))\n",
        "for i in range(len(lst)):\n",
        "    for j in range(i+1, len(lst)):\n",
        "        if lst[i] > lst[j]:\n",
        "            lst[i], lst[j] = lst[j], lst[i]\n",
        "print(lst)\n",
        "l = 0 \n",
        "r = len(lst) -1\n",
        "count = 0\n",
        "flag = False\n",
        "while l <= r:\n",
        "    mid = int((l + r)/2)\n",
        "    count += 1\n",
        "    if x == lst[mid]:\n",
        "        print('chi so',mid)\n",
        "        print('so lan lap',count)\n",
        "        flag = True\n",
        "    if lst[mid] < x:\n",
        "        l = mid + 1\n",
        "    else:\n",
        "        r = mid -1\n",
        "if not flag:\n",
        "    print('khong tim thay')"
      ],
      "execution_count": null,
      "outputs": [
        {
          "output_type": "stream",
          "name": "stdout",
          "text": [
            "nhap n: 100\n",
            "nhap a: 1\n",
            "nhap b: 50\n",
            "[2, 50, 19, 35, 24, 46, 31, 43, 47, 18, 25, 15, 5, 34, 47, 16, 34, 44, 24, 44, 47, 45, 43, 34, 33, 24, 22, 42, 25, 22, 14, 15, 44, 20, 45, 5, 25, 11, 33, 20, 32, 41, 48, 6, 30, 11, 4, 19, 46, 13, 1, 27, 49, 1, 42, 13, 27, 37, 7, 20, 7, 38, 47, 32, 20, 27, 27, 33, 23, 25, 50, 16, 14, 38, 5, 3, 38, 39, 35, 4, 49, 18, 28, 35, 12, 42, 8, 38, 16, 17, 27, 8, 26, 35, 22, 18, 25, 28, 46, 49]\n",
            "nhap x: 47\n",
            "[1, 1, 2, 3, 4, 4, 5, 5, 5, 6, 7, 7, 8, 8, 11, 11, 12, 13, 13, 14, 14, 15, 15, 16, 16, 16, 17, 18, 18, 18, 19, 19, 20, 20, 20, 20, 22, 22, 22, 23, 24, 24, 24, 25, 25, 25, 25, 25, 26, 27, 27, 27, 27, 27, 28, 28, 30, 31, 32, 32, 33, 33, 33, 34, 34, 34, 35, 35, 35, 35, 37, 38, 38, 38, 38, 39, 41, 42, 42, 42, 43, 43, 44, 44, 44, 45, 45, 46, 46, 46, 47, 47, 47, 47, 48, 49, 49, 49, 50, 50]\n",
            "chi so 93\n",
            "so lan lap 4\n",
            "chi so 90\n",
            "so lan lap 5\n"
          ]
        }
      ]
    }
  ]
}